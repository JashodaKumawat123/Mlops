{
  "cells": [
    {
      "cell_type": "markdown",
      "metadata": {
        "id": "view-in-github",
        "colab_type": "text"
      },
      "source": [
        "<a href=\"https://colab.research.google.com/github/JashodaKumawat123/Mlops/blob/main/ML_pipelines_with_ZenMl.ipynb\" target=\"_parent\"><img src=\"https://colab.research.google.com/assets/colab-badge.svg\" alt=\"Open In Colab\"/></a>"
      ]
    },
    {
      "cell_type": "code",
      "execution_count": null,
      "metadata": {
        "colab": {
          "base_uri": "https://localhost:8080/"
        },
        "id": "IvwiMlqGyZeT",
        "outputId": "e44d0512-997c-43b8-fa0c-01341a32c7a8"
      },
      "outputs": [
        {
          "output_type": "stream",
          "name": "stdout",
          "text": [
            "Collecting zenml[server]\n",
            "  Downloading zenml-0.75.0-py3-none-any.whl.metadata (24 kB)\n",
            "Requirement already satisfied: Jinja2 in /usr/local/lib/python3.11/dist-packages (from zenml[server]) (3.1.5)\n",
            "Collecting alembic<1.9.0,>=1.8.1 (from zenml[server])\n",
            "  Downloading alembic-1.8.1-py3-none-any.whl.metadata (7.2 kB)\n",
            "Collecting bcrypt==4.0.1 (from zenml[server])\n",
            "  Downloading bcrypt-4.0.1-cp36-abi3-manylinux_2_28_x86_64.whl.metadata (9.0 kB)\n",
            "Collecting click<8.1.4,>=8.0.1 (from zenml[server])\n",
            "  Downloading click-8.1.3-py3-none-any.whl.metadata (3.2 kB)\n",
            "Collecting cloudpickle<3,>=2.0.0 (from zenml[server])\n",
            "  Downloading cloudpickle-2.2.1-py3-none-any.whl.metadata (6.9 kB)\n",
            "Requirement already satisfied: distro<2.0.0,>=1.6.0 in /usr/local/lib/python3.11/dist-packages (from zenml[server]) (1.9.0)\n",
            "Collecting docker<7.2.0,>=7.1.0 (from zenml[server])\n",
            "  Downloading docker-7.1.0-py3-none-any.whl.metadata (3.8 kB)\n",
            "Collecting fastapi<=0.115.8,>=0.100 (from zenml[server])\n",
            "  Downloading fastapi-0.115.8-py3-none-any.whl.metadata (27 kB)\n",
            "Requirement already satisfied: gitpython<4.0.0,>=3.1.18 in /usr/local/lib/python3.11/dist-packages (from zenml[server]) (3.1.44)\n",
            "Collecting ipinfo>=4.4.3 (from zenml[server])\n",
            "  Downloading ipinfo-5.1.1-py3-none-any.whl.metadata (648 bytes)\n",
            "Requirement already satisfied: itsdangerous<2.3.0,>=2.2.0 in /usr/local/lib/python3.11/dist-packages (from zenml[server]) (2.2.0)\n",
            "Requirement already satisfied: orjson<3.11.0,>=3.10.0 in /usr/local/lib/python3.11/dist-packages (from zenml[server]) (3.10.15)\n",
            "Requirement already satisfied: packaging>=24.1 in /usr/local/lib/python3.11/dist-packages (from zenml[server]) (24.2)\n",
            "Collecting passlib<1.8.0,>=1.7.4 (from passlib[bcrypt]<1.8.0,>=1.7.4->zenml[server])\n",
            "  Downloading passlib-1.7.4-py2.py3-none-any.whl.metadata (1.7 kB)\n",
            "Requirement already satisfied: psutil>=5.0.0 in /usr/local/lib/python3.11/dist-packages (from zenml[server]) (5.9.5)\n",
            "Collecting pydantic<2.9,>=2.8 (from zenml[server])\n",
            "  Downloading pydantic-2.8.2-py3-none-any.whl.metadata (125 kB)\n",
            "\u001b[2K     \u001b[90m━━━━━━━━━━━━━━━━━━━━━━━━━━━━━━━━━━━━━━━━\u001b[0m \u001b[32m125.2/125.2 kB\u001b[0m \u001b[31m1.1 MB/s\u001b[0m eta \u001b[36m0:00:00\u001b[0m\n",
            "\u001b[?25hCollecting pydantic-settings (from zenml[server])\n",
            "  Downloading pydantic_settings-2.8.1-py3-none-any.whl.metadata (3.5 kB)\n",
            "Collecting pyjwt==2.7.* (from pyjwt[crypto]==2.7.*; extra == \"server\"->zenml[server])\n",
            "  Downloading PyJWT-2.7.0-py3-none-any.whl.metadata (4.1 kB)\n",
            "Collecting pymysql<1.2.0,>=1.1.1 (from zenml[server])\n",
            "  Downloading PyMySQL-1.1.1-py3-none-any.whl.metadata (4.4 kB)\n",
            "Requirement already satisfied: python-dateutil<3.0.0,>=2.8.1 in /usr/local/lib/python3.11/dist-packages (from zenml[server]) (2.8.2)\n",
            "Collecting python-multipart<0.1.0,>=0.0.9 (from zenml[server])\n",
            "  Downloading python_multipart-0.0.20-py3-none-any.whl.metadata (1.8 kB)\n",
            "Requirement already satisfied: pyyaml>=6.0.1 in /usr/local/lib/python3.11/dist-packages (from zenml[server]) (6.0.2)\n",
            "Requirement already satisfied: rich>=12.0.0 in /usr/local/lib/python3.11/dist-packages (from rich[jupyter]>=12.0.0->zenml[server]) (13.9.4)\n",
            "Collecting secure<0.4.0,>=0.3.0 (from zenml[server])\n",
            "  Downloading secure-0.3.0-py3-none-any.whl.metadata (5.5 kB)\n",
            "Requirement already satisfied: setuptools in /usr/local/lib/python3.11/dist-packages (from zenml[server]) (75.1.0)\n",
            "Requirement already satisfied: sqlalchemy<3.0.0,>=2.0.0 in /usr/local/lib/python3.11/dist-packages (from zenml[server]) (2.0.38)\n",
            "Collecting sqlalchemy_utils (from zenml[server])\n",
            "  Downloading SQLAlchemy_Utils-0.41.2-py3-none-any.whl.metadata (4.2 kB)\n",
            "Collecting sqlmodel==0.0.18 (from zenml[server])\n",
            "  Downloading sqlmodel-0.0.18-py3-none-any.whl.metadata (9.8 kB)\n",
            "Collecting tldextract<5.2.0,>=5.1.0 (from zenml[server])\n",
            "  Downloading tldextract-5.1.3-py3-none-any.whl.metadata (11 kB)\n",
            "Collecting uvicorn>=0.17.5 (from uvicorn[standard]>=0.17.5; extra == \"server\"->zenml[server])\n",
            "  Downloading uvicorn-0.34.0-py3-none-any.whl.metadata (6.5 kB)\n",
            "Requirement already satisfied: cryptography>=3.4.0 in /usr/local/lib/python3.11/dist-packages (from pyjwt[crypto]==2.7.*; extra == \"server\"->zenml[server]) (43.0.3)\n",
            "Collecting Mako (from alembic<1.9.0,>=1.8.1->zenml[server])\n",
            "  Downloading Mako-1.3.9-py3-none-any.whl.metadata (2.9 kB)\n",
            "Requirement already satisfied: requests>=2.26.0 in /usr/local/lib/python3.11/dist-packages (from docker<7.2.0,>=7.1.0->zenml[server]) (2.32.3)\n",
            "Requirement already satisfied: urllib3>=1.26.0 in /usr/local/lib/python3.11/dist-packages (from docker<7.2.0,>=7.1.0->zenml[server]) (2.3.0)\n",
            "Collecting starlette<0.46.0,>=0.40.0 (from fastapi<=0.115.8,>=0.100->zenml[server])\n",
            "  Downloading starlette-0.45.3-py3-none-any.whl.metadata (6.3 kB)\n",
            "Requirement already satisfied: typing-extensions>=4.8.0 in /usr/local/lib/python3.11/dist-packages (from fastapi<=0.115.8,>=0.100->zenml[server]) (4.12.2)\n",
            "Requirement already satisfied: gitdb<5,>=4.0.1 in /usr/local/lib/python3.11/dist-packages (from gitpython<4.0.0,>=3.1.18->zenml[server]) (4.0.12)\n",
            "Requirement already satisfied: cachetools in /usr/local/lib/python3.11/dist-packages (from ipinfo>=4.4.3->zenml[server]) (5.5.2)\n",
            "Requirement already satisfied: aiohttp<=4 in /usr/local/lib/python3.11/dist-packages (from ipinfo>=4.4.3->zenml[server]) (3.11.13)\n",
            "Requirement already satisfied: annotated-types>=0.4.0 in /usr/local/lib/python3.11/dist-packages (from pydantic<2.9,>=2.8->zenml[server]) (0.7.0)\n",
            "Collecting pydantic-core==2.20.1 (from pydantic<2.9,>=2.8->zenml[server])\n",
            "  Downloading pydantic_core-2.20.1-cp311-cp311-manylinux_2_17_x86_64.manylinux2014_x86_64.whl.metadata (6.6 kB)\n",
            "Requirement already satisfied: six>=1.5 in /usr/local/lib/python3.11/dist-packages (from python-dateutil<3.0.0,>=2.8.1->zenml[server]) (1.17.0)\n",
            "Requirement already satisfied: markdown-it-py>=2.2.0 in /usr/local/lib/python3.11/dist-packages (from rich>=12.0.0->rich[jupyter]>=12.0.0->zenml[server]) (3.0.0)\n",
            "Requirement already satisfied: pygments<3.0.0,>=2.13.0 in /usr/local/lib/python3.11/dist-packages (from rich>=12.0.0->rich[jupyter]>=12.0.0->zenml[server]) (2.18.0)\n",
            "Requirement already satisfied: ipywidgets<9,>=7.5.1 in /usr/local/lib/python3.11/dist-packages (from rich[jupyter]>=12.0.0->zenml[server]) (7.7.1)\n",
            "Requirement already satisfied: greenlet!=0.4.17 in /usr/local/lib/python3.11/dist-packages (from sqlalchemy<3.0.0,>=2.0.0->zenml[server]) (3.1.1)\n",
            "Requirement already satisfied: idna in /usr/local/lib/python3.11/dist-packages (from tldextract<5.2.0,>=5.1.0->zenml[server]) (3.10)\n",
            "Collecting requests-file>=1.4 (from tldextract<5.2.0,>=5.1.0->zenml[server])\n",
            "  Downloading requests_file-2.1.0-py2.py3-none-any.whl.metadata (1.7 kB)\n",
            "Requirement already satisfied: filelock>=3.0.8 in /usr/local/lib/python3.11/dist-packages (from tldextract<5.2.0,>=5.1.0->zenml[server]) (3.17.0)\n",
            "Requirement already satisfied: h11>=0.8 in /usr/local/lib/python3.11/dist-packages (from uvicorn>=0.17.5->uvicorn[standard]>=0.17.5; extra == \"server\"->zenml[server]) (0.14.0)\n",
            "Collecting httptools>=0.6.3 (from uvicorn[standard]>=0.17.5; extra == \"server\"->zenml[server])\n",
            "  Downloading httptools-0.6.4-cp311-cp311-manylinux_2_5_x86_64.manylinux1_x86_64.manylinux_2_17_x86_64.manylinux2014_x86_64.whl.metadata (3.6 kB)\n",
            "Collecting python-dotenv>=0.13 (from uvicorn[standard]>=0.17.5; extra == \"server\"->zenml[server])\n",
            "  Downloading python_dotenv-1.0.1-py3-none-any.whl.metadata (23 kB)\n",
            "Collecting uvloop!=0.15.0,!=0.15.1,>=0.14.0 (from uvicorn[standard]>=0.17.5; extra == \"server\"->zenml[server])\n",
            "  Downloading uvloop-0.21.0-cp311-cp311-manylinux_2_17_x86_64.manylinux2014_x86_64.whl.metadata (4.9 kB)\n",
            "Collecting watchfiles>=0.13 (from uvicorn[standard]>=0.17.5; extra == \"server\"->zenml[server])\n",
            "  Downloading watchfiles-1.0.4-cp311-cp311-manylinux_2_17_x86_64.manylinux2014_x86_64.whl.metadata (4.9 kB)\n",
            "Requirement already satisfied: websockets>=10.4 in /usr/local/lib/python3.11/dist-packages (from uvicorn[standard]>=0.17.5; extra == \"server\"->zenml[server]) (14.2)\n",
            "Requirement already satisfied: MarkupSafe>=2.0 in /usr/local/lib/python3.11/dist-packages (from Jinja2->zenml[server]) (3.0.2)\n",
            "Requirement already satisfied: aiohappyeyeballs>=2.3.0 in /usr/local/lib/python3.11/dist-packages (from aiohttp<=4->ipinfo>=4.4.3->zenml[server]) (2.4.6)\n",
            "Requirement already satisfied: aiosignal>=1.1.2 in /usr/local/lib/python3.11/dist-packages (from aiohttp<=4->ipinfo>=4.4.3->zenml[server]) (1.3.2)\n",
            "Requirement already satisfied: attrs>=17.3.0 in /usr/local/lib/python3.11/dist-packages (from aiohttp<=4->ipinfo>=4.4.3->zenml[server]) (25.1.0)\n",
            "Requirement already satisfied: frozenlist>=1.1.1 in /usr/local/lib/python3.11/dist-packages (from aiohttp<=4->ipinfo>=4.4.3->zenml[server]) (1.5.0)\n",
            "Requirement already satisfied: multidict<7.0,>=4.5 in /usr/local/lib/python3.11/dist-packages (from aiohttp<=4->ipinfo>=4.4.3->zenml[server]) (6.1.0)\n",
            "Requirement already satisfied: propcache>=0.2.0 in /usr/local/lib/python3.11/dist-packages (from aiohttp<=4->ipinfo>=4.4.3->zenml[server]) (0.3.0)\n",
            "Requirement already satisfied: yarl<2.0,>=1.17.0 in /usr/local/lib/python3.11/dist-packages (from aiohttp<=4->ipinfo>=4.4.3->zenml[server]) (1.18.3)\n",
            "Requirement already satisfied: cffi>=1.12 in /usr/local/lib/python3.11/dist-packages (from cryptography>=3.4.0->pyjwt[crypto]==2.7.*; extra == \"server\"->zenml[server]) (1.17.1)\n",
            "Requirement already satisfied: smmap<6,>=3.0.1 in /usr/local/lib/python3.11/dist-packages (from gitdb<5,>=4.0.1->gitpython<4.0.0,>=3.1.18->zenml[server]) (5.0.2)\n",
            "Requirement already satisfied: ipykernel>=4.5.1 in /usr/local/lib/python3.11/dist-packages (from ipywidgets<9,>=7.5.1->rich[jupyter]>=12.0.0->zenml[server]) (6.17.1)\n",
            "Requirement already satisfied: ipython-genutils~=0.2.0 in /usr/local/lib/python3.11/dist-packages (from ipywidgets<9,>=7.5.1->rich[jupyter]>=12.0.0->zenml[server]) (0.2.0)\n",
            "Requirement already satisfied: traitlets>=4.3.1 in /usr/local/lib/python3.11/dist-packages (from ipywidgets<9,>=7.5.1->rich[jupyter]>=12.0.0->zenml[server]) (5.7.1)\n",
            "Requirement already satisfied: widgetsnbextension~=3.6.0 in /usr/local/lib/python3.11/dist-packages (from ipywidgets<9,>=7.5.1->rich[jupyter]>=12.0.0->zenml[server]) (3.6.10)\n",
            "Requirement already satisfied: ipython>=4.0.0 in /usr/local/lib/python3.11/dist-packages (from ipywidgets<9,>=7.5.1->rich[jupyter]>=12.0.0->zenml[server]) (7.34.0)\n",
            "Requirement already satisfied: jupyterlab-widgets>=1.0.0 in /usr/local/lib/python3.11/dist-packages (from ipywidgets<9,>=7.5.1->rich[jupyter]>=12.0.0->zenml[server]) (3.0.13)\n",
            "Requirement already satisfied: mdurl~=0.1 in /usr/local/lib/python3.11/dist-packages (from markdown-it-py>=2.2.0->rich>=12.0.0->rich[jupyter]>=12.0.0->zenml[server]) (0.1.2)\n",
            "Requirement already satisfied: charset-normalizer<4,>=2 in /usr/local/lib/python3.11/dist-packages (from requests>=2.26.0->docker<7.2.0,>=7.1.0->zenml[server]) (3.4.1)\n",
            "Requirement already satisfied: certifi>=2017.4.17 in /usr/local/lib/python3.11/dist-packages (from requests>=2.26.0->docker<7.2.0,>=7.1.0->zenml[server]) (2025.1.31)\n",
            "Requirement already satisfied: anyio<5,>=3.6.2 in /usr/local/lib/python3.11/dist-packages (from starlette<0.46.0,>=0.40.0->fastapi<=0.115.8,>=0.100->zenml[server]) (3.7.1)\n",
            "Requirement already satisfied: sniffio>=1.1 in /usr/local/lib/python3.11/dist-packages (from anyio<5,>=3.6.2->starlette<0.46.0,>=0.40.0->fastapi<=0.115.8,>=0.100->zenml[server]) (1.3.1)\n",
            "Requirement already satisfied: pycparser in /usr/local/lib/python3.11/dist-packages (from cffi>=1.12->cryptography>=3.4.0->pyjwt[crypto]==2.7.*; extra == \"server\"->zenml[server]) (2.22)\n",
            "Requirement already satisfied: debugpy>=1.0 in /usr/local/lib/python3.11/dist-packages (from ipykernel>=4.5.1->ipywidgets<9,>=7.5.1->rich[jupyter]>=12.0.0->zenml[server]) (1.8.0)\n",
            "Requirement already satisfied: jupyter-client>=6.1.12 in /usr/local/lib/python3.11/dist-packages (from ipykernel>=4.5.1->ipywidgets<9,>=7.5.1->rich[jupyter]>=12.0.0->zenml[server]) (6.1.12)\n",
            "Requirement already satisfied: matplotlib-inline>=0.1 in /usr/local/lib/python3.11/dist-packages (from ipykernel>=4.5.1->ipywidgets<9,>=7.5.1->rich[jupyter]>=12.0.0->zenml[server]) (0.1.7)\n",
            "Requirement already satisfied: nest-asyncio in /usr/local/lib/python3.11/dist-packages (from ipykernel>=4.5.1->ipywidgets<9,>=7.5.1->rich[jupyter]>=12.0.0->zenml[server]) (1.6.0)\n",
            "Requirement already satisfied: pyzmq>=17 in /usr/local/lib/python3.11/dist-packages (from ipykernel>=4.5.1->ipywidgets<9,>=7.5.1->rich[jupyter]>=12.0.0->zenml[server]) (24.0.1)\n",
            "Requirement already satisfied: tornado>=6.1 in /usr/local/lib/python3.11/dist-packages (from ipykernel>=4.5.1->ipywidgets<9,>=7.5.1->rich[jupyter]>=12.0.0->zenml[server]) (6.4.2)\n",
            "Collecting jedi>=0.16 (from ipython>=4.0.0->ipywidgets<9,>=7.5.1->rich[jupyter]>=12.0.0->zenml[server])\n",
            "  Downloading jedi-0.19.2-py2.py3-none-any.whl.metadata (22 kB)\n",
            "Requirement already satisfied: decorator in /usr/local/lib/python3.11/dist-packages (from ipython>=4.0.0->ipywidgets<9,>=7.5.1->rich[jupyter]>=12.0.0->zenml[server]) (4.4.2)\n",
            "Requirement already satisfied: pickleshare in /usr/local/lib/python3.11/dist-packages (from ipython>=4.0.0->ipywidgets<9,>=7.5.1->rich[jupyter]>=12.0.0->zenml[server]) (0.7.5)\n",
            "Requirement already satisfied: prompt-toolkit!=3.0.0,!=3.0.1,<3.1.0,>=2.0.0 in /usr/local/lib/python3.11/dist-packages (from ipython>=4.0.0->ipywidgets<9,>=7.5.1->rich[jupyter]>=12.0.0->zenml[server]) (3.0.50)\n",
            "Requirement already satisfied: backcall in /usr/local/lib/python3.11/dist-packages (from ipython>=4.0.0->ipywidgets<9,>=7.5.1->rich[jupyter]>=12.0.0->zenml[server]) (0.2.0)\n",
            "Requirement already satisfied: pexpect>4.3 in /usr/local/lib/python3.11/dist-packages (from ipython>=4.0.0->ipywidgets<9,>=7.5.1->rich[jupyter]>=12.0.0->zenml[server]) (4.9.0)\n",
            "Requirement already satisfied: notebook>=4.4.1 in /usr/local/lib/python3.11/dist-packages (from widgetsnbextension~=3.6.0->ipywidgets<9,>=7.5.1->rich[jupyter]>=12.0.0->zenml[server]) (6.5.5)\n",
            "Requirement already satisfied: parso<0.9.0,>=0.8.4 in /usr/local/lib/python3.11/dist-packages (from jedi>=0.16->ipython>=4.0.0->ipywidgets<9,>=7.5.1->rich[jupyter]>=12.0.0->zenml[server]) (0.8.4)\n",
            "Requirement already satisfied: jupyter-core>=4.6.0 in /usr/local/lib/python3.11/dist-packages (from jupyter-client>=6.1.12->ipykernel>=4.5.1->ipywidgets<9,>=7.5.1->rich[jupyter]>=12.0.0->zenml[server]) (5.7.2)\n",
            "Requirement already satisfied: argon2-cffi in /usr/local/lib/python3.11/dist-packages (from notebook>=4.4.1->widgetsnbextension~=3.6.0->ipywidgets<9,>=7.5.1->rich[jupyter]>=12.0.0->zenml[server]) (23.1.0)\n",
            "Requirement already satisfied: nbformat in /usr/local/lib/python3.11/dist-packages (from notebook>=4.4.1->widgetsnbextension~=3.6.0->ipywidgets<9,>=7.5.1->rich[jupyter]>=12.0.0->zenml[server]) (5.10.4)\n",
            "Requirement already satisfied: nbconvert>=5 in /usr/local/lib/python3.11/dist-packages (from notebook>=4.4.1->widgetsnbextension~=3.6.0->ipywidgets<9,>=7.5.1->rich[jupyter]>=12.0.0->zenml[server]) (7.16.6)\n",
            "Requirement already satisfied: Send2Trash>=1.8.0 in /usr/local/lib/python3.11/dist-packages (from notebook>=4.4.1->widgetsnbextension~=3.6.0->ipywidgets<9,>=7.5.1->rich[jupyter]>=12.0.0->zenml[server]) (1.8.3)\n",
            "Requirement already satisfied: terminado>=0.8.3 in /usr/local/lib/python3.11/dist-packages (from notebook>=4.4.1->widgetsnbextension~=3.6.0->ipywidgets<9,>=7.5.1->rich[jupyter]>=12.0.0->zenml[server]) (0.18.1)\n",
            "Requirement already satisfied: prometheus-client in /usr/local/lib/python3.11/dist-packages (from notebook>=4.4.1->widgetsnbextension~=3.6.0->ipywidgets<9,>=7.5.1->rich[jupyter]>=12.0.0->zenml[server]) (0.21.1)\n",
            "Requirement already satisfied: nbclassic>=0.4.7 in /usr/local/lib/python3.11/dist-packages (from notebook>=4.4.1->widgetsnbextension~=3.6.0->ipywidgets<9,>=7.5.1->rich[jupyter]>=12.0.0->zenml[server]) (1.2.0)\n",
            "Requirement already satisfied: ptyprocess>=0.5 in /usr/local/lib/python3.11/dist-packages (from pexpect>4.3->ipython>=4.0.0->ipywidgets<9,>=7.5.1->rich[jupyter]>=12.0.0->zenml[server]) (0.7.0)\n",
            "Requirement already satisfied: wcwidth in /usr/local/lib/python3.11/dist-packages (from prompt-toolkit!=3.0.0,!=3.0.1,<3.1.0,>=2.0.0->ipython>=4.0.0->ipywidgets<9,>=7.5.1->rich[jupyter]>=12.0.0->zenml[server]) (0.2.13)\n",
            "Requirement already satisfied: platformdirs>=2.5 in /usr/local/lib/python3.11/dist-packages (from jupyter-core>=4.6.0->jupyter-client>=6.1.12->ipykernel>=4.5.1->ipywidgets<9,>=7.5.1->rich[jupyter]>=12.0.0->zenml[server]) (4.3.6)\n",
            "Requirement already satisfied: notebook-shim>=0.2.3 in /usr/local/lib/python3.11/dist-packages (from nbclassic>=0.4.7->notebook>=4.4.1->widgetsnbextension~=3.6.0->ipywidgets<9,>=7.5.1->rich[jupyter]>=12.0.0->zenml[server]) (0.2.4)\n",
            "Requirement already satisfied: beautifulsoup4 in /usr/local/lib/python3.11/dist-packages (from nbconvert>=5->notebook>=4.4.1->widgetsnbextension~=3.6.0->ipywidgets<9,>=7.5.1->rich[jupyter]>=12.0.0->zenml[server]) (4.13.3)\n",
            "Requirement already satisfied: bleach!=5.0.0 in /usr/local/lib/python3.11/dist-packages (from bleach[css]!=5.0.0->nbconvert>=5->notebook>=4.4.1->widgetsnbextension~=3.6.0->ipywidgets<9,>=7.5.1->rich[jupyter]>=12.0.0->zenml[server]) (6.2.0)\n",
            "Requirement already satisfied: defusedxml in /usr/local/lib/python3.11/dist-packages (from nbconvert>=5->notebook>=4.4.1->widgetsnbextension~=3.6.0->ipywidgets<9,>=7.5.1->rich[jupyter]>=12.0.0->zenml[server]) (0.7.1)\n",
            "Requirement already satisfied: jupyterlab-pygments in /usr/local/lib/python3.11/dist-packages (from nbconvert>=5->notebook>=4.4.1->widgetsnbextension~=3.6.0->ipywidgets<9,>=7.5.1->rich[jupyter]>=12.0.0->zenml[server]) (0.3.0)\n",
            "Requirement already satisfied: mistune<4,>=2.0.3 in /usr/local/lib/python3.11/dist-packages (from nbconvert>=5->notebook>=4.4.1->widgetsnbextension~=3.6.0->ipywidgets<9,>=7.5.1->rich[jupyter]>=12.0.0->zenml[server]) (3.1.2)\n",
            "Requirement already satisfied: nbclient>=0.5.0 in /usr/local/lib/python3.11/dist-packages (from nbconvert>=5->notebook>=4.4.1->widgetsnbextension~=3.6.0->ipywidgets<9,>=7.5.1->rich[jupyter]>=12.0.0->zenml[server]) (0.10.2)\n",
            "Requirement already satisfied: pandocfilters>=1.4.1 in /usr/local/lib/python3.11/dist-packages (from nbconvert>=5->notebook>=4.4.1->widgetsnbextension~=3.6.0->ipywidgets<9,>=7.5.1->rich[jupyter]>=12.0.0->zenml[server]) (1.5.1)\n",
            "Requirement already satisfied: fastjsonschema>=2.15 in /usr/local/lib/python3.11/dist-packages (from nbformat->notebook>=4.4.1->widgetsnbextension~=3.6.0->ipywidgets<9,>=7.5.1->rich[jupyter]>=12.0.0->zenml[server]) (2.21.1)\n",
            "Requirement already satisfied: jsonschema>=2.6 in /usr/local/lib/python3.11/dist-packages (from nbformat->notebook>=4.4.1->widgetsnbextension~=3.6.0->ipywidgets<9,>=7.5.1->rich[jupyter]>=12.0.0->zenml[server]) (4.23.0)\n",
            "Requirement already satisfied: argon2-cffi-bindings in /usr/local/lib/python3.11/dist-packages (from argon2-cffi->notebook>=4.4.1->widgetsnbextension~=3.6.0->ipywidgets<9,>=7.5.1->rich[jupyter]>=12.0.0->zenml[server]) (21.2.0)\n",
            "Requirement already satisfied: webencodings in /usr/local/lib/python3.11/dist-packages (from bleach!=5.0.0->bleach[css]!=5.0.0->nbconvert>=5->notebook>=4.4.1->widgetsnbextension~=3.6.0->ipywidgets<9,>=7.5.1->rich[jupyter]>=12.0.0->zenml[server]) (0.5.1)\n",
            "Requirement already satisfied: tinycss2<1.5,>=1.1.0 in /usr/local/lib/python3.11/dist-packages (from bleach[css]!=5.0.0->nbconvert>=5->notebook>=4.4.1->widgetsnbextension~=3.6.0->ipywidgets<9,>=7.5.1->rich[jupyter]>=12.0.0->zenml[server]) (1.4.0)\n",
            "Requirement already satisfied: jsonschema-specifications>=2023.03.6 in /usr/local/lib/python3.11/dist-packages (from jsonschema>=2.6->nbformat->notebook>=4.4.1->widgetsnbextension~=3.6.0->ipywidgets<9,>=7.5.1->rich[jupyter]>=12.0.0->zenml[server]) (2024.10.1)\n",
            "Requirement already satisfied: referencing>=0.28.4 in /usr/local/lib/python3.11/dist-packages (from jsonschema>=2.6->nbformat->notebook>=4.4.1->widgetsnbextension~=3.6.0->ipywidgets<9,>=7.5.1->rich[jupyter]>=12.0.0->zenml[server]) (0.36.2)\n",
            "Requirement already satisfied: rpds-py>=0.7.1 in /usr/local/lib/python3.11/dist-packages (from jsonschema>=2.6->nbformat->notebook>=4.4.1->widgetsnbextension~=3.6.0->ipywidgets<9,>=7.5.1->rich[jupyter]>=12.0.0->zenml[server]) (0.23.1)\n",
            "Requirement already satisfied: jupyter-server<3,>=1.8 in /usr/local/lib/python3.11/dist-packages (from notebook-shim>=0.2.3->nbclassic>=0.4.7->notebook>=4.4.1->widgetsnbextension~=3.6.0->ipywidgets<9,>=7.5.1->rich[jupyter]>=12.0.0->zenml[server]) (1.24.0)\n",
            "Requirement already satisfied: soupsieve>1.2 in /usr/local/lib/python3.11/dist-packages (from beautifulsoup4->nbconvert>=5->notebook>=4.4.1->widgetsnbextension~=3.6.0->ipywidgets<9,>=7.5.1->rich[jupyter]>=12.0.0->zenml[server]) (2.6)\n",
            "Requirement already satisfied: websocket-client in /usr/local/lib/python3.11/dist-packages (from jupyter-server<3,>=1.8->notebook-shim>=0.2.3->nbclassic>=0.4.7->notebook>=4.4.1->widgetsnbextension~=3.6.0->ipywidgets<9,>=7.5.1->rich[jupyter]>=12.0.0->zenml[server]) (1.8.0)\n",
            "Downloading bcrypt-4.0.1-cp36-abi3-manylinux_2_28_x86_64.whl (593 kB)\n",
            "\u001b[2K   \u001b[90m━━━━━━━━━━━━━━━━━━━━━━━━━━━━━━━━━━━━━━━━\u001b[0m \u001b[32m593.7/593.7 kB\u001b[0m \u001b[31m11.3 MB/s\u001b[0m eta \u001b[36m0:00:00\u001b[0m\n",
            "\u001b[?25hDownloading PyJWT-2.7.0-py3-none-any.whl (22 kB)\n",
            "Downloading sqlmodel-0.0.18-py3-none-any.whl (26 kB)\n",
            "Downloading alembic-1.8.1-py3-none-any.whl (209 kB)\n",
            "\u001b[2K   \u001b[90m━━━━━━━━━━━━━━━━━━━━━━━━━━━━━━━━━━━━━━━━\u001b[0m \u001b[32m209.8/209.8 kB\u001b[0m \u001b[31m10.4 MB/s\u001b[0m eta \u001b[36m0:00:00\u001b[0m\n",
            "\u001b[?25hDownloading click-8.1.3-py3-none-any.whl (96 kB)\n",
            "\u001b[2K   \u001b[90m━━━━━━━━━━━━━━━━━━━━━━━━━━━━━━━━━━━━━━━━\u001b[0m \u001b[32m96.6/96.6 kB\u001b[0m \u001b[31m6.2 MB/s\u001b[0m eta \u001b[36m0:00:00\u001b[0m\n",
            "\u001b[?25hDownloading cloudpickle-2.2.1-py3-none-any.whl (25 kB)\n",
            "Downloading docker-7.1.0-py3-none-any.whl (147 kB)\n",
            "\u001b[2K   \u001b[90m━━━━━━━━━━━━━━━━━━━━━━━━━━━━━━━━━━━━━━━━\u001b[0m \u001b[32m147.8/147.8 kB\u001b[0m \u001b[31m8.1 MB/s\u001b[0m eta \u001b[36m0:00:00\u001b[0m\n",
            "\u001b[?25hDownloading fastapi-0.115.8-py3-none-any.whl (94 kB)\n",
            "\u001b[2K   \u001b[90m━━━━━━━━━━━━━━━━━━━━━━━━━━━━━━━━━━━━━━━━\u001b[0m \u001b[32m94.8/94.8 kB\u001b[0m \u001b[31m6.5 MB/s\u001b[0m eta \u001b[36m0:00:00\u001b[0m\n",
            "\u001b[?25hDownloading ipinfo-5.1.1-py3-none-any.whl (24 kB)\n",
            "Downloading passlib-1.7.4-py2.py3-none-any.whl (525 kB)\n",
            "\u001b[2K   \u001b[90m━━━━━━━━━━━━━━━━━━━━━━━━━━━━━━━━━━━━━━━━\u001b[0m \u001b[32m525.6/525.6 kB\u001b[0m \u001b[31m16.6 MB/s\u001b[0m eta \u001b[36m0:00:00\u001b[0m\n",
            "\u001b[?25hDownloading pydantic-2.8.2-py3-none-any.whl (423 kB)\n",
            "\u001b[2K   \u001b[90m━━━━━━━━━━━━━━━━━━━━━━━━━━━━━━━━━━━━━━━━\u001b[0m \u001b[32m423.9/423.9 kB\u001b[0m \u001b[31m8.1 MB/s\u001b[0m eta \u001b[36m0:00:00\u001b[0m\n",
            "\u001b[?25hDownloading pydantic_core-2.20.1-cp311-cp311-manylinux_2_17_x86_64.manylinux2014_x86_64.whl (2.1 MB)\n",
            "\u001b[2K   \u001b[90m━━━━━━━━━━━━━━━━━━━━━━━━━━━━━━━━━━━━━━━━\u001b[0m \u001b[32m2.1/2.1 MB\u001b[0m \u001b[31m14.8 MB/s\u001b[0m eta \u001b[36m0:00:00\u001b[0m\n",
            "\u001b[?25hDownloading PyMySQL-1.1.1-py3-none-any.whl (44 kB)\n",
            "\u001b[2K   \u001b[90m━━━━━━━━━━━━━━━━━━━━━━━━━━━━━━━━━━━━━━━━\u001b[0m \u001b[32m45.0/45.0 kB\u001b[0m \u001b[31m2.0 MB/s\u001b[0m eta \u001b[36m0:00:00\u001b[0m\n",
            "\u001b[?25hDownloading python_multipart-0.0.20-py3-none-any.whl (24 kB)\n",
            "Downloading secure-0.3.0-py3-none-any.whl (9.6 kB)\n",
            "Downloading tldextract-5.1.3-py3-none-any.whl (104 kB)\n",
            "\u001b[2K   \u001b[90m━━━━━━━━━━━━━━━━━━━━━━━━━━━━━━━━━━━━━━━━\u001b[0m \u001b[32m104.9/104.9 kB\u001b[0m \u001b[31m4.5 MB/s\u001b[0m eta \u001b[36m0:00:00\u001b[0m\n",
            "\u001b[?25hDownloading uvicorn-0.34.0-py3-none-any.whl (62 kB)\n",
            "\u001b[2K   \u001b[90m━━━━━━━━━━━━━━━━━━━━━━━━━━━━━━━━━━━━━━━━\u001b[0m \u001b[32m62.3/62.3 kB\u001b[0m \u001b[31m3.1 MB/s\u001b[0m eta \u001b[36m0:00:00\u001b[0m\n",
            "\u001b[?25hDownloading pydantic_settings-2.8.1-py3-none-any.whl (30 kB)\n",
            "Downloading SQLAlchemy_Utils-0.41.2-py3-none-any.whl (93 kB)\n",
            "\u001b[2K   \u001b[90m━━━━━━━━━━━━━━━━━━━━━━━━━━━━━━━━━━━━━━━━\u001b[0m \u001b[32m93.1/93.1 kB\u001b[0m \u001b[31m4.7 MB/s\u001b[0m eta \u001b[36m0:00:00\u001b[0m\n",
            "\u001b[?25hDownloading zenml-0.75.0-py3-none-any.whl (4.0 MB)\n",
            "\u001b[2K   \u001b[90m━━━━━━━━━━━━━━━━━━━━━━━━━━━━━━━━━━━━━━━━\u001b[0m \u001b[32m4.0/4.0 MB\u001b[0m \u001b[31m20.7 MB/s\u001b[0m eta \u001b[36m0:00:00\u001b[0m\n",
            "\u001b[?25hDownloading httptools-0.6.4-cp311-cp311-manylinux_2_5_x86_64.manylinux1_x86_64.manylinux_2_17_x86_64.manylinux2014_x86_64.whl (459 kB)\n",
            "\u001b[2K   \u001b[90m━━━━━━━━━━━━━━━━━━━━━━━━━━━━━━━━━━━━━━━━\u001b[0m \u001b[32m459.8/459.8 kB\u001b[0m \u001b[31m16.8 MB/s\u001b[0m eta \u001b[36m0:00:00\u001b[0m\n",
            "\u001b[?25hDownloading python_dotenv-1.0.1-py3-none-any.whl (19 kB)\n",
            "Downloading requests_file-2.1.0-py2.py3-none-any.whl (4.2 kB)\n",
            "Downloading starlette-0.45.3-py3-none-any.whl (71 kB)\n",
            "\u001b[2K   \u001b[90m━━━━━━━━━━━━━━━━━━━━━━━━━━━━━━━━━━━━━━━━\u001b[0m \u001b[32m71.5/71.5 kB\u001b[0m \u001b[31m3.1 MB/s\u001b[0m eta \u001b[36m0:00:00\u001b[0m\n",
            "\u001b[?25hDownloading uvloop-0.21.0-cp311-cp311-manylinux_2_17_x86_64.manylinux2014_x86_64.whl (4.0 MB)\n",
            "\u001b[2K   \u001b[90m━━━━━━━━━━━━━━━━━━━━━━━━━━━━━━━━━━━━━━━━\u001b[0m \u001b[32m4.0/4.0 MB\u001b[0m \u001b[31m33.5 MB/s\u001b[0m eta \u001b[36m0:00:00\u001b[0m\n",
            "\u001b[?25hDownloading watchfiles-1.0.4-cp311-cp311-manylinux_2_17_x86_64.manylinux2014_x86_64.whl (452 kB)\n",
            "\u001b[2K   \u001b[90m━━━━━━━━━━━━━━━━━━━━━━━━━━━━━━━━━━━━━━━━\u001b[0m \u001b[32m452.6/452.6 kB\u001b[0m \u001b[31m21.0 MB/s\u001b[0m eta \u001b[36m0:00:00\u001b[0m\n",
            "\u001b[?25hDownloading Mako-1.3.9-py3-none-any.whl (78 kB)\n",
            "\u001b[2K   \u001b[90m━━━━━━━━━━━━━━━━━━━━━━━━━━━━━━━━━━━━━━━━\u001b[0m \u001b[32m78.5/78.5 kB\u001b[0m \u001b[31m3.7 MB/s\u001b[0m eta \u001b[36m0:00:00\u001b[0m\n",
            "\u001b[?25hDownloading jedi-0.19.2-py2.py3-none-any.whl (1.6 MB)\n",
            "\u001b[2K   \u001b[90m━━━━━━━━━━━━━━━━━━━━━━━━━━━━━━━━━━━━━━━━\u001b[0m \u001b[32m1.6/1.6 MB\u001b[0m \u001b[31m25.8 MB/s\u001b[0m eta \u001b[36m0:00:00\u001b[0m\n",
            "\u001b[?25hInstalling collected packages: passlib, uvloop, secure, python-multipart, python-dotenv, pymysql, pyjwt, pydantic-core, Mako, jedi, httptools, cloudpickle, click, bcrypt, watchfiles, uvicorn, starlette, sqlalchemy_utils, requests-file, pydantic, docker, alembic, tldextract, sqlmodel, pydantic-settings, ipinfo, fastapi, zenml\n",
            "  Attempting uninstall: pyjwt\n",
            "    Found existing installation: PyJWT 2.10.1\n",
            "    Uninstalling PyJWT-2.10.1:\n",
            "      Successfully uninstalled PyJWT-2.10.1\n",
            "  Attempting uninstall: pydantic-core\n",
            "    Found existing installation: pydantic_core 2.27.2\n",
            "    Uninstalling pydantic_core-2.27.2:\n",
            "      Successfully uninstalled pydantic_core-2.27.2\n",
            "  Attempting uninstall: cloudpickle\n",
            "    Found existing installation: cloudpickle 3.1.1\n",
            "    Uninstalling cloudpickle-3.1.1:\n",
            "      Successfully uninstalled cloudpickle-3.1.1\n",
            "  Attempting uninstall: click\n",
            "    Found existing installation: click 8.1.8\n",
            "    Uninstalling click-8.1.8:\n",
            "      Successfully uninstalled click-8.1.8\n",
            "  Attempting uninstall: pydantic\n",
            "    Found existing installation: pydantic 2.10.6\n",
            "    Uninstalling pydantic-2.10.6:\n",
            "      Successfully uninstalled pydantic-2.10.6\n",
            "\u001b[31mERROR: pip's dependency resolver does not currently take into account all the packages that are installed. This behaviour is the source of the following dependency conflicts.\n",
            "dask 2024.12.1 requires cloudpickle>=3.0.0, but you have cloudpickle 2.2.1 which is incompatible.\n",
            "distributed 2024.12.1 requires cloudpickle>=3.0.0, but you have cloudpickle 2.2.1 which is incompatible.\n",
            "albumentations 2.0.5 requires pydantic>=2.9.2, but you have pydantic 2.8.2 which is incompatible.\u001b[0m\u001b[31m\n",
            "\u001b[0mSuccessfully installed Mako-1.3.9 alembic-1.8.1 bcrypt-4.0.1 click-8.1.3 cloudpickle-2.2.1 docker-7.1.0 fastapi-0.115.8 httptools-0.6.4 ipinfo-5.1.1 jedi-0.19.2 passlib-1.7.4 pydantic-2.8.2 pydantic-core-2.20.1 pydantic-settings-2.8.1 pyjwt-2.7.0 pymysql-1.1.1 python-dotenv-1.0.1 python-multipart-0.0.20 requests-file-2.1.0 secure-0.3.0 sqlalchemy_utils-0.41.2 sqlmodel-0.0.18 starlette-0.45.3 tldextract-5.1.3 uvicorn-0.34.0 uvloop-0.21.0 watchfiles-1.0.4 zenml-0.75.0\n",
            "\u001b[2K\u001b[32m⠏\u001b[0m Installing integrations...\n",
            "\u001b[1A\u001b[2K"
          ]
        },
        {
          "output_type": "execute_result",
          "data": {
            "text/plain": [
              "{'status': 'ok', 'restart': True}"
            ]
          },
          "metadata": {},
          "execution_count": 1
        }
      ],
      "source": [
        "\n",
        "from IPython import get_ipython\n",
        "from IPython.display import display\n",
        "# %%\n",
        "%pip install \"zenml[server]\"\n",
        "!zenml integration install sklearn -y\n",
        "# %pip install pyparsing==2.4.2 # Removed to avoid potential conflicts\n",
        "\n",
        "import IPython\n",
        "\n",
        "#automatically restart kernel\n",
        "IPython.Application.instance().kernel.do_shutdown(restart=True)"
      ]
    },
    {
      "cell_type": "code",
      "execution_count": null,
      "metadata": {
        "colab": {
          "base_uri": "https://localhost:8080/"
        },
        "id": "BI4m26rx00u3",
        "outputId": "4f63c1b9-144c-4404-dd8e-c41166b1c4fa"
      },
      "outputs": [
        {
          "output_type": "stream",
          "name": "stdout",
          "text": [
            "Requirement already satisfied: pyparsing in /usr/local/lib/python3.11/dist-packages (3.2.1)\n"
          ]
        }
      ],
      "source": [
        "%pip install pyparsing"
      ]
    },
    {
      "cell_type": "code",
      "execution_count": null,
      "metadata": {
        "id": "2y0FDtHI4bn4"
      },
      "outputs": [],
      "source": [
        "NGROK_TOKEN ='2u24HGvTxaSlN7OGDQuM6NMTUvC_2pST1DMKHZtC5vphuTifh' #TODO: set your ngrok token if you are working on Colab"
      ]
    },
    {
      "cell_type": "code",
      "execution_count": null,
      "metadata": {
        "colab": {
          "base_uri": "https://localhost:8080/"
        },
        "id": "nrMk-gQT4vHI",
        "outputId": "fb07dde5-92ce-49a6-d9df-a3ed45bd45db"
      },
      "outputs": [
        {
          "output_type": "stream",
          "name": "stdout",
          "text": [
            "Collecting pyngrok\n",
            "  Downloading pyngrok-7.2.3-py3-none-any.whl.metadata (8.7 kB)\n",
            "Requirement already satisfied: PyYAML>=5.1 in /usr/local/lib/python3.11/dist-packages (from pyngrok) (6.0.2)\n",
            "Downloading pyngrok-7.2.3-py3-none-any.whl (23 kB)\n",
            "Installing collected packages: pyngrok\n",
            "Successfully installed pyngrok-7.2.3\n",
            "Authtoken saved to configuration file: /root/.config/ngrok/ngrok.yml\n"
          ]
        }
      ],
      "source": [
        "from zenml.environment import Environment\n",
        "#install and authenticate ngrok\n",
        "\n",
        "if Environment.in_google_colab():\n",
        "  !pip install pyngrok\n",
        "  !ngrok authtoken {NGROK_TOKEN}"
      ]
    },
    {
      "cell_type": "code",
      "execution_count": null,
      "metadata": {
        "colab": {
          "base_uri": "https://localhost:8080/"
        },
        "id": "kWNV8cLD5Te-",
        "outputId": "703e3c60-4432-4b9b-c67c-039ca6fc56f7"
      },
      "outputs": [
        {
          "output_type": "stream",
          "name": "stdout",
          "text": [
            "\u001b[?25l\u001b[1;35mInitializing the ZenML global configuration version to 0.75.0\u001b[0m\n",
            "\u001b[1;35mCreating database tables\u001b[0m\n",
            "\u001b[32m⠋\u001b[0m Initializing ZenML repository at /content.\n",
            "\u001b[2K\u001b[1A\u001b[2K\u001b[32m⠙\u001b[0m Initializing ZenML repository at /content.\n",
            "\u001b[2K\u001b[1A\u001b[2K\u001b[32m⠹\u001b[0m Initializing ZenML repository at /content.\n",
            "\u001b[2K\u001b[1A\u001b[2K\u001b[32m⠸\u001b[0m Initializing ZenML repository at /content.\n",
            "\u001b[2K\u001b[1A\u001b[2K\u001b[32m⠼\u001b[0m Initializing ZenML repository at /content.\n",
            "\u001b[2K\u001b[1A\u001b[2K\u001b[32m⠴\u001b[0m Initializing ZenML repository at /content.\n",
            "\u001b[2K\u001b[1A\u001b[2K\u001b[32m⠦\u001b[0m Initializing ZenML repository at /content.\n",
            "\u001b[2K\u001b[1A\u001b[2K\u001b[32m⠧\u001b[0m Initializing ZenML repository at /content.\n",
            "\u001b[2K\u001b[1A\u001b[2K\u001b[32m⠇\u001b[0m Initializing ZenML repository at /content.\n",
            "\u001b[2K\u001b[1A\u001b[2K\u001b[32m⠏\u001b[0m Initializing ZenML repository at /content.\n",
            "\u001b[2K\u001b[1A\u001b[2K\u001b[32m⠋\u001b[0m Initializing ZenML repository at /content.\n",
            "\u001b[2K\u001b[1A\u001b[2K\u001b[32m⠼\u001b[0m Initializing ZenML repository at /content.\n",
            "\u001b[2K\u001b[1A\u001b[2K\u001b[32m⠴\u001b[0m Initializing ZenML repository at /content.\n",
            "\u001b[2K\u001b[1A\u001b[2K\u001b[32m⠦\u001b[0m Initializing ZenML repository at /content.\n",
            "\u001b[2K\u001b[1A\u001b[2K\u001b[32m⠧\u001b[0m Initializing ZenML repository at /content.\n",
            "\u001b[2K\u001b[1A\u001b[2K\u001b[32m⠇\u001b[0m Initializing ZenML repository at /content.\n",
            "\u001b[2K\u001b[1A\u001b[2K\u001b[32m⠏\u001b[0m Initializing ZenML repository at /content.\n",
            "\u001b[2K\u001b[1A\u001b[2K\u001b[32m⠋\u001b[0m Initializing ZenML repository at /content.\n",
            "\u001b[2K\u001b[1A\u001b[2K\u001b[32m⠙\u001b[0m Initializing ZenML repository at /content.\n",
            "\u001b[2K\u001b[1A\u001b[2K\u001b[32m⠹\u001b[0m Initializing ZenML repository at /content.\n",
            "\u001b[2K\u001b[1A\u001b[2K\u001b[32m⠸\u001b[0m Initializing ZenML repository at /content.\n",
            "\u001b[2K\u001b[1A\u001b[2K\u001b[32m⠼\u001b[0m Initializing ZenML repository at /content.\n",
            "\u001b[2K\u001b[1A\u001b[2K\u001b[32m⠴\u001b[0m Initializing ZenML repository at /content.\n",
            "\u001b[2K\u001b[1A\u001b[2K\u001b[32m⠦\u001b[0m Initializing ZenML repository at /content.\n",
            "\u001b[2K\u001b[1A\u001b[2K\u001b[32m⠧\u001b[0m Initializing ZenML repository at /content.\n",
            "\u001b[2K\u001b[1A\u001b[2K\u001b[32m⠇\u001b[0m Initializing ZenML repository at /content.\n",
            "\u001b[2K\u001b[1A\u001b[2K\u001b[32m⠏\u001b[0m Initializing ZenML repository at /content.\n",
            "\u001b[2K\u001b[1A\u001b[2K\u001b[32m⠋\u001b[0m Initializing ZenML repository at /content.\n",
            "\u001b[2K\u001b[1A\u001b[2K\u001b[32m⠙\u001b[0m Initializing ZenML repository at /content.\n",
            "\u001b[2K\u001b[1A\u001b[2K\u001b[32m⠹\u001b[0m Initializing ZenML repository at /content.\n",
            "\u001b[2K\u001b[1A\u001b[2K\u001b[32m⠸\u001b[0m Initializing ZenML repository at /content.\n",
            "\u001b[2K\u001b[1A\u001b[2K\u001b[32m⠼\u001b[0m Initializing ZenML repository at /content.\n",
            "\u001b[2K\u001b[1A\u001b[2K\u001b[32m⠴\u001b[0m Initializing ZenML repository at /content.\n",
            "\u001b[2K\u001b[1A\u001b[2K\u001b[32m⠦\u001b[0m Initializing ZenML repository at /content.\n",
            "\u001b[2K\u001b[1A\u001b[2K\u001b[32m⠧\u001b[0m Initializing ZenML repository at /content.\n",
            "\u001b[2K\u001b[1A\u001b[2K\u001b[32m⠇\u001b[0m Initializing ZenML repository at /content.\n",
            "\u001b[2K\u001b[1A\u001b[2K\u001b[32m⠏\u001b[0m Initializing ZenML repository at /content.\n",
            "\u001b[2K\u001b[1A\u001b[2K\u001b[32m⠋\u001b[0m Initializing ZenML repository at /content.\n",
            "\u001b[2K\u001b[1A\u001b[2K\u001b[32m⠙\u001b[0m Initializing ZenML repository at /content.\n",
            "\u001b[2K\u001b[1A\u001b[2K\u001b[32m⠹\u001b[0m Initializing ZenML repository at /content.\n",
            "\u001b[2K\u001b[1A\u001b[2K\u001b[32m⠸\u001b[0m Initializing ZenML repository at /content.\n",
            "\u001b[2K\u001b[1A\u001b[2K\u001b[32m⠼\u001b[0m Initializing ZenML repository at /content.\n",
            "\u001b[2K\u001b[1A\u001b[2K\u001b[32m⠴\u001b[0m Initializing ZenML repository at /content.\n",
            "\u001b[2K\u001b[1A\u001b[2K\u001b[32m⠦\u001b[0m Initializing ZenML repository at /content.\n",
            "\u001b[2K\u001b[1A\u001b[2K\u001b[32m⠧\u001b[0m Initializing ZenML repository at /content.\n",
            "\u001b[2K\u001b[1A\u001b[2K\u001b[32m⠇\u001b[0m Initializing ZenML repository at /content.\n",
            "\u001b[2K\u001b[1A\u001b[2K\u001b[32m⠏\u001b[0m Initializing ZenML repository at /content.\n",
            "\u001b[2K\u001b[1A\u001b[2K\u001b[32m⠋\u001b[0m Initializing ZenML repository at /content.\n",
            "\u001b[2K\u001b[1A\u001b[2K\u001b[32m⠙\u001b[0m Initializing ZenML repository at /content.\n",
            "\u001b[2K\u001b[1A\u001b[2K\u001b[32m⠹\u001b[0m Initializing ZenML repository at /content.\n",
            "\u001b[2K\u001b[1A\u001b[2K\u001b[32m⠸\u001b[0m Initializing ZenML repository at /content.\n",
            "\u001b[2K\u001b[1A\u001b[2K\u001b[32m⠼\u001b[0m Initializing ZenML repository at /content.\n",
            "\u001b[2K\u001b[1A\u001b[2K\u001b[32m⠴\u001b[0m Initializing ZenML repository at /content.\n",
            "\u001b[2K\u001b[1A\u001b[2K\u001b[32m⠦\u001b[0m Initializing ZenML repository at /content.\n",
            "\u001b[2K\u001b[1A\u001b[2K\u001b[32m⠧\u001b[0m Initializing ZenML repository at /content.\n",
            "\u001b[2K\u001b[1A\u001b[2K\u001b[32m⠇\u001b[0m Initializing ZenML repository at /content.\n",
            "\u001b[2K\u001b[1A\u001b[2K\u001b[32m⠏\u001b[0m Initializing ZenML repository at /content.\n",
            "\u001b[2K\u001b[1A\u001b[2K\u001b[32m⠋\u001b[0m Initializing ZenML repository at /content.\n",
            "\u001b[2K\u001b[1A\u001b[2K\u001b[32m⠙\u001b[0m Initializing ZenML repository at /content.\n",
            "\u001b[2K\u001b[1A\u001b[2K\u001b[32m⠸\u001b[0m Initializing ZenML repository at /content.\n",
            "\u001b[2K\u001b[1A\u001b[2K\u001b[32m⠼\u001b[0m Initializing ZenML repository at /content.\n",
            "\u001b[2K\u001b[1A\u001b[2K\u001b[32m⠴\u001b[0m Initializing ZenML repository at /content.\n",
            "\u001b[2K\u001b[1A\u001b[2K\u001b[32m⠦\u001b[0m Initializing ZenML repository at /content.\n",
            "\u001b[2K\u001b[1A\u001b[2K\u001b[32m⠧\u001b[0m Initializing ZenML repository at /content.\n",
            "\u001b[2K\u001b[1A\u001b[2K\u001b[32m⠇\u001b[0m Initializing ZenML repository at /content.\n",
            "\u001b[2K\u001b[1A\u001b[2K\u001b[32m⠏\u001b[0m Initializing ZenML repository at /content.\n",
            "\u001b[2K\u001b[1A\u001b[2K\u001b[32m⠋\u001b[0m Initializing ZenML repository at /content.\n",
            "\u001b[2K\u001b[1A\u001b[2K\u001b[32m⠙\u001b[0m Initializing ZenML repository at /content.\n",
            "\u001b[2K\u001b[1A\u001b[2K\u001b[32m⠹\u001b[0m Initializing ZenML repository at /content.\n",
            "\u001b[2K\u001b[1A\u001b[2K\u001b[32m⠸\u001b[0m Initializing ZenML repository at /content.\n",
            "\u001b[2K\u001b[1A\u001b[2K\u001b[32m⠼\u001b[0m Initializing ZenML repository at /content.\n",
            "\u001b[2K\u001b[1A\u001b[2K\u001b[32m⠴\u001b[0m Initializing ZenML repository at /content.\n",
            "\u001b[1;35mCreating default workspace 'default' ...\u001b[0m\n",
            "\u001b[1;35mCreating default stack in workspace default...\u001b[0m\n",
            "\u001b[2K\u001b[1A\u001b[2K\u001b[32m⠦\u001b[0m Initializing ZenML repository at /content.\n",
            "\u001b[2K\u001b[1A\u001b[2K\u001b[32m⠧\u001b[0m Initializing ZenML repository at /content.\n",
            "\u001b[2K\u001b[1A\u001b[2K\u001b[32m⠇\u001b[0m Initializing ZenML repository at /content.\n",
            "\u001b[2K\u001b[1A\u001b[2K\u001b[32m⠏\u001b[0m Initializing ZenML repository at /content.\n",
            "\u001b[2K\u001b[1A\u001b[2K\u001b[32m⠋\u001b[0m Initializing ZenML repository at /content.\n",
            "\u001b[2K\u001b[1A\u001b[2K\u001b[32m⠙\u001b[0m Initializing ZenML repository at /content.\n",
            "\u001b[2K\u001b[1A\u001b[2K\u001b[32m⠹\u001b[0m Initializing ZenML repository at /content.\n",
            "\u001b[2K\u001b[1A\u001b[2K\u001b[32m⠸\u001b[0m Initializing ZenML repository at /content.\n",
            "\u001b[1;35mSetting the global active workspace to 'default'.\u001b[0m\n",
            "\u001b[33mSetting the global active stack to default.\u001b[0m\n",
            "\u001b[1;35mSetting the repo active workspace to 'default'.\u001b[0m\n",
            "\u001b[33mSetting the repo active stack to default.\u001b[0m\n",
            "\u001b[2K\u001b[1A\u001b[2K\u001b[2;36mZenML repository initialized at \u001b[0m\u001b[2;35m/\u001b[0m\u001b[2;95mcontent.\u001b[0m\n",
            "\u001b[2;32m⠼\u001b[0m\u001b[2;36m Initializing ZenML repository at /content.\u001b[0m\n",
            "\u001b[2K\u001b[1A\u001b[2K\u001b[32m⠼\u001b[0m Initializing ZenML repository at /content.\n",
            "\n",
            "\u001b[1A\u001b[2K\u001b[1A\u001b[2K\u001b[2;36mThe local active stack was initialized to \u001b[0m\u001b[2;32m'default'\u001b[0m\u001b[2;36m. This local configuration will only take effect \u001b[0m\n",
            "\u001b[2;36mwhen you're running ZenML from the initialized repository root, or from a subdirectory. For more \u001b[0m\n",
            "\u001b[2;36minformation on repositories and configurations, please visit \u001b[0m\n",
            "\u001b[2;4;94mhttps://docs.zenml.io/user-guide/production-guide/understand-stacks.\u001b[0m\n"
          ]
        }
      ],
      "source": [
        "!rm -rf .zenml\n",
        "!zenml init"
      ]
    },
    {
      "cell_type": "code",
      "execution_count": null,
      "metadata": {
        "colab": {
          "base_uri": "https://localhost:8080/"
        },
        "id": "HOsKw_C86OVB",
        "outputId": "7d32a352-cc00-4af6-904f-8dff223eabd5"
      },
      "outputs": [
        {
          "output_type": "stream",
          "name": "stderr",
          "text": [
            "INFO:numexpr.utils:NumExpr defaulting to 2 threads.\n"
          ]
        },
        {
          "output_type": "stream",
          "name": "stdout",
          "text": [
            "\u001b[1;35mNumExpr defaulting to 2 threads.\u001b[0m\n",
            "Accuracy: 0.9583333333333334\n"
          ]
        }
      ],
      "source": [
        "import numpy as np\n",
        "from sklearn.base import ClassifierMixin\n",
        "from sklearn.svm import SVC\n",
        "from sklearn.datasets import load_digits\n",
        "from sklearn.model_selection import train_test_split\n",
        "\n",
        "def train_test()-> None:\n",
        "  digits= load_digits()\n",
        "  data = digits.images.reshape((len(digits.images), -1))\n",
        "  X_train, X_test, y_train,y_test=train_test_split(data, digits.target,test_size=0.2,shuffle=False)\n",
        "  model =SVC(gamma=0.001)\n",
        "  model.fit(X_train,y_train)\n",
        "  test_acc=model.score(X_test,y_test)\n",
        "  print(f\"Accuracy: {test_acc}\")\n",
        "train_test()\n",
        "\n"
      ]
    },
    {
      "cell_type": "code",
      "execution_count": null,
      "metadata": {
        "id": "ZmS8y-hDUTZr"
      },
      "outputs": [],
      "source": [
        "from zenml import step\n",
        "from typing_extensions import Annotated\n",
        "import pandas as pd\n",
        "from typing import Tuple\n",
        "\n",
        "@step\n",
        "def importer()->Tuple[\n",
        "    Annotated[np.ndarray,\"X_train\"],\n",
        "    Annotated[np.ndarray,\"X_test\"],\n",
        "    Annotated[np.ndarray,\"y_train\"],\n",
        "    Annotated[np.ndarray,\"y_test\"],]:\n",
        "    digits= load_digits()\n",
        "    data = digits.images.reshape((len(digits.images), -1))\n",
        "    X_train, X_test, y_train,y_test=train_test_split(data, digits.target,test_size=0.2,shuffle=False)\n",
        "    return X_train, X_test, y_train,y_test\n",
        "@step\n",
        "def svc_trainer(\n",
        "    X_train: np.ndarray,\n",
        "    # X_test: np.ndarray,\n",
        "    y_train: np.ndarray,\n",
        "    # y_test: np.ndarray,\n",
        ")->ClassifierMixin:\n",
        "    model =SVC(gamma=0.001)\n",
        "    model.fit(X_train,y_train)\n",
        "    return model\n",
        "\n",
        "@step\n",
        "def evaluator(\n",
        "    X_test :np.ndarray,\n",
        "    y_test:np.ndarray,\n",
        "    model:ClassifierMixin\n",
        ")->float:\n",
        "    test_acc=model.score(X_test,y_test)\n",
        "    print(f\"Accuracy: {test_acc}\")\n",
        "    return test_acc\n",
        "\n"
      ]
    },
    {
      "cell_type": "code",
      "execution_count": null,
      "metadata": {
        "id": "nbx-k-jxVv08"
      },
      "outputs": [],
      "source": [
        "from zenml import pipeline\n",
        "\n",
        "@pipeline\n",
        "def digits_pipeline():\n",
        "    X_train, X_test, y_train,y_test=importer()\n",
        "    model=svc_trainer(X_train=X_train,y_train=y_train)\n",
        "    evaluator(X_test=X_test,y_test=y_test,model=model)"
      ]
    },
    {
      "cell_type": "code",
      "execution_count": null,
      "metadata": {
        "colab": {
          "base_uri": "https://localhost:8080/"
        },
        "id": "Xc1L6CgDWQXZ",
        "outputId": "62f538d4-896c-4af5-a4dc-705e8c00636a"
      },
      "outputs": [
        {
          "output_type": "stream",
          "name": "stdout",
          "text": [
            "\u001b[1;35mInitiating a new run for the pipeline: \u001b[0m\u001b[1;36mdigits_pipeline\u001b[1;35m.\u001b[0m\n",
            "\u001b[1;35mRegistered new pipeline: \u001b[0m\u001b[1;36mdigits_pipeline\u001b[1;35m.\u001b[0m\n",
            "\u001b[1;35mUsing user: \u001b[0m\u001b[1;36mdefault\u001b[1;35m\u001b[0m\n",
            "\u001b[1;35mUsing stack: \u001b[0m\u001b[1;36mdefault\u001b[1;35m\u001b[0m\n",
            "\u001b[1;35m  orchestrator: \u001b[0m\u001b[1;36mdefault\u001b[1;35m\u001b[0m\n",
            "\u001b[1;35m  artifact_store: \u001b[0m\u001b[1;36mdefault\u001b[1;35m\u001b[0m\n",
            "\u001b[1;35mYou can visualize your pipeline runs in the \u001b[0m\u001b[1;36mZenML Dashboard\u001b[1;35m. In order to try it locally, please run \u001b[0m\u001b[1;36mzenml login --local\u001b[1;35m.\u001b[0m\n",
            "\u001b[1;35mStep \u001b[0m\u001b[1;36mimporter\u001b[1;35m has started.\u001b[0m\n",
            "\u001b[1;35mStep \u001b[0m\u001b[1;36mimporter\u001b[1;35m has finished in \u001b[0m\u001b[1;36m6.798s\u001b[1;35m.\u001b[0m\n",
            "\u001b[1;35mStep \u001b[0m\u001b[1;36msvc_trainer\u001b[1;35m has started.\u001b[0m\n",
            "\u001b[1;35mStep \u001b[0m\u001b[1;36msvc_trainer\u001b[1;35m has finished in \u001b[0m\u001b[1;36m1.369s\u001b[1;35m.\u001b[0m\n",
            "\u001b[1;35mStep \u001b[0m\u001b[1;36mevaluator\u001b[1;35m has started.\u001b[0m\n",
            "Accuracy: 0.9583333333333334\n",
            "\u001b[1;35mStep \u001b[0m\u001b[1;36mevaluator\u001b[1;35m has finished in \u001b[0m\u001b[1;36m0.342s\u001b[1;35m.\u001b[0m\n",
            "\u001b[1;35mPipeline run has finished in \u001b[0m\u001b[1;36m8.808s\u001b[1;35m.\u001b[0m\n"
          ]
        }
      ],
      "source": [
        "digits_svc_pipeline =digits_pipeline()"
      ]
    },
    {
      "cell_type": "code",
      "execution_count": null,
      "metadata": {
        "id": "x4rW8H4JP_NR"
      },
      "outputs": [],
      "source": []
    },
    {
      "cell_type": "code",
      "execution_count": null,
      "metadata": {
        "id": "cnTUZyreae0-"
      },
      "outputs": [],
      "source": [
        "from pyngrok import ngrok"
      ]
    },
    {
      "cell_type": "code",
      "execution_count": null,
      "metadata": {
        "colab": {
          "base_uri": "https://localhost:8080/"
        },
        "id": "2xM2LObpauti",
        "outputId": "162243c2-d1a9-4919-ff7c-31c0b5469955"
      },
      "outputs": [
        {
          "name": "stdout",
          "output_type": "stream",
          "text": [
            "Requirement already satisfied: pyngrok in /usr/local/lib/python3.11/dist-packages (7.2.3)\n",
            "Requirement already satisfied: PyYAML>=5.1 in /usr/local/lib/python3.11/dist-packages (from pyngrok) (6.0.2)\n"
          ]
        }
      ],
      "source": [
        "pip install pyngrok"
      ]
    },
    {
      "cell_type": "code",
      "execution_count": null,
      "metadata": {
        "colab": {
          "base_uri": "https://localhost:8080/"
        },
        "id": "AKoghFCpaz5U",
        "outputId": "4004366d-66b3-4f09-f297-5d5c5f2dca7b"
      },
      "outputs": [
        {
          "name": "stdout",
          "output_type": "stream",
          "text": [
            "/bin/bash: -c: line 1: syntax error near unexpected token `newline'\n",
            "/bin/bash: -c: line 1: `ngrok authtoken <your_authtoken>'\n"
          ]
        }
      ],
      "source": []
    },
    {
      "cell_type": "code",
      "execution_count": null,
      "metadata": {
        "colab": {
          "base_uri": "https://localhost:8080/"
        },
        "id": "YdpGDVKSWeqI",
        "outputId": "58193ddf-1a7b-4fb5-c006-5c901fdb7b75"
      },
      "outputs": [
        {
          "metadata": {
            "tags": null
          },
          "name": "stdout",
          "output_type": "stream",
          "text": [
            "Requirement already satisfied: pyngrok in /usr/local/lib/python3.11/dist-packages (7.2.3)\n",
            "Requirement already satisfied: PyYAML>=5.1 in /usr/local/lib/python3.11/dist-packages (from pyngrok) (6.0.2)\n"
          ]
        },
        {
          "metadata": {
            "tags": null
          },
          "name": "stderr",
          "output_type": "stream",
          "text": [
            "INFO:pyngrok.ngrok:Opening tunnel named: http-8237-5d2fe8cb-0d79-49d4-bd1c-5f9392b43e84\n"
          ]
        },
        {
          "metadata": {
            "tags": null
          },
          "name": "stdout",
          "output_type": "stream",
          "text": [
            "\u001b[1;35mOpening tunnel named: http-8237-5d2fe8cb-0d79-49d4-bd1c-5f9392b43e84\u001b[0m\n"
          ]
        },
        {
          "metadata": {
            "tags": null
          },
          "name": "stderr",
          "output_type": "stream",
          "text": [
            "INFO:pyngrok.process.ngrok:t=2025-03-09T05:27:40+0000 lvl=info msg=\"no configuration paths supplied\"\n"
          ]
        },
        {
          "metadata": {
            "tags": null
          },
          "name": "stdout",
          "output_type": "stream",
          "text": [
            "\u001b[1;35mt=2025-03-09T05:27:40+0000 lvl=info msg=\"no configuration paths supplied\"\u001b[0m\n"
          ]
        },
        {
          "metadata": {
            "tags": null
          },
          "name": "stderr",
          "output_type": "stream",
          "text": [
            "INFO:pyngrok.process.ngrok:t=2025-03-09T05:27:40+0000 lvl=info msg=\"using configuration at default config path\" path=/root/.config/ngrok/ngrok.yml\n"
          ]
        },
        {
          "metadata": {
            "tags": null
          },
          "name": "stdout",
          "output_type": "stream",
          "text": [
            "\u001b[1;35mt=2025-03-09T05:27:40+0000 lvl=info msg=\"using configuration at default config path\" path=/root/.config/ngrok/ngrok.yml\u001b[0m\n"
          ]
        },
        {
          "metadata": {
            "tags": null
          },
          "name": "stderr",
          "output_type": "stream",
          "text": [
            "INFO:pyngrok.process.ngrok:t=2025-03-09T05:27:40+0000 lvl=info msg=\"open config file\" path=/root/.config/ngrok/ngrok.yml err=nil\n"
          ]
        },
        {
          "metadata": {
            "tags": null
          },
          "name": "stdout",
          "output_type": "stream",
          "text": [
            "\u001b[1;35mt=2025-03-09T05:27:40+0000 lvl=info msg=\"open config file\" path=/root/.config/ngrok/ngrok.yml err=nil\u001b[0m\n"
          ]
        },
        {
          "metadata": {
            "tags": null
          },
          "name": "stderr",
          "output_type": "stream",
          "text": [
            "INFO:pyngrok.process.ngrok:t=2025-03-09T05:27:40+0000 lvl=info msg=\"starting web service\" obj=web addr=127.0.0.1:4040 allow_hosts=[]\n"
          ]
        },
        {
          "metadata": {
            "tags": null
          },
          "name": "stdout",
          "output_type": "stream",
          "text": [
            "\u001b[1;35mt=2025-03-09T05:27:40+0000 lvl=info msg=\"starting web service\" obj=web addr=127.0.0.1:4040 allow_hosts=[]\u001b[0m\n"
          ]
        },
        {
          "metadata": {
            "tags": null
          },
          "name": "stderr",
          "output_type": "stream",
          "text": [
            "INFO:pyngrok.process.ngrok:t=2025-03-09T05:27:40+0000 lvl=info msg=\"client session established\" obj=tunnels.session\n"
          ]
        },
        {
          "metadata": {
            "tags": null
          },
          "name": "stdout",
          "output_type": "stream",
          "text": [
            "\u001b[1;35mt=2025-03-09T05:27:40+0000 lvl=info msg=\"client session established\" obj=tunnels.session\u001b[0m\n"
          ]
        },
        {
          "metadata": {
            "tags": null
          },
          "name": "stderr",
          "output_type": "stream",
          "text": [
            "INFO:pyngrok.process.ngrok:t=2025-03-09T05:27:40+0000 lvl=info msg=\"tunnel session started\" obj=tunnels.session\n"
          ]
        },
        {
          "metadata": {
            "tags": null
          },
          "name": "stdout",
          "output_type": "stream",
          "text": [
            "\u001b[1;35mt=2025-03-09T05:27:40+0000 lvl=info msg=\"tunnel session started\" obj=tunnels.session\u001b[0m\n"
          ]
        },
        {
          "metadata": {
            "tags": null
          },
          "name": "stderr",
          "output_type": "stream",
          "text": [
            "INFO:pyngrok.process.ngrok:t=2025-03-09T05:27:40+0000 lvl=info msg=start pg=/api/tunnels id=4a0d055fd3e0aa59\n"
          ]
        },
        {
          "metadata": {
            "tags": null
          },
          "name": "stdout",
          "output_type": "stream",
          "text": [
            "\u001b[1;35mt=2025-03-09T05:27:40+0000 lvl=info msg=start pg=/api/tunnels id=4a0d055fd3e0aa59\u001b[0m\n"
          ]
        },
        {
          "metadata": {
            "tags": null
          },
          "name": "stderr",
          "output_type": "stream",
          "text": [
            "INFO:pyngrok.process.ngrok:t=2025-03-09T05:27:40+0000 lvl=info msg=end pg=/api/tunnels id=4a0d055fd3e0aa59 status=200 dur=498.319µs\n"
          ]
        },
        {
          "metadata": {
            "tags": null
          },
          "name": "stdout",
          "output_type": "stream",
          "text": [
            "\u001b[1;35mt=2025-03-09T05:27:40+0000 lvl=info msg=end pg=/api/tunnels id=4a0d055fd3e0aa59 status=200 dur=498.319µs\u001b[0m\n"
          ]
        },
        {
          "metadata": {
            "tags": null
          },
          "name": "stderr",
          "output_type": "stream",
          "text": [
            "INFO:pyngrok.process.ngrok:t=2025-03-09T05:27:40+0000 lvl=info msg=start pg=/api/tunnels id=e3d5c6e91eb5fd5d\n"
          ]
        },
        {
          "metadata": {
            "tags": null
          },
          "name": "stdout",
          "output_type": "stream",
          "text": [
            "\u001b[1;35mt=2025-03-09T05:27:40+0000 lvl=info msg=start pg=/api/tunnels id=e3d5c6e91eb5fd5d\u001b[0m\n"
          ]
        },
        {
          "metadata": {
            "tags": null
          },
          "name": "stderr",
          "output_type": "stream",
          "text": [
            "INFO:pyngrok.process.ngrok:t=2025-03-09T05:27:40+0000 lvl=info msg=end pg=/api/tunnels id=e3d5c6e91eb5fd5d status=200 dur=117.9µs\n"
          ]
        },
        {
          "metadata": {
            "tags": null
          },
          "name": "stdout",
          "output_type": "stream",
          "text": [
            "\u001b[1;35mt=2025-03-09T05:27:40+0000 lvl=info msg=end pg=/api/tunnels id=e3d5c6e91eb5fd5d status=200 dur=117.9µs\u001b[0m\n"
          ]
        },
        {
          "metadata": {
            "tags": null
          },
          "name": "stderr",
          "output_type": "stream",
          "text": [
            "INFO:pyngrok.process.ngrok:t=2025-03-09T05:27:40+0000 lvl=info msg=start pg=/api/tunnels id=b91c2c93138de0c1\n"
          ]
        },
        {
          "metadata": {
            "tags": null
          },
          "name": "stdout",
          "output_type": "stream",
          "text": [
            "\u001b[1;35mt=2025-03-09T05:27:40+0000 lvl=info msg=start pg=/api/tunnels id=b91c2c93138de0c1\u001b[0m\n"
          ]
        },
        {
          "metadata": {
            "tags": null
          },
          "name": "stderr",
          "output_type": "stream",
          "text": [
            "INFO:pyngrok.process.ngrok:t=2025-03-09T05:27:40+0000 lvl=info msg=\"started tunnel\" obj=tunnels name=http-8237-5d2fe8cb-0d79-49d4-bd1c-5f9392b43e84 addr=http://localhost:8237 url=https://f71c-34-148-30-70.ngrok-free.app\n"
          ]
        },
        {
          "metadata": {
            "tags": null
          },
          "name": "stdout",
          "output_type": "stream",
          "text": [
            "\u001b[31mIn Colab, use this url instead: NgrokTunnel: \"https://f71c-34-148-30-70.ngrok-free.app\" -> \"http://localhost:8237\"!\u001b[0m\n",
            "\u001b[1;35mt=2025-03-09T05:27:40+0000 lvl=info msg=\"started tunnel\" obj=tunnels name=http-8237-5d2fe8cb-0d79-49d4-bd1c-5f9392b43e84 addr=\u001b[0m\u001b[34mhttp://localhost:8237\u001b[1;35m url=\u001b[0m\u001b[34mhttps://f71c-34-148-30-70.ngrok-free.app\u001b[1;35m\u001b[0m\n"
          ]
        },
        {
          "metadata": {
            "tags": null
          },
          "name": "stderr",
          "output_type": "stream",
          "text": [
            "INFO:pyngrok.process.ngrok:t=2025-03-09T05:27:40+0000 lvl=info msg=end pg=/api/tunnels id=b91c2c93138de0c1 status=201 dur=45.776665ms\n"
          ]
        },
        {
          "metadata": {
            "tags": null
          },
          "name": "stdout",
          "output_type": "stream",
          "text": [
            "\u001b[1;35mt=2025-03-09T05:27:40+0000 lvl=info msg=end pg=/api/tunnels id=b91c2c93138de0c1 status=201 dur=45.776665ms\u001b[0m\n",
            "\u001b[33mThe `zenml up` command is deprecated and will be removed in a future release. Please use the `zenml \u001b[0m\n",
            "\u001b[33mlogin --local` command instead.\u001b[0m\n",
            "\u001b[2;36mCalling `zenml login --local`\u001b[0m\u001b[2;33m...\u001b[0m\n",
            "\u001b[2;36mThe local ZenML dashboard is about to deploy in a blocking process.\u001b[0m\n",
            "\u001b[1;35mDeploying a local daemon ZenML server.\u001b[0m\n",
            "\u001b[1;35mNot writing the global configuration to disk in a ZenML server environment.\u001b[0m\n",
            "\u001b[1;35mInitializing the ZenML global configuration version to 0.75.0\u001b[0m\n",
            "\u001b[1;35mNot writing the global configuration to disk in a ZenML server environment.\u001b[0m\n",
            "\u001b[1;35mStarting ZenML Server as blocking process... press CTRL+C once to stop it.\u001b[0m\n",
            "\u001b[32mINFO\u001b[0m:     Started server process [\u001b[36m1156\u001b[0m]\n",
            "\u001b[32mINFO\u001b[0m:     Waiting for application startup.\n",
            "\u001b[1;35mNot writing the global configuration to disk in a ZenML server environment.\u001b[0m\n",
            "\u001b[1;35mNot writing the global configuration to disk in a ZenML server environment.\u001b[0m\n",
            "\u001b[32mINFO\u001b[0m:     Application startup complete.\n",
            "\u001b[32mINFO\u001b[0m:     Uvicorn running on \u001b[1mhttp://127.0.0.1:8237\u001b[0m (Press CTRL+C to quit)\n"
          ]
        },
        {
          "output_type": "stream",
          "name": "stderr",
          "text": [
            "INFO:pyngrok.process.ngrok:t=2025-03-09T05:46:54+0000 lvl=info msg=\"received stop request\" obj=app stopReq=\"{err:<nil> restart:false}\"\n"
          ]
        },
        {
          "output_type": "stream",
          "name": "stdout",
          "text": [
            "\u001b[1;35mt=2025-03-09T05:46:54+0000 lvl=info msg=\"received stop request\" obj=app stopReq=\"{err:<nil> restart:false}\"\u001b[0m\n",
            "\u001b[32mINFO\u001b[0m:     Shutting down\n",
            "\u001b[32mINFO\u001b[0m:     Finished server process [\u001b[36m1156\u001b[0m]\n",
            "\u001b[31mERROR\u001b[0m:    Traceback (most recent call last):\n",
            "  File \"/usr/lib/python3.11/asyncio/runners.py\", line 190, in run\n",
            "    return runner.run(main)\n",
            "           ^^^^^^^^^^^^^^^^\n",
            "  File \"/usr/lib/python3.11/asyncio/runners.py\", line 118, in run\n",
            "    return self._loop.run_until_complete(task)\n",
            "           ^^^^^^^^^^^^^^^^^^^^^^^^^^^^^^^^^^^\n",
            "  File \"uvloop/loop.pyx\", line 1512, in uvloop.loop.Loop.run_until_complete\n",
            "  File \"uvloop/loop.pyx\", line 1505, in uvloop.loop.Loop.run_until_complete\n",
            "  File \"uvloop/loop.pyx\", line 1379, in uvloop.loop.Loop.run_forever\n",
            "  File \"uvloop/loop.pyx\", line 557, in uvloop.loop.Loop._run\n",
            "  File \"uvloop/loop.pyx\", line 476, in uvloop.loop.Loop._on_idle\n",
            "  File \"uvloop/cbhandles.pyx\", line 83, in uvloop.loop.Handle._run\n",
            "  File \"uvloop/cbhandles.pyx\", line 63, in uvloop.loop.Handle._run\n",
            "  File \"/usr/local/lib/python3.11/dist-packages/uvicorn/server.py\", line 69, in serve\n",
            "    with self.capture_signals():\n",
            "  File \"/usr/lib/python3.11/contextlib.py\", line 144, in __exit__\n",
            "    next(self.gen)\n",
            "  File \"/usr/local/lib/python3.11/dist-packages/uvicorn/server.py\", line 330, in capture_signals\n",
            "    signal.raise_signal(captured_signal)\n",
            "  File \"/usr/lib/python3.11/asyncio/runners.py\", line 157, in _on_sigint\n",
            "    raise KeyboardInterrupt()\n",
            "KeyboardInterrupt\n",
            "\n",
            "During handling of the above exception, another exception occurred:\n",
            "\n",
            "Traceback (most recent call last):\n",
            "  File \"/usr/local/lib/python3.11/dist-packages/starlette/routing.py\", line 700, in lifespan\n",
            "    await receive()\n",
            "  File \"/usr/local/lib/python3.11/dist-packages/uvicorn/lifespan/on.py\", line 137, in receive\n",
            "    return await self.receive_queue.get()\n",
            "           ^^^^^^^^^^^^^^^^^^^^^^^^^^^^^^\n",
            "  File \"/usr/lib/python3.11/asyncio/queues.py\", line 158, in get\n",
            "    await getter\n",
            "asyncio.exceptions.CancelledError\n",
            "\n"
          ]
        }
      ],
      "source": [
        "from zenml.environment import Environment\n",
        "\n",
        "def start_zenml_dashboard(port=8237):\n",
        "    if Environment.in_google_colab():\n",
        "        !pip install pyngrok  # Install pyngrok if in Colab\n",
        "        from pyngrok import ngrok\n",
        "\n",
        "        # Set the authtoken (replace with your actual token)\n",
        "        from pyngrok import ngrok\n",
        "\n",
        "        public_url = ngrok.connect(port)\n",
        "        print(f\"\\x1b[31mIn Colab, use this url instead: {public_url}!\\x1b[0m\")\n",
        "        !zenml up --blocking --port {port}\n",
        "    else:\n",
        "        !zenml up --port {port}\n",
        "\n",
        "start_zenml_dashboard()"
      ]
    },
    {
      "source": [
        "from IPython import get_ipython\n",
        "from IPython.display import display\n",
        "# %%\n",
        "get_ipython().run_line_magic('pip', 'install \"zenml[server]\"')\n",
        "get_ipython().system('zenml integration install sklearn -y')\n",
        "# %pip install pyparsing==2.4.2 # Removed to avoid potential conflicts\n",
        "\n",
        "import IPython\n",
        "\n",
        "#automatically restart kernel\n",
        "IPython.Application.instance().kernel.do_shutdown(restart=True)\n",
        "# %%\n",
        "get_ipython().run_line_magic('pip', 'install pyparsing')\n",
        "# %%\n",
        "NGROK_TOKEN ='2u24HGvTxaSlN7OGDQuM6NMTUvC_2pST1DMKHZtC5vphuTifh'  # Replace with your actual Ngrok token\n",
        "# %%\n",
        "from zenml.environment import Environment\n",
        "#install and authenticate ngrok\n",
        "\n",
        "if Environment.in_google_colab():\n",
        "  get_ipython().system('pip install pyngrok')\n",
        "  get_ipython().system('ngrok authtoken {NGROK_TOKEN}')\n",
        "# %%\n",
        "get_ipython().system('rm -rf .zenml')\n",
        "get_ipython().system('zenml init')\n",
        "# %%\n",
        "import numpy as np\n",
        "from sklearn.base import ClassifierMixin\n",
        "from sklearn.svm import SVC\n",
        "from sklearn.datasets import load_digits\n",
        "from sklearn.model_selection import train_test_split\n",
        "import joblib  # Import joblib for caching\n",
        "\n",
        "def train_test()-> None:\n",
        "  digits= load_digits()\n",
        "  data = digits.images.reshape((len(digits.images), -1))\n",
        "  X_train, X_test, y_train,y_test=train_test_split(data, digits.target,test_size=0.2,shuffle=False)\n",
        "  model =SVC(gamma=0.001)\n",
        "  model.fit(X_train,y_train)\n",
        "  test_acc=model.score(X_test,y_test)\n",
        "  print(f\"Accuracy: {test_acc}\")\n",
        "train_test()\n",
        "\n",
        "\n",
        "# %%\n",
        "from zenml import step\n",
        "from typing_extensions import Annotated\n",
        "import pandas as pd\n",
        "from typing import Tuple\n",
        "\n",
        "@step\n",
        "def importer()->Tuple[\n",
        "    Annotated[np.ndarray,\"X_train\"],\n",
        "    Annotated[np.ndarray,\"X_test\"],\n",
        "    Annotated[np.ndarray,\"y_train\"],\n",
        "    Annotated[np.ndarray,\"y_test\"],]:\n",
        "\n",
        "    try:\n",
        "        X_train, X_test, y_train, y_test = joblib.load('cached_data.pkl')\n",
        "    except FileNotFoundError:\n",
        "        digits = load_digits()\n",
        "        data = digits.images.reshape((len(digits.images), -1))\n",
        "        X_train, X_test, y_train, y_test = train_test_split(data, digits.target, test_size=0.2, shuffle=False)\n",
        "        joblib.dump((X_train, X_test, y_train, y_test), 'cached_data.pkl')\n",
        "\n",
        "    return X_train, X_test, y_train, y_test\n",
        "\n",
        "@step\n",
        "def svc_trainer(\n",
        "    X_train: np.ndarray,\n",
        "    # X_test: np.ndarray,\n",
        "    y_train: np.ndarray,\n",
        "    # y_test: np.ndarray,\n",
        ")->ClassifierMixin:\n",
        "    model =SVC(gamma=0.001)\n",
        "    model.fit(X_train,y_train)\n",
        "    return model\n",
        "\n",
        "@step\n",
        "def evaluator(\n",
        "    X_test :np.ndarray,\n",
        "    y_test:np.ndarray,\n",
        "    model:ClassifierMixin\n",
        ")->float:\n",
        "    test_acc=model.score(X_test,y_test)\n",
        "    print(f\"Accuracy: {test_acc}\")\n",
        "    return test_acc\n",
        "\n",
        "\n",
        "# %%\n",
        "from zenml import pipeline\n",
        "\n",
        "@pipeline\n",
        "def digits_pipeline():\n",
        "    X_train, X_test, y_train,y_test=importer()\n",
        "    model=svc_trainer(X_train=X_train,y_train=y_train)\n",
        "    evaluator(X_test=X_test,y_test=y_test,model=model)\n",
        "# %%\n",
        "digits_svc_pipeline =digits_pipeline()\n",
        "# %%\n",
        "\n",
        "# %%\n",
        "from pyngrok import ngrok\n",
        "# %%\n",
        "get_ipython().system('pip install pyngrok')\n",
        "# %%\n",
        "\n",
        "# %%\n",
        "from zenml.environment import Environment\n",
        "\n",
        "def start_zenml_dashboard(port=8237):\n",
        "    if Environment.in_google_colab():\n",
        "        get_ipython().system('pip install pyngrok  # Install pyngrok if in Colab')\n",
        "        from pyngrok import ngrok\n",
        "\n",
        "        # Set the authtoken (replace with your actual token)\n",
        "        from pyngrok import ngrok\n",
        "\n",
        "        public_url = ngrok.connect(port)\n",
        "        print(f\"\\x1b[31mIn Colab, use this url instead: {public_url}!\\x1b[0m\")\n",
        "        get_ipython().system('zenml up --blocking --port {port}')\n",
        "    else:\n",
        "        get_ipython().system('zenml up --port {port}')\n",
        "\n",
        "start_zenml_dashboard()\n",
        "# %%"
      ],
      "cell_type": "code",
      "metadata": {
        "colab": {
          "base_uri": "https://localhost:8080/"
        },
        "id": "JuDy0oXkcPAC",
        "outputId": "710b896b-358c-47f6-a418-8f99049d24d5"
      },
      "execution_count": null,
      "outputs": [
        {
          "metadata": {
            "tags": null
          },
          "name": "stdout",
          "output_type": "stream",
          "text": [
            "Requirement already satisfied: zenml[server] in /usr/local/lib/python3.11/dist-packages (0.75.0)\n",
            "Requirement already satisfied: Jinja2 in /usr/local/lib/python3.11/dist-packages (from zenml[server]) (3.1.5)\n",
            "Requirement already satisfied: alembic<1.9.0,>=1.8.1 in /usr/local/lib/python3.11/dist-packages (from zenml[server]) (1.8.1)\n",
            "Requirement already satisfied: bcrypt==4.0.1 in /usr/local/lib/python3.11/dist-packages (from zenml[server]) (4.0.1)\n",
            "Requirement already satisfied: click<8.1.4,>=8.0.1 in /usr/local/lib/python3.11/dist-packages (from zenml[server]) (8.1.3)\n",
            "Requirement already satisfied: cloudpickle<3,>=2.0.0 in /usr/local/lib/python3.11/dist-packages (from zenml[server]) (2.2.1)\n",
            "Requirement already satisfied: distro<2.0.0,>=1.6.0 in /usr/local/lib/python3.11/dist-packages (from zenml[server]) (1.9.0)\n",
            "Requirement already satisfied: docker<7.2.0,>=7.1.0 in /usr/local/lib/python3.11/dist-packages (from zenml[server]) (7.1.0)\n",
            "Requirement already satisfied: fastapi<=0.115.8,>=0.100 in /usr/local/lib/python3.11/dist-packages (from zenml[server]) (0.115.8)\n",
            "Requirement already satisfied: gitpython<4.0.0,>=3.1.18 in /usr/local/lib/python3.11/dist-packages (from zenml[server]) (3.1.44)\n",
            "Requirement already satisfied: ipinfo>=4.4.3 in /usr/local/lib/python3.11/dist-packages (from zenml[server]) (5.1.1)\n",
            "Requirement already satisfied: itsdangerous<2.3.0,>=2.2.0 in /usr/local/lib/python3.11/dist-packages (from zenml[server]) (2.2.0)\n",
            "Requirement already satisfied: orjson<3.11.0,>=3.10.0 in /usr/local/lib/python3.11/dist-packages (from zenml[server]) (3.10.15)\n",
            "Requirement already satisfied: packaging>=24.1 in /usr/local/lib/python3.11/dist-packages (from zenml[server]) (24.2)\n",
            "Requirement already satisfied: passlib<1.8.0,>=1.7.4 in /usr/local/lib/python3.11/dist-packages (from passlib[bcrypt]<1.8.0,>=1.7.4->zenml[server]) (1.7.4)\n",
            "Requirement already satisfied: psutil>=5.0.0 in /usr/local/lib/python3.11/dist-packages (from zenml[server]) (5.9.5)\n",
            "Requirement already satisfied: pydantic<2.9,>=2.8 in /usr/local/lib/python3.11/dist-packages (from zenml[server]) (2.8.2)\n",
            "Requirement already satisfied: pydantic-settings in /usr/local/lib/python3.11/dist-packages (from zenml[server]) (2.8.1)\n",
            "Requirement already satisfied: pyjwt==2.7.* in /usr/local/lib/python3.11/dist-packages (from pyjwt[crypto]==2.7.*; extra == \"server\"->zenml[server]) (2.7.0)\n",
            "Requirement already satisfied: pymysql<1.2.0,>=1.1.1 in /usr/local/lib/python3.11/dist-packages (from zenml[server]) (1.1.1)\n",
            "Requirement already satisfied: python-dateutil<3.0.0,>=2.8.1 in /usr/local/lib/python3.11/dist-packages (from zenml[server]) (2.8.2)\n",
            "Requirement already satisfied: python-multipart<0.1.0,>=0.0.9 in /usr/local/lib/python3.11/dist-packages (from zenml[server]) (0.0.20)\n",
            "Requirement already satisfied: pyyaml>=6.0.1 in /usr/local/lib/python3.11/dist-packages (from zenml[server]) (6.0.2)\n",
            "Requirement already satisfied: rich>=12.0.0 in /usr/local/lib/python3.11/dist-packages (from rich[jupyter]>=12.0.0->zenml[server]) (13.9.4)\n",
            "Requirement already satisfied: secure<0.4.0,>=0.3.0 in /usr/local/lib/python3.11/dist-packages (from zenml[server]) (0.3.0)\n",
            "Requirement already satisfied: setuptools in /usr/local/lib/python3.11/dist-packages (from zenml[server]) (75.1.0)\n",
            "Requirement already satisfied: sqlalchemy<3.0.0,>=2.0.0 in /usr/local/lib/python3.11/dist-packages (from zenml[server]) (2.0.38)\n",
            "Requirement already satisfied: sqlalchemy_utils in /usr/local/lib/python3.11/dist-packages (from zenml[server]) (0.41.2)\n",
            "Requirement already satisfied: sqlmodel==0.0.18 in /usr/local/lib/python3.11/dist-packages (from zenml[server]) (0.0.18)\n",
            "Requirement already satisfied: tldextract<5.2.0,>=5.1.0 in /usr/local/lib/python3.11/dist-packages (from zenml[server]) (5.1.3)\n",
            "Requirement already satisfied: uvicorn>=0.17.5 in /usr/local/lib/python3.11/dist-packages (from uvicorn[standard]>=0.17.5; extra == \"server\"->zenml[server]) (0.34.0)\n",
            "Requirement already satisfied: cryptography>=3.4.0 in /usr/local/lib/python3.11/dist-packages (from pyjwt[crypto]==2.7.*; extra == \"server\"->zenml[server]) (43.0.3)\n",
            "Requirement already satisfied: Mako in /usr/local/lib/python3.11/dist-packages (from alembic<1.9.0,>=1.8.1->zenml[server]) (1.3.9)\n",
            "Requirement already satisfied: requests>=2.26.0 in /usr/local/lib/python3.11/dist-packages (from docker<7.2.0,>=7.1.0->zenml[server]) (2.32.3)\n",
            "Requirement already satisfied: urllib3>=1.26.0 in /usr/local/lib/python3.11/dist-packages (from docker<7.2.0,>=7.1.0->zenml[server]) (2.3.0)\n",
            "Requirement already satisfied: starlette<0.46.0,>=0.40.0 in /usr/local/lib/python3.11/dist-packages (from fastapi<=0.115.8,>=0.100->zenml[server]) (0.45.3)\n",
            "Requirement already satisfied: typing-extensions>=4.8.0 in /usr/local/lib/python3.11/dist-packages (from fastapi<=0.115.8,>=0.100->zenml[server]) (4.12.2)\n",
            "Requirement already satisfied: gitdb<5,>=4.0.1 in /usr/local/lib/python3.11/dist-packages (from gitpython<4.0.0,>=3.1.18->zenml[server]) (4.0.12)\n",
            "Requirement already satisfied: cachetools in /usr/local/lib/python3.11/dist-packages (from ipinfo>=4.4.3->zenml[server]) (5.5.2)\n",
            "Requirement already satisfied: aiohttp<=4 in /usr/local/lib/python3.11/dist-packages (from ipinfo>=4.4.3->zenml[server]) (3.11.13)\n",
            "Requirement already satisfied: annotated-types>=0.4.0 in /usr/local/lib/python3.11/dist-packages (from pydantic<2.9,>=2.8->zenml[server]) (0.7.0)\n",
            "Requirement already satisfied: pydantic-core==2.20.1 in /usr/local/lib/python3.11/dist-packages (from pydantic<2.9,>=2.8->zenml[server]) (2.20.1)\n",
            "Requirement already satisfied: six>=1.5 in /usr/local/lib/python3.11/dist-packages (from python-dateutil<3.0.0,>=2.8.1->zenml[server]) (1.17.0)\n",
            "Requirement already satisfied: markdown-it-py>=2.2.0 in /usr/local/lib/python3.11/dist-packages (from rich>=12.0.0->rich[jupyter]>=12.0.0->zenml[server]) (3.0.0)\n",
            "Requirement already satisfied: pygments<3.0.0,>=2.13.0 in /usr/local/lib/python3.11/dist-packages (from rich>=12.0.0->rich[jupyter]>=12.0.0->zenml[server]) (2.18.0)\n",
            "Requirement already satisfied: ipywidgets<9,>=7.5.1 in /usr/local/lib/python3.11/dist-packages (from rich[jupyter]>=12.0.0->zenml[server]) (7.7.1)\n",
            "Requirement already satisfied: greenlet!=0.4.17 in /usr/local/lib/python3.11/dist-packages (from sqlalchemy<3.0.0,>=2.0.0->zenml[server]) (3.1.1)\n",
            "Requirement already satisfied: idna in /usr/local/lib/python3.11/dist-packages (from tldextract<5.2.0,>=5.1.0->zenml[server]) (3.10)\n",
            "Requirement already satisfied: requests-file>=1.4 in /usr/local/lib/python3.11/dist-packages (from tldextract<5.2.0,>=5.1.0->zenml[server]) (2.1.0)\n",
            "Requirement already satisfied: filelock>=3.0.8 in /usr/local/lib/python3.11/dist-packages (from tldextract<5.2.0,>=5.1.0->zenml[server]) (3.17.0)\n",
            "Requirement already satisfied: h11>=0.8 in /usr/local/lib/python3.11/dist-packages (from uvicorn>=0.17.5->uvicorn[standard]>=0.17.5; extra == \"server\"->zenml[server]) (0.14.0)\n",
            "Requirement already satisfied: httptools>=0.6.3 in /usr/local/lib/python3.11/dist-packages (from uvicorn[standard]>=0.17.5; extra == \"server\"->zenml[server]) (0.6.4)\n",
            "Requirement already satisfied: python-dotenv>=0.13 in /usr/local/lib/python3.11/dist-packages (from uvicorn[standard]>=0.17.5; extra == \"server\"->zenml[server]) (1.0.1)\n",
            "Requirement already satisfied: uvloop!=0.15.0,!=0.15.1,>=0.14.0 in /usr/local/lib/python3.11/dist-packages (from uvicorn[standard]>=0.17.5; extra == \"server\"->zenml[server]) (0.21.0)\n",
            "Requirement already satisfied: watchfiles>=0.13 in /usr/local/lib/python3.11/dist-packages (from uvicorn[standard]>=0.17.5; extra == \"server\"->zenml[server]) (1.0.4)\n",
            "Requirement already satisfied: websockets>=10.4 in /usr/local/lib/python3.11/dist-packages (from uvicorn[standard]>=0.17.5; extra == \"server\"->zenml[server]) (14.2)\n",
            "Requirement already satisfied: MarkupSafe>=2.0 in /usr/local/lib/python3.11/dist-packages (from Jinja2->zenml[server]) (3.0.2)\n",
            "Requirement already satisfied: aiohappyeyeballs>=2.3.0 in /usr/local/lib/python3.11/dist-packages (from aiohttp<=4->ipinfo>=4.4.3->zenml[server]) (2.4.6)\n",
            "Requirement already satisfied: aiosignal>=1.1.2 in /usr/local/lib/python3.11/dist-packages (from aiohttp<=4->ipinfo>=4.4.3->zenml[server]) (1.3.2)\n",
            "Requirement already satisfied: attrs>=17.3.0 in /usr/local/lib/python3.11/dist-packages (from aiohttp<=4->ipinfo>=4.4.3->zenml[server]) (25.1.0)\n",
            "Requirement already satisfied: frozenlist>=1.1.1 in /usr/local/lib/python3.11/dist-packages (from aiohttp<=4->ipinfo>=4.4.3->zenml[server]) (1.5.0)\n",
            "Requirement already satisfied: multidict<7.0,>=4.5 in /usr/local/lib/python3.11/dist-packages (from aiohttp<=4->ipinfo>=4.4.3->zenml[server]) (6.1.0)\n",
            "Requirement already satisfied: propcache>=0.2.0 in /usr/local/lib/python3.11/dist-packages (from aiohttp<=4->ipinfo>=4.4.3->zenml[server]) (0.3.0)\n",
            "Requirement already satisfied: yarl<2.0,>=1.17.0 in /usr/local/lib/python3.11/dist-packages (from aiohttp<=4->ipinfo>=4.4.3->zenml[server]) (1.18.3)\n",
            "Requirement already satisfied: cffi>=1.12 in /usr/local/lib/python3.11/dist-packages (from cryptography>=3.4.0->pyjwt[crypto]==2.7.*; extra == \"server\"->zenml[server]) (1.17.1)\n",
            "Requirement already satisfied: smmap<6,>=3.0.1 in /usr/local/lib/python3.11/dist-packages (from gitdb<5,>=4.0.1->gitpython<4.0.0,>=3.1.18->zenml[server]) (5.0.2)\n",
            "Requirement already satisfied: ipykernel>=4.5.1 in /usr/local/lib/python3.11/dist-packages (from ipywidgets<9,>=7.5.1->rich[jupyter]>=12.0.0->zenml[server]) (6.17.1)\n",
            "Requirement already satisfied: ipython-genutils~=0.2.0 in /usr/local/lib/python3.11/dist-packages (from ipywidgets<9,>=7.5.1->rich[jupyter]>=12.0.0->zenml[server]) (0.2.0)\n",
            "Requirement already satisfied: traitlets>=4.3.1 in /usr/local/lib/python3.11/dist-packages (from ipywidgets<9,>=7.5.1->rich[jupyter]>=12.0.0->zenml[server]) (5.7.1)\n",
            "Requirement already satisfied: widgetsnbextension~=3.6.0 in /usr/local/lib/python3.11/dist-packages (from ipywidgets<9,>=7.5.1->rich[jupyter]>=12.0.0->zenml[server]) (3.6.10)\n",
            "Requirement already satisfied: ipython>=4.0.0 in /usr/local/lib/python3.11/dist-packages (from ipywidgets<9,>=7.5.1->rich[jupyter]>=12.0.0->zenml[server]) (7.34.0)\n",
            "Requirement already satisfied: jupyterlab-widgets>=1.0.0 in /usr/local/lib/python3.11/dist-packages (from ipywidgets<9,>=7.5.1->rich[jupyter]>=12.0.0->zenml[server]) (3.0.13)\n",
            "Requirement already satisfied: mdurl~=0.1 in /usr/local/lib/python3.11/dist-packages (from markdown-it-py>=2.2.0->rich>=12.0.0->rich[jupyter]>=12.0.0->zenml[server]) (0.1.2)\n",
            "Requirement already satisfied: charset-normalizer<4,>=2 in /usr/local/lib/python3.11/dist-packages (from requests>=2.26.0->docker<7.2.0,>=7.1.0->zenml[server]) (3.4.1)\n",
            "Requirement already satisfied: certifi>=2017.4.17 in /usr/local/lib/python3.11/dist-packages (from requests>=2.26.0->docker<7.2.0,>=7.1.0->zenml[server]) (2025.1.31)\n",
            "Requirement already satisfied: anyio<5,>=3.6.2 in /usr/local/lib/python3.11/dist-packages (from starlette<0.46.0,>=0.40.0->fastapi<=0.115.8,>=0.100->zenml[server]) (3.7.1)\n",
            "Requirement already satisfied: sniffio>=1.1 in /usr/local/lib/python3.11/dist-packages (from anyio<5,>=3.6.2->starlette<0.46.0,>=0.40.0->fastapi<=0.115.8,>=0.100->zenml[server]) (1.3.1)\n",
            "Requirement already satisfied: pycparser in /usr/local/lib/python3.11/dist-packages (from cffi>=1.12->cryptography>=3.4.0->pyjwt[crypto]==2.7.*; extra == \"server\"->zenml[server]) (2.22)\n",
            "Requirement already satisfied: debugpy>=1.0 in /usr/local/lib/python3.11/dist-packages (from ipykernel>=4.5.1->ipywidgets<9,>=7.5.1->rich[jupyter]>=12.0.0->zenml[server]) (1.8.0)\n",
            "Requirement already satisfied: jupyter-client>=6.1.12 in /usr/local/lib/python3.11/dist-packages (from ipykernel>=4.5.1->ipywidgets<9,>=7.5.1->rich[jupyter]>=12.0.0->zenml[server]) (6.1.12)\n",
            "Requirement already satisfied: matplotlib-inline>=0.1 in /usr/local/lib/python3.11/dist-packages (from ipykernel>=4.5.1->ipywidgets<9,>=7.5.1->rich[jupyter]>=12.0.0->zenml[server]) (0.1.7)\n",
            "Requirement already satisfied: nest-asyncio in /usr/local/lib/python3.11/dist-packages (from ipykernel>=4.5.1->ipywidgets<9,>=7.5.1->rich[jupyter]>=12.0.0->zenml[server]) (1.6.0)\n",
            "Requirement already satisfied: pyzmq>=17 in /usr/local/lib/python3.11/dist-packages (from ipykernel>=4.5.1->ipywidgets<9,>=7.5.1->rich[jupyter]>=12.0.0->zenml[server]) (24.0.1)\n",
            "Requirement already satisfied: tornado>=6.1 in /usr/local/lib/python3.11/dist-packages (from ipykernel>=4.5.1->ipywidgets<9,>=7.5.1->rich[jupyter]>=12.0.0->zenml[server]) (6.4.2)\n",
            "Requirement already satisfied: jedi>=0.16 in /usr/local/lib/python3.11/dist-packages (from ipython>=4.0.0->ipywidgets<9,>=7.5.1->rich[jupyter]>=12.0.0->zenml[server]) (0.19.2)\n",
            "Requirement already satisfied: decorator in /usr/local/lib/python3.11/dist-packages (from ipython>=4.0.0->ipywidgets<9,>=7.5.1->rich[jupyter]>=12.0.0->zenml[server]) (4.4.2)\n",
            "Requirement already satisfied: pickleshare in /usr/local/lib/python3.11/dist-packages (from ipython>=4.0.0->ipywidgets<9,>=7.5.1->rich[jupyter]>=12.0.0->zenml[server]) (0.7.5)\n",
            "Requirement already satisfied: prompt-toolkit!=3.0.0,!=3.0.1,<3.1.0,>=2.0.0 in /usr/local/lib/python3.11/dist-packages (from ipython>=4.0.0->ipywidgets<9,>=7.5.1->rich[jupyter]>=12.0.0->zenml[server]) (3.0.50)\n",
            "Requirement already satisfied: backcall in /usr/local/lib/python3.11/dist-packages (from ipython>=4.0.0->ipywidgets<9,>=7.5.1->rich[jupyter]>=12.0.0->zenml[server]) (0.2.0)\n",
            "Requirement already satisfied: pexpect>4.3 in /usr/local/lib/python3.11/dist-packages (from ipython>=4.0.0->ipywidgets<9,>=7.5.1->rich[jupyter]>=12.0.0->zenml[server]) (4.9.0)\n",
            "Requirement already satisfied: notebook>=4.4.1 in /usr/local/lib/python3.11/dist-packages (from widgetsnbextension~=3.6.0->ipywidgets<9,>=7.5.1->rich[jupyter]>=12.0.0->zenml[server]) (6.5.5)\n",
            "Requirement already satisfied: parso<0.9.0,>=0.8.4 in /usr/local/lib/python3.11/dist-packages (from jedi>=0.16->ipython>=4.0.0->ipywidgets<9,>=7.5.1->rich[jupyter]>=12.0.0->zenml[server]) (0.8.4)\n",
            "Requirement already satisfied: jupyter-core>=4.6.0 in /usr/local/lib/python3.11/dist-packages (from jupyter-client>=6.1.12->ipykernel>=4.5.1->ipywidgets<9,>=7.5.1->rich[jupyter]>=12.0.0->zenml[server]) (5.7.2)\n",
            "Requirement already satisfied: argon2-cffi in /usr/local/lib/python3.11/dist-packages (from notebook>=4.4.1->widgetsnbextension~=3.6.0->ipywidgets<9,>=7.5.1->rich[jupyter]>=12.0.0->zenml[server]) (23.1.0)\n",
            "Requirement already satisfied: nbformat in /usr/local/lib/python3.11/dist-packages (from notebook>=4.4.1->widgetsnbextension~=3.6.0->ipywidgets<9,>=7.5.1->rich[jupyter]>=12.0.0->zenml[server]) (5.10.4)\n",
            "Requirement already satisfied: nbconvert>=5 in /usr/local/lib/python3.11/dist-packages (from notebook>=4.4.1->widgetsnbextension~=3.6.0->ipywidgets<9,>=7.5.1->rich[jupyter]>=12.0.0->zenml[server]) (7.16.6)\n",
            "Requirement already satisfied: Send2Trash>=1.8.0 in /usr/local/lib/python3.11/dist-packages (from notebook>=4.4.1->widgetsnbextension~=3.6.0->ipywidgets<9,>=7.5.1->rich[jupyter]>=12.0.0->zenml[server]) (1.8.3)\n",
            "Requirement already satisfied: terminado>=0.8.3 in /usr/local/lib/python3.11/dist-packages (from notebook>=4.4.1->widgetsnbextension~=3.6.0->ipywidgets<9,>=7.5.1->rich[jupyter]>=12.0.0->zenml[server]) (0.18.1)\n",
            "Requirement already satisfied: prometheus-client in /usr/local/lib/python3.11/dist-packages (from notebook>=4.4.1->widgetsnbextension~=3.6.0->ipywidgets<9,>=7.5.1->rich[jupyter]>=12.0.0->zenml[server]) (0.21.1)\n",
            "Requirement already satisfied: nbclassic>=0.4.7 in /usr/local/lib/python3.11/dist-packages (from notebook>=4.4.1->widgetsnbextension~=3.6.0->ipywidgets<9,>=7.5.1->rich[jupyter]>=12.0.0->zenml[server]) (1.2.0)\n",
            "Requirement already satisfied: ptyprocess>=0.5 in /usr/local/lib/python3.11/dist-packages (from pexpect>4.3->ipython>=4.0.0->ipywidgets<9,>=7.5.1->rich[jupyter]>=12.0.0->zenml[server]) (0.7.0)\n",
            "Requirement already satisfied: wcwidth in /usr/local/lib/python3.11/dist-packages (from prompt-toolkit!=3.0.0,!=3.0.1,<3.1.0,>=2.0.0->ipython>=4.0.0->ipywidgets<9,>=7.5.1->rich[jupyter]>=12.0.0->zenml[server]) (0.2.13)\n",
            "Requirement already satisfied: platformdirs>=2.5 in /usr/local/lib/python3.11/dist-packages (from jupyter-core>=4.6.0->jupyter-client>=6.1.12->ipykernel>=4.5.1->ipywidgets<9,>=7.5.1->rich[jupyter]>=12.0.0->zenml[server]) (4.3.6)\n",
            "Requirement already satisfied: notebook-shim>=0.2.3 in /usr/local/lib/python3.11/dist-packages (from nbclassic>=0.4.7->notebook>=4.4.1->widgetsnbextension~=3.6.0->ipywidgets<9,>=7.5.1->rich[jupyter]>=12.0.0->zenml[server]) (0.2.4)\n",
            "Requirement already satisfied: beautifulsoup4 in /usr/local/lib/python3.11/dist-packages (from nbconvert>=5->notebook>=4.4.1->widgetsnbextension~=3.6.0->ipywidgets<9,>=7.5.1->rich[jupyter]>=12.0.0->zenml[server]) (4.13.3)\n",
            "Requirement already satisfied: bleach!=5.0.0 in /usr/local/lib/python3.11/dist-packages (from bleach[css]!=5.0.0->nbconvert>=5->notebook>=4.4.1->widgetsnbextension~=3.6.0->ipywidgets<9,>=7.5.1->rich[jupyter]>=12.0.0->zenml[server]) (6.2.0)\n",
            "Requirement already satisfied: defusedxml in /usr/local/lib/python3.11/dist-packages (from nbconvert>=5->notebook>=4.4.1->widgetsnbextension~=3.6.0->ipywidgets<9,>=7.5.1->rich[jupyter]>=12.0.0->zenml[server]) (0.7.1)\n",
            "Requirement already satisfied: jupyterlab-pygments in /usr/local/lib/python3.11/dist-packages (from nbconvert>=5->notebook>=4.4.1->widgetsnbextension~=3.6.0->ipywidgets<9,>=7.5.1->rich[jupyter]>=12.0.0->zenml[server]) (0.3.0)\n",
            "Requirement already satisfied: mistune<4,>=2.0.3 in /usr/local/lib/python3.11/dist-packages (from nbconvert>=5->notebook>=4.4.1->widgetsnbextension~=3.6.0->ipywidgets<9,>=7.5.1->rich[jupyter]>=12.0.0->zenml[server]) (3.1.2)\n",
            "Requirement already satisfied: nbclient>=0.5.0 in /usr/local/lib/python3.11/dist-packages (from nbconvert>=5->notebook>=4.4.1->widgetsnbextension~=3.6.0->ipywidgets<9,>=7.5.1->rich[jupyter]>=12.0.0->zenml[server]) (0.10.2)\n",
            "Requirement already satisfied: pandocfilters>=1.4.1 in /usr/local/lib/python3.11/dist-packages (from nbconvert>=5->notebook>=4.4.1->widgetsnbextension~=3.6.0->ipywidgets<9,>=7.5.1->rich[jupyter]>=12.0.0->zenml[server]) (1.5.1)\n",
            "Requirement already satisfied: fastjsonschema>=2.15 in /usr/local/lib/python3.11/dist-packages (from nbformat->notebook>=4.4.1->widgetsnbextension~=3.6.0->ipywidgets<9,>=7.5.1->rich[jupyter]>=12.0.0->zenml[server]) (2.21.1)\n",
            "Requirement already satisfied: jsonschema>=2.6 in /usr/local/lib/python3.11/dist-packages (from nbformat->notebook>=4.4.1->widgetsnbextension~=3.6.0->ipywidgets<9,>=7.5.1->rich[jupyter]>=12.0.0->zenml[server]) (4.23.0)\n",
            "Requirement already satisfied: argon2-cffi-bindings in /usr/local/lib/python3.11/dist-packages (from argon2-cffi->notebook>=4.4.1->widgetsnbextension~=3.6.0->ipywidgets<9,>=7.5.1->rich[jupyter]>=12.0.0->zenml[server]) (21.2.0)\n",
            "Requirement already satisfied: webencodings in /usr/local/lib/python3.11/dist-packages (from bleach!=5.0.0->bleach[css]!=5.0.0->nbconvert>=5->notebook>=4.4.1->widgetsnbextension~=3.6.0->ipywidgets<9,>=7.5.1->rich[jupyter]>=12.0.0->zenml[server]) (0.5.1)\n",
            "Requirement already satisfied: tinycss2<1.5,>=1.1.0 in /usr/local/lib/python3.11/dist-packages (from bleach[css]!=5.0.0->nbconvert>=5->notebook>=4.4.1->widgetsnbextension~=3.6.0->ipywidgets<9,>=7.5.1->rich[jupyter]>=12.0.0->zenml[server]) (1.4.0)\n",
            "Requirement already satisfied: jsonschema-specifications>=2023.03.6 in /usr/local/lib/python3.11/dist-packages (from jsonschema>=2.6->nbformat->notebook>=4.4.1->widgetsnbextension~=3.6.0->ipywidgets<9,>=7.5.1->rich[jupyter]>=12.0.0->zenml[server]) (2024.10.1)\n",
            "Requirement already satisfied: referencing>=0.28.4 in /usr/local/lib/python3.11/dist-packages (from jsonschema>=2.6->nbformat->notebook>=4.4.1->widgetsnbextension~=3.6.0->ipywidgets<9,>=7.5.1->rich[jupyter]>=12.0.0->zenml[server]) (0.36.2)\n",
            "Requirement already satisfied: rpds-py>=0.7.1 in /usr/local/lib/python3.11/dist-packages (from jsonschema>=2.6->nbformat->notebook>=4.4.1->widgetsnbextension~=3.6.0->ipywidgets<9,>=7.5.1->rich[jupyter]>=12.0.0->zenml[server]) (0.23.1)\n",
            "Requirement already satisfied: jupyter-server<3,>=1.8 in /usr/local/lib/python3.11/dist-packages (from notebook-shim>=0.2.3->nbclassic>=0.4.7->notebook>=4.4.1->widgetsnbextension~=3.6.0->ipywidgets<9,>=7.5.1->rich[jupyter]>=12.0.0->zenml[server]) (1.24.0)\n",
            "Requirement already satisfied: soupsieve>1.2 in /usr/local/lib/python3.11/dist-packages (from beautifulsoup4->nbconvert>=5->notebook>=4.4.1->widgetsnbextension~=3.6.0->ipywidgets<9,>=7.5.1->rich[jupyter]>=12.0.0->zenml[server]) (2.6)\n",
            "Requirement already satisfied: websocket-client in /usr/local/lib/python3.11/dist-packages (from jupyter-server<3,>=1.8->notebook-shim>=0.2.3->nbclassic>=0.4.7->notebook>=4.4.1->widgetsnbextension~=3.6.0->ipywidgets<9,>=7.5.1->rich[jupyter]>=12.0.0->zenml[server]) (1.8.0)\n",
            "\u001b[2K\u001b[32m⠸\u001b[0m Installing integrations...\n",
            "\u001b[1A\u001b[2KRequirement already satisfied: pyparsing in /usr/local/lib/python3.11/dist-packages (3.2.1)\n",
            "Requirement already satisfied: pyngrok in /usr/local/lib/python3.11/dist-packages (7.2.3)\n",
            "Requirement already satisfied: PyYAML>=5.1 in /usr/local/lib/python3.11/dist-packages (from pyngrok) (6.0.2)\n",
            "Authtoken saved to configuration file: /root/.config/ngrok/ngrok.yml\n",
            "\u001b[?25l\u001b[2;36mFound existing ZenML repository at path \u001b[0m\u001b[2;32m'/content'\u001b[0m\u001b[2;36m.\u001b[0m\n",
            "\u001b[2;32m⠋\u001b[0m\u001b[2;36m Initializing ZenML repository at /content.\u001b[0m\n",
            "\u001b[2K\u001b[1A\u001b[2K\u001b[32m⠋\u001b[0m Initializing ZenML repository at /content.\n",
            "\n",
            "\u001b[1A\u001b[2K\u001b[1A\u001b[2KAccuracy: 0.9583333333333334\n",
            "\u001b[1;35mInitiating a new run for the pipeline: \u001b[0m\u001b[1;36mdigits_pipeline\u001b[1;35m.\u001b[0m\n",
            "\u001b[1;35mUsing user: \u001b[0m\u001b[1;36mdefault\u001b[1;35m\u001b[0m\n",
            "\u001b[1;35mUsing stack: \u001b[0m\u001b[1;36mdefault\u001b[1;35m\u001b[0m\n",
            "\u001b[1;35m  orchestrator: \u001b[0m\u001b[1;36mdefault\u001b[1;35m\u001b[0m\n",
            "\u001b[1;35m  artifact_store: \u001b[0m\u001b[1;36mdefault\u001b[1;35m\u001b[0m\n",
            "\u001b[1;35mYou can visualize your pipeline runs in the \u001b[0m\u001b[1;36mZenML Dashboard\u001b[1;35m. In order to try it locally, please run \u001b[0m\u001b[1;36mzenml login --local\u001b[1;35m.\u001b[0m\n",
            "\u001b[1;35mStep \u001b[0m\u001b[1;36mimporter\u001b[1;35m has started.\u001b[0m\n",
            "\u001b[1;35mStep \u001b[0m\u001b[1;36mimporter\u001b[1;35m has finished in \u001b[0m\u001b[1;36m4.942s\u001b[1;35m.\u001b[0m\n",
            "\u001b[1;35mStep \u001b[0m\u001b[1;36msvc_trainer\u001b[1;35m has started.\u001b[0m\n",
            "\u001b[1;35mStep \u001b[0m\u001b[1;36msvc_trainer\u001b[1;35m has finished in \u001b[0m\u001b[1;36m1.767s\u001b[1;35m.\u001b[0m\n",
            "\u001b[1;35mStep \u001b[0m\u001b[1;36mevaluator\u001b[1;35m has started.\u001b[0m\n",
            "Accuracy: 0.9583333333333334\n",
            "\u001b[1;35mStep \u001b[0m\u001b[1;36mevaluator\u001b[1;35m has finished in \u001b[0m\u001b[1;36m0.387s\u001b[1;35m.\u001b[0m\n",
            "\u001b[1;35mPipeline run has finished in \u001b[0m\u001b[1;36m7.365s\u001b[1;35m.\u001b[0m\n",
            "Requirement already satisfied: pyngrok in /usr/local/lib/python3.11/dist-packages (7.2.3)\n",
            "Requirement already satisfied: PyYAML>=5.1 in /usr/local/lib/python3.11/dist-packages (from pyngrok) (6.0.2)\n",
            "Requirement already satisfied: pyngrok in /usr/local/lib/python3.11/dist-packages (7.2.3)\n",
            "Requirement already satisfied: PyYAML>=5.1 in /usr/local/lib/python3.11/dist-packages (from pyngrok) (6.0.2)\n"
          ]
        },
        {
          "metadata": {
            "tags": null
          },
          "name": "stderr",
          "output_type": "stream",
          "text": [
            "INFO:pyngrok.ngrok:Opening tunnel named: http-8237-915f4e54-4b3b-4a9a-b2c4-0806b0af4971\n"
          ]
        },
        {
          "metadata": {
            "tags": null
          },
          "name": "stdout",
          "output_type": "stream",
          "text": [
            "\u001b[1;35mOpening tunnel named: http-8237-915f4e54-4b3b-4a9a-b2c4-0806b0af4971\u001b[0m\n"
          ]
        },
        {
          "metadata": {
            "tags": null
          },
          "name": "stderr",
          "output_type": "stream",
          "text": [
            "INFO:pyngrok.process.ngrok:t=2025-03-09T05:48:50+0000 lvl=info msg=\"no configuration paths supplied\"\n"
          ]
        },
        {
          "metadata": {
            "tags": null
          },
          "name": "stdout",
          "output_type": "stream",
          "text": [
            "\u001b[1;35mt=2025-03-09T05:48:50+0000 lvl=info msg=\"no configuration paths supplied\"\u001b[0m\n"
          ]
        },
        {
          "metadata": {
            "tags": null
          },
          "name": "stderr",
          "output_type": "stream",
          "text": [
            "INFO:pyngrok.process.ngrok:t=2025-03-09T05:48:50+0000 lvl=info msg=\"using configuration at default config path\" path=/root/.config/ngrok/ngrok.yml\n"
          ]
        },
        {
          "metadata": {
            "tags": null
          },
          "name": "stdout",
          "output_type": "stream",
          "text": [
            "\u001b[1;35mt=2025-03-09T05:48:50+0000 lvl=info msg=\"using configuration at default config path\" path=/root/.config/ngrok/ngrok.yml\u001b[0m\n"
          ]
        },
        {
          "metadata": {
            "tags": null
          },
          "name": "stderr",
          "output_type": "stream",
          "text": [
            "INFO:pyngrok.process.ngrok:t=2025-03-09T05:48:50+0000 lvl=info msg=\"open config file\" path=/root/.config/ngrok/ngrok.yml err=nil\n"
          ]
        },
        {
          "metadata": {
            "tags": null
          },
          "name": "stdout",
          "output_type": "stream",
          "text": [
            "\u001b[1;35mt=2025-03-09T05:48:50+0000 lvl=info msg=\"open config file\" path=/root/.config/ngrok/ngrok.yml err=nil\u001b[0m\n"
          ]
        },
        {
          "metadata": {
            "tags": null
          },
          "name": "stderr",
          "output_type": "stream",
          "text": [
            "INFO:pyngrok.process.ngrok:t=2025-03-09T05:48:50+0000 lvl=info msg=\"starting web service\" obj=web addr=127.0.0.1:4040 allow_hosts=[]\n"
          ]
        },
        {
          "metadata": {
            "tags": null
          },
          "name": "stdout",
          "output_type": "stream",
          "text": [
            "\u001b[1;35mt=2025-03-09T05:48:50+0000 lvl=info msg=\"starting web service\" obj=web addr=127.0.0.1:4040 allow_hosts=[]\u001b[0m\n"
          ]
        },
        {
          "metadata": {
            "tags": null
          },
          "name": "stderr",
          "output_type": "stream",
          "text": [
            "INFO:pyngrok.process.ngrok:t=2025-03-09T05:48:50+0000 lvl=info msg=\"client session established\" obj=tunnels.session\n"
          ]
        },
        {
          "metadata": {
            "tags": null
          },
          "name": "stdout",
          "output_type": "stream",
          "text": [
            "\u001b[1;35mt=2025-03-09T05:48:50+0000 lvl=info msg=\"client session established\" obj=tunnels.session\u001b[0m\n"
          ]
        },
        {
          "metadata": {
            "tags": null
          },
          "name": "stderr",
          "output_type": "stream",
          "text": [
            "INFO:pyngrok.process.ngrok:t=2025-03-09T05:48:50+0000 lvl=info msg=\"tunnel session started\" obj=tunnels.session\n"
          ]
        },
        {
          "metadata": {
            "tags": null
          },
          "name": "stdout",
          "output_type": "stream",
          "text": [
            "\u001b[1;35mt=2025-03-09T05:48:50+0000 lvl=info msg=\"tunnel session started\" obj=tunnels.session\u001b[0m\n"
          ]
        },
        {
          "metadata": {
            "tags": null
          },
          "name": "stderr",
          "output_type": "stream",
          "text": [
            "INFO:pyngrok.process.ngrok:t=2025-03-09T05:48:50+0000 lvl=info msg=start pg=/api/tunnels id=2618a71b701329b2\n"
          ]
        },
        {
          "metadata": {
            "tags": null
          },
          "name": "stdout",
          "output_type": "stream",
          "text": [
            "\u001b[1;35mt=2025-03-09T05:48:50+0000 lvl=info msg=start pg=/api/tunnels id=2618a71b701329b2\u001b[0m\n"
          ]
        },
        {
          "metadata": {
            "tags": null
          },
          "name": "stderr",
          "output_type": "stream",
          "text": [
            "INFO:pyngrok.process.ngrok:t=2025-03-09T05:48:50+0000 lvl=info msg=end pg=/api/tunnels id=2618a71b701329b2 status=200 dur=360.079µs\n"
          ]
        },
        {
          "metadata": {
            "tags": null
          },
          "name": "stdout",
          "output_type": "stream",
          "text": [
            "\u001b[1;35mt=2025-03-09T05:48:50+0000 lvl=info msg=end pg=/api/tunnels id=2618a71b701329b2 status=200 dur=360.079µs\u001b[0m\n"
          ]
        },
        {
          "metadata": {
            "tags": null
          },
          "name": "stderr",
          "output_type": "stream",
          "text": [
            "INFO:pyngrok.process.ngrok:t=2025-03-09T05:48:50+0000 lvl=info msg=start pg=/api/tunnels id=8891844580eca75a\n"
          ]
        },
        {
          "metadata": {
            "tags": null
          },
          "name": "stdout",
          "output_type": "stream",
          "text": [
            "\u001b[1;35mt=2025-03-09T05:48:50+0000 lvl=info msg=start pg=/api/tunnels id=8891844580eca75a\u001b[0m\n"
          ]
        },
        {
          "metadata": {
            "tags": null
          },
          "name": "stderr",
          "output_type": "stream",
          "text": [
            "INFO:pyngrok.process.ngrok:t=2025-03-09T05:48:50+0000 lvl=info msg=end pg=/api/tunnels id=8891844580eca75a status=200 dur=163.119µs\n"
          ]
        },
        {
          "metadata": {
            "tags": null
          },
          "name": "stdout",
          "output_type": "stream",
          "text": [
            "\u001b[1;35mt=2025-03-09T05:48:50+0000 lvl=info msg=end pg=/api/tunnels id=8891844580eca75a status=200 dur=163.119µs\u001b[0m\n"
          ]
        },
        {
          "metadata": {
            "tags": null
          },
          "name": "stderr",
          "output_type": "stream",
          "text": [
            "INFO:pyngrok.process.ngrok:t=2025-03-09T05:48:50+0000 lvl=info msg=start pg=/api/tunnels id=87c7bb9d6a159bbb\n"
          ]
        },
        {
          "metadata": {
            "tags": null
          },
          "name": "stdout",
          "output_type": "stream",
          "text": [
            "\u001b[1;35mt=2025-03-09T05:48:50+0000 lvl=info msg=start pg=/api/tunnels id=87c7bb9d6a159bbb\u001b[0m\n"
          ]
        },
        {
          "metadata": {
            "tags": null
          },
          "name": "stderr",
          "output_type": "stream",
          "text": [
            "INFO:pyngrok.process.ngrok:t=2025-03-09T05:48:50+0000 lvl=info msg=\"started tunnel\" obj=tunnels name=http-8237-915f4e54-4b3b-4a9a-b2c4-0806b0af4971 addr=http://localhost:8237 url=https://c8eb-34-148-30-70.ngrok-free.app\n"
          ]
        },
        {
          "metadata": {
            "tags": null
          },
          "name": "stdout",
          "output_type": "stream",
          "text": [
            "\u001b[31mIn Colab, use this url instead: NgrokTunnel: \"https://c8eb-34-148-30-70.ngrok-free.app\" -> \"http://localhost:8237\"!\u001b[0m\n",
            "\u001b[1;35mt=2025-03-09T05:48:50+0000 lvl=info msg=\"started tunnel\" obj=tunnels name=http-8237-915f4e54-4b3b-4a9a-b2c4-0806b0af4971 addr=\u001b[0m\u001b[34mhttp://localhost:8237\u001b[1;35m url=\u001b[0m\u001b[34mhttps://c8eb-34-148-30-70.ngrok-free.app\u001b[1;35m\u001b[0m\n"
          ]
        },
        {
          "metadata": {
            "tags": null
          },
          "name": "stderr",
          "output_type": "stream",
          "text": [
            "INFO:pyngrok.process.ngrok:t=2025-03-09T05:48:50+0000 lvl=info msg=end pg=/api/tunnels id=87c7bb9d6a159bbb status=201 dur=44.319636ms\n"
          ]
        },
        {
          "metadata": {
            "tags": null
          },
          "name": "stdout",
          "output_type": "stream",
          "text": [
            "\u001b[1;35mt=2025-03-09T05:48:50+0000 lvl=info msg=end pg=/api/tunnels id=87c7bb9d6a159bbb status=201 dur=44.319636ms\u001b[0m\n",
            "\u001b[33mThe `zenml up` command is deprecated and will be removed in a future release. Please use the `zenml \u001b[0m\n",
            "\u001b[33mlogin --local` command instead.\u001b[0m\n",
            "\u001b[2;36mCalling `zenml login --local`\u001b[0m\u001b[2;33m...\u001b[0m\n",
            "\u001b[2;36mThe local ZenML dashboard is about to deploy in a blocking process.\u001b[0m\n",
            "\u001b[1;35mDeploying a local daemon ZenML server.\u001b[0m\n",
            "\u001b[1;35mNot writing the global configuration to disk in a ZenML server environment.\u001b[0m\n",
            "\u001b[1;35mInitializing the ZenML global configuration version to 0.75.0\u001b[0m\n",
            "\u001b[1;35mNot writing the global configuration to disk in a ZenML server environment.\u001b[0m\n",
            "\u001b[1;35mStarting ZenML Server as blocking process... press CTRL+C once to stop it.\u001b[0m\n",
            "\u001b[32mINFO\u001b[0m:     Started server process [\u001b[36m6329\u001b[0m]\n",
            "\u001b[32mINFO\u001b[0m:     Waiting for application startup.\n",
            "\u001b[1;35mNot writing the global configuration to disk in a ZenML server environment.\u001b[0m\n",
            "\u001b[1;35mNot writing the global configuration to disk in a ZenML server environment.\u001b[0m\n",
            "\u001b[32mINFO\u001b[0m:     Application startup complete.\n",
            "\u001b[32mINFO\u001b[0m:     Uvicorn running on \u001b[1mhttp://127.0.0.1:8237\u001b[0m (Press CTRL+C to quit)\n"
          ]
        },
        {
          "metadata": {
            "tags": null
          },
          "name": "stderr",
          "output_type": "stream",
          "text": [
            "INFO:pyngrok.process.ngrok:t=2025-03-09T05:49:50+0000 lvl=info msg=\"join connections\" obj=join id=b51e65f0410a l=127.0.0.1:8237 r=[2401:4900:5f2d:237a:dcbe:c284:2908:aad5]:57127\n"
          ]
        },
        {
          "metadata": {
            "tags": null
          },
          "name": "stdout",
          "output_type": "stream",
          "text": [
            "\u001b[1;35mt=2025-03-09T05:49:50+0000 lvl=info msg=\"join connections\" obj=join id=b51e65f0410a l=127.0.0.1:8237 r=[2401:4900:5f2d:237a:dcbe:c284:2908:aad5]:57127\u001b[0m\n",
            "\u001b[32mINFO\u001b[0m:     2401:4900:5f2d:237a:dcbe:c284:2908:aad5:0 - \"\u001b[1mGET / HTTP/1.1\u001b[0m\" \u001b[32m200 OK\u001b[0m\n"
          ]
        },
        {
          "metadata": {
            "tags": null
          },
          "name": "stderr",
          "output_type": "stream",
          "text": [
            "INFO:pyngrok.process.ngrok:t=2025-03-09T05:49:50+0000 lvl=info msg=\"join connections\" obj=join id=5d02b26d0805 l=127.0.0.1:8237 r=[2401:4900:5f2d:237a:dcbe:c284:2908:aad5]:57127\n"
          ]
        },
        {
          "metadata": {
            "tags": null
          },
          "name": "stdout",
          "output_type": "stream",
          "text": [
            "\u001b[32mINFO\u001b[0m:     2401:4900:5f2d:237a:dcbe:c284:2908:aad5:0 - \"\u001b[1mGET /assets/index-DWoLoYDY.js HTTP/1.1\u001b[0m\" \u001b[32m200 OK\u001b[0m\n",
            "\u001b[1;35mt=2025-03-09T05:49:50+0000 lvl=info msg=\"join connections\" obj=join id=5d02b26d0805 l=127.0.0.1:8237 r=[2401:4900:5f2d:237a:dcbe:c284:2908:aad5]:57127\u001b[0m\n"
          ]
        },
        {
          "metadata": {
            "tags": null
          },
          "name": "stderr",
          "output_type": "stream",
          "text": [
            "INFO:pyngrok.process.ngrok:t=2025-03-09T05:49:50+0000 lvl=info msg=\"join connections\" obj=join id=1fcf6022e935 l=127.0.0.1:8237 r=[2401:4900:5f2d:237a:dcbe:c284:2908:aad5]:57127\n"
          ]
        },
        {
          "metadata": {
            "tags": null
          },
          "name": "stdout",
          "output_type": "stream",
          "text": [
            "\u001b[1;35mt=2025-03-09T05:49:50+0000 lvl=info msg=\"join connections\" obj=join id=1fcf6022e935 l=127.0.0.1:8237 r=[2401:4900:5f2d:237a:dcbe:c284:2908:aad5]:57127\u001b[0m\n"
          ]
        },
        {
          "metadata": {
            "tags": null
          },
          "name": "stderr",
          "output_type": "stream",
          "text": [
            "INFO:pyngrok.process.ngrok:t=2025-03-09T05:49:50+0000 lvl=info msg=\"join connections\" obj=join id=d48e49fa971d l=127.0.0.1:8237 r=[2401:4900:5f2d:237a:dcbe:c284:2908:aad5]:57127\n"
          ]
        },
        {
          "metadata": {
            "tags": null
          },
          "name": "stdout",
          "output_type": "stream",
          "text": [
            "\u001b[1;35mt=2025-03-09T05:49:50+0000 lvl=info msg=\"join connections\" obj=join id=d48e49fa971d l=127.0.0.1:8237 r=[2401:4900:5f2d:237a:dcbe:c284:2908:aad5]:57127\u001b[0m\n",
            "\u001b[32mINFO\u001b[0m:     2401:4900:5f2d:237a:dcbe:c284:2908:aad5:0 - \"\u001b[1mGET /assets/%40radix-AvWw-1nd.js HTTP/1.1\u001b[0m\" \u001b[32m200 OK\u001b[0m\n",
            "\u001b[32mINFO\u001b[0m:     2401:4900:5f2d:237a:dcbe:c284:2908:aad5:0 - \"\u001b[1mGET /assets/%40react-router-BUo5vhN4.js HTTP/1.1\u001b[0m\" \u001b[32m200 OK\u001b[0m\n",
            "\u001b[32mINFO\u001b[0m:     2401:4900:5f2d:237a:dcbe:c284:2908:aad5:0 - \"\u001b[1mGET /assets/%40tanstack-CcI3lvwB.js HTTP/1.1\u001b[0m\" \u001b[32m200 OK\u001b[0m\n"
          ]
        },
        {
          "metadata": {
            "tags": null
          },
          "name": "stderr",
          "output_type": "stream",
          "text": [
            "INFO:pyngrok.process.ngrok:t=2025-03-09T05:49:50+0000 lvl=info msg=\"join connections\" obj=join id=abd93cd0267c l=127.0.0.1:8237 r=[2401:4900:5f2d:237a:dcbe:c284:2908:aad5]:57127\n"
          ]
        },
        {
          "metadata": {
            "tags": null
          },
          "name": "stdout",
          "output_type": "stream",
          "text": [
            "\u001b[1;35mt=2025-03-09T05:49:50+0000 lvl=info msg=\"join connections\" obj=join id=abd93cd0267c l=127.0.0.1:8237 r=[2401:4900:5f2d:237a:dcbe:c284:2908:aad5]:57127\u001b[0m\n"
          ]
        },
        {
          "metadata": {
            "tags": null
          },
          "name": "stderr",
          "output_type": "stream",
          "text": [
            "INFO:pyngrok.process.ngrok:t=2025-03-09T05:49:50+0000 lvl=info msg=\"join connections\" obj=join id=46a987c392c6 l=127.0.0.1:8237 r=[2401:4900:5f2d:237a:dcbe:c284:2908:aad5]:57127\n"
          ]
        },
        {
          "metadata": {
            "tags": null
          },
          "name": "stdout",
          "output_type": "stream",
          "text": [
            "\u001b[1;35mt=2025-03-09T05:49:50+0000 lvl=info msg=\"join connections\" obj=join id=46a987c392c6 l=127.0.0.1:8237 r=[2401:4900:5f2d:237a:dcbe:c284:2908:aad5]:57127\u001b[0m\n"
          ]
        },
        {
          "metadata": {
            "tags": null
          },
          "name": "stderr",
          "output_type": "stream",
          "text": [
            "INFO:pyngrok.process.ngrok:t=2025-03-09T05:49:50+0000 lvl=info msg=\"join connections\" obj=join id=e43e53f1e452 l=127.0.0.1:8237 r=[2401:4900:5f2d:237a:dcbe:c284:2908:aad5]:57127\n"
          ]
        },
        {
          "metadata": {
            "tags": null
          },
          "name": "stdout",
          "output_type": "stream",
          "text": [
            "\u001b[1;35mt=2025-03-09T05:49:50+0000 lvl=info msg=\"join connections\" obj=join id=e43e53f1e452 l=127.0.0.1:8237 r=[2401:4900:5f2d:237a:dcbe:c284:2908:aad5]:57127\u001b[0m\n"
          ]
        },
        {
          "metadata": {
            "tags": null
          },
          "name": "stderr",
          "output_type": "stream",
          "text": [
            "INFO:pyngrok.process.ngrok:t=2025-03-09T05:49:50+0000 lvl=info msg=\"join connections\" obj=join id=576a3b833a80 l=127.0.0.1:8237 r=[2401:4900:5f2d:237a:dcbe:c284:2908:aad5]:57127\n"
          ]
        },
        {
          "metadata": {
            "tags": null
          },
          "name": "stdout",
          "output_type": "stream",
          "text": [
            "\u001b[1;35mt=2025-03-09T05:49:50+0000 lvl=info msg=\"join connections\" obj=join id=576a3b833a80 l=127.0.0.1:8237 r=[2401:4900:5f2d:237a:dcbe:c284:2908:aad5]:57127\u001b[0m\n"
          ]
        },
        {
          "metadata": {
            "tags": null
          },
          "name": "stderr",
          "output_type": "stream",
          "text": [
            "INFO:pyngrok.process.ngrok:t=2025-03-09T05:49:50+0000 lvl=info msg=\"join connections\" obj=join id=8a86547d2467 l=127.0.0.1:8237 r=[2401:4900:5f2d:237a:dcbe:c284:2908:aad5]:57127\n"
          ]
        },
        {
          "metadata": {
            "tags": null
          },
          "name": "stdout",
          "output_type": "stream",
          "text": [
            "\u001b[1;35mt=2025-03-09T05:49:50+0000 lvl=info msg=\"join connections\" obj=join id=8a86547d2467 l=127.0.0.1:8237 r=[2401:4900:5f2d:237a:dcbe:c284:2908:aad5]:57127\u001b[0m\n"
          ]
        },
        {
          "metadata": {
            "tags": null
          },
          "name": "stderr",
          "output_type": "stream",
          "text": [
            "INFO:pyngrok.process.ngrok:t=2025-03-09T05:49:50+0000 lvl=info msg=\"join connections\" obj=join id=73c230b6357a l=127.0.0.1:8237 r=[2401:4900:5f2d:237a:dcbe:c284:2908:aad5]:57127\n"
          ]
        },
        {
          "metadata": {
            "tags": null
          },
          "name": "stdout",
          "output_type": "stream",
          "text": [
            "\u001b[1;35mt=2025-03-09T05:49:50+0000 lvl=info msg=\"join connections\" obj=join id=73c230b6357a l=127.0.0.1:8237 r=[2401:4900:5f2d:237a:dcbe:c284:2908:aad5]:57127\u001b[0m\n"
          ]
        },
        {
          "metadata": {
            "tags": null
          },
          "name": "stderr",
          "output_type": "stream",
          "text": [
            "INFO:pyngrok.process.ngrok:t=2025-03-09T05:49:50+0000 lvl=info msg=\"join connections\" obj=join id=06b5875725dd l=127.0.0.1:8237 r=[2401:4900:5f2d:237a:dcbe:c284:2908:aad5]:57127\n"
          ]
        },
        {
          "metadata": {
            "tags": null
          },
          "name": "stdout",
          "output_type": "stream",
          "text": [
            "\u001b[1;35mt=2025-03-09T05:49:50+0000 lvl=info msg=\"join connections\" obj=join id=06b5875725dd l=127.0.0.1:8237 r=[2401:4900:5f2d:237a:dcbe:c284:2908:aad5]:57127\u001b[0m\n"
          ]
        },
        {
          "metadata": {
            "tags": null
          },
          "name": "stderr",
          "output_type": "stream",
          "text": [
            "INFO:pyngrok.process.ngrok:t=2025-03-09T05:49:50+0000 lvl=info msg=\"join connections\" obj=join id=b7b28a69fe47 l=127.0.0.1:8237 r=[2401:4900:5f2d:237a:dcbe:c284:2908:aad5]:57127\n"
          ]
        },
        {
          "metadata": {
            "tags": null
          },
          "name": "stdout",
          "output_type": "stream",
          "text": [
            "\u001b[1;35mt=2025-03-09T05:49:50+0000 lvl=info msg=\"join connections\" obj=join id=b7b28a69fe47 l=127.0.0.1:8237 r=[2401:4900:5f2d:237a:dcbe:c284:2908:aad5]:57127\u001b[0m\n"
          ]
        },
        {
          "metadata": {
            "tags": null
          },
          "name": "stderr",
          "output_type": "stream",
          "text": [
            "INFO:pyngrok.process.ngrok:t=2025-03-09T05:49:50+0000 lvl=info msg=\"join connections\" obj=join id=6a81e1477d80 l=127.0.0.1:8237 r=[2401:4900:5f2d:237a:dcbe:c284:2908:aad5]:57127\n"
          ]
        },
        {
          "metadata": {
            "tags": null
          },
          "name": "stdout",
          "output_type": "stream",
          "text": [
            "\u001b[1;35mt=2025-03-09T05:49:50+0000 lvl=info msg=\"join connections\" obj=join id=6a81e1477d80 l=127.0.0.1:8237 r=[2401:4900:5f2d:237a:dcbe:c284:2908:aad5]:57127\u001b[0m\n"
          ]
        },
        {
          "metadata": {
            "tags": null
          },
          "name": "stderr",
          "output_type": "stream",
          "text": [
            "INFO:pyngrok.process.ngrok:t=2025-03-09T05:49:50+0000 lvl=info msg=\"join connections\" obj=join id=f6d213a0b168 l=127.0.0.1:8237 r=[2401:4900:5f2d:237a:dcbe:c284:2908:aad5]:57127\n"
          ]
        },
        {
          "metadata": {
            "tags": null
          },
          "name": "stdout",
          "output_type": "stream",
          "text": [
            "\u001b[1;35mt=2025-03-09T05:49:50+0000 lvl=info msg=\"join connections\" obj=join id=f6d213a0b168 l=127.0.0.1:8237 r=[2401:4900:5f2d:237a:dcbe:c284:2908:aad5]:57127\u001b[0m\n"
          ]
        },
        {
          "metadata": {
            "tags": null
          },
          "name": "stderr",
          "output_type": "stream",
          "text": [
            "INFO:pyngrok.process.ngrok:t=2025-03-09T05:49:50+0000 lvl=info msg=\"join connections\" obj=join id=4d424c0507a1 l=127.0.0.1:8237 r=[2401:4900:5f2d:237a:dcbe:c284:2908:aad5]:57127\n"
          ]
        },
        {
          "metadata": {
            "tags": null
          },
          "name": "stdout",
          "output_type": "stream",
          "text": [
            "\u001b[1;35mt=2025-03-09T05:49:50+0000 lvl=info msg=\"join connections\" obj=join id=4d424c0507a1 l=127.0.0.1:8237 r=[2401:4900:5f2d:237a:dcbe:c284:2908:aad5]:57127\u001b[0m\n"
          ]
        },
        {
          "metadata": {
            "tags": null
          },
          "name": "stderr",
          "output_type": "stream",
          "text": [
            "INFO:pyngrok.process.ngrok:t=2025-03-09T05:49:50+0000 lvl=info msg=\"join connections\" obj=join id=5333c6a9eaa7 l=127.0.0.1:8237 r=[2401:4900:5f2d:237a:dcbe:c284:2908:aad5]:57127\n"
          ]
        },
        {
          "metadata": {
            "tags": null
          },
          "name": "stdout",
          "output_type": "stream",
          "text": [
            "\u001b[1;35mt=2025-03-09T05:49:50+0000 lvl=info msg=\"join connections\" obj=join id=5333c6a9eaa7 l=127.0.0.1:8237 r=[2401:4900:5f2d:237a:dcbe:c284:2908:aad5]:57127\u001b[0m\n"
          ]
        },
        {
          "metadata": {
            "tags": null
          },
          "name": "stderr",
          "output_type": "stream",
          "text": [
            "INFO:pyngrok.process.ngrok:t=2025-03-09T05:49:50+0000 lvl=info msg=\"join connections\" obj=join id=985dbccb0abf l=127.0.0.1:8237 r=[2401:4900:5f2d:237a:dcbe:c284:2908:aad5]:57127\n"
          ]
        },
        {
          "metadata": {
            "tags": null
          },
          "name": "stdout",
          "output_type": "stream",
          "text": [
            "\u001b[32mINFO\u001b[0m:     2401:4900:5f2d:237a:dcbe:c284:2908:aad5:0 - \"\u001b[1mGET /assets/%40reactflow-Fd0xVSp_.css HTTP/1.1\u001b[0m\" \u001b[32m200 OK\u001b[0m\n",
            "\u001b[32mINFO\u001b[0m:     2401:4900:5f2d:237a:dcbe:c284:2908:aad5:0 - \"\u001b[1mGET /assets/index-BCKg1Y5r.css HTTP/1.1\u001b[0m\" \u001b[32m200 OK\u001b[0m\n",
            "\u001b[32mINFO\u001b[0m:     2401:4900:5f2d:237a:dcbe:c284:2908:aad5:0 - \"\u001b[1mGET /assets/%40reactflow-DMaYqp8l.js HTTP/1.1\u001b[0m\" \u001b[32m200 OK\u001b[0m\n",
            "\u001b[32mINFO\u001b[0m:     2401:4900:5f2d:237a:dcbe:c284:2908:aad5:0 - \"\u001b[1mGET /assets/inter-cyrillic-ext-400-normal-Dc4VJyIJ.woff2 HTTP/1.1\u001b[0m\" \u001b[32m200 OK\u001b[0m\n",
            "\u001b[32mINFO\u001b[0m:     2401:4900:5f2d:237a:dcbe:c284:2908:aad5:0 - \"\u001b[1mGET /assets/inter-cyrillic-ext-500-normal-BShVwWPj.woff2 HTTP/1.1\u001b[0m\" \u001b[32m200 OK\u001b[0m\n",
            "\u001b[1;35mt=2025-03-09T05:49:50+0000 lvl=info msg=\"join connections\" obj=join id=985dbccb0abf l=127.0.0.1:8237 r=[2401:4900:5f2d:237a:dcbe:c284:2908:aad5]:57127\u001b[0m\n"
          ]
        },
        {
          "metadata": {
            "tags": null
          },
          "name": "stderr",
          "output_type": "stream",
          "text": [
            "INFO:pyngrok.process.ngrok:t=2025-03-09T05:49:50+0000 lvl=info msg=\"join connections\" obj=join id=ab380eea0aa2 l=127.0.0.1:8237 r=[2401:4900:5f2d:237a:dcbe:c284:2908:aad5]:57127\n"
          ]
        },
        {
          "metadata": {
            "tags": null
          },
          "name": "stdout",
          "output_type": "stream",
          "text": [
            "\u001b[1;35mt=2025-03-09T05:49:50+0000 lvl=info msg=\"join connections\" obj=join id=ab380eea0aa2 l=127.0.0.1:8237 r=[2401:4900:5f2d:237a:dcbe:c284:2908:aad5]:57127\u001b[0m\n"
          ]
        },
        {
          "metadata": {
            "tags": null
          },
          "name": "stderr",
          "output_type": "stream",
          "text": [
            "INFO:pyngrok.process.ngrok:t=2025-03-09T05:49:50+0000 lvl=info msg=\"join connections\" obj=join id=9374e6990750 l=127.0.0.1:8237 r=[2401:4900:5f2d:237a:dcbe:c284:2908:aad5]:57127\n"
          ]
        },
        {
          "metadata": {
            "tags": null
          },
          "name": "stdout",
          "output_type": "stream",
          "text": [
            "\u001b[1;35mt=2025-03-09T05:49:50+0000 lvl=info msg=\"join connections\" obj=join id=9374e6990750 l=127.0.0.1:8237 r=[2401:4900:5f2d:237a:dcbe:c284:2908:aad5]:57127\u001b[0m\n"
          ]
        },
        {
          "metadata": {
            "tags": null
          },
          "name": "stderr",
          "output_type": "stream",
          "text": [
            "INFO:pyngrok.process.ngrok:t=2025-03-09T05:49:50+0000 lvl=info msg=\"join connections\" obj=join id=91601b061294 l=127.0.0.1:8237 r=[2401:4900:5f2d:237a:dcbe:c284:2908:aad5]:57127\n"
          ]
        },
        {
          "metadata": {
            "tags": null
          },
          "name": "stdout",
          "output_type": "stream",
          "text": [
            "\u001b[1;35mt=2025-03-09T05:49:50+0000 lvl=info msg=\"join connections\" obj=join id=91601b061294 l=127.0.0.1:8237 r=[2401:4900:5f2d:237a:dcbe:c284:2908:aad5]:57127\u001b[0m\n"
          ]
        },
        {
          "metadata": {
            "tags": null
          },
          "name": "stderr",
          "output_type": "stream",
          "text": [
            "INFO:pyngrok.process.ngrok:t=2025-03-09T05:49:50+0000 lvl=info msg=\"join connections\" obj=join id=56f045283ab2 l=127.0.0.1:8237 r=[2401:4900:5f2d:237a:dcbe:c284:2908:aad5]:57127\n"
          ]
        },
        {
          "metadata": {
            "tags": null
          },
          "name": "stdout",
          "output_type": "stream",
          "text": [
            "\u001b[1;35mt=2025-03-09T05:49:50+0000 lvl=info msg=\"join connections\" obj=join id=56f045283ab2 l=127.0.0.1:8237 r=[2401:4900:5f2d:237a:dcbe:c284:2908:aad5]:57127\u001b[0m\n"
          ]
        },
        {
          "metadata": {
            "tags": null
          },
          "name": "stderr",
          "output_type": "stream",
          "text": [
            "INFO:pyngrok.process.ngrok:t=2025-03-09T05:49:50+0000 lvl=info msg=\"join connections\" obj=join id=33a17f9a7ae0 l=127.0.0.1:8237 r=[2401:4900:5f2d:237a:dcbe:c284:2908:aad5]:57127\n"
          ]
        },
        {
          "metadata": {
            "tags": null
          },
          "name": "stdout",
          "output_type": "stream",
          "text": [
            "\u001b[1;35mt=2025-03-09T05:49:50+0000 lvl=info msg=\"join connections\" obj=join id=33a17f9a7ae0 l=127.0.0.1:8237 r=[2401:4900:5f2d:237a:dcbe:c284:2908:aad5]:57127\u001b[0m\n"
          ]
        },
        {
          "metadata": {
            "tags": null
          },
          "name": "stderr",
          "output_type": "stream",
          "text": [
            "INFO:pyngrok.process.ngrok:t=2025-03-09T05:49:50+0000 lvl=info msg=\"join connections\" obj=join id=169fc15a665d l=127.0.0.1:8237 r=[2401:4900:5f2d:237a:dcbe:c284:2908:aad5]:57127\n"
          ]
        },
        {
          "metadata": {
            "tags": null
          },
          "name": "stdout",
          "output_type": "stream",
          "text": [
            "\u001b[1;35mt=2025-03-09T05:49:50+0000 lvl=info msg=\"join connections\" obj=join id=169fc15a665d l=127.0.0.1:8237 r=[2401:4900:5f2d:237a:dcbe:c284:2908:aad5]:57127\u001b[0m\n"
          ]
        },
        {
          "metadata": {
            "tags": null
          },
          "name": "stderr",
          "output_type": "stream",
          "text": [
            "INFO:pyngrok.process.ngrok:t=2025-03-09T05:49:50+0000 lvl=info msg=\"join connections\" obj=join id=4bb3b507100b l=127.0.0.1:8237 r=[2401:4900:5f2d:237a:dcbe:c284:2908:aad5]:57127\n"
          ]
        },
        {
          "metadata": {
            "tags": null
          },
          "name": "stdout",
          "output_type": "stream",
          "text": [
            "\u001b[1;35mt=2025-03-09T05:49:50+0000 lvl=info msg=\"join connections\" obj=join id=4bb3b507100b l=127.0.0.1:8237 r=[2401:4900:5f2d:237a:dcbe:c284:2908:aad5]:57127\u001b[0m\n"
          ]
        },
        {
          "metadata": {
            "tags": null
          },
          "name": "stderr",
          "output_type": "stream",
          "text": [
            "INFO:pyngrok.process.ngrok:t=2025-03-09T05:49:50+0000 lvl=info msg=\"join connections\" obj=join id=cf1d87a030c9 l=127.0.0.1:8237 r=[2401:4900:5f2d:237a:dcbe:c284:2908:aad5]:57127\n"
          ]
        },
        {
          "metadata": {
            "tags": null
          },
          "name": "stdout",
          "output_type": "stream",
          "text": [
            "\u001b[1;35mt=2025-03-09T05:49:50+0000 lvl=info msg=\"join connections\" obj=join id=cf1d87a030c9 l=127.0.0.1:8237 r=[2401:4900:5f2d:237a:dcbe:c284:2908:aad5]:57127\u001b[0m\n"
          ]
        },
        {
          "metadata": {
            "tags": null
          },
          "name": "stderr",
          "output_type": "stream",
          "text": [
            "INFO:pyngrok.process.ngrok:t=2025-03-09T05:49:51+0000 lvl=info msg=\"join connections\" obj=join id=1f989870389d l=127.0.0.1:8237 r=[2401:4900:5f2d:237a:dcbe:c284:2908:aad5]:57127\n"
          ]
        },
        {
          "metadata": {
            "tags": null
          },
          "name": "stdout",
          "output_type": "stream",
          "text": [
            "\u001b[1;35mt=2025-03-09T05:49:51+0000 lvl=info msg=\"join connections\" obj=join id=1f989870389d l=127.0.0.1:8237 r=[2401:4900:5f2d:237a:dcbe:c284:2908:aad5]:57127\u001b[0m\n"
          ]
        },
        {
          "metadata": {
            "tags": null
          },
          "name": "stderr",
          "output_type": "stream",
          "text": [
            "INFO:pyngrok.process.ngrok:t=2025-03-09T05:49:51+0000 lvl=info msg=\"join connections\" obj=join id=4c9f95197f1d l=127.0.0.1:8237 r=[2401:4900:5f2d:237a:dcbe:c284:2908:aad5]:57127\n"
          ]
        },
        {
          "metadata": {
            "tags": null
          },
          "name": "stdout",
          "output_type": "stream",
          "text": [
            "\u001b[1;35mt=2025-03-09T05:49:51+0000 lvl=info msg=\"join connections\" obj=join id=4c9f95197f1d l=127.0.0.1:8237 r=[2401:4900:5f2d:237a:dcbe:c284:2908:aad5]:57127\u001b[0m\n"
          ]
        },
        {
          "metadata": {
            "tags": null
          },
          "name": "stderr",
          "output_type": "stream",
          "text": [
            "INFO:pyngrok.process.ngrok:t=2025-03-09T05:49:51+0000 lvl=info msg=\"join connections\" obj=join id=7b130f64f47b l=127.0.0.1:8237 r=[2401:4900:5f2d:237a:dcbe:c284:2908:aad5]:57127\n"
          ]
        },
        {
          "metadata": {
            "tags": null
          },
          "name": "stdout",
          "output_type": "stream",
          "text": [
            "\u001b[1;35mt=2025-03-09T05:49:51+0000 lvl=info msg=\"join connections\" obj=join id=7b130f64f47b l=127.0.0.1:8237 r=[2401:4900:5f2d:237a:dcbe:c284:2908:aad5]:57127\u001b[0m\n"
          ]
        },
        {
          "metadata": {
            "tags": null
          },
          "name": "stderr",
          "output_type": "stream",
          "text": [
            "INFO:pyngrok.process.ngrok:t=2025-03-09T05:49:51+0000 lvl=info msg=\"join connections\" obj=join id=51c5e7650dd8 l=127.0.0.1:8237 r=[2401:4900:5f2d:237a:dcbe:c284:2908:aad5]:57127\n"
          ]
        },
        {
          "metadata": {
            "tags": null
          },
          "name": "stdout",
          "output_type": "stream",
          "text": [
            "\u001b[1;35mt=2025-03-09T05:49:51+0000 lvl=info msg=\"join connections\" obj=join id=51c5e7650dd8 l=127.0.0.1:8237 r=[2401:4900:5f2d:237a:dcbe:c284:2908:aad5]:57127\u001b[0m\n"
          ]
        },
        {
          "metadata": {
            "tags": null
          },
          "name": "stderr",
          "output_type": "stream",
          "text": [
            "INFO:pyngrok.process.ngrok:t=2025-03-09T05:49:51+0000 lvl=info msg=\"join connections\" obj=join id=7e040d874aa7 l=127.0.0.1:8237 r=[2401:4900:5f2d:237a:dcbe:c284:2908:aad5]:57127\n"
          ]
        },
        {
          "metadata": {
            "tags": null
          },
          "name": "stdout",
          "output_type": "stream",
          "text": [
            "\u001b[1;35mt=2025-03-09T05:49:51+0000 lvl=info msg=\"join connections\" obj=join id=7e040d874aa7 l=127.0.0.1:8237 r=[2401:4900:5f2d:237a:dcbe:c284:2908:aad5]:57127\u001b[0m\n"
          ]
        },
        {
          "metadata": {
            "tags": null
          },
          "name": "stderr",
          "output_type": "stream",
          "text": [
            "INFO:pyngrok.process.ngrok:t=2025-03-09T05:49:51+0000 lvl=info msg=\"join connections\" obj=join id=9bdcedb7a9bf l=127.0.0.1:8237 r=[2401:4900:5f2d:237a:dcbe:c284:2908:aad5]:57127\n"
          ]
        },
        {
          "metadata": {
            "tags": null
          },
          "name": "stdout",
          "output_type": "stream",
          "text": [
            "\u001b[1;35mt=2025-03-09T05:49:51+0000 lvl=info msg=\"join connections\" obj=join id=9bdcedb7a9bf l=127.0.0.1:8237 r=[2401:4900:5f2d:237a:dcbe:c284:2908:aad5]:57127\u001b[0m\n"
          ]
        },
        {
          "metadata": {
            "tags": null
          },
          "name": "stderr",
          "output_type": "stream",
          "text": [
            "INFO:pyngrok.process.ngrok:t=2025-03-09T05:49:51+0000 lvl=info msg=\"join connections\" obj=join id=5aef10e5de5b l=127.0.0.1:8237 r=[2401:4900:5f2d:237a:dcbe:c284:2908:aad5]:57127\n"
          ]
        },
        {
          "metadata": {
            "tags": null
          },
          "name": "stdout",
          "output_type": "stream",
          "text": [
            "\u001b[1;35mt=2025-03-09T05:49:51+0000 lvl=info msg=\"join connections\" obj=join id=5aef10e5de5b l=127.0.0.1:8237 r=[2401:4900:5f2d:237a:dcbe:c284:2908:aad5]:57127\u001b[0m\n"
          ]
        },
        {
          "metadata": {
            "tags": null
          },
          "name": "stderr",
          "output_type": "stream",
          "text": [
            "INFO:pyngrok.process.ngrok:t=2025-03-09T05:49:51+0000 lvl=info msg=\"join connections\" obj=join id=c3208c95fba8 l=127.0.0.1:8237 r=[2401:4900:5f2d:237a:dcbe:c284:2908:aad5]:57127\n"
          ]
        },
        {
          "metadata": {
            "tags": null
          },
          "name": "stdout",
          "output_type": "stream",
          "text": [
            "\u001b[1;35mt=2025-03-09T05:49:51+0000 lvl=info msg=\"join connections\" obj=join id=c3208c95fba8 l=127.0.0.1:8237 r=[2401:4900:5f2d:237a:dcbe:c284:2908:aad5]:57127\u001b[0m\n"
          ]
        },
        {
          "metadata": {
            "tags": null
          },
          "name": "stderr",
          "output_type": "stream",
          "text": [
            "INFO:pyngrok.process.ngrok:t=2025-03-09T05:49:51+0000 lvl=info msg=\"join connections\" obj=join id=2ca8d8cc3663 l=127.0.0.1:8237 r=[2401:4900:5f2d:237a:dcbe:c284:2908:aad5]:57127\n"
          ]
        },
        {
          "metadata": {
            "tags": null
          },
          "name": "stdout",
          "output_type": "stream",
          "text": [
            "\u001b[1;35mt=2025-03-09T05:49:51+0000 lvl=info msg=\"join connections\" obj=join id=2ca8d8cc3663 l=127.0.0.1:8237 r=[2401:4900:5f2d:237a:dcbe:c284:2908:aad5]:57127\u001b[0m\n"
          ]
        },
        {
          "metadata": {
            "tags": null
          },
          "name": "stderr",
          "output_type": "stream",
          "text": [
            "INFO:pyngrok.process.ngrok:t=2025-03-09T05:49:51+0000 lvl=info msg=\"join connections\" obj=join id=97450de1477e l=127.0.0.1:8237 r=[2401:4900:5f2d:237a:dcbe:c284:2908:aad5]:57127\n"
          ]
        },
        {
          "metadata": {
            "tags": null
          },
          "name": "stdout",
          "output_type": "stream",
          "text": [
            "\u001b[32mINFO\u001b[0m:     2401:4900:5f2d:237a:dcbe:c284:2908:aad5:0 - \"\u001b[1mGET /assets/inter-latin-ext-400-normal-hnt3BR84.woff2 HTTP/1.1\u001b[0m\" \u001b[32m200 OK\u001b[0m\n",
            "\u001b[32mINFO\u001b[0m:     2401:4900:5f2d:237a:dcbe:c284:2908:aad5:0 - \"\u001b[1mGET /assets/inter-vietnamese-400-normal-DMkecbls.woff2 HTTP/1.1\u001b[0m\" \u001b[32m200 OK\u001b[0m\n",
            "\u001b[32mINFO\u001b[0m:     2401:4900:5f2d:237a:dcbe:c284:2908:aad5:0 - \"\u001b[1mGET /assets/inter-greek-400-normal-DxZsaF_h.woff2 HTTP/1.1\u001b[0m\" \u001b[32m200 OK\u001b[0m\n",
            "\u001b[32mINFO\u001b[0m:     2401:4900:5f2d:237a:dcbe:c284:2908:aad5:0 - \"\u001b[1mGET /assets/inter-greek-ext-400-normal-Bput3-QP.woff2 HTTP/1.1\u001b[0m\" \u001b[32m200 OK\u001b[0m\n",
            "\u001b[32mINFO\u001b[0m:     2401:4900:5f2d:237a:dcbe:c284:2908:aad5:0 - \"\u001b[1mGET /assets/inter-latin-400-normal-BOOGhInR.woff2 HTTP/1.1\u001b[0m\" \u001b[32m200 OK\u001b[0m\n",
            "\u001b[32mINFO\u001b[0m:     2401:4900:5f2d:237a:dcbe:c284:2908:aad5:0 - \"\u001b[1mGET /assets/inter-cyrillic-400-normal-BLGc9T1a.woff2 HTTP/1.1\u001b[0m\" \u001b[32m200 OK\u001b[0m\n",
            "\u001b[32mINFO\u001b[0m:     2401:4900:5f2d:237a:dcbe:c284:2908:aad5:0 - \"\u001b[1mGET /assets/inter-greek-ext-500-normal-B6guLgqG.woff2 HTTP/1.1\u001b[0m\" \u001b[32m200 OK\u001b[0m\n",
            "\u001b[32mINFO\u001b[0m:     2401:4900:5f2d:237a:dcbe:c284:2908:aad5:0 - \"\u001b[1mGET /assets/inter-cyrillic-500-normal-D4Vwzodn.woff2 HTTP/1.1\u001b[0m\" \u001b[32m200 OK\u001b[0m\n",
            "\u001b[32mINFO\u001b[0m:     2401:4900:5f2d:237a:dcbe:c284:2908:aad5:0 - \"\u001b[1mGET /assets/inter-vietnamese-500-normal-DOriooB6.woff2 HTTP/1.1\u001b[0m\" \u001b[32m200 OK\u001b[0m\n",
            "\u001b[32mINFO\u001b[0m:     2401:4900:5f2d:237a:dcbe:c284:2908:aad5:0 - \"\u001b[1mGET /assets/inter-latin-ext-500-normal-CIS2RHJS.woff2 HTTP/1.1\u001b[0m\" \u001b[32m200 OK\u001b[0m\n",
            "\u001b[1;35mt=2025-03-09T05:49:51+0000 lvl=info msg=\"join connections\" obj=join id=97450de1477e l=127.0.0.1:8237 r=[2401:4900:5f2d:237a:dcbe:c284:2908:aad5]:57127\u001b[0m\n"
          ]
        },
        {
          "metadata": {
            "tags": null
          },
          "name": "stderr",
          "output_type": "stream",
          "text": [
            "INFO:pyngrok.process.ngrok:t=2025-03-09T05:49:51+0000 lvl=info msg=\"join connections\" obj=join id=7f00ab8dd734 l=127.0.0.1:8237 r=[2401:4900:5f2d:237a:dcbe:c284:2908:aad5]:57127\n"
          ]
        },
        {
          "metadata": {
            "tags": null
          },
          "name": "stdout",
          "output_type": "stream",
          "text": [
            "\u001b[1;35mt=2025-03-09T05:49:51+0000 lvl=info msg=\"join connections\" obj=join id=7f00ab8dd734 l=127.0.0.1:8237 r=[2401:4900:5f2d:237a:dcbe:c284:2908:aad5]:57127\u001b[0m\n"
          ]
        },
        {
          "metadata": {
            "tags": null
          },
          "name": "stderr",
          "output_type": "stream",
          "text": [
            "INFO:pyngrok.process.ngrok:t=2025-03-09T05:49:51+0000 lvl=info msg=\"join connections\" obj=join id=05d2c771bdab l=127.0.0.1:8237 r=[2401:4900:5f2d:237a:dcbe:c284:2908:aad5]:57127\n"
          ]
        },
        {
          "metadata": {
            "tags": null
          },
          "name": "stdout",
          "output_type": "stream",
          "text": [
            "\u001b[1;35mt=2025-03-09T05:49:51+0000 lvl=info msg=\"join connections\" obj=join id=05d2c771bdab l=127.0.0.1:8237 r=[2401:4900:5f2d:237a:dcbe:c284:2908:aad5]:57127\u001b[0m\n"
          ]
        },
        {
          "metadata": {
            "tags": null
          },
          "name": "stderr",
          "output_type": "stream",
          "text": [
            "INFO:pyngrok.process.ngrok:t=2025-03-09T05:49:51+0000 lvl=info msg=\"join connections\" obj=join id=3ed108b7e9d1 l=127.0.0.1:8237 r=[2401:4900:5f2d:237a:dcbe:c284:2908:aad5]:57127\n"
          ]
        },
        {
          "metadata": {
            "tags": null
          },
          "name": "stdout",
          "output_type": "stream",
          "text": [
            "\u001b[1;35mt=2025-03-09T05:49:51+0000 lvl=info msg=\"join connections\" obj=join id=3ed108b7e9d1 l=127.0.0.1:8237 r=[2401:4900:5f2d:237a:dcbe:c284:2908:aad5]:57127\u001b[0m\n"
          ]
        },
        {
          "metadata": {
            "tags": null
          },
          "name": "stderr",
          "output_type": "stream",
          "text": [
            "INFO:pyngrok.process.ngrok:t=2025-03-09T05:49:51+0000 lvl=info msg=\"join connections\" obj=join id=256314403ad9 l=127.0.0.1:8237 r=[2401:4900:5f2d:237a:dcbe:c284:2908:aad5]:57127\n"
          ]
        },
        {
          "metadata": {
            "tags": null
          },
          "name": "stdout",
          "output_type": "stream",
          "text": [
            "\u001b[1;35mt=2025-03-09T05:49:51+0000 lvl=info msg=\"join connections\" obj=join id=256314403ad9 l=127.0.0.1:8237 r=[2401:4900:5f2d:237a:dcbe:c284:2908:aad5]:57127\u001b[0m\n"
          ]
        },
        {
          "metadata": {
            "tags": null
          },
          "name": "stderr",
          "output_type": "stream",
          "text": [
            "INFO:pyngrok.process.ngrok:t=2025-03-09T05:49:51+0000 lvl=info msg=\"join connections\" obj=join id=1451b19f9661 l=127.0.0.1:8237 r=[2401:4900:5f2d:237a:dcbe:c284:2908:aad5]:57127\n"
          ]
        },
        {
          "metadata": {
            "tags": null
          },
          "name": "stdout",
          "output_type": "stream",
          "text": [
            "\u001b[1;35mt=2025-03-09T05:49:51+0000 lvl=info msg=\"join connections\" obj=join id=1451b19f9661 l=127.0.0.1:8237 r=[2401:4900:5f2d:237a:dcbe:c284:2908:aad5]:57127\u001b[0m\n"
          ]
        },
        {
          "metadata": {
            "tags": null
          },
          "name": "stderr",
          "output_type": "stream",
          "text": [
            "INFO:pyngrok.process.ngrok:t=2025-03-09T05:49:51+0000 lvl=info msg=\"join connections\" obj=join id=ad41a0c7a381 l=127.0.0.1:8237 r=[2401:4900:5f2d:237a:dcbe:c284:2908:aad5]:57127\n"
          ]
        },
        {
          "metadata": {
            "tags": null
          },
          "name": "stdout",
          "output_type": "stream",
          "text": [
            "\u001b[1;35mt=2025-03-09T05:49:51+0000 lvl=info msg=\"join connections\" obj=join id=ad41a0c7a381 l=127.0.0.1:8237 r=[2401:4900:5f2d:237a:dcbe:c284:2908:aad5]:57127\u001b[0m\n"
          ]
        },
        {
          "metadata": {
            "tags": null
          },
          "name": "stderr",
          "output_type": "stream",
          "text": [
            "INFO:pyngrok.process.ngrok:t=2025-03-09T05:49:51+0000 lvl=info msg=\"join connections\" obj=join id=67bf8aa0f329 l=127.0.0.1:8237 r=[2401:4900:5f2d:237a:dcbe:c284:2908:aad5]:57127\n"
          ]
        },
        {
          "metadata": {
            "tags": null
          },
          "name": "stdout",
          "output_type": "stream",
          "text": [
            "\u001b[1;35mt=2025-03-09T05:49:51+0000 lvl=info msg=\"join connections\" obj=join id=67bf8aa0f329 l=127.0.0.1:8237 r=[2401:4900:5f2d:237a:dcbe:c284:2908:aad5]:57127\u001b[0m\n"
          ]
        },
        {
          "metadata": {
            "tags": null
          },
          "name": "stderr",
          "output_type": "stream",
          "text": [
            "INFO:pyngrok.process.ngrok:t=2025-03-09T05:49:51+0000 lvl=info msg=\"join connections\" obj=join id=75e6ec8c3588 l=127.0.0.1:8237 r=[2401:4900:5f2d:237a:dcbe:c284:2908:aad5]:57127\n"
          ]
        },
        {
          "metadata": {
            "tags": null
          },
          "name": "stdout",
          "output_type": "stream",
          "text": [
            "\u001b[1;35mt=2025-03-09T05:49:51+0000 lvl=info msg=\"join connections\" obj=join id=75e6ec8c3588 l=127.0.0.1:8237 r=[2401:4900:5f2d:237a:dcbe:c284:2908:aad5]:57127\u001b[0m\n"
          ]
        },
        {
          "metadata": {
            "tags": null
          },
          "name": "stderr",
          "output_type": "stream",
          "text": [
            "INFO:pyngrok.process.ngrok:t=2025-03-09T05:49:51+0000 lvl=info msg=\"join connections\" obj=join id=a7896a02a4ab l=127.0.0.1:8237 r=[2401:4900:5f2d:237a:dcbe:c284:2908:aad5]:57127\n"
          ]
        },
        {
          "metadata": {
            "tags": null
          },
          "name": "stdout",
          "output_type": "stream",
          "text": [
            "\u001b[1;35mt=2025-03-09T05:49:51+0000 lvl=info msg=\"join connections\" obj=join id=a7896a02a4ab l=127.0.0.1:8237 r=[2401:4900:5f2d:237a:dcbe:c284:2908:aad5]:57127\u001b[0m\n"
          ]
        },
        {
          "metadata": {
            "tags": null
          },
          "name": "stderr",
          "output_type": "stream",
          "text": [
            "INFO:pyngrok.process.ngrok:t=2025-03-09T05:49:51+0000 lvl=info msg=\"join connections\" obj=join id=e29d75ef72ac l=127.0.0.1:8237 r=[2401:4900:5f2d:237a:dcbe:c284:2908:aad5]:57127\n"
          ]
        },
        {
          "metadata": {
            "tags": null
          },
          "name": "stdout",
          "output_type": "stream",
          "text": [
            "\u001b[1;35mt=2025-03-09T05:49:51+0000 lvl=info msg=\"join connections\" obj=join id=e29d75ef72ac l=127.0.0.1:8237 r=[2401:4900:5f2d:237a:dcbe:c284:2908:aad5]:57127\u001b[0m\n"
          ]
        },
        {
          "metadata": {
            "tags": null
          },
          "name": "stderr",
          "output_type": "stream",
          "text": [
            "INFO:pyngrok.process.ngrok:t=2025-03-09T05:49:51+0000 lvl=info msg=\"join connections\" obj=join id=83e907955162 l=127.0.0.1:8237 r=[2401:4900:5f2d:237a:dcbe:c284:2908:aad5]:57127\n"
          ]
        },
        {
          "metadata": {
            "tags": null
          },
          "name": "stdout",
          "output_type": "stream",
          "text": [
            "\u001b[1;35mt=2025-03-09T05:49:51+0000 lvl=info msg=\"join connections\" obj=join id=83e907955162 l=127.0.0.1:8237 r=[2401:4900:5f2d:237a:dcbe:c284:2908:aad5]:57127\u001b[0m\n"
          ]
        },
        {
          "metadata": {
            "tags": null
          },
          "name": "stderr",
          "output_type": "stream",
          "text": [
            "INFO:pyngrok.process.ngrok:t=2025-03-09T05:49:51+0000 lvl=info msg=\"join connections\" obj=join id=f0d656dc05e6 l=127.0.0.1:8237 r=[2401:4900:5f2d:237a:dcbe:c284:2908:aad5]:57127\n"
          ]
        },
        {
          "metadata": {
            "tags": null
          },
          "name": "stdout",
          "output_type": "stream",
          "text": [
            "\u001b[1;35mt=2025-03-09T05:49:51+0000 lvl=info msg=\"join connections\" obj=join id=f0d656dc05e6 l=127.0.0.1:8237 r=[2401:4900:5f2d:237a:dcbe:c284:2908:aad5]:57127\u001b[0m\n"
          ]
        },
        {
          "metadata": {
            "tags": null
          },
          "name": "stderr",
          "output_type": "stream",
          "text": [
            "INFO:pyngrok.process.ngrok:t=2025-03-09T05:49:51+0000 lvl=info msg=\"join connections\" obj=join id=aa260cebca45 l=127.0.0.1:8237 r=[2401:4900:5f2d:237a:dcbe:c284:2908:aad5]:57127\n"
          ]
        },
        {
          "metadata": {
            "tags": null
          },
          "name": "stdout",
          "output_type": "stream",
          "text": [
            "\u001b[1;35mt=2025-03-09T05:49:51+0000 lvl=info msg=\"join connections\" obj=join id=aa260cebca45 l=127.0.0.1:8237 r=[2401:4900:5f2d:237a:dcbe:c284:2908:aad5]:57127\u001b[0m\n"
          ]
        },
        {
          "metadata": {
            "tags": null
          },
          "name": "stderr",
          "output_type": "stream",
          "text": [
            "INFO:pyngrok.process.ngrok:t=2025-03-09T05:49:51+0000 lvl=info msg=\"join connections\" obj=join id=93a442cf450e l=127.0.0.1:8237 r=[2401:4900:5f2d:237a:dcbe:c284:2908:aad5]:57127\n"
          ]
        },
        {
          "metadata": {
            "tags": null
          },
          "name": "stdout",
          "output_type": "stream",
          "text": [
            "\u001b[1;35mt=2025-03-09T05:49:51+0000 lvl=info msg=\"join connections\" obj=join id=93a442cf450e l=127.0.0.1:8237 r=[2401:4900:5f2d:237a:dcbe:c284:2908:aad5]:57127\u001b[0m\n"
          ]
        },
        {
          "metadata": {
            "tags": null
          },
          "name": "stderr",
          "output_type": "stream",
          "text": [
            "INFO:pyngrok.process.ngrok:t=2025-03-09T05:49:51+0000 lvl=info msg=\"join connections\" obj=join id=232246e232c6 l=127.0.0.1:8237 r=[2401:4900:5f2d:237a:dcbe:c284:2908:aad5]:57127\n"
          ]
        },
        {
          "metadata": {
            "tags": null
          },
          "name": "stdout",
          "output_type": "stream",
          "text": [
            "\u001b[1;35mt=2025-03-09T05:49:51+0000 lvl=info msg=\"join connections\" obj=join id=232246e232c6 l=127.0.0.1:8237 r=[2401:4900:5f2d:237a:dcbe:c284:2908:aad5]:57127\u001b[0m\n"
          ]
        },
        {
          "metadata": {
            "tags": null
          },
          "name": "stderr",
          "output_type": "stream",
          "text": [
            "INFO:pyngrok.process.ngrok:t=2025-03-09T05:49:51+0000 lvl=info msg=\"join connections\" obj=join id=a92f6c3e3d17 l=127.0.0.1:8237 r=[2401:4900:5f2d:237a:dcbe:c284:2908:aad5]:57127\n"
          ]
        },
        {
          "metadata": {
            "tags": null
          },
          "name": "stdout",
          "output_type": "stream",
          "text": [
            "\u001b[1;35mt=2025-03-09T05:49:51+0000 lvl=info msg=\"join connections\" obj=join id=a92f6c3e3d17 l=127.0.0.1:8237 r=[2401:4900:5f2d:237a:dcbe:c284:2908:aad5]:57127\u001b[0m\n"
          ]
        },
        {
          "metadata": {
            "tags": null
          },
          "name": "stderr",
          "output_type": "stream",
          "text": [
            "INFO:pyngrok.process.ngrok:t=2025-03-09T05:49:51+0000 lvl=info msg=\"join connections\" obj=join id=604dd57b0703 l=127.0.0.1:8237 r=[2401:4900:5f2d:237a:dcbe:c284:2908:aad5]:57127\n"
          ]
        },
        {
          "metadata": {
            "tags": null
          },
          "name": "stdout",
          "output_type": "stream",
          "text": [
            "\u001b[1;35mt=2025-03-09T05:49:51+0000 lvl=info msg=\"join connections\" obj=join id=604dd57b0703 l=127.0.0.1:8237 r=[2401:4900:5f2d:237a:dcbe:c284:2908:aad5]:57127\u001b[0m\n"
          ]
        },
        {
          "metadata": {
            "tags": null
          },
          "name": "stderr",
          "output_type": "stream",
          "text": [
            "INFO:pyngrok.process.ngrok:t=2025-03-09T05:49:51+0000 lvl=info msg=\"join connections\" obj=join id=ad9710fee002 l=127.0.0.1:8237 r=[2401:4900:5f2d:237a:dcbe:c284:2908:aad5]:57127\n"
          ]
        },
        {
          "metadata": {
            "tags": null
          },
          "name": "stdout",
          "output_type": "stream",
          "text": [
            "\u001b[1;35mt=2025-03-09T05:49:51+0000 lvl=info msg=\"join connections\" obj=join id=ad9710fee002 l=127.0.0.1:8237 r=[2401:4900:5f2d:237a:dcbe:c284:2908:aad5]:57127\u001b[0m\n"
          ]
        },
        {
          "metadata": {
            "tags": null
          },
          "name": "stderr",
          "output_type": "stream",
          "text": [
            "INFO:pyngrok.process.ngrok:t=2025-03-09T05:49:51+0000 lvl=info msg=\"join connections\" obj=join id=c761b4b90668 l=127.0.0.1:8237 r=[2401:4900:5f2d:237a:dcbe:c284:2908:aad5]:57127\n"
          ]
        },
        {
          "metadata": {
            "tags": null
          },
          "name": "stdout",
          "output_type": "stream",
          "text": [
            "\u001b[1;35mt=2025-03-09T05:49:51+0000 lvl=info msg=\"join connections\" obj=join id=c761b4b90668 l=127.0.0.1:8237 r=[2401:4900:5f2d:237a:dcbe:c284:2908:aad5]:57127\u001b[0m\n"
          ]
        },
        {
          "metadata": {
            "tags": null
          },
          "name": "stderr",
          "output_type": "stream",
          "text": [
            "INFO:pyngrok.process.ngrok:t=2025-03-09T05:49:51+0000 lvl=info msg=\"join connections\" obj=join id=cac12171aaf6 l=127.0.0.1:8237 r=[2401:4900:5f2d:237a:dcbe:c284:2908:aad5]:57127\n"
          ]
        },
        {
          "metadata": {
            "tags": null
          },
          "name": "stdout",
          "output_type": "stream",
          "text": [
            "\u001b[1;35mt=2025-03-09T05:49:51+0000 lvl=info msg=\"join connections\" obj=join id=cac12171aaf6 l=127.0.0.1:8237 r=[2401:4900:5f2d:237a:dcbe:c284:2908:aad5]:57127\u001b[0m\n"
          ]
        },
        {
          "metadata": {
            "tags": null
          },
          "name": "stderr",
          "output_type": "stream",
          "text": [
            "INFO:pyngrok.process.ngrok:t=2025-03-09T05:49:51+0000 lvl=info msg=\"join connections\" obj=join id=fbdda446be0a l=127.0.0.1:8237 r=[2401:4900:5f2d:237a:dcbe:c284:2908:aad5]:57127\n"
          ]
        },
        {
          "metadata": {
            "tags": null
          },
          "name": "stdout",
          "output_type": "stream",
          "text": [
            "\u001b[1;35mt=2025-03-09T05:49:51+0000 lvl=info msg=\"join connections\" obj=join id=fbdda446be0a l=127.0.0.1:8237 r=[2401:4900:5f2d:237a:dcbe:c284:2908:aad5]:57127\u001b[0m\n"
          ]
        },
        {
          "metadata": {
            "tags": null
          },
          "name": "stderr",
          "output_type": "stream",
          "text": [
            "INFO:pyngrok.process.ngrok:t=2025-03-09T05:49:51+0000 lvl=info msg=\"join connections\" obj=join id=028cd0c2040b l=127.0.0.1:8237 r=[2401:4900:5f2d:237a:dcbe:c284:2908:aad5]:57127\n"
          ]
        },
        {
          "metadata": {
            "tags": null
          },
          "name": "stdout",
          "output_type": "stream",
          "text": [
            "\u001b[1;35mt=2025-03-09T05:49:51+0000 lvl=info msg=\"join connections\" obj=join id=028cd0c2040b l=127.0.0.1:8237 r=[2401:4900:5f2d:237a:dcbe:c284:2908:aad5]:57127\u001b[0m\n"
          ]
        },
        {
          "metadata": {
            "tags": null
          },
          "name": "stderr",
          "output_type": "stream",
          "text": [
            "INFO:pyngrok.process.ngrok:t=2025-03-09T05:49:51+0000 lvl=info msg=\"join connections\" obj=join id=3776881bced7 l=127.0.0.1:8237 r=[2401:4900:5f2d:237a:dcbe:c284:2908:aad5]:57127\n"
          ]
        },
        {
          "metadata": {
            "tags": null
          },
          "name": "stdout",
          "output_type": "stream",
          "text": [
            "\u001b[1;35mt=2025-03-09T05:49:51+0000 lvl=info msg=\"join connections\" obj=join id=3776881bced7 l=127.0.0.1:8237 r=[2401:4900:5f2d:237a:dcbe:c284:2908:aad5]:57127\u001b[0m\n"
          ]
        },
        {
          "metadata": {
            "tags": null
          },
          "name": "stderr",
          "output_type": "stream",
          "text": [
            "INFO:pyngrok.process.ngrok:t=2025-03-09T05:49:51+0000 lvl=info msg=\"join connections\" obj=join id=fd898697ae75 l=127.0.0.1:8237 r=[2401:4900:5f2d:237a:dcbe:c284:2908:aad5]:57127\n"
          ]
        },
        {
          "metadata": {
            "tags": null
          },
          "name": "stdout",
          "output_type": "stream",
          "text": [
            "\u001b[1;35mt=2025-03-09T05:49:51+0000 lvl=info msg=\"join connections\" obj=join id=fd898697ae75 l=127.0.0.1:8237 r=[2401:4900:5f2d:237a:dcbe:c284:2908:aad5]:57127\u001b[0m\n"
          ]
        },
        {
          "metadata": {
            "tags": null
          },
          "name": "stderr",
          "output_type": "stream",
          "text": [
            "INFO:pyngrok.process.ngrok:t=2025-03-09T05:49:51+0000 lvl=info msg=\"join connections\" obj=join id=47ec6fcd275b l=127.0.0.1:8237 r=[2401:4900:5f2d:237a:dcbe:c284:2908:aad5]:57127\n"
          ]
        },
        {
          "metadata": {
            "tags": null
          },
          "name": "stdout",
          "output_type": "stream",
          "text": [
            "\u001b[1;35mt=2025-03-09T05:49:51+0000 lvl=info msg=\"join connections\" obj=join id=47ec6fcd275b l=127.0.0.1:8237 r=[2401:4900:5f2d:237a:dcbe:c284:2908:aad5]:57127\u001b[0m\n"
          ]
        },
        {
          "metadata": {
            "tags": null
          },
          "name": "stderr",
          "output_type": "stream",
          "text": [
            "INFO:pyngrok.process.ngrok:t=2025-03-09T05:49:51+0000 lvl=info msg=\"join connections\" obj=join id=6f7b42063fcf l=127.0.0.1:8237 r=[2401:4900:5f2d:237a:dcbe:c284:2908:aad5]:57127\n"
          ]
        },
        {
          "metadata": {
            "tags": null
          },
          "name": "stdout",
          "output_type": "stream",
          "text": [
            "\u001b[32mINFO\u001b[0m:     2401:4900:5f2d:237a:dcbe:c284:2908:aad5:0 - \"\u001b[1mGET /assets/inter-greek-ext-600-normal-Cnui8OiR.woff2 HTTP/1.1\u001b[0m\" \u001b[32m200 OK\u001b[0m\n",
            "\u001b[32mINFO\u001b[0m:     2401:4900:5f2d:237a:dcbe:c284:2908:aad5:0 - \"\u001b[1mGET /assets/inter-latin-500-normal-D2bGa7uu.woff2 HTTP/1.1\u001b[0m\" \u001b[32m200 OK\u001b[0m\n",
            "\u001b[32mINFO\u001b[0m:     2401:4900:5f2d:237a:dcbe:c284:2908:aad5:0 - \"\u001b[1mGET /assets/inter-cyrillic-600-normal-BGBWG807.woff2 HTTP/1.1\u001b[0m\" \u001b[32m200 OK\u001b[0m\n",
            "\u001b[32mINFO\u001b[0m:     2401:4900:5f2d:237a:dcbe:c284:2908:aad5:0 - \"\u001b[1mGET /assets/inter-greek-500-normal-CeQXL5ds.woff2 HTTP/1.1\u001b[0m\" \u001b[32m200 OK\u001b[0m\n",
            "\u001b[32mINFO\u001b[0m:     2401:4900:5f2d:237a:dcbe:c284:2908:aad5:0 - \"\u001b[1mGET /assets/inter-latin-600-normal-D273HNI0.woff2 HTTP/1.1\u001b[0m\" \u001b[32m200 OK\u001b[0m\n",
            "\u001b[32mINFO\u001b[0m:     2401:4900:5f2d:237a:dcbe:c284:2908:aad5:0 - \"\u001b[1mGET /assets/inter-cyrillic-ext-400-normal-BPnxn4xp.woff HTTP/1.1\u001b[0m\" \u001b[32m200 OK\u001b[0m\n",
            "\u001b[32mINFO\u001b[0m:     2401:4900:5f2d:237a:dcbe:c284:2908:aad5:0 - \"\u001b[1mGET /assets/inter-cyrillic-ext-600-normal-CaqZN2hq.woff2 HTTP/1.1\u001b[0m\" \u001b[32m200 OK\u001b[0m\n",
            "\u001b[32mINFO\u001b[0m:     2401:4900:5f2d:237a:dcbe:c284:2908:aad5:0 - \"\u001b[1mGET /assets/inter-greek-400-normal-BZzXV7-1.woff HTTP/1.1\u001b[0m\" \u001b[32m200 OK\u001b[0m\n",
            "\u001b[32mINFO\u001b[0m:     2401:4900:5f2d:237a:dcbe:c284:2908:aad5:0 - \"\u001b[1mGET /assets/inter-latin-ext-600-normal-BnYJhD27.woff2 HTTP/1.1\u001b[0m\" \u001b[32m200 OK\u001b[0m\n",
            "\u001b[32mINFO\u001b[0m:     2401:4900:5f2d:237a:dcbe:c284:2908:aad5:0 - \"\u001b[1mGET /assets/inter-greek-600-normal-Dhlb-90d.woff2 HTTP/1.1\u001b[0m\" \u001b[32m200 OK\u001b[0m\n",
            "\u001b[32mINFO\u001b[0m:     2401:4900:5f2d:237a:dcbe:c284:2908:aad5:0 - \"\u001b[1mGET /assets/inter-cyrillic-400-normal-ZzOtrSSW.woff HTTP/1.1\u001b[0m\" \u001b[32m200 OK\u001b[0m\n",
            "\u001b[32mINFO\u001b[0m:     2401:4900:5f2d:237a:dcbe:c284:2908:aad5:0 - \"\u001b[1mGET /assets/inter-latin-ext-400-normal-C1t-h-pH.woff HTTP/1.1\u001b[0m\" \u001b[32m200 OK\u001b[0m\n",
            "\u001b[1;35mt=2025-03-09T05:49:51+0000 lvl=info msg=\"join connections\" obj=join id=6f7b42063fcf l=127.0.0.1:8237 r=[2401:4900:5f2d:237a:dcbe:c284:2908:aad5]:57127\u001b[0m\n"
          ]
        },
        {
          "metadata": {
            "tags": null
          },
          "name": "stderr",
          "output_type": "stream",
          "text": [
            "INFO:pyngrok.process.ngrok:t=2025-03-09T05:49:51+0000 lvl=info msg=\"join connections\" obj=join id=e86d811c6d22 l=127.0.0.1:8237 r=[2401:4900:5f2d:237a:dcbe:c284:2908:aad5]:57127\n"
          ]
        },
        {
          "metadata": {
            "tags": null
          },
          "name": "stdout",
          "output_type": "stream",
          "text": [
            "\u001b[1;35mt=2025-03-09T05:49:51+0000 lvl=info msg=\"join connections\" obj=join id=e86d811c6d22 l=127.0.0.1:8237 r=[2401:4900:5f2d:237a:dcbe:c284:2908:aad5]:57127\u001b[0m\n"
          ]
        },
        {
          "metadata": {
            "tags": null
          },
          "name": "stderr",
          "output_type": "stream",
          "text": [
            "INFO:pyngrok.process.ngrok:t=2025-03-09T05:49:51+0000 lvl=info msg=\"join connections\" obj=join id=5b0009241ede l=127.0.0.1:8237 r=[2401:4900:5f2d:237a:dcbe:c284:2908:aad5]:57127\n"
          ]
        },
        {
          "metadata": {
            "tags": null
          },
          "name": "stdout",
          "output_type": "stream",
          "text": [
            "\u001b[1;35mt=2025-03-09T05:49:51+0000 lvl=info msg=\"join connections\" obj=join id=5b0009241ede l=127.0.0.1:8237 r=[2401:4900:5f2d:237a:dcbe:c284:2908:aad5]:57127\u001b[0m\n"
          ]
        },
        {
          "metadata": {
            "tags": null
          },
          "name": "stderr",
          "output_type": "stream",
          "text": [
            "INFO:pyngrok.process.ngrok:t=2025-03-09T05:49:51+0000 lvl=info msg=\"join connections\" obj=join id=f85f9904dbd3 l=127.0.0.1:8237 r=[2401:4900:5f2d:237a:dcbe:c284:2908:aad5]:57127\n"
          ]
        },
        {
          "metadata": {
            "tags": null
          },
          "name": "stdout",
          "output_type": "stream",
          "text": [
            "\u001b[1;35mt=2025-03-09T05:49:51+0000 lvl=info msg=\"join connections\" obj=join id=f85f9904dbd3 l=127.0.0.1:8237 r=[2401:4900:5f2d:237a:dcbe:c284:2908:aad5]:57127\u001b[0m\n"
          ]
        },
        {
          "metadata": {
            "tags": null
          },
          "name": "stderr",
          "output_type": "stream",
          "text": [
            "INFO:pyngrok.process.ngrok:t=2025-03-09T05:49:51+0000 lvl=info msg=\"join connections\" obj=join id=4edbd2f8ddd8 l=127.0.0.1:8237 r=[2401:4900:5f2d:237a:dcbe:c284:2908:aad5]:57127\n"
          ]
        },
        {
          "metadata": {
            "tags": null
          },
          "name": "stdout",
          "output_type": "stream",
          "text": [
            "\u001b[1;35mt=2025-03-09T05:49:51+0000 lvl=info msg=\"join connections\" obj=join id=4edbd2f8ddd8 l=127.0.0.1:8237 r=[2401:4900:5f2d:237a:dcbe:c284:2908:aad5]:57127\u001b[0m\n"
          ]
        },
        {
          "metadata": {
            "tags": null
          },
          "name": "stderr",
          "output_type": "stream",
          "text": [
            "INFO:pyngrok.process.ngrok:t=2025-03-09T05:49:51+0000 lvl=info msg=\"join connections\" obj=join id=aa6d8307d592 l=127.0.0.1:8237 r=[2401:4900:5f2d:237a:dcbe:c284:2908:aad5]:57127\n"
          ]
        },
        {
          "metadata": {
            "tags": null
          },
          "name": "stdout",
          "output_type": "stream",
          "text": [
            "\u001b[1;35mt=2025-03-09T05:49:51+0000 lvl=info msg=\"join connections\" obj=join id=aa6d8307d592 l=127.0.0.1:8237 r=[2401:4900:5f2d:237a:dcbe:c284:2908:aad5]:57127\u001b[0m\n"
          ]
        },
        {
          "metadata": {
            "tags": null
          },
          "name": "stderr",
          "output_type": "stream",
          "text": [
            "INFO:pyngrok.process.ngrok:t=2025-03-09T05:49:51+0000 lvl=info msg=\"join connections\" obj=join id=1081c9915f1d l=127.0.0.1:8237 r=[2401:4900:5f2d:237a:dcbe:c284:2908:aad5]:57127\n"
          ]
        },
        {
          "metadata": {
            "tags": null
          },
          "name": "stdout",
          "output_type": "stream",
          "text": [
            "\u001b[1;35mt=2025-03-09T05:49:51+0000 lvl=info msg=\"join connections\" obj=join id=1081c9915f1d l=127.0.0.1:8237 r=[2401:4900:5f2d:237a:dcbe:c284:2908:aad5]:57127\u001b[0m\n"
          ]
        },
        {
          "metadata": {
            "tags": null
          },
          "name": "stderr",
          "output_type": "stream",
          "text": [
            "INFO:pyngrok.process.ngrok:t=2025-03-09T05:49:51+0000 lvl=info msg=\"join connections\" obj=join id=77d39b0ea918 l=127.0.0.1:8237 r=[2401:4900:5f2d:237a:dcbe:c284:2908:aad5]:57127\n"
          ]
        },
        {
          "metadata": {
            "tags": null
          },
          "name": "stdout",
          "output_type": "stream",
          "text": [
            "\u001b[1;35mt=2025-03-09T05:49:51+0000 lvl=info msg=\"join connections\" obj=join id=77d39b0ea918 l=127.0.0.1:8237 r=[2401:4900:5f2d:237a:dcbe:c284:2908:aad5]:57127\u001b[0m\n"
          ]
        },
        {
          "metadata": {
            "tags": null
          },
          "name": "stderr",
          "output_type": "stream",
          "text": [
            "INFO:pyngrok.process.ngrok:t=2025-03-09T05:49:51+0000 lvl=info msg=\"join connections\" obj=join id=5c264505f30e l=127.0.0.1:8237 r=[2401:4900:5f2d:237a:dcbe:c284:2908:aad5]:57127\n"
          ]
        },
        {
          "metadata": {
            "tags": null
          },
          "name": "stdout",
          "output_type": "stream",
          "text": [
            "\u001b[1;35mt=2025-03-09T05:49:51+0000 lvl=info msg=\"join connections\" obj=join id=5c264505f30e l=127.0.0.1:8237 r=[2401:4900:5f2d:237a:dcbe:c284:2908:aad5]:57127\u001b[0m\n"
          ]
        },
        {
          "metadata": {
            "tags": null
          },
          "name": "stderr",
          "output_type": "stream",
          "text": [
            "INFO:pyngrok.process.ngrok:t=2025-03-09T05:49:51+0000 lvl=info msg=\"join connections\" obj=join id=462f9467b3e2 l=127.0.0.1:8237 r=[2401:4900:5f2d:237a:dcbe:c284:2908:aad5]:57127\n"
          ]
        },
        {
          "metadata": {
            "tags": null
          },
          "name": "stdout",
          "output_type": "stream",
          "text": [
            "\u001b[1;35mt=2025-03-09T05:49:51+0000 lvl=info msg=\"join connections\" obj=join id=462f9467b3e2 l=127.0.0.1:8237 r=[2401:4900:5f2d:237a:dcbe:c284:2908:aad5]:57127\u001b[0m\n"
          ]
        },
        {
          "metadata": {
            "tags": null
          },
          "name": "stderr",
          "output_type": "stream",
          "text": [
            "INFO:pyngrok.process.ngrok:t=2025-03-09T05:49:51+0000 lvl=info msg=\"join connections\" obj=join id=0657341df569 l=127.0.0.1:8237 r=[2401:4900:5f2d:237a:dcbe:c284:2908:aad5]:57127\n"
          ]
        },
        {
          "metadata": {
            "tags": null
          },
          "name": "stdout",
          "output_type": "stream",
          "text": [
            "\u001b[1;35mt=2025-03-09T05:49:51+0000 lvl=info msg=\"join connections\" obj=join id=0657341df569 l=127.0.0.1:8237 r=[2401:4900:5f2d:237a:dcbe:c284:2908:aad5]:57127\u001b[0m\n"
          ]
        },
        {
          "metadata": {
            "tags": null
          },
          "name": "stderr",
          "output_type": "stream",
          "text": [
            "INFO:pyngrok.process.ngrok:t=2025-03-09T05:49:51+0000 lvl=info msg=\"join connections\" obj=join id=d282d51b29cd l=127.0.0.1:8237 r=[2401:4900:5f2d:237a:dcbe:c284:2908:aad5]:57127\n"
          ]
        },
        {
          "metadata": {
            "tags": null
          },
          "name": "stdout",
          "output_type": "stream",
          "text": [
            "\u001b[1;35mt=2025-03-09T05:49:51+0000 lvl=info msg=\"join connections\" obj=join id=d282d51b29cd l=127.0.0.1:8237 r=[2401:4900:5f2d:237a:dcbe:c284:2908:aad5]:57127\u001b[0m\n"
          ]
        },
        {
          "metadata": {
            "tags": null
          },
          "name": "stderr",
          "output_type": "stream",
          "text": [
            "INFO:pyngrok.process.ngrok:t=2025-03-09T05:49:51+0000 lvl=info msg=\"join connections\" obj=join id=318151c4ffd8 l=127.0.0.1:8237 r=[2401:4900:5f2d:237a:dcbe:c284:2908:aad5]:57127\n"
          ]
        },
        {
          "metadata": {
            "tags": null
          },
          "name": "stdout",
          "output_type": "stream",
          "text": [
            "\u001b[1;35mt=2025-03-09T05:49:51+0000 lvl=info msg=\"join connections\" obj=join id=318151c4ffd8 l=127.0.0.1:8237 r=[2401:4900:5f2d:237a:dcbe:c284:2908:aad5]:57127\u001b[0m\n"
          ]
        },
        {
          "metadata": {
            "tags": null
          },
          "name": "stderr",
          "output_type": "stream",
          "text": [
            "INFO:pyngrok.process.ngrok:t=2025-03-09T05:49:51+0000 lvl=info msg=\"join connections\" obj=join id=66065b9f9773 l=127.0.0.1:8237 r=[2401:4900:5f2d:237a:dcbe:c284:2908:aad5]:57127\n"
          ]
        },
        {
          "metadata": {
            "tags": null
          },
          "name": "stdout",
          "output_type": "stream",
          "text": [
            "\u001b[1;35mt=2025-03-09T05:49:51+0000 lvl=info msg=\"join connections\" obj=join id=66065b9f9773 l=127.0.0.1:8237 r=[2401:4900:5f2d:237a:dcbe:c284:2908:aad5]:57127\u001b[0m\n"
          ]
        },
        {
          "metadata": {
            "tags": null
          },
          "name": "stderr",
          "output_type": "stream",
          "text": [
            "INFO:pyngrok.process.ngrok:t=2025-03-09T05:49:51+0000 lvl=info msg=\"join connections\" obj=join id=fc1b6a8f5170 l=127.0.0.1:8237 r=[2401:4900:5f2d:237a:dcbe:c284:2908:aad5]:57127\n"
          ]
        },
        {
          "metadata": {
            "tags": null
          },
          "name": "stdout",
          "output_type": "stream",
          "text": [
            "\u001b[1;35mt=2025-03-09T05:49:51+0000 lvl=info msg=\"join connections\" obj=join id=fc1b6a8f5170 l=127.0.0.1:8237 r=[2401:4900:5f2d:237a:dcbe:c284:2908:aad5]:57127\u001b[0m\n"
          ]
        },
        {
          "metadata": {
            "tags": null
          },
          "name": "stderr",
          "output_type": "stream",
          "text": [
            "INFO:pyngrok.process.ngrok:t=2025-03-09T05:49:51+0000 lvl=info msg=\"join connections\" obj=join id=1ac5d7a7ca95 l=127.0.0.1:8237 r=[2401:4900:5f2d:237a:dcbe:c284:2908:aad5]:57127\n"
          ]
        },
        {
          "metadata": {
            "tags": null
          },
          "name": "stdout",
          "output_type": "stream",
          "text": [
            "\u001b[1;35mt=2025-03-09T05:49:51+0000 lvl=info msg=\"join connections\" obj=join id=1ac5d7a7ca95 l=127.0.0.1:8237 r=[2401:4900:5f2d:237a:dcbe:c284:2908:aad5]:57127\u001b[0m\n"
          ]
        },
        {
          "metadata": {
            "tags": null
          },
          "name": "stderr",
          "output_type": "stream",
          "text": [
            "INFO:pyngrok.process.ngrok:t=2025-03-09T05:49:51+0000 lvl=info msg=\"join connections\" obj=join id=6dec5325863b l=127.0.0.1:8237 r=[2401:4900:5f2d:237a:dcbe:c284:2908:aad5]:57127\n"
          ]
        },
        {
          "metadata": {
            "tags": null
          },
          "name": "stdout",
          "output_type": "stream",
          "text": [
            "\u001b[1;35mt=2025-03-09T05:49:51+0000 lvl=info msg=\"join connections\" obj=join id=6dec5325863b l=127.0.0.1:8237 r=[2401:4900:5f2d:237a:dcbe:c284:2908:aad5]:57127\u001b[0m\n"
          ]
        },
        {
          "metadata": {
            "tags": null
          },
          "name": "stderr",
          "output_type": "stream",
          "text": [
            "INFO:pyngrok.process.ngrok:t=2025-03-09T05:49:51+0000 lvl=info msg=\"join connections\" obj=join id=1545f3f46ae3 l=127.0.0.1:8237 r=[2401:4900:5f2d:237a:dcbe:c284:2908:aad5]:57127\n"
          ]
        },
        {
          "metadata": {
            "tags": null
          },
          "name": "stdout",
          "output_type": "stream",
          "text": [
            "\u001b[1;35mt=2025-03-09T05:49:51+0000 lvl=info msg=\"join connections\" obj=join id=1545f3f46ae3 l=127.0.0.1:8237 r=[2401:4900:5f2d:237a:dcbe:c284:2908:aad5]:57127\u001b[0m\n"
          ]
        },
        {
          "metadata": {
            "tags": null
          },
          "name": "stderr",
          "output_type": "stream",
          "text": [
            "INFO:pyngrok.process.ngrok:t=2025-03-09T05:49:51+0000 lvl=info msg=\"join connections\" obj=join id=77e01ce32367 l=127.0.0.1:8237 r=[2401:4900:5f2d:237a:dcbe:c284:2908:aad5]:57127\n"
          ]
        },
        {
          "metadata": {
            "tags": null
          },
          "name": "stdout",
          "output_type": "stream",
          "text": [
            "\u001b[1;35mt=2025-03-09T05:49:51+0000 lvl=info msg=\"join connections\" obj=join id=77e01ce32367 l=127.0.0.1:8237 r=[2401:4900:5f2d:237a:dcbe:c284:2908:aad5]:57127\u001b[0m\n"
          ]
        },
        {
          "metadata": {
            "tags": null
          },
          "name": "stderr",
          "output_type": "stream",
          "text": [
            "INFO:pyngrok.process.ngrok:t=2025-03-09T05:49:51+0000 lvl=info msg=\"join connections\" obj=join id=46440e764b2e l=127.0.0.1:8237 r=[2401:4900:5f2d:237a:dcbe:c284:2908:aad5]:57127\n"
          ]
        },
        {
          "metadata": {
            "tags": null
          },
          "name": "stdout",
          "output_type": "stream",
          "text": [
            "\u001b[1;35mt=2025-03-09T05:49:51+0000 lvl=info msg=\"join connections\" obj=join id=46440e764b2e l=127.0.0.1:8237 r=[2401:4900:5f2d:237a:dcbe:c284:2908:aad5]:57127\u001b[0m\n"
          ]
        },
        {
          "metadata": {
            "tags": null
          },
          "name": "stderr",
          "output_type": "stream",
          "text": [
            "INFO:pyngrok.process.ngrok:t=2025-03-09T05:49:51+0000 lvl=info msg=\"join connections\" obj=join id=1793a80691bc l=127.0.0.1:8237 r=[2401:4900:5f2d:237a:dcbe:c284:2908:aad5]:57127\n"
          ]
        },
        {
          "metadata": {
            "tags": null
          },
          "name": "stdout",
          "output_type": "stream",
          "text": [
            "\u001b[1;35mt=2025-03-09T05:49:51+0000 lvl=info msg=\"join connections\" obj=join id=1793a80691bc l=127.0.0.1:8237 r=[2401:4900:5f2d:237a:dcbe:c284:2908:aad5]:57127\u001b[0m\n"
          ]
        },
        {
          "metadata": {
            "tags": null
          },
          "name": "stderr",
          "output_type": "stream",
          "text": [
            "INFO:pyngrok.process.ngrok:t=2025-03-09T05:49:51+0000 lvl=info msg=\"join connections\" obj=join id=a1cf0ba440b0 l=127.0.0.1:8237 r=[2401:4900:5f2d:237a:dcbe:c284:2908:aad5]:57127\n"
          ]
        },
        {
          "metadata": {
            "tags": null
          },
          "name": "stdout",
          "output_type": "stream",
          "text": [
            "\u001b[1;35mt=2025-03-09T05:49:51+0000 lvl=info msg=\"join connections\" obj=join id=a1cf0ba440b0 l=127.0.0.1:8237 r=[2401:4900:5f2d:237a:dcbe:c284:2908:aad5]:57127\u001b[0m\n"
          ]
        },
        {
          "metadata": {
            "tags": null
          },
          "name": "stderr",
          "output_type": "stream",
          "text": [
            "INFO:pyngrok.process.ngrok:t=2025-03-09T05:49:51+0000 lvl=info msg=\"join connections\" obj=join id=1e8bafb376c8 l=127.0.0.1:8237 r=[2401:4900:5f2d:237a:dcbe:c284:2908:aad5]:57127\n"
          ]
        },
        {
          "metadata": {
            "tags": null
          },
          "name": "stdout",
          "output_type": "stream",
          "text": [
            "\u001b[1;35mt=2025-03-09T05:49:51+0000 lvl=info msg=\"join connections\" obj=join id=1e8bafb376c8 l=127.0.0.1:8237 r=[2401:4900:5f2d:237a:dcbe:c284:2908:aad5]:57127\u001b[0m\n"
          ]
        },
        {
          "metadata": {
            "tags": null
          },
          "name": "stderr",
          "output_type": "stream",
          "text": [
            "INFO:pyngrok.process.ngrok:t=2025-03-09T05:49:51+0000 lvl=info msg=\"join connections\" obj=join id=b1e05416d8ff l=127.0.0.1:8237 r=[2401:4900:5f2d:237a:dcbe:c284:2908:aad5]:57127\n"
          ]
        },
        {
          "metadata": {
            "tags": null
          },
          "name": "stdout",
          "output_type": "stream",
          "text": [
            "\u001b[1;35mt=2025-03-09T05:49:51+0000 lvl=info msg=\"join connections\" obj=join id=b1e05416d8ff l=127.0.0.1:8237 r=[2401:4900:5f2d:237a:dcbe:c284:2908:aad5]:57127\u001b[0m\n"
          ]
        },
        {
          "metadata": {
            "tags": null
          },
          "name": "stderr",
          "output_type": "stream",
          "text": [
            "INFO:pyngrok.process.ngrok:t=2025-03-09T05:49:51+0000 lvl=info msg=\"join connections\" obj=join id=ea1bf3dfca5e l=127.0.0.1:8237 r=[2401:4900:5f2d:237a:dcbe:c284:2908:aad5]:57127\n"
          ]
        },
        {
          "metadata": {
            "tags": null
          },
          "name": "stdout",
          "output_type": "stream",
          "text": [
            "\u001b[1;35mt=2025-03-09T05:49:51+0000 lvl=info msg=\"join connections\" obj=join id=ea1bf3dfca5e l=127.0.0.1:8237 r=[2401:4900:5f2d:237a:dcbe:c284:2908:aad5]:57127\u001b[0m\n"
          ]
        },
        {
          "metadata": {
            "tags": null
          },
          "name": "stderr",
          "output_type": "stream",
          "text": [
            "INFO:pyngrok.process.ngrok:t=2025-03-09T05:49:51+0000 lvl=info msg=\"join connections\" obj=join id=5074cd79f6a2 l=127.0.0.1:8237 r=[2401:4900:5f2d:237a:dcbe:c284:2908:aad5]:57127\n"
          ]
        },
        {
          "metadata": {
            "tags": null
          },
          "name": "stdout",
          "output_type": "stream",
          "text": [
            "\u001b[1;35mt=2025-03-09T05:49:51+0000 lvl=info msg=\"join connections\" obj=join id=5074cd79f6a2 l=127.0.0.1:8237 r=[2401:4900:5f2d:237a:dcbe:c284:2908:aad5]:57127\u001b[0m\n"
          ]
        },
        {
          "metadata": {
            "tags": null
          },
          "name": "stderr",
          "output_type": "stream",
          "text": [
            "INFO:pyngrok.process.ngrok:t=2025-03-09T05:49:51+0000 lvl=info msg=\"join connections\" obj=join id=74d923b436b3 l=127.0.0.1:8237 r=[2401:4900:5f2d:237a:dcbe:c284:2908:aad5]:57127\n"
          ]
        },
        {
          "metadata": {
            "tags": null
          },
          "name": "stdout",
          "output_type": "stream",
          "text": [
            "\u001b[1;35mt=2025-03-09T05:49:51+0000 lvl=info msg=\"join connections\" obj=join id=74d923b436b3 l=127.0.0.1:8237 r=[2401:4900:5f2d:237a:dcbe:c284:2908:aad5]:57127\u001b[0m\n"
          ]
        },
        {
          "metadata": {
            "tags": null
          },
          "name": "stderr",
          "output_type": "stream",
          "text": [
            "INFO:pyngrok.process.ngrok:t=2025-03-09T05:49:51+0000 lvl=info msg=\"join connections\" obj=join id=695298f96b6e l=127.0.0.1:8237 r=[2401:4900:5f2d:237a:dcbe:c284:2908:aad5]:57127\n"
          ]
        },
        {
          "metadata": {
            "tags": null
          },
          "name": "stdout",
          "output_type": "stream",
          "text": [
            "\u001b[1;35mt=2025-03-09T05:49:51+0000 lvl=info msg=\"join connections\" obj=join id=695298f96b6e l=127.0.0.1:8237 r=[2401:4900:5f2d:237a:dcbe:c284:2908:aad5]:57127\u001b[0m\n"
          ]
        },
        {
          "metadata": {
            "tags": null
          },
          "name": "stderr",
          "output_type": "stream",
          "text": [
            "INFO:pyngrok.process.ngrok:t=2025-03-09T05:49:51+0000 lvl=info msg=\"join connections\" obj=join id=e9c3799ed518 l=127.0.0.1:8237 r=[2401:4900:5f2d:237a:dcbe:c284:2908:aad5]:57127\n"
          ]
        },
        {
          "metadata": {
            "tags": null
          },
          "name": "stdout",
          "output_type": "stream",
          "text": [
            "\u001b[1;35mt=2025-03-09T05:49:51+0000 lvl=info msg=\"join connections\" obj=join id=e9c3799ed518 l=127.0.0.1:8237 r=[2401:4900:5f2d:237a:dcbe:c284:2908:aad5]:57127\u001b[0m\n"
          ]
        },
        {
          "metadata": {
            "tags": null
          },
          "name": "stderr",
          "output_type": "stream",
          "text": [
            "INFO:pyngrok.process.ngrok:t=2025-03-09T05:49:51+0000 lvl=info msg=\"join connections\" obj=join id=9b33c3d307fa l=127.0.0.1:8237 r=[2401:4900:5f2d:237a:dcbe:c284:2908:aad5]:57127\n"
          ]
        },
        {
          "metadata": {
            "tags": null
          },
          "name": "stdout",
          "output_type": "stream",
          "text": [
            "\u001b[1;35mt=2025-03-09T05:49:51+0000 lvl=info msg=\"join connections\" obj=join id=9b33c3d307fa l=127.0.0.1:8237 r=[2401:4900:5f2d:237a:dcbe:c284:2908:aad5]:57127\u001b[0m\n"
          ]
        },
        {
          "metadata": {
            "tags": null
          },
          "name": "stderr",
          "output_type": "stream",
          "text": [
            "INFO:pyngrok.process.ngrok:t=2025-03-09T05:49:51+0000 lvl=info msg=\"join connections\" obj=join id=9c560282b510 l=127.0.0.1:8237 r=[2401:4900:5f2d:237a:dcbe:c284:2908:aad5]:57127\n"
          ]
        },
        {
          "metadata": {
            "tags": null
          },
          "name": "stdout",
          "output_type": "stream",
          "text": [
            "\u001b[1;35mt=2025-03-09T05:49:51+0000 lvl=info msg=\"join connections\" obj=join id=9c560282b510 l=127.0.0.1:8237 r=[2401:4900:5f2d:237a:dcbe:c284:2908:aad5]:57127\u001b[0m\n"
          ]
        },
        {
          "metadata": {
            "tags": null
          },
          "name": "stderr",
          "output_type": "stream",
          "text": [
            "INFO:pyngrok.process.ngrok:t=2025-03-09T05:49:51+0000 lvl=info msg=\"join connections\" obj=join id=ccf06b4823e6 l=127.0.0.1:8237 r=[2401:4900:5f2d:237a:dcbe:c284:2908:aad5]:57127\n"
          ]
        },
        {
          "metadata": {
            "tags": null
          },
          "name": "stdout",
          "output_type": "stream",
          "text": [
            "\u001b[1;35mt=2025-03-09T05:49:51+0000 lvl=info msg=\"join connections\" obj=join id=ccf06b4823e6 l=127.0.0.1:8237 r=[2401:4900:5f2d:237a:dcbe:c284:2908:aad5]:57127\u001b[0m\n"
          ]
        },
        {
          "metadata": {
            "tags": null
          },
          "name": "stderr",
          "output_type": "stream",
          "text": [
            "INFO:pyngrok.process.ngrok:t=2025-03-09T05:49:51+0000 lvl=info msg=\"join connections\" obj=join id=a2df35f5a96f l=127.0.0.1:8237 r=[2401:4900:5f2d:237a:dcbe:c284:2908:aad5]:57127\n"
          ]
        },
        {
          "metadata": {
            "tags": null
          },
          "name": "stdout",
          "output_type": "stream",
          "text": [
            "\u001b[1;35mt=2025-03-09T05:49:51+0000 lvl=info msg=\"join connections\" obj=join id=a2df35f5a96f l=127.0.0.1:8237 r=[2401:4900:5f2d:237a:dcbe:c284:2908:aad5]:57127\u001b[0m\n"
          ]
        },
        {
          "metadata": {
            "tags": null
          },
          "name": "stderr",
          "output_type": "stream",
          "text": [
            "INFO:pyngrok.process.ngrok:t=2025-03-09T05:49:51+0000 lvl=info msg=\"join connections\" obj=join id=fbc4383f40af l=127.0.0.1:8237 r=[2401:4900:5f2d:237a:dcbe:c284:2908:aad5]:57127\n"
          ]
        },
        {
          "metadata": {
            "tags": null
          },
          "name": "stdout",
          "output_type": "stream",
          "text": [
            "\u001b[1;35mt=2025-03-09T05:49:51+0000 lvl=info msg=\"join connections\" obj=join id=fbc4383f40af l=127.0.0.1:8237 r=[2401:4900:5f2d:237a:dcbe:c284:2908:aad5]:57127\u001b[0m\n"
          ]
        },
        {
          "metadata": {
            "tags": null
          },
          "name": "stderr",
          "output_type": "stream",
          "text": [
            "INFO:pyngrok.process.ngrok:t=2025-03-09T05:49:51+0000 lvl=info msg=\"join connections\" obj=join id=b693fd21165a l=127.0.0.1:8237 r=[2401:4900:5f2d:237a:dcbe:c284:2908:aad5]:57127\n"
          ]
        },
        {
          "metadata": {
            "tags": null
          },
          "name": "stdout",
          "output_type": "stream",
          "text": [
            "\u001b[1;35mt=2025-03-09T05:49:51+0000 lvl=info msg=\"join connections\" obj=join id=b693fd21165a l=127.0.0.1:8237 r=[2401:4900:5f2d:237a:dcbe:c284:2908:aad5]:57127\u001b[0m\n"
          ]
        },
        {
          "metadata": {
            "tags": null
          },
          "name": "stderr",
          "output_type": "stream",
          "text": [
            "INFO:pyngrok.process.ngrok:t=2025-03-09T05:49:51+0000 lvl=info msg=\"join connections\" obj=join id=19230257c549 l=127.0.0.1:8237 r=[2401:4900:5f2d:237a:dcbe:c284:2908:aad5]:57127\n"
          ]
        },
        {
          "metadata": {
            "tags": null
          },
          "name": "stdout",
          "output_type": "stream",
          "text": [
            "\u001b[1;35mt=2025-03-09T05:49:51+0000 lvl=info msg=\"join connections\" obj=join id=19230257c549 l=127.0.0.1:8237 r=[2401:4900:5f2d:237a:dcbe:c284:2908:aad5]:57127\u001b[0m\n"
          ]
        },
        {
          "metadata": {
            "tags": null
          },
          "name": "stderr",
          "output_type": "stream",
          "text": [
            "INFO:pyngrok.process.ngrok:t=2025-03-09T05:49:51+0000 lvl=info msg=\"join connections\" obj=join id=c963a3b9880c l=127.0.0.1:8237 r=[2401:4900:5f2d:237a:dcbe:c284:2908:aad5]:57127\n"
          ]
        },
        {
          "metadata": {
            "tags": null
          },
          "name": "stdout",
          "output_type": "stream",
          "text": [
            "\u001b[1;35mt=2025-03-09T05:49:51+0000 lvl=info msg=\"join connections\" obj=join id=c963a3b9880c l=127.0.0.1:8237 r=[2401:4900:5f2d:237a:dcbe:c284:2908:aad5]:57127\u001b[0m\n"
          ]
        },
        {
          "metadata": {
            "tags": null
          },
          "name": "stderr",
          "output_type": "stream",
          "text": [
            "INFO:pyngrok.process.ngrok:t=2025-03-09T05:49:51+0000 lvl=info msg=\"join connections\" obj=join id=e57b97aa9d4b l=127.0.0.1:8237 r=[2401:4900:5f2d:237a:dcbe:c284:2908:aad5]:57127\n"
          ]
        },
        {
          "metadata": {
            "tags": null
          },
          "name": "stdout",
          "output_type": "stream",
          "text": [
            "\u001b[1;35mt=2025-03-09T05:49:51+0000 lvl=info msg=\"join connections\" obj=join id=e57b97aa9d4b l=127.0.0.1:8237 r=[2401:4900:5f2d:237a:dcbe:c284:2908:aad5]:57127\u001b[0m\n"
          ]
        },
        {
          "metadata": {
            "tags": null
          },
          "name": "stderr",
          "output_type": "stream",
          "text": [
            "INFO:pyngrok.process.ngrok:t=2025-03-09T05:49:51+0000 lvl=info msg=\"join connections\" obj=join id=cbf4b975f2f6 l=127.0.0.1:8237 r=[2401:4900:5f2d:237a:dcbe:c284:2908:aad5]:57127\n"
          ]
        },
        {
          "metadata": {
            "tags": null
          },
          "name": "stdout",
          "output_type": "stream",
          "text": [
            "\u001b[1;35mt=2025-03-09T05:49:51+0000 lvl=info msg=\"join connections\" obj=join id=cbf4b975f2f6 l=127.0.0.1:8237 r=[2401:4900:5f2d:237a:dcbe:c284:2908:aad5]:57127\u001b[0m\n"
          ]
        },
        {
          "metadata": {
            "tags": null
          },
          "name": "stderr",
          "output_type": "stream",
          "text": [
            "INFO:pyngrok.process.ngrok:t=2025-03-09T05:49:51+0000 lvl=info msg=\"join connections\" obj=join id=a1c6d204b1ab l=127.0.0.1:8237 r=[2401:4900:5f2d:237a:dcbe:c284:2908:aad5]:57127\n"
          ]
        },
        {
          "metadata": {
            "tags": null
          },
          "name": "stdout",
          "output_type": "stream",
          "text": [
            "\u001b[1;35mt=2025-03-09T05:49:51+0000 lvl=info msg=\"join connections\" obj=join id=a1c6d204b1ab l=127.0.0.1:8237 r=[2401:4900:5f2d:237a:dcbe:c284:2908:aad5]:57127\u001b[0m\n"
          ]
        },
        {
          "metadata": {
            "tags": null
          },
          "name": "stderr",
          "output_type": "stream",
          "text": [
            "INFO:pyngrok.process.ngrok:t=2025-03-09T05:49:51+0000 lvl=info msg=\"join connections\" obj=join id=898db2fba343 l=127.0.0.1:8237 r=[2401:4900:5f2d:237a:dcbe:c284:2908:aad5]:57127\n"
          ]
        },
        {
          "metadata": {
            "tags": null
          },
          "name": "stdout",
          "output_type": "stream",
          "text": [
            "\u001b[1;35mt=2025-03-09T05:49:51+0000 lvl=info msg=\"join connections\" obj=join id=898db2fba343 l=127.0.0.1:8237 r=[2401:4900:5f2d:237a:dcbe:c284:2908:aad5]:57127\u001b[0m\n"
          ]
        },
        {
          "metadata": {
            "tags": null
          },
          "name": "stderr",
          "output_type": "stream",
          "text": [
            "INFO:pyngrok.process.ngrok:t=2025-03-09T05:49:51+0000 lvl=info msg=\"join connections\" obj=join id=cf195bd54858 l=127.0.0.1:8237 r=[2401:4900:5f2d:237a:dcbe:c284:2908:aad5]:57127\n"
          ]
        },
        {
          "metadata": {
            "tags": null
          },
          "name": "stdout",
          "output_type": "stream",
          "text": [
            "\u001b[1;35mt=2025-03-09T05:49:51+0000 lvl=info msg=\"join connections\" obj=join id=cf195bd54858 l=127.0.0.1:8237 r=[2401:4900:5f2d:237a:dcbe:c284:2908:aad5]:57127\u001b[0m\n"
          ]
        },
        {
          "metadata": {
            "tags": null
          },
          "name": "stderr",
          "output_type": "stream",
          "text": [
            "INFO:pyngrok.process.ngrok:t=2025-03-09T05:49:51+0000 lvl=info msg=\"join connections\" obj=join id=2aa0d3fa6b44 l=127.0.0.1:8237 r=[2401:4900:5f2d:237a:dcbe:c284:2908:aad5]:57127\n"
          ]
        },
        {
          "metadata": {
            "tags": null
          },
          "name": "stdout",
          "output_type": "stream",
          "text": [
            "\u001b[1;35mt=2025-03-09T05:49:51+0000 lvl=info msg=\"join connections\" obj=join id=2aa0d3fa6b44 l=127.0.0.1:8237 r=[2401:4900:5f2d:237a:dcbe:c284:2908:aad5]:57127\u001b[0m\n"
          ]
        },
        {
          "metadata": {
            "tags": null
          },
          "name": "stderr",
          "output_type": "stream",
          "text": [
            "INFO:pyngrok.process.ngrok:t=2025-03-09T05:49:51+0000 lvl=info msg=\"join connections\" obj=join id=e14b5b9d2e0e l=127.0.0.1:8237 r=[2401:4900:5f2d:237a:dcbe:c284:2908:aad5]:57127\n"
          ]
        },
        {
          "metadata": {
            "tags": null
          },
          "name": "stdout",
          "output_type": "stream",
          "text": [
            "\u001b[1;35mt=2025-03-09T05:49:51+0000 lvl=info msg=\"join connections\" obj=join id=e14b5b9d2e0e l=127.0.0.1:8237 r=[2401:4900:5f2d:237a:dcbe:c284:2908:aad5]:57127\u001b[0m\n"
          ]
        },
        {
          "metadata": {
            "tags": null
          },
          "name": "stderr",
          "output_type": "stream",
          "text": [
            "INFO:pyngrok.process.ngrok:t=2025-03-09T05:49:51+0000 lvl=info msg=\"join connections\" obj=join id=ef2c86cb515e l=127.0.0.1:8237 r=[2401:4900:5f2d:237a:dcbe:c284:2908:aad5]:57127\n"
          ]
        },
        {
          "metadata": {
            "tags": null
          },
          "name": "stdout",
          "output_type": "stream",
          "text": [
            "\u001b[1;35mt=2025-03-09T05:49:51+0000 lvl=info msg=\"join connections\" obj=join id=ef2c86cb515e l=127.0.0.1:8237 r=[2401:4900:5f2d:237a:dcbe:c284:2908:aad5]:57127\u001b[0m\n"
          ]
        },
        {
          "metadata": {
            "tags": null
          },
          "name": "stderr",
          "output_type": "stream",
          "text": [
            "INFO:pyngrok.process.ngrok:t=2025-03-09T05:49:51+0000 lvl=info msg=\"join connections\" obj=join id=b6ff2821cf66 l=127.0.0.1:8237 r=[2401:4900:5f2d:237a:dcbe:c284:2908:aad5]:57127\n"
          ]
        },
        {
          "metadata": {
            "tags": null
          },
          "name": "stdout",
          "output_type": "stream",
          "text": [
            "\u001b[1;35mt=2025-03-09T05:49:51+0000 lvl=info msg=\"join connections\" obj=join id=b6ff2821cf66 l=127.0.0.1:8237 r=[2401:4900:5f2d:237a:dcbe:c284:2908:aad5]:57127\u001b[0m\n"
          ]
        },
        {
          "metadata": {
            "tags": null
          },
          "name": "stderr",
          "output_type": "stream",
          "text": [
            "INFO:pyngrok.process.ngrok:t=2025-03-09T05:49:51+0000 lvl=info msg=\"join connections\" obj=join id=da82293a91aa l=127.0.0.1:8237 r=[2401:4900:5f2d:237a:dcbe:c284:2908:aad5]:57127\n"
          ]
        },
        {
          "metadata": {
            "tags": null
          },
          "name": "stdout",
          "output_type": "stream",
          "text": [
            "\u001b[1;35mt=2025-03-09T05:49:51+0000 lvl=info msg=\"join connections\" obj=join id=da82293a91aa l=127.0.0.1:8237 r=[2401:4900:5f2d:237a:dcbe:c284:2908:aad5]:57127\u001b[0m\n"
          ]
        },
        {
          "metadata": {
            "tags": null
          },
          "name": "stderr",
          "output_type": "stream",
          "text": [
            "INFO:pyngrok.process.ngrok:t=2025-03-09T05:49:51+0000 lvl=info msg=\"join connections\" obj=join id=1a2f5f72a7b6 l=127.0.0.1:8237 r=[2401:4900:5f2d:237a:dcbe:c284:2908:aad5]:57127\n"
          ]
        },
        {
          "metadata": {
            "tags": null
          },
          "name": "stdout",
          "output_type": "stream",
          "text": [
            "\u001b[1;35mt=2025-03-09T05:49:51+0000 lvl=info msg=\"join connections\" obj=join id=1a2f5f72a7b6 l=127.0.0.1:8237 r=[2401:4900:5f2d:237a:dcbe:c284:2908:aad5]:57127\u001b[0m\n"
          ]
        },
        {
          "metadata": {
            "tags": null
          },
          "name": "stderr",
          "output_type": "stream",
          "text": [
            "INFO:pyngrok.process.ngrok:t=2025-03-09T05:49:51+0000 lvl=info msg=\"join connections\" obj=join id=050da28c9d04 l=127.0.0.1:8237 r=[2401:4900:5f2d:237a:dcbe:c284:2908:aad5]:57127\n"
          ]
        },
        {
          "metadata": {
            "tags": null
          },
          "name": "stdout",
          "output_type": "stream",
          "text": [
            "\u001b[32mINFO\u001b[0m:     2401:4900:5f2d:237a:dcbe:c284:2908:aad5:0 - \"\u001b[1mGET /assets/inter-cyrillic-ext-500-normal-CUiC4oBV.woff HTTP/1.1\u001b[0m\" \u001b[32m200 OK\u001b[0m\n",
            "\u001b[32mINFO\u001b[0m:     2401:4900:5f2d:237a:dcbe:c284:2908:aad5:0 - \"\u001b[1mGET /assets/inter-vietnamese-600-normal-Cc8MFFhd.woff2 HTTP/1.1\u001b[0m\" \u001b[32m200 OK\u001b[0m\n",
            "\u001b[32mINFO\u001b[0m:     2401:4900:5f2d:237a:dcbe:c284:2908:aad5:0 - \"\u001b[1mGET /assets/inter-greek-ext-500-normal-M2hEX8vc.woff HTTP/1.1\u001b[0m\" \u001b[32m200 OK\u001b[0m\n",
            "\u001b[32mINFO\u001b[0m:     2401:4900:5f2d:237a:dcbe:c284:2908:aad5:0 - \"\u001b[1mGET /assets/inter-greek-600-normal-CwicyhtI.woff HTTP/1.1\u001b[0m\" \u001b[32m200 OK\u001b[0m\n",
            "\u001b[32mINFO\u001b[0m:     2401:4900:5f2d:237a:dcbe:c284:2908:aad5:0 - \"\u001b[1mGET /assets/inter-latin-500-normal-deR1Tlfd.woff HTTP/1.1\u001b[0m\" \u001b[32m200 OK\u001b[0m\n",
            "\u001b[32mINFO\u001b[0m:     2401:4900:5f2d:237a:dcbe:c284:2908:aad5:0 - \"\u001b[1mGET /assets/inter-greek-ext-600-normal-C9WLioJ8.woff HTTP/1.1\u001b[0m\" \u001b[32m200 OK\u001b[0m\n",
            "\u001b[32mINFO\u001b[0m:     2401:4900:5f2d:237a:dcbe:c284:2908:aad5:0 - \"\u001b[1mGET /assets/inter-cyrillic-600-normal-BuzJQFbW.woff HTTP/1.1\u001b[0m\" \u001b[32m200 OK\u001b[0m\n",
            "\u001b[32mINFO\u001b[0m:     2401:4900:5f2d:237a:dcbe:c284:2908:aad5:0 - \"\u001b[1mGET /assets/inter-cyrillic-500-normal-DH2hs3aW.woff HTTP/1.1\u001b[0m\" \u001b[32m200 OK\u001b[0m\n",
            "\u001b[32mINFO\u001b[0m:     2401:4900:5f2d:237a:dcbe:c284:2908:aad5:0 - \"\u001b[1mGET /assets/inter-vietnamese-400-normal-BUNmGMP1.woff HTTP/1.1\u001b[0m\" \u001b[32m200 OK\u001b[0m\n",
            "\u001b[32mINFO\u001b[0m:     2401:4900:5f2d:237a:dcbe:c284:2908:aad5:0 - \"\u001b[1mGET /assets/inter-greek-500-normal-d_eO-yCQ.woff HTTP/1.1\u001b[0m\" \u001b[32m200 OK\u001b[0m\n",
            "\u001b[32mINFO\u001b[0m:     2401:4900:5f2d:237a:dcbe:c284:2908:aad5:0 - \"\u001b[1mGET /assets/inter-cyrillic-ext-600-normal-Bt9VVOA-.woff HTTP/1.1\u001b[0m\" \u001b[32m200 OK\u001b[0m\n",
            "\u001b[32mINFO\u001b[0m:     2401:4900:5f2d:237a:dcbe:c284:2908:aad5:0 - \"\u001b[1mGET /assets/inter-latin-ext-500-normal-UMdmhHu2.woff HTTP/1.1\u001b[0m\" \u001b[32m200 OK\u001b[0m\n",
            "\u001b[1;35mt=2025-03-09T05:49:51+0000 lvl=info msg=\"join connections\" obj=join id=050da28c9d04 l=127.0.0.1:8237 r=[2401:4900:5f2d:237a:dcbe:c284:2908:aad5]:57127\u001b[0m\n"
          ]
        },
        {
          "metadata": {
            "tags": null
          },
          "name": "stderr",
          "output_type": "stream",
          "text": [
            "INFO:pyngrok.process.ngrok:t=2025-03-09T05:49:51+0000 lvl=info msg=\"join connections\" obj=join id=8a50e306dd00 l=127.0.0.1:8237 r=[2401:4900:5f2d:237a:dcbe:c284:2908:aad5]:57127\n"
          ]
        },
        {
          "metadata": {
            "tags": null
          },
          "name": "stdout",
          "output_type": "stream",
          "text": [
            "\u001b[1;35mt=2025-03-09T05:49:51+0000 lvl=info msg=\"join connections\" obj=join id=8a50e306dd00 l=127.0.0.1:8237 r=[2401:4900:5f2d:237a:dcbe:c284:2908:aad5]:57127\u001b[0m\n"
          ]
        },
        {
          "metadata": {
            "tags": null
          },
          "name": "stderr",
          "output_type": "stream",
          "text": [
            "INFO:pyngrok.process.ngrok:t=2025-03-09T05:49:51+0000 lvl=info msg=\"join connections\" obj=join id=7fbf049a0d19 l=127.0.0.1:8237 r=[2401:4900:5f2d:237a:dcbe:c284:2908:aad5]:57127\n"
          ]
        },
        {
          "metadata": {
            "tags": null
          },
          "name": "stdout",
          "output_type": "stream",
          "text": [
            "\u001b[1;35mt=2025-03-09T05:49:51+0000 lvl=info msg=\"join connections\" obj=join id=7fbf049a0d19 l=127.0.0.1:8237 r=[2401:4900:5f2d:237a:dcbe:c284:2908:aad5]:57127\u001b[0m\n"
          ]
        },
        {
          "metadata": {
            "tags": null
          },
          "name": "stderr",
          "output_type": "stream",
          "text": [
            "INFO:pyngrok.process.ngrok:t=2025-03-09T05:49:51+0000 lvl=info msg=\"join connections\" obj=join id=cdb5afea1ee0 l=127.0.0.1:8237 r=[2401:4900:5f2d:237a:dcbe:c284:2908:aad5]:57127\n"
          ]
        },
        {
          "metadata": {
            "tags": null
          },
          "name": "stdout",
          "output_type": "stream",
          "text": [
            "\u001b[1;35mt=2025-03-09T05:49:51+0000 lvl=info msg=\"join connections\" obj=join id=cdb5afea1ee0 l=127.0.0.1:8237 r=[2401:4900:5f2d:237a:dcbe:c284:2908:aad5]:57127\u001b[0m\n"
          ]
        },
        {
          "metadata": {
            "tags": null
          },
          "name": "stderr",
          "output_type": "stream",
          "text": [
            "INFO:pyngrok.process.ngrok:t=2025-03-09T05:49:51+0000 lvl=info msg=\"join connections\" obj=join id=ab945c8dcc89 l=127.0.0.1:8237 r=[2401:4900:5f2d:237a:dcbe:c284:2908:aad5]:57127\n"
          ]
        },
        {
          "metadata": {
            "tags": null
          },
          "name": "stdout",
          "output_type": "stream",
          "text": [
            "\u001b[1;35mt=2025-03-09T05:49:51+0000 lvl=info msg=\"join connections\" obj=join id=ab945c8dcc89 l=127.0.0.1:8237 r=[2401:4900:5f2d:237a:dcbe:c284:2908:aad5]:57127\u001b[0m\n"
          ]
        },
        {
          "metadata": {
            "tags": null
          },
          "name": "stderr",
          "output_type": "stream",
          "text": [
            "INFO:pyngrok.process.ngrok:t=2025-03-09T05:49:51+0000 lvl=info msg=\"join connections\" obj=join id=be8604ce508b l=127.0.0.1:8237 r=[2401:4900:5f2d:237a:dcbe:c284:2908:aad5]:57127\n"
          ]
        },
        {
          "metadata": {
            "tags": null
          },
          "name": "stdout",
          "output_type": "stream",
          "text": [
            "\u001b[1;35mt=2025-03-09T05:49:51+0000 lvl=info msg=\"join connections\" obj=join id=be8604ce508b l=127.0.0.1:8237 r=[2401:4900:5f2d:237a:dcbe:c284:2908:aad5]:57127\u001b[0m\n"
          ]
        },
        {
          "metadata": {
            "tags": null
          },
          "name": "stderr",
          "output_type": "stream",
          "text": [
            "INFO:pyngrok.process.ngrok:t=2025-03-09T05:49:51+0000 lvl=info msg=\"join connections\" obj=join id=c989e17a549e l=127.0.0.1:8237 r=[2401:4900:5f2d:237a:dcbe:c284:2908:aad5]:57127\n"
          ]
        },
        {
          "metadata": {
            "tags": null
          },
          "name": "stdout",
          "output_type": "stream",
          "text": [
            "\u001b[1;35mt=2025-03-09T05:49:51+0000 lvl=info msg=\"join connections\" obj=join id=c989e17a549e l=127.0.0.1:8237 r=[2401:4900:5f2d:237a:dcbe:c284:2908:aad5]:57127\u001b[0m\n"
          ]
        },
        {
          "metadata": {
            "tags": null
          },
          "name": "stderr",
          "output_type": "stream",
          "text": [
            "INFO:pyngrok.process.ngrok:t=2025-03-09T05:49:51+0000 lvl=info msg=\"join connections\" obj=join id=5ae61622b485 l=127.0.0.1:8237 r=[2401:4900:5f2d:237a:dcbe:c284:2908:aad5]:57127\n"
          ]
        },
        {
          "metadata": {
            "tags": null
          },
          "name": "stdout",
          "output_type": "stream",
          "text": [
            "\u001b[1;35mt=2025-03-09T05:49:51+0000 lvl=info msg=\"join connections\" obj=join id=5ae61622b485 l=127.0.0.1:8237 r=[2401:4900:5f2d:237a:dcbe:c284:2908:aad5]:57127\u001b[0m\n"
          ]
        },
        {
          "metadata": {
            "tags": null
          },
          "name": "stderr",
          "output_type": "stream",
          "text": [
            "INFO:pyngrok.process.ngrok:t=2025-03-09T05:49:51+0000 lvl=info msg=\"join connections\" obj=join id=e9697b871169 l=127.0.0.1:8237 r=[2401:4900:5f2d:237a:dcbe:c284:2908:aad5]:57127\n"
          ]
        },
        {
          "metadata": {
            "tags": null
          },
          "name": "stdout",
          "output_type": "stream",
          "text": [
            "\u001b[1;35mt=2025-03-09T05:49:51+0000 lvl=info msg=\"join connections\" obj=join id=e9697b871169 l=127.0.0.1:8237 r=[2401:4900:5f2d:237a:dcbe:c284:2908:aad5]:57127\u001b[0m\n"
          ]
        },
        {
          "metadata": {
            "tags": null
          },
          "name": "stderr",
          "output_type": "stream",
          "text": [
            "INFO:pyngrok.process.ngrok:t=2025-03-09T05:49:51+0000 lvl=info msg=\"join connections\" obj=join id=88117fae9f44 l=127.0.0.1:8237 r=[2401:4900:5f2d:237a:dcbe:c284:2908:aad5]:57127\n"
          ]
        },
        {
          "metadata": {
            "tags": null
          },
          "name": "stdout",
          "output_type": "stream",
          "text": [
            "\u001b[1;35mt=2025-03-09T05:49:51+0000 lvl=info msg=\"join connections\" obj=join id=88117fae9f44 l=127.0.0.1:8237 r=[2401:4900:5f2d:237a:dcbe:c284:2908:aad5]:57127\u001b[0m\n"
          ]
        },
        {
          "metadata": {
            "tags": null
          },
          "name": "stderr",
          "output_type": "stream",
          "text": [
            "INFO:pyngrok.process.ngrok:t=2025-03-09T05:49:51+0000 lvl=info msg=\"join connections\" obj=join id=54f226177203 l=127.0.0.1:8237 r=[2401:4900:5f2d:237a:dcbe:c284:2908:aad5]:57127\n"
          ]
        },
        {
          "metadata": {
            "tags": null
          },
          "name": "stdout",
          "output_type": "stream",
          "text": [
            "\u001b[1;35mt=2025-03-09T05:49:51+0000 lvl=info msg=\"join connections\" obj=join id=54f226177203 l=127.0.0.1:8237 r=[2401:4900:5f2d:237a:dcbe:c284:2908:aad5]:57127\u001b[0m\n"
          ]
        },
        {
          "metadata": {
            "tags": null
          },
          "name": "stderr",
          "output_type": "stream",
          "text": [
            "INFO:pyngrok.process.ngrok:t=2025-03-09T05:49:51+0000 lvl=info msg=\"join connections\" obj=join id=0b42b2f1679c l=127.0.0.1:8237 r=[2401:4900:5f2d:237a:dcbe:c284:2908:aad5]:57127\n"
          ]
        },
        {
          "metadata": {
            "tags": null
          },
          "name": "stdout",
          "output_type": "stream",
          "text": [
            "\u001b[1;35mt=2025-03-09T05:49:51+0000 lvl=info msg=\"join connections\" obj=join id=0b42b2f1679c l=127.0.0.1:8237 r=[2401:4900:5f2d:237a:dcbe:c284:2908:aad5]:57127\u001b[0m\n"
          ]
        },
        {
          "metadata": {
            "tags": null
          },
          "name": "stderr",
          "output_type": "stream",
          "text": [
            "INFO:pyngrok.process.ngrok:t=2025-03-09T05:49:51+0000 lvl=info msg=\"join connections\" obj=join id=8cbb08aa8798 l=127.0.0.1:8237 r=[2401:4900:5f2d:237a:dcbe:c284:2908:aad5]:57127\n"
          ]
        },
        {
          "metadata": {
            "tags": null
          },
          "name": "stdout",
          "output_type": "stream",
          "text": [
            "\u001b[1;35mt=2025-03-09T05:49:51+0000 lvl=info msg=\"join connections\" obj=join id=8cbb08aa8798 l=127.0.0.1:8237 r=[2401:4900:5f2d:237a:dcbe:c284:2908:aad5]:57127\u001b[0m\n"
          ]
        },
        {
          "metadata": {
            "tags": null
          },
          "name": "stderr",
          "output_type": "stream",
          "text": [
            "INFO:pyngrok.process.ngrok:t=2025-03-09T05:49:51+0000 lvl=info msg=\"join connections\" obj=join id=8d0c7b0c1567 l=127.0.0.1:8237 r=[2401:4900:5f2d:237a:dcbe:c284:2908:aad5]:57127\n"
          ]
        },
        {
          "metadata": {
            "tags": null
          },
          "name": "stdout",
          "output_type": "stream",
          "text": [
            "\u001b[1;35mt=2025-03-09T05:49:51+0000 lvl=info msg=\"join connections\" obj=join id=8d0c7b0c1567 l=127.0.0.1:8237 r=[2401:4900:5f2d:237a:dcbe:c284:2908:aad5]:57127\u001b[0m\n"
          ]
        },
        {
          "metadata": {
            "tags": null
          },
          "name": "stderr",
          "output_type": "stream",
          "text": [
            "INFO:pyngrok.process.ngrok:t=2025-03-09T05:49:51+0000 lvl=info msg=\"join connections\" obj=join id=66aefe6e3137 l=127.0.0.1:8237 r=[2401:4900:5f2d:237a:dcbe:c284:2908:aad5]:57127\n"
          ]
        },
        {
          "metadata": {
            "tags": null
          },
          "name": "stdout",
          "output_type": "stream",
          "text": [
            "\u001b[1;35mt=2025-03-09T05:49:51+0000 lvl=info msg=\"join connections\" obj=join id=66aefe6e3137 l=127.0.0.1:8237 r=[2401:4900:5f2d:237a:dcbe:c284:2908:aad5]:57127\u001b[0m\n"
          ]
        },
        {
          "metadata": {
            "tags": null
          },
          "name": "stderr",
          "output_type": "stream",
          "text": [
            "INFO:pyngrok.process.ngrok:t=2025-03-09T05:49:51+0000 lvl=info msg=\"join connections\" obj=join id=f735726fd538 l=127.0.0.1:8237 r=[2401:4900:5f2d:237a:dcbe:c284:2908:aad5]:57127\n"
          ]
        },
        {
          "metadata": {
            "tags": null
          },
          "name": "stdout",
          "output_type": "stream",
          "text": [
            "\u001b[1;35mt=2025-03-09T05:49:51+0000 lvl=info msg=\"join connections\" obj=join id=f735726fd538 l=127.0.0.1:8237 r=[2401:4900:5f2d:237a:dcbe:c284:2908:aad5]:57127\u001b[0m\n"
          ]
        },
        {
          "metadata": {
            "tags": null
          },
          "name": "stderr",
          "output_type": "stream",
          "text": [
            "INFO:pyngrok.process.ngrok:t=2025-03-09T05:49:51+0000 lvl=info msg=\"join connections\" obj=join id=b1116d5972c8 l=127.0.0.1:8237 r=[2401:4900:5f2d:237a:dcbe:c284:2908:aad5]:57127\n"
          ]
        },
        {
          "metadata": {
            "tags": null
          },
          "name": "stdout",
          "output_type": "stream",
          "text": [
            "\u001b[1;35mt=2025-03-09T05:49:51+0000 lvl=info msg=\"join connections\" obj=join id=b1116d5972c8 l=127.0.0.1:8237 r=[2401:4900:5f2d:237a:dcbe:c284:2908:aad5]:57127\u001b[0m\n"
          ]
        },
        {
          "metadata": {
            "tags": null
          },
          "name": "stderr",
          "output_type": "stream",
          "text": [
            "INFO:pyngrok.process.ngrok:t=2025-03-09T05:49:51+0000 lvl=info msg=\"join connections\" obj=join id=1e79a9311794 l=127.0.0.1:8237 r=[2401:4900:5f2d:237a:dcbe:c284:2908:aad5]:57127\n"
          ]
        },
        {
          "metadata": {
            "tags": null
          },
          "name": "stdout",
          "output_type": "stream",
          "text": [
            "\u001b[1;35mt=2025-03-09T05:49:51+0000 lvl=info msg=\"join connections\" obj=join id=1e79a9311794 l=127.0.0.1:8237 r=[2401:4900:5f2d:237a:dcbe:c284:2908:aad5]:57127\u001b[0m\n"
          ]
        },
        {
          "metadata": {
            "tags": null
          },
          "name": "stderr",
          "output_type": "stream",
          "text": [
            "INFO:pyngrok.process.ngrok:t=2025-03-09T05:49:51+0000 lvl=info msg=\"join connections\" obj=join id=f5235bb3934e l=127.0.0.1:8237 r=[2401:4900:5f2d:237a:dcbe:c284:2908:aad5]:57127\n"
          ]
        },
        {
          "metadata": {
            "tags": null
          },
          "name": "stdout",
          "output_type": "stream",
          "text": [
            "\u001b[1;35mt=2025-03-09T05:49:51+0000 lvl=info msg=\"join connections\" obj=join id=f5235bb3934e l=127.0.0.1:8237 r=[2401:4900:5f2d:237a:dcbe:c284:2908:aad5]:57127\u001b[0m\n"
          ]
        },
        {
          "metadata": {
            "tags": null
          },
          "name": "stderr",
          "output_type": "stream",
          "text": [
            "INFO:pyngrok.process.ngrok:t=2025-03-09T05:49:51+0000 lvl=info msg=\"join connections\" obj=join id=31eab5585026 l=127.0.0.1:8237 r=[2401:4900:5f2d:237a:dcbe:c284:2908:aad5]:57127\n"
          ]
        },
        {
          "metadata": {
            "tags": null
          },
          "name": "stdout",
          "output_type": "stream",
          "text": [
            "\u001b[1;35mt=2025-03-09T05:49:51+0000 lvl=info msg=\"join connections\" obj=join id=31eab5585026 l=127.0.0.1:8237 r=[2401:4900:5f2d:237a:dcbe:c284:2908:aad5]:57127\u001b[0m\n"
          ]
        },
        {
          "metadata": {
            "tags": null
          },
          "name": "stderr",
          "output_type": "stream",
          "text": [
            "INFO:pyngrok.process.ngrok:t=2025-03-09T05:49:51+0000 lvl=info msg=\"join connections\" obj=join id=83a7c99d6a2e l=127.0.0.1:8237 r=[2401:4900:5f2d:237a:dcbe:c284:2908:aad5]:57127\n"
          ]
        },
        {
          "metadata": {
            "tags": null
          },
          "name": "stdout",
          "output_type": "stream",
          "text": [
            "\u001b[1;35mt=2025-03-09T05:49:51+0000 lvl=info msg=\"join connections\" obj=join id=83a7c99d6a2e l=127.0.0.1:8237 r=[2401:4900:5f2d:237a:dcbe:c284:2908:aad5]:57127\u001b[0m\n"
          ]
        },
        {
          "metadata": {
            "tags": null
          },
          "name": "stderr",
          "output_type": "stream",
          "text": [
            "INFO:pyngrok.process.ngrok:t=2025-03-09T05:49:51+0000 lvl=info msg=\"join connections\" obj=join id=7d543f193812 l=127.0.0.1:8237 r=[2401:4900:5f2d:237a:dcbe:c284:2908:aad5]:57127\n"
          ]
        },
        {
          "metadata": {
            "tags": null
          },
          "name": "stdout",
          "output_type": "stream",
          "text": [
            "\u001b[1;35mt=2025-03-09T05:49:51+0000 lvl=info msg=\"join connections\" obj=join id=7d543f193812 l=127.0.0.1:8237 r=[2401:4900:5f2d:237a:dcbe:c284:2908:aad5]:57127\u001b[0m\n"
          ]
        },
        {
          "metadata": {
            "tags": null
          },
          "name": "stderr",
          "output_type": "stream",
          "text": [
            "INFO:pyngrok.process.ngrok:t=2025-03-09T05:49:51+0000 lvl=info msg=\"join connections\" obj=join id=1193fd704982 l=127.0.0.1:8237 r=[2401:4900:5f2d:237a:dcbe:c284:2908:aad5]:57127\n"
          ]
        },
        {
          "metadata": {
            "tags": null
          },
          "name": "stdout",
          "output_type": "stream",
          "text": [
            "\u001b[1;35mt=2025-03-09T05:49:51+0000 lvl=info msg=\"join connections\" obj=join id=1193fd704982 l=127.0.0.1:8237 r=[2401:4900:5f2d:237a:dcbe:c284:2908:aad5]:57127\u001b[0m\n"
          ]
        },
        {
          "metadata": {
            "tags": null
          },
          "name": "stderr",
          "output_type": "stream",
          "text": [
            "INFO:pyngrok.process.ngrok:t=2025-03-09T05:49:51+0000 lvl=info msg=\"join connections\" obj=join id=1a72cd7d2913 l=127.0.0.1:8237 r=[2401:4900:5f2d:237a:dcbe:c284:2908:aad5]:57127\n"
          ]
        },
        {
          "metadata": {
            "tags": null
          },
          "name": "stdout",
          "output_type": "stream",
          "text": [
            "\u001b[1;35mt=2025-03-09T05:49:51+0000 lvl=info msg=\"join connections\" obj=join id=1a72cd7d2913 l=127.0.0.1:8237 r=[2401:4900:5f2d:237a:dcbe:c284:2908:aad5]:57127\u001b[0m\n"
          ]
        },
        {
          "metadata": {
            "tags": null
          },
          "name": "stderr",
          "output_type": "stream",
          "text": [
            "INFO:pyngrok.process.ngrok:t=2025-03-09T05:49:51+0000 lvl=info msg=\"join connections\" obj=join id=c35ed5776291 l=127.0.0.1:8237 r=[2401:4900:5f2d:237a:dcbe:c284:2908:aad5]:57127\n"
          ]
        },
        {
          "metadata": {
            "tags": null
          },
          "name": "stdout",
          "output_type": "stream",
          "text": [
            "\u001b[1;35mt=2025-03-09T05:49:51+0000 lvl=info msg=\"join connections\" obj=join id=c35ed5776291 l=127.0.0.1:8237 r=[2401:4900:5f2d:237a:dcbe:c284:2908:aad5]:57127\u001b[0m\n"
          ]
        },
        {
          "metadata": {
            "tags": null
          },
          "name": "stderr",
          "output_type": "stream",
          "text": [
            "INFO:pyngrok.process.ngrok:t=2025-03-09T05:49:51+0000 lvl=info msg=\"join connections\" obj=join id=797cc7202500 l=127.0.0.1:8237 r=[2401:4900:5f2d:237a:dcbe:c284:2908:aad5]:57127\n"
          ]
        },
        {
          "metadata": {
            "tags": null
          },
          "name": "stdout",
          "output_type": "stream",
          "text": [
            "\u001b[1;35mt=2025-03-09T05:49:51+0000 lvl=info msg=\"join connections\" obj=join id=797cc7202500 l=127.0.0.1:8237 r=[2401:4900:5f2d:237a:dcbe:c284:2908:aad5]:57127\u001b[0m\n"
          ]
        },
        {
          "metadata": {
            "tags": null
          },
          "name": "stderr",
          "output_type": "stream",
          "text": [
            "INFO:pyngrok.process.ngrok:t=2025-03-09T05:49:51+0000 lvl=info msg=\"join connections\" obj=join id=46d73dc32a3c l=127.0.0.1:8237 r=[2401:4900:5f2d:237a:dcbe:c284:2908:aad5]:57127\n"
          ]
        },
        {
          "metadata": {
            "tags": null
          },
          "name": "stdout",
          "output_type": "stream",
          "text": [
            "\u001b[1;35mt=2025-03-09T05:49:51+0000 lvl=info msg=\"join connections\" obj=join id=46d73dc32a3c l=127.0.0.1:8237 r=[2401:4900:5f2d:237a:dcbe:c284:2908:aad5]:57127\u001b[0m\n"
          ]
        },
        {
          "metadata": {
            "tags": null
          },
          "name": "stderr",
          "output_type": "stream",
          "text": [
            "INFO:pyngrok.process.ngrok:t=2025-03-09T05:49:51+0000 lvl=info msg=\"join connections\" obj=join id=07428bd3f5ce l=127.0.0.1:8237 r=[2401:4900:5f2d:237a:dcbe:c284:2908:aad5]:57127\n"
          ]
        },
        {
          "metadata": {
            "tags": null
          },
          "name": "stdout",
          "output_type": "stream",
          "text": [
            "\u001b[1;35mt=2025-03-09T05:49:51+0000 lvl=info msg=\"join connections\" obj=join id=07428bd3f5ce l=127.0.0.1:8237 r=[2401:4900:5f2d:237a:dcbe:c284:2908:aad5]:57127\u001b[0m\n"
          ]
        },
        {
          "metadata": {
            "tags": null
          },
          "name": "stderr",
          "output_type": "stream",
          "text": [
            "INFO:pyngrok.process.ngrok:t=2025-03-09T05:49:51+0000 lvl=info msg=\"join connections\" obj=join id=0e0efd910303 l=127.0.0.1:8237 r=[2401:4900:5f2d:237a:dcbe:c284:2908:aad5]:57127\n"
          ]
        },
        {
          "metadata": {
            "tags": null
          },
          "name": "stdout",
          "output_type": "stream",
          "text": [
            "\u001b[1;35mt=2025-03-09T05:49:51+0000 lvl=info msg=\"join connections\" obj=join id=0e0efd910303 l=127.0.0.1:8237 r=[2401:4900:5f2d:237a:dcbe:c284:2908:aad5]:57127\u001b[0m\n"
          ]
        },
        {
          "metadata": {
            "tags": null
          },
          "name": "stderr",
          "output_type": "stream",
          "text": [
            "INFO:pyngrok.process.ngrok:t=2025-03-09T05:49:51+0000 lvl=info msg=\"join connections\" obj=join id=b5591b9836de l=127.0.0.1:8237 r=[2401:4900:5f2d:237a:dcbe:c284:2908:aad5]:57127\n"
          ]
        },
        {
          "metadata": {
            "tags": null
          },
          "name": "stdout",
          "output_type": "stream",
          "text": [
            "\u001b[1;35mt=2025-03-09T05:49:51+0000 lvl=info msg=\"join connections\" obj=join id=b5591b9836de l=127.0.0.1:8237 r=[2401:4900:5f2d:237a:dcbe:c284:2908:aad5]:57127\u001b[0m\n"
          ]
        },
        {
          "metadata": {
            "tags": null
          },
          "name": "stderr",
          "output_type": "stream",
          "text": [
            "INFO:pyngrok.process.ngrok:t=2025-03-09T05:49:51+0000 lvl=info msg=\"join connections\" obj=join id=06b78e33f597 l=127.0.0.1:8237 r=[2401:4900:5f2d:237a:dcbe:c284:2908:aad5]:57127\n"
          ]
        },
        {
          "metadata": {
            "tags": null
          },
          "name": "stdout",
          "output_type": "stream",
          "text": [
            "\u001b[1;35mt=2025-03-09T05:49:51+0000 lvl=info msg=\"join connections\" obj=join id=06b78e33f597 l=127.0.0.1:8237 r=[2401:4900:5f2d:237a:dcbe:c284:2908:aad5]:57127\u001b[0m\n"
          ]
        },
        {
          "metadata": {
            "tags": null
          },
          "name": "stderr",
          "output_type": "stream",
          "text": [
            "INFO:pyngrok.process.ngrok:t=2025-03-09T05:49:51+0000 lvl=info msg=\"join connections\" obj=join id=38fe73b75b57 l=127.0.0.1:8237 r=[2401:4900:5f2d:237a:dcbe:c284:2908:aad5]:57127\n"
          ]
        },
        {
          "metadata": {
            "tags": null
          },
          "name": "stdout",
          "output_type": "stream",
          "text": [
            "\u001b[1;35mt=2025-03-09T05:49:51+0000 lvl=info msg=\"join connections\" obj=join id=38fe73b75b57 l=127.0.0.1:8237 r=[2401:4900:5f2d:237a:dcbe:c284:2908:aad5]:57127\u001b[0m\n"
          ]
        },
        {
          "metadata": {
            "tags": null
          },
          "name": "stderr",
          "output_type": "stream",
          "text": [
            "INFO:pyngrok.process.ngrok:t=2025-03-09T05:49:51+0000 lvl=info msg=\"join connections\" obj=join id=27079c1fe807 l=127.0.0.1:8237 r=[2401:4900:5f2d:237a:dcbe:c284:2908:aad5]:57127\n"
          ]
        },
        {
          "metadata": {
            "tags": null
          },
          "name": "stdout",
          "output_type": "stream",
          "text": [
            "\u001b[1;35mt=2025-03-09T05:49:51+0000 lvl=info msg=\"join connections\" obj=join id=27079c1fe807 l=127.0.0.1:8237 r=[2401:4900:5f2d:237a:dcbe:c284:2908:aad5]:57127\u001b[0m\n"
          ]
        },
        {
          "metadata": {
            "tags": null
          },
          "name": "stderr",
          "output_type": "stream",
          "text": [
            "INFO:pyngrok.process.ngrok:t=2025-03-09T05:49:51+0000 lvl=info msg=\"join connections\" obj=join id=0379b67ff308 l=127.0.0.1:8237 r=[2401:4900:5f2d:237a:dcbe:c284:2908:aad5]:57127\n"
          ]
        },
        {
          "metadata": {
            "tags": null
          },
          "name": "stdout",
          "output_type": "stream",
          "text": [
            "\u001b[1;35mt=2025-03-09T05:49:51+0000 lvl=info msg=\"join connections\" obj=join id=0379b67ff308 l=127.0.0.1:8237 r=[2401:4900:5f2d:237a:dcbe:c284:2908:aad5]:57127\u001b[0m\n"
          ]
        },
        {
          "metadata": {
            "tags": null
          },
          "name": "stderr",
          "output_type": "stream",
          "text": [
            "INFO:pyngrok.process.ngrok:t=2025-03-09T05:49:51+0000 lvl=info msg=\"join connections\" obj=join id=71027f68875f l=127.0.0.1:8237 r=[2401:4900:5f2d:237a:dcbe:c284:2908:aad5]:57127\n"
          ]
        },
        {
          "metadata": {
            "tags": null
          },
          "name": "stdout",
          "output_type": "stream",
          "text": [
            "\u001b[1;35mt=2025-03-09T05:49:51+0000 lvl=info msg=\"join connections\" obj=join id=71027f68875f l=127.0.0.1:8237 r=[2401:4900:5f2d:237a:dcbe:c284:2908:aad5]:57127\u001b[0m\n"
          ]
        },
        {
          "metadata": {
            "tags": null
          },
          "name": "stderr",
          "output_type": "stream",
          "text": [
            "INFO:pyngrok.process.ngrok:t=2025-03-09T05:49:51+0000 lvl=info msg=\"join connections\" obj=join id=dcc97f77b2ed l=127.0.0.1:8237 r=[2401:4900:5f2d:237a:dcbe:c284:2908:aad5]:57127\n"
          ]
        },
        {
          "metadata": {
            "tags": null
          },
          "name": "stdout",
          "output_type": "stream",
          "text": [
            "\u001b[1;35mt=2025-03-09T05:49:51+0000 lvl=info msg=\"join connections\" obj=join id=dcc97f77b2ed l=127.0.0.1:8237 r=[2401:4900:5f2d:237a:dcbe:c284:2908:aad5]:57127\u001b[0m\n"
          ]
        },
        {
          "metadata": {
            "tags": null
          },
          "name": "stderr",
          "output_type": "stream",
          "text": [
            "INFO:pyngrok.process.ngrok:t=2025-03-09T05:49:51+0000 lvl=info msg=\"join connections\" obj=join id=7633dbf1bee4 l=127.0.0.1:8237 r=[2401:4900:5f2d:237a:dcbe:c284:2908:aad5]:57127\n"
          ]
        },
        {
          "metadata": {
            "tags": null
          },
          "name": "stdout",
          "output_type": "stream",
          "text": [
            "\u001b[1;35mt=2025-03-09T05:49:51+0000 lvl=info msg=\"join connections\" obj=join id=7633dbf1bee4 l=127.0.0.1:8237 r=[2401:4900:5f2d:237a:dcbe:c284:2908:aad5]:57127\u001b[0m\n"
          ]
        },
        {
          "metadata": {
            "tags": null
          },
          "name": "stderr",
          "output_type": "stream",
          "text": [
            "INFO:pyngrok.process.ngrok:t=2025-03-09T05:49:51+0000 lvl=info msg=\"join connections\" obj=join id=59ac396d2978 l=127.0.0.1:8237 r=[2401:4900:5f2d:237a:dcbe:c284:2908:aad5]:57127\n"
          ]
        },
        {
          "metadata": {
            "tags": null
          },
          "name": "stdout",
          "output_type": "stream",
          "text": [
            "\u001b[1;35mt=2025-03-09T05:49:51+0000 lvl=info msg=\"join connections\" obj=join id=59ac396d2978 l=127.0.0.1:8237 r=[2401:4900:5f2d:237a:dcbe:c284:2908:aad5]:57127\u001b[0m\n"
          ]
        },
        {
          "metadata": {
            "tags": null
          },
          "name": "stderr",
          "output_type": "stream",
          "text": [
            "INFO:pyngrok.process.ngrok:t=2025-03-09T05:49:51+0000 lvl=info msg=\"join connections\" obj=join id=c21623ed8b44 l=127.0.0.1:8237 r=[2401:4900:5f2d:237a:dcbe:c284:2908:aad5]:57127\n"
          ]
        },
        {
          "metadata": {
            "tags": null
          },
          "name": "stdout",
          "output_type": "stream",
          "text": [
            "\u001b[1;35mt=2025-03-09T05:49:51+0000 lvl=info msg=\"join connections\" obj=join id=c21623ed8b44 l=127.0.0.1:8237 r=[2401:4900:5f2d:237a:dcbe:c284:2908:aad5]:57127\u001b[0m\n"
          ]
        },
        {
          "metadata": {
            "tags": null
          },
          "name": "stderr",
          "output_type": "stream",
          "text": [
            "INFO:pyngrok.process.ngrok:t=2025-03-09T05:49:51+0000 lvl=info msg=\"join connections\" obj=join id=7d8c3fdbd39b l=127.0.0.1:8237 r=[2401:4900:5f2d:237a:dcbe:c284:2908:aad5]:57127\n"
          ]
        },
        {
          "metadata": {
            "tags": null
          },
          "name": "stdout",
          "output_type": "stream",
          "text": [
            "\u001b[1;35mt=2025-03-09T05:49:51+0000 lvl=info msg=\"join connections\" obj=join id=7d8c3fdbd39b l=127.0.0.1:8237 r=[2401:4900:5f2d:237a:dcbe:c284:2908:aad5]:57127\u001b[0m\n"
          ]
        },
        {
          "metadata": {
            "tags": null
          },
          "name": "stderr",
          "output_type": "stream",
          "text": [
            "INFO:pyngrok.process.ngrok:t=2025-03-09T05:49:51+0000 lvl=info msg=\"join connections\" obj=join id=368e65b7d95e l=127.0.0.1:8237 r=[2401:4900:5f2d:237a:dcbe:c284:2908:aad5]:57127\n"
          ]
        },
        {
          "metadata": {
            "tags": null
          },
          "name": "stdout",
          "output_type": "stream",
          "text": [
            "\u001b[1;35mt=2025-03-09T05:49:51+0000 lvl=info msg=\"join connections\" obj=join id=368e65b7d95e l=127.0.0.1:8237 r=[2401:4900:5f2d:237a:dcbe:c284:2908:aad5]:57127\u001b[0m\n"
          ]
        },
        {
          "metadata": {
            "tags": null
          },
          "name": "stderr",
          "output_type": "stream",
          "text": [
            "INFO:pyngrok.process.ngrok:t=2025-03-09T05:49:51+0000 lvl=info msg=\"join connections\" obj=join id=924bad77abbd l=127.0.0.1:8237 r=[2401:4900:5f2d:237a:dcbe:c284:2908:aad5]:57127\n"
          ]
        },
        {
          "metadata": {
            "tags": null
          },
          "name": "stdout",
          "output_type": "stream",
          "text": [
            "\u001b[1;35mt=2025-03-09T05:49:51+0000 lvl=info msg=\"join connections\" obj=join id=924bad77abbd l=127.0.0.1:8237 r=[2401:4900:5f2d:237a:dcbe:c284:2908:aad5]:57127\u001b[0m\n"
          ]
        },
        {
          "metadata": {
            "tags": null
          },
          "name": "stderr",
          "output_type": "stream",
          "text": [
            "INFO:pyngrok.process.ngrok:t=2025-03-09T05:49:51+0000 lvl=info msg=\"join connections\" obj=join id=6829e0391c95 l=127.0.0.1:8237 r=[2401:4900:5f2d:237a:dcbe:c284:2908:aad5]:57127\n"
          ]
        },
        {
          "metadata": {
            "tags": null
          },
          "name": "stdout",
          "output_type": "stream",
          "text": [
            "\u001b[1;35mt=2025-03-09T05:49:51+0000 lvl=info msg=\"join connections\" obj=join id=6829e0391c95 l=127.0.0.1:8237 r=[2401:4900:5f2d:237a:dcbe:c284:2908:aad5]:57127\u001b[0m\n"
          ]
        },
        {
          "metadata": {
            "tags": null
          },
          "name": "stderr",
          "output_type": "stream",
          "text": [
            "INFO:pyngrok.process.ngrok:t=2025-03-09T05:49:51+0000 lvl=info msg=\"join connections\" obj=join id=b2984a84e002 l=127.0.0.1:8237 r=[2401:4900:5f2d:237a:dcbe:c284:2908:aad5]:57127\n"
          ]
        },
        {
          "metadata": {
            "tags": null
          },
          "name": "stdout",
          "output_type": "stream",
          "text": [
            "\u001b[1;35mt=2025-03-09T05:49:51+0000 lvl=info msg=\"join connections\" obj=join id=b2984a84e002 l=127.0.0.1:8237 r=[2401:4900:5f2d:237a:dcbe:c284:2908:aad5]:57127\u001b[0m\n"
          ]
        },
        {
          "metadata": {
            "tags": null
          },
          "name": "stderr",
          "output_type": "stream",
          "text": [
            "INFO:pyngrok.process.ngrok:t=2025-03-09T05:49:51+0000 lvl=info msg=\"join connections\" obj=join id=ff98b1c6b986 l=127.0.0.1:8237 r=[2401:4900:5f2d:237a:dcbe:c284:2908:aad5]:57127\n"
          ]
        },
        {
          "metadata": {
            "tags": null
          },
          "name": "stdout",
          "output_type": "stream",
          "text": [
            "\u001b[1;35mt=2025-03-09T05:49:51+0000 lvl=info msg=\"join connections\" obj=join id=ff98b1c6b986 l=127.0.0.1:8237 r=[2401:4900:5f2d:237a:dcbe:c284:2908:aad5]:57127\u001b[0m\n"
          ]
        },
        {
          "metadata": {
            "tags": null
          },
          "name": "stderr",
          "output_type": "stream",
          "text": [
            "INFO:pyngrok.process.ngrok:t=2025-03-09T05:49:51+0000 lvl=info msg=\"join connections\" obj=join id=4b7c4047cd8e l=127.0.0.1:8237 r=[2401:4900:5f2d:237a:dcbe:c284:2908:aad5]:57127\n"
          ]
        },
        {
          "metadata": {
            "tags": null
          },
          "name": "stdout",
          "output_type": "stream",
          "text": [
            "\u001b[1;35mt=2025-03-09T05:49:51+0000 lvl=info msg=\"join connections\" obj=join id=4b7c4047cd8e l=127.0.0.1:8237 r=[2401:4900:5f2d:237a:dcbe:c284:2908:aad5]:57127\u001b[0m\n"
          ]
        },
        {
          "metadata": {
            "tags": null
          },
          "name": "stderr",
          "output_type": "stream",
          "text": [
            "INFO:pyngrok.process.ngrok:t=2025-03-09T05:49:51+0000 lvl=info msg=\"join connections\" obj=join id=10daf88fabbb l=127.0.0.1:8237 r=[2401:4900:5f2d:237a:dcbe:c284:2908:aad5]:57127\n"
          ]
        },
        {
          "metadata": {
            "tags": null
          },
          "name": "stdout",
          "output_type": "stream",
          "text": [
            "\u001b[1;35mt=2025-03-09T05:49:51+0000 lvl=info msg=\"join connections\" obj=join id=10daf88fabbb l=127.0.0.1:8237 r=[2401:4900:5f2d:237a:dcbe:c284:2908:aad5]:57127\u001b[0m\n"
          ]
        },
        {
          "metadata": {
            "tags": null
          },
          "name": "stderr",
          "output_type": "stream",
          "text": [
            "INFO:pyngrok.process.ngrok:t=2025-03-09T05:49:51+0000 lvl=info msg=\"join connections\" obj=join id=387296e0d59c l=127.0.0.1:8237 r=[2401:4900:5f2d:237a:dcbe:c284:2908:aad5]:57127\n"
          ]
        },
        {
          "metadata": {
            "tags": null
          },
          "name": "stdout",
          "output_type": "stream",
          "text": [
            "\u001b[1;35mt=2025-03-09T05:49:51+0000 lvl=info msg=\"join connections\" obj=join id=387296e0d59c l=127.0.0.1:8237 r=[2401:4900:5f2d:237a:dcbe:c284:2908:aad5]:57127\u001b[0m\n"
          ]
        },
        {
          "metadata": {
            "tags": null
          },
          "name": "stderr",
          "output_type": "stream",
          "text": [
            "INFO:pyngrok.process.ngrok:t=2025-03-09T05:49:51+0000 lvl=info msg=\"join connections\" obj=join id=010ebf68fe70 l=127.0.0.1:8237 r=[2401:4900:5f2d:237a:dcbe:c284:2908:aad5]:57127\n"
          ]
        },
        {
          "metadata": {
            "tags": null
          },
          "name": "stdout",
          "output_type": "stream",
          "text": [
            "\u001b[1;35mt=2025-03-09T05:49:51+0000 lvl=info msg=\"join connections\" obj=join id=010ebf68fe70 l=127.0.0.1:8237 r=[2401:4900:5f2d:237a:dcbe:c284:2908:aad5]:57127\u001b[0m\n"
          ]
        },
        {
          "metadata": {
            "tags": null
          },
          "name": "stderr",
          "output_type": "stream",
          "text": [
            "INFO:pyngrok.process.ngrok:t=2025-03-09T05:49:51+0000 lvl=info msg=\"join connections\" obj=join id=a01fd0d54da7 l=127.0.0.1:8237 r=[2401:4900:5f2d:237a:dcbe:c284:2908:aad5]:57127\n"
          ]
        },
        {
          "metadata": {
            "tags": null
          },
          "name": "stdout",
          "output_type": "stream",
          "text": [
            "\u001b[1;35mt=2025-03-09T05:49:51+0000 lvl=info msg=\"join connections\" obj=join id=a01fd0d54da7 l=127.0.0.1:8237 r=[2401:4900:5f2d:237a:dcbe:c284:2908:aad5]:57127\u001b[0m\n"
          ]
        },
        {
          "metadata": {
            "tags": null
          },
          "name": "stderr",
          "output_type": "stream",
          "text": [
            "INFO:pyngrok.process.ngrok:t=2025-03-09T05:49:51+0000 lvl=info msg=\"join connections\" obj=join id=74b554a09037 l=127.0.0.1:8237 r=[2401:4900:5f2d:237a:dcbe:c284:2908:aad5]:57127\n"
          ]
        },
        {
          "metadata": {
            "tags": null
          },
          "name": "stdout",
          "output_type": "stream",
          "text": [
            "\u001b[1;35mt=2025-03-09T05:49:51+0000 lvl=info msg=\"join connections\" obj=join id=74b554a09037 l=127.0.0.1:8237 r=[2401:4900:5f2d:237a:dcbe:c284:2908:aad5]:57127\u001b[0m\n"
          ]
        },
        {
          "metadata": {
            "tags": null
          },
          "name": "stderr",
          "output_type": "stream",
          "text": [
            "INFO:pyngrok.process.ngrok:t=2025-03-09T05:49:51+0000 lvl=info msg=\"join connections\" obj=join id=0f9422f3a1bb l=127.0.0.1:8237 r=[2401:4900:5f2d:237a:dcbe:c284:2908:aad5]:57127\n"
          ]
        },
        {
          "metadata": {
            "tags": null
          },
          "name": "stdout",
          "output_type": "stream",
          "text": [
            "\u001b[1;35mt=2025-03-09T05:49:51+0000 lvl=info msg=\"join connections\" obj=join id=0f9422f3a1bb l=127.0.0.1:8237 r=[2401:4900:5f2d:237a:dcbe:c284:2908:aad5]:57127\u001b[0m\n",
            "\u001b[32mINFO\u001b[0m:     2401:4900:5f2d:237a:dcbe:c284:2908:aad5:0 - \"\u001b[1mGET /assets/inter-latin-400-normal-gitzw0hO.woff HTTP/1.1\u001b[0m\" \u001b[32m200 OK\u001b[0m\n",
            "\u001b[32mINFO\u001b[0m:     2401:4900:5f2d:237a:dcbe:c284:2908:aad5:0 - \"\u001b[1mGET /assets/inter-latin-ext-600-normal-CAF0vJDd.woff HTTP/1.1\u001b[0m\" \u001b[32m200 OK\u001b[0m\n",
            "\u001b[32mINFO\u001b[0m:     2401:4900:5f2d:237a:dcbe:c284:2908:aad5:0 - \"\u001b[1mGET /assets/inter-vietnamese-500-normal-DQPw2Hwd.woff HTTP/1.1\u001b[0m\" \u001b[32m200 OK\u001b[0m\n",
            "\u001b[32mINFO\u001b[0m:     2401:4900:5f2d:237a:dcbe:c284:2908:aad5:0 - \"\u001b[1mGET /assets/acp-DOsXjFc7.webp HTTP/1.1\u001b[0m\" \u001b[32m200 OK\u001b[0m\n",
            "\u001b[32mINFO\u001b[0m:     2401:4900:5f2d:237a:dcbe:c284:2908:aad5:0 - \"\u001b[1mGET /assets/inter-vietnamese-600-normal-Cm6aH8_k.woff HTTP/1.1\u001b[0m\" \u001b[32m200 OK\u001b[0m\n",
            "\u001b[32mINFO\u001b[0m:     2401:4900:5f2d:237a:dcbe:c284:2908:aad5:0 - \"\u001b[1mGET /assets/inter-greek-ext-400-normal-DCpCPQOf.woff HTTP/1.1\u001b[0m\" \u001b[32m200 OK\u001b[0m\n",
            "\u001b[32mINFO\u001b[0m:     2401:4900:5f2d:237a:dcbe:c284:2908:aad5:0 - \"\u001b[1mGET /assets/mcp-Cb1aMeoq.webp HTTP/1.1\u001b[0m\" \u001b[32m200 OK\u001b[0m\n",
            "\u001b[32mINFO\u001b[0m:     2401:4900:5f2d:237a:dcbe:c284:2908:aad5:0 - \"\u001b[1mGET /assets/cloud-squares-DeRLMopf.svg HTTP/1.1\u001b[0m\" \u001b[32m200 OK\u001b[0m\n",
            "\u001b[32mINFO\u001b[0m:     2401:4900:5f2d:237a:dcbe:c284:2908:aad5:0 - \"\u001b[1mGET /assets/inter-latin-600-normal-B5cFAncS.woff HTTP/1.1\u001b[0m\" \u001b[32m200 OK\u001b[0m\n"
          ]
        },
        {
          "metadata": {
            "tags": null
          },
          "name": "stderr",
          "output_type": "stream",
          "text": [
            "INFO:pyngrok.process.ngrok:t=2025-03-09T05:49:51+0000 lvl=info msg=\"join connections\" obj=join id=db79abb55c4a l=127.0.0.1:8237 r=[2401:4900:5f2d:237a:dcbe:c284:2908:aad5]:57127\n"
          ]
        },
        {
          "metadata": {
            "tags": null
          },
          "name": "stdout",
          "output_type": "stream",
          "text": [
            "\u001b[1;35mt=2025-03-09T05:49:51+0000 lvl=info msg=\"join connections\" obj=join id=db79abb55c4a l=127.0.0.1:8237 r=[2401:4900:5f2d:237a:dcbe:c284:2908:aad5]:57127\u001b[0m\n"
          ]
        },
        {
          "metadata": {
            "tags": null
          },
          "name": "stderr",
          "output_type": "stream",
          "text": [
            "INFO:pyngrok.process.ngrok:t=2025-03-09T05:49:51+0000 lvl=info msg=\"join connections\" obj=join id=320317a1a200 l=127.0.0.1:8237 r=[2401:4900:5f2d:237a:dcbe:c284:2908:aad5]:57127\n"
          ]
        },
        {
          "metadata": {
            "tags": null
          },
          "name": "stdout",
          "output_type": "stream",
          "text": [
            "\u001b[1;35mt=2025-03-09T05:49:51+0000 lvl=info msg=\"join connections\" obj=join id=320317a1a200 l=127.0.0.1:8237 r=[2401:4900:5f2d:237a:dcbe:c284:2908:aad5]:57127\u001b[0m\n"
          ]
        },
        {
          "metadata": {
            "tags": null
          },
          "name": "stderr",
          "output_type": "stream",
          "text": [
            "INFO:pyngrok.process.ngrok:t=2025-03-09T05:49:51+0000 lvl=info msg=\"join connections\" obj=join id=c5609527b973 l=127.0.0.1:8237 r=[2401:4900:5f2d:237a:dcbe:c284:2908:aad5]:57127\n"
          ]
        },
        {
          "metadata": {
            "tags": null
          },
          "name": "stdout",
          "output_type": "stream",
          "text": [
            "\u001b[1;35mt=2025-03-09T05:49:51+0000 lvl=info msg=\"join connections\" obj=join id=c5609527b973 l=127.0.0.1:8237 r=[2401:4900:5f2d:237a:dcbe:c284:2908:aad5]:57127\u001b[0m\n"
          ]
        },
        {
          "metadata": {
            "tags": null
          },
          "name": "stderr",
          "output_type": "stream",
          "text": [
            "INFO:pyngrok.process.ngrok:t=2025-03-09T05:49:51+0000 lvl=info msg=\"join connections\" obj=join id=8701aa1e03b8 l=127.0.0.1:8237 r=[2401:4900:5f2d:237a:dcbe:c284:2908:aad5]:57127\n"
          ]
        },
        {
          "metadata": {
            "tags": null
          },
          "name": "stdout",
          "output_type": "stream",
          "text": [
            "\u001b[1;35mt=2025-03-09T05:49:51+0000 lvl=info msg=\"join connections\" obj=join id=8701aa1e03b8 l=127.0.0.1:8237 r=[2401:4900:5f2d:237a:dcbe:c284:2908:aad5]:57127\u001b[0m\n"
          ]
        },
        {
          "metadata": {
            "tags": null
          },
          "name": "stderr",
          "output_type": "stream",
          "text": [
            "INFO:pyngrok.process.ngrok:t=2025-03-09T05:49:51+0000 lvl=info msg=\"join connections\" obj=join id=7c1fe4c9b5ce l=127.0.0.1:8237 r=[2401:4900:5f2d:237a:dcbe:c284:2908:aad5]:57127\n"
          ]
        },
        {
          "metadata": {
            "tags": null
          },
          "name": "stdout",
          "output_type": "stream",
          "text": [
            "\u001b[1;35mt=2025-03-09T05:49:51+0000 lvl=info msg=\"join connections\" obj=join id=7c1fe4c9b5ce l=127.0.0.1:8237 r=[2401:4900:5f2d:237a:dcbe:c284:2908:aad5]:57127\u001b[0m\n"
          ]
        },
        {
          "metadata": {
            "tags": null
          },
          "name": "stderr",
          "output_type": "stream",
          "text": [
            "INFO:pyngrok.process.ngrok:t=2025-03-09T05:49:51+0000 lvl=info msg=\"join connections\" obj=join id=6a556891da9e l=127.0.0.1:8237 r=[2401:4900:5f2d:237a:dcbe:c284:2908:aad5]:57127\n"
          ]
        },
        {
          "metadata": {
            "tags": null
          },
          "name": "stdout",
          "output_type": "stream",
          "text": [
            "\u001b[1;35mt=2025-03-09T05:49:51+0000 lvl=info msg=\"join connections\" obj=join id=6a556891da9e l=127.0.0.1:8237 r=[2401:4900:5f2d:237a:dcbe:c284:2908:aad5]:57127\u001b[0m\n"
          ]
        },
        {
          "metadata": {
            "tags": null
          },
          "name": "stderr",
          "output_type": "stream",
          "text": [
            "INFO:pyngrok.process.ngrok:t=2025-03-09T05:49:51+0000 lvl=info msg=\"join connections\" obj=join id=bfebe7d4effe l=127.0.0.1:8237 r=[2401:4900:5f2d:237a:dcbe:c284:2908:aad5]:57127\n"
          ]
        },
        {
          "metadata": {
            "tags": null
          },
          "name": "stdout",
          "output_type": "stream",
          "text": [
            "\u001b[1;35mt=2025-03-09T05:49:51+0000 lvl=info msg=\"join connections\" obj=join id=bfebe7d4effe l=127.0.0.1:8237 r=[2401:4900:5f2d:237a:dcbe:c284:2908:aad5]:57127\u001b[0m\n"
          ]
        },
        {
          "metadata": {
            "tags": null
          },
          "name": "stderr",
          "output_type": "stream",
          "text": [
            "INFO:pyngrok.process.ngrok:t=2025-03-09T05:49:51+0000 lvl=info msg=\"join connections\" obj=join id=256f52f7f349 l=127.0.0.1:8237 r=[2401:4900:5f2d:237a:dcbe:c284:2908:aad5]:57127\n"
          ]
        },
        {
          "metadata": {
            "tags": null
          },
          "name": "stdout",
          "output_type": "stream",
          "text": [
            "\u001b[1;35mt=2025-03-09T05:49:51+0000 lvl=info msg=\"join connections\" obj=join id=256f52f7f349 l=127.0.0.1:8237 r=[2401:4900:5f2d:237a:dcbe:c284:2908:aad5]:57127\u001b[0m\n"
          ]
        },
        {
          "metadata": {
            "tags": null
          },
          "name": "stderr",
          "output_type": "stream",
          "text": [
            "INFO:pyngrok.process.ngrok:t=2025-03-09T05:49:51+0000 lvl=info msg=\"join connections\" obj=join id=45beb89f2070 l=127.0.0.1:8237 r=[2401:4900:5f2d:237a:dcbe:c284:2908:aad5]:57127\n"
          ]
        },
        {
          "metadata": {
            "tags": null
          },
          "name": "stdout",
          "output_type": "stream",
          "text": [
            "\u001b[1;35mt=2025-03-09T05:49:51+0000 lvl=info msg=\"join connections\" obj=join id=45beb89f2070 l=127.0.0.1:8237 r=[2401:4900:5f2d:237a:dcbe:c284:2908:aad5]:57127\u001b[0m\n"
          ]
        },
        {
          "metadata": {
            "tags": null
          },
          "name": "stderr",
          "output_type": "stream",
          "text": [
            "INFO:pyngrok.process.ngrok:t=2025-03-09T05:49:51+0000 lvl=info msg=\"join connections\" obj=join id=f2636bd0569c l=127.0.0.1:8237 r=[2401:4900:5f2d:237a:dcbe:c284:2908:aad5]:57127\n"
          ]
        },
        {
          "metadata": {
            "tags": null
          },
          "name": "stdout",
          "output_type": "stream",
          "text": [
            "\u001b[1;35mt=2025-03-09T05:49:51+0000 lvl=info msg=\"join connections\" obj=join id=f2636bd0569c l=127.0.0.1:8237 r=[2401:4900:5f2d:237a:dcbe:c284:2908:aad5]:57127\u001b[0m\n"
          ]
        },
        {
          "metadata": {
            "tags": null
          },
          "name": "stderr",
          "output_type": "stream",
          "text": [
            "INFO:pyngrok.process.ngrok:t=2025-03-09T05:49:51+0000 lvl=info msg=\"join connections\" obj=join id=3342d4fd11fc l=127.0.0.1:8237 r=[2401:4900:5f2d:237a:dcbe:c284:2908:aad5]:57127\n"
          ]
        },
        {
          "metadata": {
            "tags": null
          },
          "name": "stdout",
          "output_type": "stream",
          "text": [
            "\u001b[1;35mt=2025-03-09T05:49:51+0000 lvl=info msg=\"join connections\" obj=join id=3342d4fd11fc l=127.0.0.1:8237 r=[2401:4900:5f2d:237a:dcbe:c284:2908:aad5]:57127\u001b[0m\n"
          ]
        },
        {
          "metadata": {
            "tags": null
          },
          "name": "stderr",
          "output_type": "stream",
          "text": [
            "INFO:pyngrok.process.ngrok:t=2025-03-09T05:49:51+0000 lvl=info msg=\"join connections\" obj=join id=e6c13d979cfd l=127.0.0.1:8237 r=[2401:4900:5f2d:237a:dcbe:c284:2908:aad5]:57127\n"
          ]
        },
        {
          "metadata": {
            "tags": null
          },
          "name": "stdout",
          "output_type": "stream",
          "text": [
            "\u001b[1;35mt=2025-03-09T05:49:51+0000 lvl=info msg=\"join connections\" obj=join id=e6c13d979cfd l=127.0.0.1:8237 r=[2401:4900:5f2d:237a:dcbe:c284:2908:aad5]:57127\u001b[0m\n"
          ]
        },
        {
          "metadata": {
            "tags": null
          },
          "name": "stderr",
          "output_type": "stream",
          "text": [
            "INFO:pyngrok.process.ngrok:t=2025-03-09T05:49:51+0000 lvl=info msg=\"join connections\" obj=join id=0ad67cc5c7f4 l=127.0.0.1:8237 r=[2401:4900:5f2d:237a:dcbe:c284:2908:aad5]:57127\n"
          ]
        },
        {
          "metadata": {
            "tags": null
          },
          "name": "stdout",
          "output_type": "stream",
          "text": [
            "\u001b[1;35mt=2025-03-09T05:49:51+0000 lvl=info msg=\"join connections\" obj=join id=0ad67cc5c7f4 l=127.0.0.1:8237 r=[2401:4900:5f2d:237a:dcbe:c284:2908:aad5]:57127\u001b[0m\n"
          ]
        },
        {
          "metadata": {
            "tags": null
          },
          "name": "stderr",
          "output_type": "stream",
          "text": [
            "INFO:pyngrok.process.ngrok:t=2025-03-09T05:49:51+0000 lvl=info msg=\"join connections\" obj=join id=1a97e72a5473 l=127.0.0.1:8237 r=[2401:4900:5f2d:237a:dcbe:c284:2908:aad5]:57127\n"
          ]
        },
        {
          "metadata": {
            "tags": null
          },
          "name": "stdout",
          "output_type": "stream",
          "text": [
            "\u001b[1;35mt=2025-03-09T05:49:51+0000 lvl=info msg=\"join connections\" obj=join id=1a97e72a5473 l=127.0.0.1:8237 r=[2401:4900:5f2d:237a:dcbe:c284:2908:aad5]:57127\u001b[0m\n"
          ]
        },
        {
          "metadata": {
            "tags": null
          },
          "name": "stderr",
          "output_type": "stream",
          "text": [
            "INFO:pyngrok.process.ngrok:t=2025-03-09T05:49:51+0000 lvl=info msg=\"join connections\" obj=join id=a04222a61c4c l=127.0.0.1:8237 r=[2401:4900:5f2d:237a:dcbe:c284:2908:aad5]:57127\n"
          ]
        },
        {
          "metadata": {
            "tags": null
          },
          "name": "stdout",
          "output_type": "stream",
          "text": [
            "\u001b[1;35mt=2025-03-09T05:49:51+0000 lvl=info msg=\"join connections\" obj=join id=a04222a61c4c l=127.0.0.1:8237 r=[2401:4900:5f2d:237a:dcbe:c284:2908:aad5]:57127\u001b[0m\n"
          ]
        },
        {
          "metadata": {
            "tags": null
          },
          "name": "stderr",
          "output_type": "stream",
          "text": [
            "INFO:pyngrok.process.ngrok:t=2025-03-09T05:49:51+0000 lvl=info msg=\"join connections\" obj=join id=7b994592e36e l=127.0.0.1:8237 r=[2401:4900:5f2d:237a:dcbe:c284:2908:aad5]:57127\n"
          ]
        },
        {
          "metadata": {
            "tags": null
          },
          "name": "stdout",
          "output_type": "stream",
          "text": [
            "\u001b[1;35mt=2025-03-09T05:49:51+0000 lvl=info msg=\"join connections\" obj=join id=7b994592e36e l=127.0.0.1:8237 r=[2401:4900:5f2d:237a:dcbe:c284:2908:aad5]:57127\u001b[0m\n"
          ]
        },
        {
          "metadata": {
            "tags": null
          },
          "name": "stderr",
          "output_type": "stream",
          "text": [
            "INFO:pyngrok.process.ngrok:t=2025-03-09T05:49:51+0000 lvl=info msg=\"join connections\" obj=join id=ec6e61e88ddc l=127.0.0.1:8237 r=[2401:4900:5f2d:237a:dcbe:c284:2908:aad5]:57127\n"
          ]
        },
        {
          "metadata": {
            "tags": null
          },
          "name": "stdout",
          "output_type": "stream",
          "text": [
            "\u001b[1;35mt=2025-03-09T05:49:51+0000 lvl=info msg=\"join connections\" obj=join id=ec6e61e88ddc l=127.0.0.1:8237 r=[2401:4900:5f2d:237a:dcbe:c284:2908:aad5]:57127\u001b[0m\n"
          ]
        },
        {
          "metadata": {
            "tags": null
          },
          "name": "stderr",
          "output_type": "stream",
          "text": [
            "INFO:pyngrok.process.ngrok:t=2025-03-09T05:49:51+0000 lvl=info msg=\"join connections\" obj=join id=8b656d8a5ef2 l=127.0.0.1:8237 r=[2401:4900:5f2d:237a:dcbe:c284:2908:aad5]:57127\n"
          ]
        },
        {
          "metadata": {
            "tags": null
          },
          "name": "stdout",
          "output_type": "stream",
          "text": [
            "\u001b[1;35mt=2025-03-09T05:49:51+0000 lvl=info msg=\"join connections\" obj=join id=8b656d8a5ef2 l=127.0.0.1:8237 r=[2401:4900:5f2d:237a:dcbe:c284:2908:aad5]:57127\u001b[0m\n"
          ]
        },
        {
          "metadata": {
            "tags": null
          },
          "name": "stderr",
          "output_type": "stream",
          "text": [
            "INFO:pyngrok.process.ngrok:t=2025-03-09T05:49:51+0000 lvl=info msg=\"join connections\" obj=join id=eb9635019128 l=127.0.0.1:8237 r=[2401:4900:5f2d:237a:dcbe:c284:2908:aad5]:57127\n"
          ]
        },
        {
          "metadata": {
            "tags": null
          },
          "name": "stdout",
          "output_type": "stream",
          "text": [
            "\u001b[1;35mt=2025-03-09T05:49:51+0000 lvl=info msg=\"join connections\" obj=join id=eb9635019128 l=127.0.0.1:8237 r=[2401:4900:5f2d:237a:dcbe:c284:2908:aad5]:57127\u001b[0m\n"
          ]
        },
        {
          "metadata": {
            "tags": null
          },
          "name": "stderr",
          "output_type": "stream",
          "text": [
            "INFO:pyngrok.process.ngrok:t=2025-03-09T05:49:51+0000 lvl=info msg=\"join connections\" obj=join id=dc17a310f3af l=127.0.0.1:8237 r=[2401:4900:5f2d:237a:dcbe:c284:2908:aad5]:57127\n"
          ]
        },
        {
          "metadata": {
            "tags": null
          },
          "name": "stdout",
          "output_type": "stream",
          "text": [
            "\u001b[1;35mt=2025-03-09T05:49:51+0000 lvl=info msg=\"join connections\" obj=join id=dc17a310f3af l=127.0.0.1:8237 r=[2401:4900:5f2d:237a:dcbe:c284:2908:aad5]:57127\u001b[0m\n"
          ]
        },
        {
          "metadata": {
            "tags": null
          },
          "name": "stderr",
          "output_type": "stream",
          "text": [
            "INFO:pyngrok.process.ngrok:t=2025-03-09T05:49:51+0000 lvl=info msg=\"join connections\" obj=join id=ad72a1c94e28 l=127.0.0.1:8237 r=[2401:4900:5f2d:237a:dcbe:c284:2908:aad5]:57127\n"
          ]
        },
        {
          "metadata": {
            "tags": null
          },
          "name": "stdout",
          "output_type": "stream",
          "text": [
            "\u001b[1;35mt=2025-03-09T05:49:51+0000 lvl=info msg=\"join connections\" obj=join id=ad72a1c94e28 l=127.0.0.1:8237 r=[2401:4900:5f2d:237a:dcbe:c284:2908:aad5]:57127\u001b[0m\n"
          ]
        },
        {
          "metadata": {
            "tags": null
          },
          "name": "stderr",
          "output_type": "stream",
          "text": [
            "INFO:pyngrok.process.ngrok:t=2025-03-09T05:49:51+0000 lvl=info msg=\"join connections\" obj=join id=40cf7471e830 l=127.0.0.1:8237 r=[2401:4900:5f2d:237a:dcbe:c284:2908:aad5]:57127\n"
          ]
        },
        {
          "metadata": {
            "tags": null
          },
          "name": "stdout",
          "output_type": "stream",
          "text": [
            "\u001b[1;35mt=2025-03-09T05:49:51+0000 lvl=info msg=\"join connections\" obj=join id=40cf7471e830 l=127.0.0.1:8237 r=[2401:4900:5f2d:237a:dcbe:c284:2908:aad5]:57127\u001b[0m\n"
          ]
        },
        {
          "metadata": {
            "tags": null
          },
          "name": "stderr",
          "output_type": "stream",
          "text": [
            "INFO:pyngrok.process.ngrok:t=2025-03-09T05:49:51+0000 lvl=info msg=\"join connections\" obj=join id=64db62e83161 l=127.0.0.1:8237 r=[2401:4900:5f2d:237a:dcbe:c284:2908:aad5]:57127\n"
          ]
        },
        {
          "metadata": {
            "tags": null
          },
          "name": "stdout",
          "output_type": "stream",
          "text": [
            "\u001b[1;35mt=2025-03-09T05:49:51+0000 lvl=info msg=\"join connections\" obj=join id=64db62e83161 l=127.0.0.1:8237 r=[2401:4900:5f2d:237a:dcbe:c284:2908:aad5]:57127\u001b[0m\n"
          ]
        },
        {
          "metadata": {
            "tags": null
          },
          "name": "stderr",
          "output_type": "stream",
          "text": [
            "INFO:pyngrok.process.ngrok:t=2025-03-09T05:49:51+0000 lvl=info msg=\"join connections\" obj=join id=738dda677f1d l=127.0.0.1:8237 r=[2401:4900:5f2d:237a:dcbe:c284:2908:aad5]:57127\n"
          ]
        },
        {
          "metadata": {
            "tags": null
          },
          "name": "stdout",
          "output_type": "stream",
          "text": [
            "\u001b[1;35mt=2025-03-09T05:49:51+0000 lvl=info msg=\"join connections\" obj=join id=738dda677f1d l=127.0.0.1:8237 r=[2401:4900:5f2d:237a:dcbe:c284:2908:aad5]:57127\u001b[0m\n"
          ]
        },
        {
          "metadata": {
            "tags": null
          },
          "name": "stderr",
          "output_type": "stream",
          "text": [
            "INFO:pyngrok.process.ngrok:t=2025-03-09T05:49:51+0000 lvl=info msg=\"join connections\" obj=join id=aa548ece63b8 l=127.0.0.1:8237 r=[2401:4900:5f2d:237a:dcbe:c284:2908:aad5]:57127\n"
          ]
        },
        {
          "metadata": {
            "tags": null
          },
          "name": "stdout",
          "output_type": "stream",
          "text": [
            "\u001b[1;35mt=2025-03-09T05:49:51+0000 lvl=info msg=\"join connections\" obj=join id=aa548ece63b8 l=127.0.0.1:8237 r=[2401:4900:5f2d:237a:dcbe:c284:2908:aad5]:57127\u001b[0m\n"
          ]
        },
        {
          "metadata": {
            "tags": null
          },
          "name": "stderr",
          "output_type": "stream",
          "text": [
            "INFO:pyngrok.process.ngrok:t=2025-03-09T05:49:51+0000 lvl=info msg=\"join connections\" obj=join id=2d51265d4d32 l=127.0.0.1:8237 r=[2401:4900:5f2d:237a:dcbe:c284:2908:aad5]:57127\n"
          ]
        },
        {
          "metadata": {
            "tags": null
          },
          "name": "stdout",
          "output_type": "stream",
          "text": [
            "\u001b[1;35mt=2025-03-09T05:49:51+0000 lvl=info msg=\"join connections\" obj=join id=2d51265d4d32 l=127.0.0.1:8237 r=[2401:4900:5f2d:237a:dcbe:c284:2908:aad5]:57127\u001b[0m\n"
          ]
        },
        {
          "metadata": {
            "tags": null
          },
          "name": "stderr",
          "output_type": "stream",
          "text": [
            "INFO:pyngrok.process.ngrok:t=2025-03-09T05:49:51+0000 lvl=info msg=\"join connections\" obj=join id=048102d17add l=127.0.0.1:8237 r=[2401:4900:5f2d:237a:dcbe:c284:2908:aad5]:57127\n"
          ]
        },
        {
          "metadata": {
            "tags": null
          },
          "name": "stdout",
          "output_type": "stream",
          "text": [
            "\u001b[1;35mt=2025-03-09T05:49:51+0000 lvl=info msg=\"join connections\" obj=join id=048102d17add l=127.0.0.1:8237 r=[2401:4900:5f2d:237a:dcbe:c284:2908:aad5]:57127\u001b[0m\n"
          ]
        },
        {
          "metadata": {
            "tags": null
          },
          "name": "stderr",
          "output_type": "stream",
          "text": [
            "INFO:pyngrok.process.ngrok:t=2025-03-09T05:49:51+0000 lvl=info msg=\"join connections\" obj=join id=5f2e7c110197 l=127.0.0.1:8237 r=[2401:4900:5f2d:237a:dcbe:c284:2908:aad5]:57127\n"
          ]
        },
        {
          "metadata": {
            "tags": null
          },
          "name": "stdout",
          "output_type": "stream",
          "text": [
            "\u001b[1;35mt=2025-03-09T05:49:51+0000 lvl=info msg=\"join connections\" obj=join id=5f2e7c110197 l=127.0.0.1:8237 r=[2401:4900:5f2d:237a:dcbe:c284:2908:aad5]:57127\u001b[0m\n"
          ]
        },
        {
          "metadata": {
            "tags": null
          },
          "name": "stderr",
          "output_type": "stream",
          "text": [
            "INFO:pyngrok.process.ngrok:t=2025-03-09T05:49:51+0000 lvl=info msg=\"join connections\" obj=join id=1a7ecb8f0a11 l=127.0.0.1:8237 r=[2401:4900:5f2d:237a:dcbe:c284:2908:aad5]:57127\n"
          ]
        },
        {
          "metadata": {
            "tags": null
          },
          "name": "stdout",
          "output_type": "stream",
          "text": [
            "\u001b[1;35mt=2025-03-09T05:49:51+0000 lvl=info msg=\"join connections\" obj=join id=1a7ecb8f0a11 l=127.0.0.1:8237 r=[2401:4900:5f2d:237a:dcbe:c284:2908:aad5]:57127\u001b[0m\n"
          ]
        },
        {
          "metadata": {
            "tags": null
          },
          "name": "stderr",
          "output_type": "stream",
          "text": [
            "INFO:pyngrok.process.ngrok:t=2025-03-09T05:49:51+0000 lvl=info msg=\"join connections\" obj=join id=4fdfc2bfe565 l=127.0.0.1:8237 r=[2401:4900:5f2d:237a:dcbe:c284:2908:aad5]:57127\n"
          ]
        },
        {
          "metadata": {
            "tags": null
          },
          "name": "stdout",
          "output_type": "stream",
          "text": [
            "\u001b[1;35mt=2025-03-09T05:49:51+0000 lvl=info msg=\"join connections\" obj=join id=4fdfc2bfe565 l=127.0.0.1:8237 r=[2401:4900:5f2d:237a:dcbe:c284:2908:aad5]:57127\u001b[0m\n"
          ]
        },
        {
          "metadata": {
            "tags": null
          },
          "name": "stderr",
          "output_type": "stream",
          "text": [
            "INFO:pyngrok.process.ngrok:t=2025-03-09T05:49:51+0000 lvl=info msg=\"join connections\" obj=join id=db5089b9450f l=127.0.0.1:8237 r=[2401:4900:5f2d:237a:dcbe:c284:2908:aad5]:57127\n"
          ]
        },
        {
          "metadata": {
            "tags": null
          },
          "name": "stdout",
          "output_type": "stream",
          "text": [
            "\u001b[1;35mt=2025-03-09T05:49:51+0000 lvl=info msg=\"join connections\" obj=join id=db5089b9450f l=127.0.0.1:8237 r=[2401:4900:5f2d:237a:dcbe:c284:2908:aad5]:57127\u001b[0m\n",
            "\u001b[32mINFO\u001b[0m:     2401:4900:5f2d:237a:dcbe:c284:2908:aad5:0 - \"\u001b[1mGET /assets/settings_preview-0JLrRgHP.webp HTTP/1.1\u001b[0m\" \u001b[32m200 OK\u001b[0m\n",
            "\u001b[32mINFO\u001b[0m:     2401:4900:5f2d:237a:dcbe:c284:2908:aad5:0 - \"\u001b[1mGET /assets/upgrade-form-CwRHBuXB.webp HTTP/1.1\u001b[0m\" \u001b[32m200 OK\u001b[0m\n",
            "\u001b[32mINFO\u001b[0m:     2401:4900:5f2d:237a:dcbe:c284:2908:aad5:0 - \"\u001b[1mGET /assets/flyte-Cj-xy_8I.svg HTTP/1.1\u001b[0m\" \u001b[32m200 OK\u001b[0m\n",
            "\u001b[32mINFO\u001b[0m:     2401:4900:5f2d:237a:dcbe:c284:2908:aad5:0 - \"\u001b[1mGET /assets/adam-e-y0WnB_.webp HTTP/1.1\u001b[0m\" \u001b[32m200 OK\u001b[0m\n",
            "\u001b[32mINFO\u001b[0m:     2401:4900:5f2d:237a:dcbe:c284:2908:aad5:0 - \"\u001b[1mGET /assets/repos-video-D8kpu60k.svg HTTP/1.1\u001b[0m\" \u001b[32m200 OK\u001b[0m\n",
            "\u001b[32mINFO\u001b[0m:     2401:4900:5f2d:237a:dcbe:c284:2908:aad5:0 - \"\u001b[1mGET /assets/CodeSnippet-CK5CxKct.css HTTP/1.1\u001b[0m\" \u001b[32m200 OK\u001b[0m\n",
            "\u001b[32mINFO\u001b[0m:     2401:4900:5f2d:237a:dcbe:c284:2908:aad5:0 - \"\u001b[1mGET /assets/page-CxoG4zme.js HTTP/1.1\u001b[0m\" \u001b[32m200 OK\u001b[0m\n",
            "\u001b[32mINFO\u001b[0m:     2401:4900:5f2d:237a:dcbe:c284:2908:aad5:0 - \"\u001b[1mGET /assets/PasswordChecker-B4Uw6BJZ.js HTTP/1.1\u001b[0m\" \u001b[32m200 OK\u001b[0m\n",
            "\u001b[32mINFO\u001b[0m:     2401:4900:5f2d:237a:dcbe:c284:2908:aad5:0 - \"\u001b[1mGET /assets/page-k-UXKVnV.js HTTP/1.1\u001b[0m\" \u001b[32m200 OK\u001b[0m\n",
            "\u001b[32mINFO\u001b[0m:     2401:4900:5f2d:237a:dcbe:c284:2908:aad5:0 - \"\u001b[1mGET /assets/alex-DcCuDHPg.webp HTTP/1.1\u001b[0m\" \u001b[32m200 OK\u001b[0m\n",
            "\u001b[32mINFO\u001b[0m:     2401:4900:5f2d:237a:dcbe:c284:2908:aad5:0 - \"\u001b[1mGET /assets/hamza-NKKOZz1I.webp HTTP/1.1\u001b[0m\" \u001b[32m200 OK\u001b[0m\n",
            "\u001b[32mINFO\u001b[0m:     2401:4900:5f2d:237a:dcbe:c284:2908:aad5:0 - \"\u001b[1mGET /assets/page-2EzZ5aWS.js HTTP/1.1\u001b[0m\" \u001b[32m200 OK\u001b[0m\n",
            "\u001b[32mINFO\u001b[0m:     2401:4900:5f2d:237a:dcbe:c284:2908:aad5:0 - \"\u001b[1mGET /assets/page-cveasWUr.js HTTP/1.1\u001b[0m\" \u001b[32m200 OK\u001b[0m\n",
            "\u001b[32mINFO\u001b[0m:     2401:4900:5f2d:237a:dcbe:c284:2908:aad5:0 - \"\u001b[1mGET /assets/page-C89bN6VV.js HTTP/1.1\u001b[0m\" \u001b[32m200 OK\u001b[0m\n",
            "\u001b[32mINFO\u001b[0m:     2401:4900:5f2d:237a:dcbe:c284:2908:aad5:0 - \"\u001b[1mGET /assets/baris-C0ZrZ10g.webp HTTP/1.1\u001b[0m\" \u001b[32m200 OK\u001b[0m\n",
            "\u001b[32mINFO\u001b[0m:     2401:4900:5f2d:237a:dcbe:c284:2908:aad5:0 - \"\u001b[1mGET /assets/templates-1S_8WeSK.webp HTTP/1.1\u001b[0m\" \u001b[32m200 OK\u001b[0m\n",
            "\u001b[32mINFO\u001b[0m:     2401:4900:5f2d:237a:dcbe:c284:2908:aad5:0 - \"\u001b[1mGET /assets/page-BNrOW_3T.js HTTP/1.1\u001b[0m\" \u001b[32m200 OK\u001b[0m\n",
            "\u001b[32mINFO\u001b[0m:     2401:4900:5f2d:237a:dcbe:c284:2908:aad5:0 - \"\u001b[1mGET /assets/metaflow-weOkWNyT.svg HTTP/1.1\u001b[0m\" \u001b[32m200 OK\u001b[0m\n",
            "\u001b[32mINFO\u001b[0m:     2401:4900:5f2d:237a:dcbe:c284:2908:aad5:0 - \"\u001b[1mGET /assets/tour-cover-BYfeen6M.webp HTTP/1.1\u001b[0m\" \u001b[32m200 OK\u001b[0m\n",
            "\u001b[32mINFO\u001b[0m:     2401:4900:5f2d:237a:dcbe:c284:2908:aad5:0 - \"\u001b[1mGET /assets/stefan-B08Ftbba.webp HTTP/1.1\u001b[0m\" \u001b[32m200 OK\u001b[0m\n",
            "\u001b[32mINFO\u001b[0m:     2401:4900:5f2d:237a:dcbe:c284:2908:aad5:0 - \"\u001b[1mGET /assets/connectors-video-C9qY4syJ.svg HTTP/1.1\u001b[0m\" \u001b[32m200 OK\u001b[0m\n",
            "\u001b[32mINFO\u001b[0m:     2401:4900:5f2d:237a:dcbe:c284:2908:aad5:0 - \"\u001b[1mGET /assets/page-AnG2ilmi.js HTTP/1.1\u001b[0m\" \u001b[32m200 OK\u001b[0m\n",
            "\u001b[32mINFO\u001b[0m:     2401:4900:5f2d:237a:dcbe:c284:2908:aad5:0 - \"\u001b[1mGET /assets/not-found-DGQ8rm7B.js HTTP/1.1\u001b[0m\" \u001b[32m200 OK\u001b[0m\n",
            "\u001b[32mINFO\u001b[0m:     2401:4900:5f2d:237a:dcbe:c284:2908:aad5:0 - \"\u001b[1mGET /assets/page-TiOZeeo0.js HTTP/1.1\u001b[0m\" \u001b[32m200 OK\u001b[0m\n",
            "\u001b[32mINFO\u001b[0m:     2401:4900:5f2d:237a:dcbe:c284:2908:aad5:0 - \"\u001b[1mGET /assets/SetPassword-CWl2mwz8.js HTTP/1.1\u001b[0m\" \u001b[32m200 OK\u001b[0m\n",
            "\u001b[32mINFO\u001b[0m:     2401:4900:5f2d:237a:dcbe:c284:2908:aad5:0 - \"\u001b[1mGET /assets/page-C3BbJ-5n.js HTTP/1.1\u001b[0m\" \u001b[32m200 OK\u001b[0m\n",
            "\u001b[32mINFO\u001b[0m:     2401:4900:5f2d:237a:dcbe:c284:2908:aad5:0 - \"\u001b[1mGET /assets/page-CfeQbejg.js HTTP/1.1\u001b[0m\" \u001b[32m200 OK\u001b[0m\n",
            "\u001b[32mINFO\u001b[0m:     2401:4900:5f2d:237a:dcbe:c284:2908:aad5:0 - \"\u001b[1mGET /assets/page-BtkfcEI7.js HTTP/1.1\u001b[0m\" \u001b[32m200 OK\u001b[0m\n",
            "\u001b[32mINFO\u001b[0m:     2401:4900:5f2d:237a:dcbe:c284:2908:aad5:0 - \"\u001b[1mGET /assets/page-CCEwuGU4.js HTTP/1.1\u001b[0m\" \u001b[32m200 OK\u001b[0m\n",
            "\u001b[32mINFO\u001b[0m:     2401:4900:5f2d:237a:dcbe:c284:2908:aad5:0 - \"\u001b[1mGET /assets/Commands-V-hH_IKQ.js HTTP/1.1\u001b[0m\" \u001b[32m200 OK\u001b[0m\n",
            "\u001b[32mINFO\u001b[0m:     2401:4900:5f2d:237a:dcbe:c284:2908:aad5:0 - \"\u001b[1mGET /assets/SecretTooltip-CHPWF0bu.js HTTP/1.1\u001b[0m\" \u001b[32m200 OK\u001b[0m\n",
            "\u001b[32mINFO\u001b[0m:     2401:4900:5f2d:237a:dcbe:c284:2908:aad5:0 - \"\u001b[1mGET /assets/page-CxrLV30P.js HTTP/1.1\u001b[0m\" \u001b[32m200 OK\u001b[0m\n",
            "\u001b[32mINFO\u001b[0m:     2401:4900:5f2d:237a:dcbe:c284:2908:aad5:0 - \"\u001b[1mGET /assets/dates-3pMLCNrD.js HTTP/1.1\u001b[0m\" \u001b[32m200 OK\u001b[0m\n",
            "\u001b[32mINFO\u001b[0m:     2401:4900:5f2d:237a:dcbe:c284:2908:aad5:0 - \"\u001b[1mGET /assets/tick-circle-AaVBszPn.js HTTP/1.1\u001b[0m\" \u001b[32m200 OK\u001b[0m\n",
            "\u001b[32mINFO\u001b[0m:     2401:4900:5f2d:237a:dcbe:c284:2908:aad5:0 - \"\u001b[1mGET /assets/react-error-boundary.esm-BkGIR1Du.js HTTP/1.1\u001b[0m\" \u001b[32m200 OK\u001b[0m\n",
            "\u001b[32mINFO\u001b[0m:     2401:4900:5f2d:237a:dcbe:c284:2908:aad5:0 - \"\u001b[1mGET /assets/page-nHAZvd76.js HTTP/1.1\u001b[0m\" \u001b[32m200 OK\u001b[0m\n",
            "\u001b[32mINFO\u001b[0m:     2401:4900:5f2d:237a:dcbe:c284:2908:aad5:0 - \"\u001b[1mGET /assets/code-snippets-CqONne41.js HTTP/1.1\u001b[0m\" \u001b[32m200 OK\u001b[0m\n",
            "\u001b[32mINFO\u001b[0m:     2401:4900:5f2d:237a:dcbe:c284:2908:aad5:0 - \"\u001b[1mGET /assets/page-Cyoe7AtN.js HTTP/1.1\u001b[0m\" \u001b[32m200 OK\u001b[0m\n",
            "\u001b[32mINFO\u001b[0m:     2401:4900:5f2d:237a:dcbe:c284:2908:aad5:0 - \"\u001b[1mGET /assets/page-BKN4SYXY.js HTTP/1.1\u001b[0m\" \u001b[32m200 OK\u001b[0m\n",
            "\u001b[32mINFO\u001b[0m:     2401:4900:5f2d:237a:dcbe:c284:2908:aad5:0 - \"\u001b[1mGET /assets/DialogItem-ST291Hsl.js HTTP/1.1\u001b[0m\" \u001b[32m200 OK\u001b[0m\n",
            "\u001b[32mINFO\u001b[0m:     2401:4900:5f2d:237a:dcbe:c284:2908:aad5:0 - \"\u001b[1mGET /assets/page-COAGXWJu.js HTTP/1.1\u001b[0m\" \u001b[32m200 OK\u001b[0m\n",
            "\u001b[32mINFO\u001b[0m:     2401:4900:5f2d:237a:dcbe:c284:2908:aad5:0 - \"\u001b[1mGET /assets/page-CZ_3LB0U.js HTTP/1.1\u001b[0m\" \u001b[32m200 OK\u001b[0m\n",
            "\u001b[32mINFO\u001b[0m:     2401:4900:5f2d:237a:dcbe:c284:2908:aad5:0 - \"\u001b[1mGET /assets/docker-B3Sqzd8J.js HTTP/1.1\u001b[0m\" \u001b[32m200 OK\u001b[0m\n",
            "\u001b[32mINFO\u001b[0m:     2401:4900:5f2d:237a:dcbe:c284:2908:aad5:0 - \"\u001b[1mGET /assets/page-iTvxfhgZ.js HTTP/1.1\u001b[0m\" \u001b[32m200 OK\u001b[0m\n",
            "\u001b[32mINFO\u001b[0m:     2401:4900:5f2d:237a:dcbe:c284:2908:aad5:0 - \"\u001b[1mGET /assets/page-Dy6HYsJr.js HTTP/1.1\u001b[0m\" \u001b[32m200 OK\u001b[0m\n",
            "\u001b[32mINFO\u001b[0m:     2401:4900:5f2d:237a:dcbe:c284:2908:aad5:0 - \"\u001b[1mGET /assets/CollapsibleCard-Djtd_ocf.js HTTP/1.1\u001b[0m\" \u001b[32m200 OK\u001b[0m\n",
            "\u001b[32mINFO\u001b[0m:     2401:4900:5f2d:237a:dcbe:c284:2908:aad5:0 - \"\u001b[1mGET /assets/DeleteAlertDialog-CTLRrcFM.js HTTP/1.1\u001b[0m\" \u001b[32m200 OK\u001b[0m\n",
            "\u001b[32mINFO\u001b[0m:     2401:4900:5f2d:237a:dcbe:c284:2908:aad5:0 - \"\u001b[1mGET /assets/NestedCollapsible-CE4OF670.js HTTP/1.1\u001b[0m\" \u001b[32m200 OK\u001b[0m\n",
            "\u001b[32mINFO\u001b[0m:     2401:4900:5f2d:237a:dcbe:c284:2908:aad5:0 - \"\u001b[1mGET /assets/AlertDialogDropdownItem-XL2NfFgP.js HTTP/1.1\u001b[0m\" \u001b[32m200 OK\u001b[0m\n",
            "\u001b[32mINFO\u001b[0m:     2401:4900:5f2d:237a:dcbe:c284:2908:aad5:0 - \"\u001b[1mGET /assets/page-BnOdORy3.js HTTP/1.1\u001b[0m\" \u001b[32m200 OK\u001b[0m\n",
            "\u001b[32mINFO\u001b[0m:     2401:4900:5f2d:237a:dcbe:c284:2908:aad5:0 - \"\u001b[1mGET /assets/code-browser-DvB0W2Ix.js HTTP/1.1\u001b[0m\" \u001b[32m200 OK\u001b[0m\n",
            "\u001b[32mINFO\u001b[0m:     2401:4900:5f2d:237a:dcbe:c284:2908:aad5:0 - \"\u001b[1mGET /assets/SearchField-DfNxVtjV.js HTTP/1.1\u001b[0m\" \u001b[32m200 OK\u001b[0m\n",
            "\u001b[32mINFO\u001b[0m:     2401:4900:5f2d:237a:dcbe:c284:2908:aad5:0 - \"\u001b[1mGET /assets/page-Bz_grLBY.js HTTP/1.1\u001b[0m\" \u001b[32m200 OK\u001b[0m\n",
            "\u001b[32mINFO\u001b[0m:     2401:4900:5f2d:237a:dcbe:c284:2908:aad5:0 - \"\u001b[1mGET /assets/ExecutionStatus-DHiK3Am-.js HTTP/1.1\u001b[0m\" \u001b[32m200 OK\u001b[0m\n",
            "\u001b[32mINFO\u001b[0m:     2401:4900:5f2d:237a:dcbe:c284:2908:aad5:0 - \"\u001b[1mGET /assets/delete-run-CzPWbsBy.js HTTP/1.1\u001b[0m\" \u001b[32m200 OK\u001b[0m\n",
            "\u001b[32mINFO\u001b[0m:     2401:4900:5f2d:237a:dcbe:c284:2908:aad5:0 - \"\u001b[1mGET /assets/refresh-CupyU1Vs.js HTTP/1.1\u001b[0m\" \u001b[32m200 OK\u001b[0m\n",
            "\u001b[32mINFO\u001b[0m:     2401:4900:5f2d:237a:dcbe:c284:2908:aad5:0 - \"\u001b[1mGET /assets/RunsBody-D2VoO-cR.js HTTP/1.1\u001b[0m\" \u001b[32m200 OK\u001b[0m\n",
            "\u001b[32mINFO\u001b[0m:     2401:4900:5f2d:237a:dcbe:c284:2908:aad5:0 - \"\u001b[1mGET /assets/all-pipeline-runs-query-B509kMlL.js HTTP/1.1\u001b[0m\" \u001b[32m200 OK\u001b[0m\n",
            "\u001b[32mINFO\u001b[0m:     2401:4900:5f2d:237a:dcbe:c284:2908:aad5:0 - \"\u001b[1mGET /assets/service-DNKY_ZYd.js HTTP/1.1\u001b[0m\" \u001b[32m200 OK\u001b[0m\n",
            "\u001b[32mINFO\u001b[0m:     2401:4900:5f2d:237a:dcbe:c284:2908:aad5:0 - \"\u001b[1mGET /assets/Tabs-BEWDPvPV.js HTTP/1.1\u001b[0m\" \u001b[32m200 OK\u001b[0m\n",
            "\u001b[32mINFO\u001b[0m:     2401:4900:5f2d:237a:dcbe:c284:2908:aad5:0 - \"\u001b[1mGET /assets/clock-k5T5tYrt.js HTTP/1.1\u001b[0m\" \u001b[32m200 OK\u001b[0m\n",
            "\u001b[32mINFO\u001b[0m:     2401:4900:5f2d:237a:dcbe:c284:2908:aad5:0 - \"\u001b[1mGET /assets/RunSelector-CYmRHGdm.js HTTP/1.1\u001b[0m\" \u001b[32m200 OK\u001b[0m\n",
            "\u001b[32mINFO\u001b[0m:     2401:4900:5f2d:237a:dcbe:c284:2908:aad5:0 - \"\u001b[1mGET /assets/page-BX6ZrAVH.js HTTP/1.1\u001b[0m\" \u001b[32m200 OK\u001b[0m\n",
            "\u001b[32mINFO\u001b[0m:     2401:4900:5f2d:237a:dcbe:c284:2908:aad5:0 - \"\u001b[1mGET /assets/update-server-settings-mutation-CNYCc-FU.js HTTP/1.1\u001b[0m\" \u001b[32m200 OK\u001b[0m\n",
            "\u001b[32mINFO\u001b[0m:     2401:4900:5f2d:237a:dcbe:c284:2908:aad5:0 - \"\u001b[1mGET /assets/page-DEnmFyzi.js HTTP/1.1\u001b[0m\" \u001b[32m200 OK\u001b[0m\n",
            "\u001b[32mINFO\u001b[0m:     2401:4900:5f2d:237a:dcbe:c284:2908:aad5:0 - \"\u001b[1mGET /assets/login-mutation-7WFxPe10.js HTTP/1.1\u001b[0m\" \u001b[32m200 OK\u001b[0m\n",
            "\u001b[32mINFO\u001b[0m:     2401:4900:5f2d:237a:dcbe:c284:2908:aad5:0 - \"\u001b[1mGET /assets/page-B9ELcPAy.js HTTP/1.1\u001b[0m\" \u001b[32m200 OK\u001b[0m\n",
            "\u001b[32mINFO\u001b[0m:     2401:4900:5f2d:237a:dcbe:c284:2908:aad5:0 - \"\u001b[1mGET /assets/page-C5xq6rqE.js HTTP/1.1\u001b[0m\" \u001b[32m200 OK\u001b[0m\n",
            "\u001b[32mINFO\u001b[0m:     2401:4900:5f2d:237a:dcbe:c284:2908:aad5:0 - \"\u001b[1mGET /assets/StackList-C8KNd00o.js HTTP/1.1\u001b[0m\" \u001b[32m200 OK\u001b[0m\n",
            "\u001b[32mINFO\u001b[0m:     2401:4900:5f2d:237a:dcbe:c284:2908:aad5:0 - \"\u001b[1mGET /assets/index-BVVKxTWC.js HTTP/1.1\u001b[0m\" \u001b[32m200 OK\u001b[0m\n",
            "\u001b[32mINFO\u001b[0m:     2401:4900:5f2d:237a:dcbe:c284:2908:aad5:0 - \"\u001b[1mGET /assets/Lock-tO9Z41I9.js HTTP/1.1\u001b[0m\" \u001b[32m200 OK\u001b[0m\n",
            "\u001b[32mINFO\u001b[0m:     2401:4900:5f2d:237a:dcbe:c284:2908:aad5:0 - \"\u001b[1mGET /assets/arrow-left-B2hyhFky.js HTTP/1.1\u001b[0m\" \u001b[32m200 OK\u001b[0m\n",
            "\u001b[32mINFO\u001b[0m:     2401:4900:5f2d:237a:dcbe:c284:2908:aad5:0 - \"\u001b[1mGET /assets/page-CskoTYOC.js HTTP/1.1\u001b[0m\" \u001b[32m200 OK\u001b[0m\n",
            "\u001b[32mINFO\u001b[0m:     2401:4900:5f2d:237a:dcbe:c284:2908:aad5:0 - \"\u001b[1mGET /assets/type-guards-CaeD8wHO.js HTTP/1.1\u001b[0m\" \u001b[32m200 OK\u001b[0m\n",
            "\u001b[32mINFO\u001b[0m:     2401:4900:5f2d:237a:dcbe:c284:2908:aad5:0 - \"\u001b[1mGET /assets/Error-CIBjAdSc.js HTTP/1.1\u001b[0m\" \u001b[32m200 OK\u001b[0m\n",
            "\u001b[32mINFO\u001b[0m:     2401:4900:5f2d:237a:dcbe:c284:2908:aad5:0 - \"\u001b[1mGET /assets/DisplayDate-C5Aw-Yca.js HTTP/1.1\u001b[0m\" \u001b[32m200 OK\u001b[0m\n",
            "\u001b[32mINFO\u001b[0m:     2401:4900:5f2d:237a:dcbe:c284:2908:aad5:0 - \"\u001b[1mGET /assets/ComponentIcon-gpMJ2Y2e.js HTTP/1.1\u001b[0m\" \u001b[32m200 OK\u001b[0m\n",
            "\u001b[32mINFO\u001b[0m:     2401:4900:5f2d:237a:dcbe:c284:2908:aad5:0 - \"\u001b[1mGET /assets/page-D1upvSPi.js HTTP/1.1\u001b[0m\" \u001b[32m200 OK\u001b[0m\n",
            "\u001b[32mINFO\u001b[0m:     2401:4900:5f2d:237a:dcbe:c284:2908:aad5:0 - \"\u001b[1mGET /assets/ProviderRadio-C4bltH6-.js HTTP/1.1\u001b[0m\" \u001b[32m200 OK\u001b[0m\n",
            "\u001b[32mINFO\u001b[0m:     2401:4900:5f2d:237a:dcbe:c284:2908:aad5:0 - \"\u001b[1mGET /assets/InlineAvatar-Bk4QLPTU.js HTTP/1.1\u001b[0m\" \u001b[32m200 OK\u001b[0m\n",
            "\u001b[32mINFO\u001b[0m:     2401:4900:5f2d:237a:dcbe:c284:2908:aad5:0 - \"\u001b[1mGET /assets/configuration-form-BEwWCxqY.js HTTP/1.1\u001b[0m\" \u001b[32m200 OK\u001b[0m\n",
            "\u001b[32mINFO\u001b[0m:     2401:4900:5f2d:237a:dcbe:c284:2908:aad5:0 - \"\u001b[1mGET /assets/constants-DP3ZEnXH.js HTTP/1.1\u001b[0m\" \u001b[32m200 OK\u001b[0m\n",
            "\u001b[32mINFO\u001b[0m:     2401:4900:5f2d:237a:dcbe:c284:2908:aad5:0 - \"\u001b[1mGET /assets/page-niRD8Hqz.js HTTP/1.1\u001b[0m\" \u001b[32m200 OK\u001b[0m\n",
            "\u001b[32mINFO\u001b[0m:     2401:4900:5f2d:237a:dcbe:c284:2908:aad5:0 - \"\u001b[1mGET /assets/components-Br2ezRib.js HTTP/1.1\u001b[0m\" \u001b[32m200 OK\u001b[0m\n",
            "\u001b[32mINFO\u001b[0m:     2401:4900:5f2d:237a:dcbe:c284:2908:aad5:0 - \"\u001b[1mGET /assets/page-D8UimvyP.js HTTP/1.1\u001b[0m\" \u001b[32m200 OK\u001b[0m\n",
            "\u001b[32mINFO\u001b[0m:     2401:4900:5f2d:237a:dcbe:c284:2908:aad5:0 - \"\u001b[1mGET /assets/index-Dba8yULY.js HTTP/1.1\u001b[0m\" \u001b[32m200 OK\u001b[0m\n",
            "\u001b[32mINFO\u001b[0m:     2401:4900:5f2d:237a:dcbe:c284:2908:aad5:0 - \"\u001b[1mGET /assets/terminal-square-URAPn9DB.js HTTP/1.1\u001b[0m\" \u001b[32m200 OK\u001b[0m\n",
            "\u001b[32mINFO\u001b[0m:     2401:4900:5f2d:237a:dcbe:c284:2908:aad5:0 - \"\u001b[1mGET /assets/page-CaibMa0l.js HTTP/1.1\u001b[0m\" \u001b[32m200 OK\u001b[0m\n",
            "\u001b[32mINFO\u001b[0m:     2401:4900:5f2d:237a:dcbe:c284:2908:aad5:0 - \"\u001b[1mGET /assets/sharedSchema-BOmQa793.js HTTP/1.1\u001b[0m\" \u001b[32m200 OK\u001b[0m\n",
            "\u001b[32mINFO\u001b[0m:     2401:4900:5f2d:237a:dcbe:c284:2908:aad5:0 - \"\u001b[1mGET /assets/page-D03wm5f1.js HTTP/1.1\u001b[0m\" \u001b[32m200 OK\u001b[0m\n",
            "\u001b[32mINFO\u001b[0m:     2401:4900:5f2d:237a:dcbe:c284:2908:aad5:0 - \"\u001b[1mGET /assets/CodeSnippet-D8ptwPjg.js HTTP/1.1\u001b[0m\" \u001b[32m200 OK\u001b[0m\n",
            "\u001b[32mINFO\u001b[0m:     2401:4900:5f2d:237a:dcbe:c284:2908:aad5:0 - \"\u001b[1mGET /assets/page-DazwBcbq.js HTTP/1.1\u001b[0m\" \u001b[32m200 OK\u001b[0m\n",
            "\u001b[32mINFO\u001b[0m:     2401:4900:5f2d:237a:dcbe:c284:2908:aad5:0 - \"\u001b[1mGET /assets/page-B6msmF1h.js HTTP/1.1\u001b[0m\" \u001b[32m200 OK\u001b[0m\n",
            "\u001b[32mINFO\u001b[0m:     2401:4900:5f2d:237a:dcbe:c284:2908:aad5:0 - \"\u001b[1mGET /assets/Partials-cL1-u_sT.js HTTP/1.1\u001b[0m\" \u001b[32m200 OK\u001b[0m\n",
            "\u001b[32mINFO\u001b[0m:     2401:4900:5f2d:237a:dcbe:c284:2908:aad5:0 - \"\u001b[1mGET /assets/transform-DKsRLKTv.js HTTP/1.1\u001b[0m\" \u001b[32m200 OK\u001b[0m\n",
            "\u001b[32mINFO\u001b[0m:     2401:4900:5f2d:237a:dcbe:c284:2908:aad5:0 - \"\u001b[1mGET /assets/logs-D6_diV2k.js HTTP/1.1\u001b[0m\" \u001b[32m200 OK\u001b[0m\n",
            "\u001b[32mINFO\u001b[0m:     2401:4900:5f2d:237a:dcbe:c284:2908:aad5:0 - \"\u001b[1mGET /assets/ProCta-DtUutIul.js HTTP/1.1\u001b[0m\" \u001b[32m200 OK\u001b[0m\n",
            "\u001b[32mINFO\u001b[0m:     2401:4900:5f2d:237a:dcbe:c284:2908:aad5:0 - \"\u001b[1mGET /assets/check-DZ0KAh3W.js HTTP/1.1\u001b[0m\" \u001b[32m200 OK\u001b[0m\n",
            "\u001b[32mINFO\u001b[0m:     2401:4900:5f2d:237a:dcbe:c284:2908:aad5:0 - \"\u001b[1mGET /assets/UsageReason-CwUrEwEz.js HTTP/1.1\u001b[0m\" \u001b[32m200 OK\u001b[0m\n",
            "\u001b[32mINFO\u001b[0m:     2401:4900:5f2d:237a:dcbe:c284:2908:aad5:0 - \"\u001b[1mGET /assets/plus-CoKtHiA9.js HTTP/1.1\u001b[0m\" \u001b[32m200 OK\u001b[0m\n",
            "\u001b[32mINFO\u001b[0m:     2401:4900:5f2d:237a:dcbe:c284:2908:aad5:0 - \"\u001b[1mGET /assets/Wizard-CynnoHg4.js HTTP/1.1\u001b[0m\" \u001b[32m200 OK\u001b[0m\n",
            "\u001b[32mINFO\u001b[0m:     2401:4900:5f2d:237a:dcbe:c284:2908:aad5:0 - \"\u001b[1mGET /assets/NumberBox-BvBJYxCu.js HTTP/1.1\u001b[0m\" \u001b[32m200 OK\u001b[0m\n",
            "\u001b[32mINFO\u001b[0m:     2401:4900:5f2d:237a:dcbe:c284:2908:aad5:0 - \"\u001b[1mGET /assets/link-external-BYm_zH_8.js HTTP/1.1\u001b[0m\" \u001b[32m200 OK\u001b[0m\n",
            "\u001b[32mINFO\u001b[0m:     2401:4900:5f2d:237a:dcbe:c284:2908:aad5:0 - \"\u001b[1mGET /assets/check-circle-DyCCYTA0.js HTTP/1.1\u001b[0m\" \u001b[32m200 OK\u001b[0m\n",
            "\u001b[32mINFO\u001b[0m:     2401:4900:5f2d:237a:dcbe:c284:2908:aad5:0 - \"\u001b[1mGET /assets/help-CfT0tY2I.js HTTP/1.1\u001b[0m\" \u001b[32m200 OK\u001b[0m\n",
            "\u001b[32mINFO\u001b[0m:     2401:4900:5f2d:237a:dcbe:c284:2908:aad5:0 - \"\u001b[1mGET /assets/page-DLw1Apss.js HTTP/1.1\u001b[0m\" \u001b[32m200 OK\u001b[0m\n",
            "\u001b[32mINFO\u001b[0m:     2401:4900:5f2d:237a:dcbe:c284:2908:aad5:0 - \"\u001b[1mGET /assets/kubernetes-eA-Y6gE7.js HTTP/1.1\u001b[0m\" \u001b[32m200 OK\u001b[0m\n",
            "\u001b[32mINFO\u001b[0m:     2401:4900:5f2d:237a:dcbe:c284:2908:aad5:0 - \"\u001b[1mGET /assets/persist-BglceT_t.js HTTP/1.1\u001b[0m\" \u001b[32m200 OK\u001b[0m\n",
            "\u001b[32mINFO\u001b[0m:     2401:4900:5f2d:237a:dcbe:c284:2908:aad5:0 - \"\u001b[1mGET /assets/Tick-DgU4udUn.js HTTP/1.1\u001b[0m\" \u001b[32m200 OK\u001b[0m\n",
            "\u001b[32mINFO\u001b[0m:     2401:4900:5f2d:237a:dcbe:c284:2908:aad5:0 - \"\u001b[1mGET /assets/flavor-select-C1pyy8gq.js HTTP/1.1\u001b[0m\" \u001b[32m200 OK\u001b[0m\n",
            "\u001b[32mINFO\u001b[0m:     2401:4900:5f2d:237a:dcbe:c284:2908:aad5:0 - \"\u001b[1mGET /assets/ComponentBadge-CVN2FsiW.js HTTP/1.1\u001b[0m\" \u001b[32m200 OK\u001b[0m\n",
            "\u001b[32mINFO\u001b[0m:     2401:4900:5f2d:237a:dcbe:c284:2908:aad5:0 - \"\u001b[1mGET /assets/ProviderIcon-DKN3Gdcg.js HTTP/1.1\u001b[0m\" \u001b[32m200 OK\u001b[0m\n",
            "\u001b[32mINFO\u001b[0m:     2401:4900:5f2d:237a:dcbe:c284:2908:aad5:0 - \"\u001b[1mGET /assets/MarkdownVisualization-C3JLiPCY.js HTTP/1.1\u001b[0m\" \u001b[32m200 OK\u001b[0m\n",
            "\u001b[32mINFO\u001b[0m:     2401:4900:5f2d:237a:dcbe:c284:2908:aad5:0 - \"\u001b[1mGET /assets/trash-B_JgTgqd.js HTTP/1.1\u001b[0m\" \u001b[32m200 OK\u001b[0m\n",
            "\u001b[32mINFO\u001b[0m:     2401:4900:5f2d:237a:dcbe:c284:2908:aad5:0 - \"\u001b[1mGET /assets/rocket-k68ONPDS.js HTTP/1.1\u001b[0m\" \u001b[32m200 OK\u001b[0m\n",
            "\u001b[32mINFO\u001b[0m:     2401:4900:5f2d:237a:dcbe:c284:2908:aad5:0 - \"\u001b[1mGET /assets/index-Bjeu4_0O.js HTTP/1.1\u001b[0m\" \u001b[32m200 OK\u001b[0m\n",
            "\u001b[32mINFO\u001b[0m:     2401:4900:5f2d:237a:dcbe:c284:2908:aad5:0 - \"\u001b[1mGET /assets/login-command-CkqxPtV3.js HTTP/1.1\u001b[0m\" \u001b[32m200 OK\u001b[0m\n",
            "\u001b[32mINFO\u001b[0m:     2401:4900:5f2d:237a:dcbe:c284:2908:aad5:0 - \"\u001b[1mGET /assets/gcp-0u4le6mC.js HTTP/1.1\u001b[0m\" \u001b[32m200 OK\u001b[0m\n",
            "\u001b[32mINFO\u001b[0m:     2401:4900:5f2d:237a:dcbe:c284:2908:aad5:0 - \"\u001b[1mGET /assets/index-CaRx22lH.js HTTP/1.1\u001b[0m\" \u001b[32m200 OK\u001b[0m\n",
            "\u001b[32mINFO\u001b[0m:     2401:4900:5f2d:237a:dcbe:c284:2908:aad5:0 - \"\u001b[1mGET /assets/UpdatePasswordSchemas-DCuCj7NK.js HTTP/1.1\u001b[0m\" \u001b[32m200 OK\u001b[0m\n",
            "\u001b[32mINFO\u001b[0m:     2401:4900:5f2d:237a:dcbe:c284:2908:aad5:0 - \"\u001b[1mGET /assets/file-text-CgxVzNph.js HTTP/1.1\u001b[0m\" \u001b[32m200 OK\u001b[0m\n",
            "\u001b[32mINFO\u001b[0m:     2401:4900:5f2d:237a:dcbe:c284:2908:aad5:0 - \"\u001b[1mGET /assets/chevron-down-A3PXOshS.js HTTP/1.1\u001b[0m\" \u001b[32m200 OK\u001b[0m\n",
            "\u001b[32mINFO\u001b[0m:     2401:4900:5f2d:237a:dcbe:c284:2908:aad5:0 - \"\u001b[1mGET /assets/ProBadge-ypma7R8i.js HTTP/1.1\u001b[0m\" \u001b[32m200 OK\u001b[0m\n",
            "\u001b[32mINFO\u001b[0m:     2401:4900:5f2d:237a:dcbe:c284:2908:aad5:0 - \"\u001b[1mGET /assets/layout-3_rgDUxf.js HTTP/1.1\u001b[0m\" \u001b[32m200 OK\u001b[0m\n",
            "\u001b[32mINFO\u001b[0m:     2401:4900:5f2d:237a:dcbe:c284:2908:aad5:0 - \"\u001b[1mGET /assets/create-stack-BjWXz5nx.js HTTP/1.1\u001b[0m\" \u001b[32m200 OK\u001b[0m\n",
            "\u001b[32mINFO\u001b[0m:     2401:4900:5f2d:237a:dcbe:c284:2908:aad5:0 - \"\u001b[1mGET /assets/Helpbox-cwQNH06F.js HTTP/1.1\u001b[0m\" \u001b[32m200 OK\u001b[0m\n",
            "\u001b[32mINFO\u001b[0m:     2401:4900:5f2d:237a:dcbe:c284:2908:aad5:0 - \"\u001b[1mGET /assets/Infobox-DYKoAVhW.js HTTP/1.1\u001b[0m\" \u001b[32m200 OK\u001b[0m\n",
            "\u001b[32mINFO\u001b[0m:     2401:4900:5f2d:237a:dcbe:c284:2908:aad5:0 - \"\u001b[1mGET /assets/key-icon-CjwWwoOU.js HTTP/1.1\u001b[0m\" \u001b[32m200 OK\u001b[0m\n",
            "\u001b[32mINFO\u001b[0m:     2401:4900:5f2d:237a:dcbe:c284:2908:aad5:0 - \"\u001b[1mGET /assets/CsvVizualization-CWaQcWIN.js HTTP/1.1\u001b[0m\" \u001b[32m200 OK\u001b[0m\n",
            "\u001b[32mINFO\u001b[0m:     2401:4900:5f2d:237a:dcbe:c284:2908:aad5:0 - \"\u001b[1mGET /assets/form-schemas-B6u3P_a4.js HTTP/1.1\u001b[0m\" \u001b[32m200 OK\u001b[0m\n",
            "\u001b[32mINFO\u001b[0m:     2401:4900:5f2d:237a:dcbe:c284:2908:aad5:0 - \"\u001b[1mGET /assets/persist-CMkLV2Cs.js HTTP/1.1\u001b[0m\" \u001b[32m200 OK\u001b[0m\n",
            "\u001b[32mINFO\u001b[0m:     2401:4900:5f2d:237a:dcbe:c284:2908:aad5:0 - \"\u001b[1mGET /assets/stack-detail-query-CI_YMUx6.js HTTP/1.1\u001b[0m\" \u001b[32m200 OK\u001b[0m\n",
            "\u001b[32mINFO\u001b[0m:     2401:4900:5f2d:237a:dcbe:c284:2908:aad5:0 - \"\u001b[1mGET /assets/EmptyState-DpbfQBDE.js HTTP/1.1\u001b[0m\" \u001b[32m200 OK\u001b[0m\n",
            "\u001b[32mINFO\u001b[0m:     2401:4900:5f2d:237a:dcbe:c284:2908:aad5:0 - \"\u001b[1mGET /assets/package-BOms6B-A.js HTTP/1.1\u001b[0m\" \u001b[32m200 OK\u001b[0m\n",
            "\u001b[32mINFO\u001b[0m:     2401:4900:5f2d:237a:dcbe:c284:2908:aad5:0 - \"\u001b[1mGET /assets/zod-CRNUMWWg.js HTTP/1.1\u001b[0m\" \u001b[32m200 OK\u001b[0m\n",
            "\u001b[32mINFO\u001b[0m:     2401:4900:5f2d:237a:dcbe:c284:2908:aad5:0 - \"\u001b[1mGET /assets/index.esm-cf-8NBxV.js HTTP/1.1\u001b[0m\" \u001b[32m200 OK\u001b[0m\n",
            "\u001b[32mINFO\u001b[0m:     2401:4900:5f2d:237a:dcbe:c284:2908:aad5:0 - \"\u001b[1mGET /assets/chevron-right-double-zKz7rAaU.js HTTP/1.1\u001b[0m\" \u001b[32m200 OK\u001b[0m\n",
            "\u001b[32mINFO\u001b[0m:     2401:4900:5f2d:237a:dcbe:c284:2908:aad5:0 - \"\u001b[1mGET /assets/404-BbAvjc7Z.js HTTP/1.1\u001b[0m\" \u001b[32m200 OK\u001b[0m\n",
            "\u001b[32mINFO\u001b[0m:     2401:4900:5f2d:237a:dcbe:c284:2908:aad5:0 - \"\u001b[1mGET /assets/WizardFooter-B2bYs89C.js HTTP/1.1\u001b[0m\" \u001b[32m200 OK\u001b[0m\n",
            "\u001b[32mINFO\u001b[0m:     2401:4900:5f2d:237a:dcbe:c284:2908:aad5:0 - \"\u001b[1mGET /api/v1/info HTTP/1.1\u001b[0m\" \u001b[32m200 OK\u001b[0m\n",
            "\u001b[32mINFO\u001b[0m:     2401:4900:5f2d:237a:dcbe:c284:2908:aad5:0 - \"\u001b[1mGET /favicon.ico HTTP/1.1\u001b[0m\" \u001b[32m200 OK\u001b[0m\n",
            "\u001b[32mINFO\u001b[0m:     2401:4900:5f2d:237a:dcbe:c284:2908:aad5:0 - \"\u001b[1mGET /assets/CodeSnippet-CK5CxKct.css HTTP/1.1\u001b[0m\" \u001b[32m200 OK\u001b[0m\n",
            "\u001b[32mINFO\u001b[0m:     2401:4900:5f2d:237a:dcbe:c284:2908:aad5:0 - \"\u001b[1mGET /assets/page-TiOZeeo0.js HTTP/1.1\u001b[0m\" \u001b[32m200 OK\u001b[0m\n"
          ]
        },
        {
          "metadata": {
            "tags": null
          },
          "name": "stderr",
          "output_type": "stream",
          "text": [
            "INFO:pyngrok.process.ngrok:t=2025-03-09T05:49:53+0000 lvl=info msg=\"join connections\" obj=join id=129d42e8fad9 l=127.0.0.1:8237 r=[2401:4900:5f2d:237a:dcbe:c284:2908:aad5]:57127\n"
          ]
        },
        {
          "metadata": {
            "tags": null
          },
          "name": "stdout",
          "output_type": "stream",
          "text": [
            "\u001b[32mINFO\u001b[0m:     2401:4900:5f2d:237a:dcbe:c284:2908:aad5:0 - \"\u001b[1mGET /assets/link-external-BYm_zH_8.js HTTP/1.1\u001b[0m\" \u001b[32m200 OK\u001b[0m\n",
            "\u001b[32mINFO\u001b[0m:     2401:4900:5f2d:237a:dcbe:c284:2908:aad5:0 - \"\u001b[1mGET /assets/login-command-CkqxPtV3.js HTTP/1.1\u001b[0m\" \u001b[32m200 OK\u001b[0m\n",
            "\u001b[1;35mt=2025-03-09T05:49:53+0000 lvl=info msg=\"join connections\" obj=join id=129d42e8fad9 l=127.0.0.1:8237 r=[2401:4900:5f2d:237a:dcbe:c284:2908:aad5]:57127\u001b[0m\n",
            "\u001b[32mINFO\u001b[0m:     2401:4900:5f2d:237a:dcbe:c284:2908:aad5:0 - \"\u001b[1mGET /assets/CodeSnippet-D8ptwPjg.js HTTP/1.1\u001b[0m\" \u001b[32m200 OK\u001b[0m\n"
          ]
        },
        {
          "metadata": {
            "tags": null
          },
          "name": "stderr",
          "output_type": "stream",
          "text": [
            "INFO:pyngrok.process.ngrok:t=2025-03-09T05:49:54+0000 lvl=info msg=\"join connections\" obj=join id=057679032b4a l=127.0.0.1:8237 r=[2401:4900:5f2d:237a:dcbe:c284:2908:aad5]:57127\n"
          ]
        },
        {
          "metadata": {
            "tags": null
          },
          "name": "stdout",
          "output_type": "stream",
          "text": [
            "\u001b[32mINFO\u001b[0m:     2401:4900:5f2d:237a:dcbe:c284:2908:aad5:0 - \"\u001b[1mGET /assets/cloud-squares-DeRLMopf.svg HTTP/1.1\u001b[0m\" \u001b[32m200 OK\u001b[0m\n",
            "\u001b[32mINFO\u001b[0m:     2401:4900:5f2d:237a:dcbe:c284:2908:aad5:0 - \"\u001b[1mGET /api/v1/info HTTP/1.1\u001b[0m\" \u001b[32m200 OK\u001b[0m\n",
            "\u001b[1;35mt=2025-03-09T05:49:54+0000 lvl=info msg=\"join connections\" obj=join id=057679032b4a l=127.0.0.1:8237 r=[2401:4900:5f2d:237a:dcbe:c284:2908:aad5]:57127\u001b[0m\n"
          ]
        },
        {
          "metadata": {
            "tags": null
          },
          "name": "stderr",
          "output_type": "stream",
          "text": [
            "INFO:pyngrok.process.ngrok:t=2025-03-09T05:49:54+0000 lvl=info msg=\"join connections\" obj=join id=197f40622386 l=127.0.0.1:8237 r=[2401:4900:5f2d:237a:dcbe:c284:2908:aad5]:57127\n"
          ]
        },
        {
          "metadata": {
            "tags": null
          },
          "name": "stdout",
          "output_type": "stream",
          "text": [
            "\u001b[1;35mt=2025-03-09T05:49:54+0000 lvl=info msg=\"join connections\" obj=join id=197f40622386 l=127.0.0.1:8237 r=[2401:4900:5f2d:237a:dcbe:c284:2908:aad5]:57127\u001b[0m\n"
          ]
        },
        {
          "metadata": {
            "tags": null
          },
          "name": "stderr",
          "output_type": "stream",
          "text": [
            "INFO:pyngrok.process.ngrok:t=2025-03-09T05:49:54+0000 lvl=info msg=\"join connections\" obj=join id=890e576028e9 l=127.0.0.1:8237 r=[2401:4900:5f2d:237a:dcbe:c284:2908:aad5]:57127\n"
          ]
        },
        {
          "metadata": {
            "tags": null
          },
          "name": "stdout",
          "output_type": "stream",
          "text": [
            "\u001b[1;35mt=2025-03-09T05:49:54+0000 lvl=info msg=\"join connections\" obj=join id=890e576028e9 l=127.0.0.1:8237 r=[2401:4900:5f2d:237a:dcbe:c284:2908:aad5]:57127\u001b[0m\n"
          ]
        },
        {
          "metadata": {
            "tags": null
          },
          "name": "stderr",
          "output_type": "stream",
          "text": [
            "INFO:pyngrok.process.ngrok:t=2025-03-09T05:49:54+0000 lvl=info msg=\"join connections\" obj=join id=357524416e3d l=127.0.0.1:8237 r=[2401:4900:5f2d:237a:dcbe:c284:2908:aad5]:57127\n"
          ]
        },
        {
          "metadata": {
            "tags": null
          },
          "name": "stdout",
          "output_type": "stream",
          "text": [
            "\u001b[1;35mt=2025-03-09T05:49:54+0000 lvl=info msg=\"join connections\" obj=join id=357524416e3d l=127.0.0.1:8237 r=[2401:4900:5f2d:237a:dcbe:c284:2908:aad5]:57127\u001b[0m\n"
          ]
        },
        {
          "metadata": {
            "tags": null
          },
          "name": "stderr",
          "output_type": "stream",
          "text": [
            "INFO:pyngrok.process.ngrok:t=2025-03-09T05:49:54+0000 lvl=info msg=\"join connections\" obj=join id=c2c1ef2a2815 l=127.0.0.1:8237 r=[2401:4900:5f2d:237a:dcbe:c284:2908:aad5]:57127\n"
          ]
        },
        {
          "metadata": {
            "tags": null
          },
          "name": "stdout",
          "output_type": "stream",
          "text": [
            "\u001b[1;35mt=2025-03-09T05:49:54+0000 lvl=info msg=\"join connections\" obj=join id=c2c1ef2a2815 l=127.0.0.1:8237 r=[2401:4900:5f2d:237a:dcbe:c284:2908:aad5]:57127\u001b[0m\n",
            "\u001b[32mINFO\u001b[0m:     2401:4900:5f2d:237a:dcbe:c284:2908:aad5:0 - \"\u001b[1mGET /api/v1/current-user HTTP/1.1\u001b[0m\" \u001b[32m200 OK\u001b[0m\n",
            "\u001b[32mINFO\u001b[0m:     2401:4900:5f2d:237a:dcbe:c284:2908:aad5:0 - \"\u001b[1mGET /assets/inter-latin-600-normal-D273HNI0.woff2 HTTP/1.1\u001b[0m\" \u001b[32m200 OK\u001b[0m\n",
            "\u001b[32mINFO\u001b[0m:     2401:4900:5f2d:237a:dcbe:c284:2908:aad5:0 - \"\u001b[1mGET /assets/inter-latin-500-normal-D2bGa7uu.woff2 HTTP/1.1\u001b[0m\" \u001b[32m200 OK\u001b[0m\n",
            "\u001b[32mINFO\u001b[0m:     2401:4900:5f2d:237a:dcbe:c284:2908:aad5:0 - \"\u001b[1mGET /api/v1/onboarding_state HTTP/1.1\u001b[0m\" \u001b[32m200 OK\u001b[0m\n",
            "\u001b[32mINFO\u001b[0m:     2401:4900:5f2d:237a:dcbe:c284:2908:aad5:0 - \"\u001b[1mGET /api/v1/settings HTTP/1.1\u001b[0m\" \u001b[32m200 OK\u001b[0m\n",
            "\u001b[32mINFO\u001b[0m:     2401:4900:5f2d:237a:dcbe:c284:2908:aad5:0 - \"\u001b[1mGET /assets/page-DLw1Apss.js HTTP/1.1\u001b[0m\" \u001b[32m200 OK\u001b[0m\n"
          ]
        },
        {
          "metadata": {
            "tags": null
          },
          "name": "stderr",
          "output_type": "stream",
          "text": [
            "INFO:pyngrok.process.ngrok:t=2025-03-09T05:49:55+0000 lvl=info msg=\"join connections\" obj=join id=cb4956daa16a l=127.0.0.1:8237 r=[2401:4900:5f2d:237a:dcbe:c284:2908:aad5]:57127\n"
          ]
        },
        {
          "metadata": {
            "tags": null
          },
          "name": "stdout",
          "output_type": "stream",
          "text": [
            "\u001b[32mINFO\u001b[0m:     2401:4900:5f2d:237a:dcbe:c284:2908:aad5:0 - \"\u001b[1mGET /assets/UsageReason-CwUrEwEz.js HTTP/1.1\u001b[0m\" \u001b[32m200 OK\u001b[0m\n",
            "\u001b[32mINFO\u001b[0m:     2401:4900:5f2d:237a:dcbe:c284:2908:aad5:0 - \"\u001b[1mGET /assets/form-schemas-B6u3P_a4.js HTTP/1.1\u001b[0m\" \u001b[32m200 OK\u001b[0m\n",
            "\u001b[1;35mt=2025-03-09T05:49:55+0000 lvl=info msg=\"join connections\" obj=join id=cb4956daa16a l=127.0.0.1:8237 r=[2401:4900:5f2d:237a:dcbe:c284:2908:aad5]:57127\u001b[0m\n"
          ]
        },
        {
          "metadata": {
            "tags": null
          },
          "name": "stderr",
          "output_type": "stream",
          "text": [
            "INFO:pyngrok.process.ngrok:t=2025-03-09T05:49:55+0000 lvl=info msg=\"join connections\" obj=join id=cd50d66e0e08 l=127.0.0.1:8237 r=[2401:4900:5f2d:237a:dcbe:c284:2908:aad5]:57127\n"
          ]
        },
        {
          "metadata": {
            "tags": null
          },
          "name": "stdout",
          "output_type": "stream",
          "text": [
            "\u001b[1;35mt=2025-03-09T05:49:55+0000 lvl=info msg=\"join connections\" obj=join id=cd50d66e0e08 l=127.0.0.1:8237 r=[2401:4900:5f2d:237a:dcbe:c284:2908:aad5]:57127\u001b[0m\n"
          ]
        },
        {
          "metadata": {
            "tags": null
          },
          "name": "stderr",
          "output_type": "stream",
          "text": [
            "INFO:pyngrok.process.ngrok:t=2025-03-09T05:49:55+0000 lvl=info msg=\"join connections\" obj=join id=591f872cbbd8 l=127.0.0.1:8237 r=[2401:4900:5f2d:237a:dcbe:c284:2908:aad5]:57127\n"
          ]
        },
        {
          "metadata": {
            "tags": null
          },
          "name": "stdout",
          "output_type": "stream",
          "text": [
            "\u001b[1;35mt=2025-03-09T05:49:55+0000 lvl=info msg=\"join connections\" obj=join id=591f872cbbd8 l=127.0.0.1:8237 r=[2401:4900:5f2d:237a:dcbe:c284:2908:aad5]:57127\u001b[0m\n"
          ]
        },
        {
          "metadata": {
            "tags": null
          },
          "name": "stderr",
          "output_type": "stream",
          "text": [
            "INFO:pyngrok.process.ngrok:t=2025-03-09T05:49:55+0000 lvl=info msg=\"join connections\" obj=join id=e97c69d17a6c l=127.0.0.1:8237 r=[2401:4900:5f2d:237a:dcbe:c284:2908:aad5]:57127\n"
          ]
        },
        {
          "metadata": {
            "tags": null
          },
          "name": "stdout",
          "output_type": "stream",
          "text": [
            "\u001b[1;35mt=2025-03-09T05:49:55+0000 lvl=info msg=\"join connections\" obj=join id=e97c69d17a6c l=127.0.0.1:8237 r=[2401:4900:5f2d:237a:dcbe:c284:2908:aad5]:57127\u001b[0m\n"
          ]
        },
        {
          "metadata": {
            "tags": null
          },
          "name": "stderr",
          "output_type": "stream",
          "text": [
            "INFO:pyngrok.process.ngrok:t=2025-03-09T05:49:55+0000 lvl=info msg=\"join connections\" obj=join id=f31b76880819 l=127.0.0.1:8237 r=[2401:4900:5f2d:237a:dcbe:c284:2908:aad5]:57127\n"
          ]
        },
        {
          "metadata": {
            "tags": null
          },
          "name": "stdout",
          "output_type": "stream",
          "text": [
            "\u001b[1;35mt=2025-03-09T05:49:55+0000 lvl=info msg=\"join connections\" obj=join id=f31b76880819 l=127.0.0.1:8237 r=[2401:4900:5f2d:237a:dcbe:c284:2908:aad5]:57127\u001b[0m\n"
          ]
        },
        {
          "metadata": {
            "tags": null
          },
          "name": "stderr",
          "output_type": "stream",
          "text": [
            "INFO:pyngrok.process.ngrok:t=2025-03-09T05:49:55+0000 lvl=info msg=\"join connections\" obj=join id=b0be3d5f15f0 l=127.0.0.1:8237 r=[2401:4900:5f2d:237a:dcbe:c284:2908:aad5]:57127\n"
          ]
        },
        {
          "metadata": {
            "tags": null
          },
          "name": "stdout",
          "output_type": "stream",
          "text": [
            "\u001b[1;35mt=2025-03-09T05:49:55+0000 lvl=info msg=\"join connections\" obj=join id=b0be3d5f15f0 l=127.0.0.1:8237 r=[2401:4900:5f2d:237a:dcbe:c284:2908:aad5]:57127\u001b[0m\n"
          ]
        },
        {
          "metadata": {
            "tags": null
          },
          "name": "stderr",
          "output_type": "stream",
          "text": [
            "INFO:pyngrok.process.ngrok:t=2025-03-09T05:49:55+0000 lvl=info msg=\"join connections\" obj=join id=6807a9df0740 l=127.0.0.1:8237 r=[2401:4900:5f2d:237a:dcbe:c284:2908:aad5]:57127\n"
          ]
        },
        {
          "metadata": {
            "tags": null
          },
          "name": "stdout",
          "output_type": "stream",
          "text": [
            "\u001b[1;35mt=2025-03-09T05:49:55+0000 lvl=info msg=\"join connections\" obj=join id=6807a9df0740 l=127.0.0.1:8237 r=[2401:4900:5f2d:237a:dcbe:c284:2908:aad5]:57127\u001b[0m\n"
          ]
        },
        {
          "metadata": {
            "tags": null
          },
          "name": "stderr",
          "output_type": "stream",
          "text": [
            "INFO:pyngrok.process.ngrok:t=2025-03-09T05:49:55+0000 lvl=info msg=\"join connections\" obj=join id=13ec1121db78 l=127.0.0.1:8237 r=[2401:4900:5f2d:237a:dcbe:c284:2908:aad5]:57127\n"
          ]
        },
        {
          "metadata": {
            "tags": null
          },
          "name": "stdout",
          "output_type": "stream",
          "text": [
            "\u001b[32mINFO\u001b[0m:     2401:4900:5f2d:237a:dcbe:c284:2908:aad5:0 - \"\u001b[1mGET /assets/gcp-0u4le6mC.js HTTP/1.1\u001b[0m\" \u001b[32m200 OK\u001b[0m\n",
            "\u001b[32mINFO\u001b[0m:     2401:4900:5f2d:237a:dcbe:c284:2908:aad5:0 - \"\u001b[1mGET /assets/zod-CRNUMWWg.js HTTP/1.1\u001b[0m\" \u001b[32m200 OK\u001b[0m\n",
            "\u001b[32mINFO\u001b[0m:     2401:4900:5f2d:237a:dcbe:c284:2908:aad5:0 - \"\u001b[1mGET /assets/kubernetes-eA-Y6gE7.js HTTP/1.1\u001b[0m\" \u001b[32m200 OK\u001b[0m\n",
            "\u001b[32mINFO\u001b[0m:     2401:4900:5f2d:237a:dcbe:c284:2908:aad5:0 - \"\u001b[1mGET /assets/UpdatePasswordSchemas-DCuCj7NK.js HTTP/1.1\u001b[0m\" \u001b[32m200 OK\u001b[0m\n",
            "\u001b[32mINFO\u001b[0m:     2401:4900:5f2d:237a:dcbe:c284:2908:aad5:0 - \"\u001b[1mGET /assets/index.esm-cf-8NBxV.js HTTP/1.1\u001b[0m\" \u001b[32m200 OK\u001b[0m\n",
            "\u001b[32mINFO\u001b[0m:     2401:4900:5f2d:237a:dcbe:c284:2908:aad5:0 - \"\u001b[1mGET /assets/check-circle-DyCCYTA0.js HTTP/1.1\u001b[0m\" \u001b[32m200 OK\u001b[0m\n",
            "\u001b[32mINFO\u001b[0m:     2401:4900:5f2d:237a:dcbe:c284:2908:aad5:0 - \"\u001b[1mGET /assets/rocket-k68ONPDS.js HTTP/1.1\u001b[0m\" \u001b[32m200 OK\u001b[0m\n",
            "\u001b[32mINFO\u001b[0m:     2401:4900:5f2d:237a:dcbe:c284:2908:aad5:0 - \"\u001b[1mGET /assets/inter-latin-400-normal-BOOGhInR.woff2 HTTP/1.1\u001b[0m\" \u001b[32m200 OK\u001b[0m\n",
            "\u001b[1;35mt=2025-03-09T05:49:55+0000 lvl=info msg=\"join connections\" obj=join id=13ec1121db78 l=127.0.0.1:8237 r=[2401:4900:5f2d:237a:dcbe:c284:2908:aad5]:57127\u001b[0m\n",
            "\u001b[32mINFO\u001b[0m:     2401:4900:5f2d:237a:dcbe:c284:2908:aad5:0 - \"\u001b[1mGET /api/v1/info HTTP/1.1\u001b[0m\" \u001b[32m200 OK\u001b[0m\n",
            "\u001b[32mINFO\u001b[0m:     2401:4900:5f2d:237a:dcbe:c284:2908:aad5:0 - \"\u001b[1mGET /api/v1/current-user HTTP/1.1\u001b[0m\" \u001b[32m200 OK\u001b[0m\n"
          ]
        },
        {
          "metadata": {
            "tags": null
          },
          "name": "stderr",
          "output_type": "stream",
          "text": [
            "INFO:pyngrok.process.ngrok:t=2025-03-09T05:50:33+0000 lvl=info msg=\"join connections\" obj=join id=5d506fe3968c l=127.0.0.1:8237 r=[2401:4900:5f2d:237a:dcbe:c284:2908:aad5]:57127\n"
          ]
        },
        {
          "metadata": {
            "tags": null
          },
          "name": "stdout",
          "output_type": "stream",
          "text": [
            "\u001b[1;35mt=2025-03-09T05:50:33+0000 lvl=info msg=\"join connections\" obj=join id=5d506fe3968c l=127.0.0.1:8237 r=[2401:4900:5f2d:237a:dcbe:c284:2908:aad5]:57127\u001b[0m\n",
            "\u001b[32mINFO\u001b[0m:     2401:4900:5f2d:237a:dcbe:c284:2908:aad5:0 - \"\u001b[1mPUT /api/v1/current-user HTTP/1.1\u001b[0m\" \u001b[32m200 OK\u001b[0m\n",
            "\u001b[32mINFO\u001b[0m:     2401:4900:5f2d:237a:dcbe:c284:2908:aad5:0 - \"\u001b[1mGET /api/v1/current-user HTTP/1.1\u001b[0m\" \u001b[32m200 OK\u001b[0m\n"
          ]
        },
        {
          "metadata": {
            "tags": null
          },
          "name": "stderr",
          "output_type": "stream",
          "text": [
            "INFO:pyngrok.process.ngrok:t=2025-03-09T05:50:34+0000 lvl=info msg=\"join connections\" obj=join id=ba6e15ee12f6 l=127.0.0.1:8237 r=[2401:4900:5f2d:237a:dcbe:c284:2908:aad5]:57127\n"
          ]
        },
        {
          "metadata": {
            "tags": null
          },
          "name": "stdout",
          "output_type": "stream",
          "text": [
            "\u001b[32mINFO\u001b[0m:     2401:4900:5f2d:237a:dcbe:c284:2908:aad5:0 - \"\u001b[1mGET /assets/adam-e-y0WnB_.webp HTTP/1.1\u001b[0m\" \u001b[32m200 OK\u001b[0m\n",
            "\u001b[1;35mt=2025-03-09T05:50:34+0000 lvl=info msg=\"join connections\" obj=join id=ba6e15ee12f6 l=127.0.0.1:8237 r=[2401:4900:5f2d:237a:dcbe:c284:2908:aad5]:57127\u001b[0m\n"
          ]
        },
        {
          "metadata": {
            "tags": null
          },
          "name": "stderr",
          "output_type": "stream",
          "text": [
            "INFO:pyngrok.process.ngrok:t=2025-03-09T05:50:34+0000 lvl=info msg=\"join connections\" obj=join id=c71bf19cba0f l=127.0.0.1:8237 r=[2401:4900:5f2d:237a:dcbe:c284:2908:aad5]:57127\n"
          ]
        },
        {
          "metadata": {
            "tags": null
          },
          "name": "stdout",
          "output_type": "stream",
          "text": [
            "\u001b[1;35mt=2025-03-09T05:50:34+0000 lvl=info msg=\"join connections\" obj=join id=c71bf19cba0f l=127.0.0.1:8237 r=[2401:4900:5f2d:237a:dcbe:c284:2908:aad5]:57127\u001b[0m\n"
          ]
        },
        {
          "metadata": {
            "tags": null
          },
          "name": "stderr",
          "output_type": "stream",
          "text": [
            "INFO:pyngrok.process.ngrok:t=2025-03-09T05:50:34+0000 lvl=info msg=\"join connections\" obj=join id=4d72ea3f5b79 l=127.0.0.1:8237 r=[2401:4900:5f2d:237a:dcbe:c284:2908:aad5]:57127\n"
          ]
        },
        {
          "metadata": {
            "tags": null
          },
          "name": "stdout",
          "output_type": "stream",
          "text": [
            "\u001b[1;35mt=2025-03-09T05:50:34+0000 lvl=info msg=\"join connections\" obj=join id=4d72ea3f5b79 l=127.0.0.1:8237 r=[2401:4900:5f2d:237a:dcbe:c284:2908:aad5]:57127\u001b[0m\n"
          ]
        },
        {
          "metadata": {
            "tags": null
          },
          "name": "stderr",
          "output_type": "stream",
          "text": [
            "INFO:pyngrok.process.ngrok:t=2025-03-09T05:50:34+0000 lvl=info msg=\"join connections\" obj=join id=71e9690c11cb l=127.0.0.1:8237 r=[2401:4900:5f2d:237a:dcbe:c284:2908:aad5]:57127\n"
          ]
        },
        {
          "metadata": {
            "tags": null
          },
          "name": "stdout",
          "output_type": "stream",
          "text": [
            "\u001b[1;35mt=2025-03-09T05:50:34+0000 lvl=info msg=\"join connections\" obj=join id=71e9690c11cb l=127.0.0.1:8237 r=[2401:4900:5f2d:237a:dcbe:c284:2908:aad5]:57127\u001b[0m\n",
            "\u001b[32mINFO\u001b[0m:     2401:4900:5f2d:237a:dcbe:c284:2908:aad5:0 - \"\u001b[1mGET /assets/stefan-B08Ftbba.webp HTTP/1.1\u001b[0m\" \u001b[32m200 OK\u001b[0m\n",
            "\u001b[32mINFO\u001b[0m:     2401:4900:5f2d:237a:dcbe:c284:2908:aad5:0 - \"\u001b[1mGET /assets/hamza-NKKOZz1I.webp HTTP/1.1\u001b[0m\" \u001b[32m200 OK\u001b[0m\n",
            "\u001b[32mINFO\u001b[0m:     2401:4900:5f2d:237a:dcbe:c284:2908:aad5:0 - \"\u001b[1mGET /assets/baris-C0ZrZ10g.webp HTTP/1.1\u001b[0m\" \u001b[32m200 OK\u001b[0m\n",
            "\u001b[32mINFO\u001b[0m:     2401:4900:5f2d:237a:dcbe:c284:2908:aad5:0 - \"\u001b[1mGET /assets/alex-DcCuDHPg.webp HTTP/1.1\u001b[0m\" \u001b[32m200 OK\u001b[0m\n",
            "\u001b[32mINFO\u001b[0m:     2401:4900:5f2d:237a:dcbe:c284:2908:aad5:0 - \"\u001b[1mGET /assets/adam-e-y0WnB_.webp HTTP/1.1\u001b[0m\" \u001b[32m200 OK\u001b[0m\n",
            "\u001b[32mINFO\u001b[0m:     2401:4900:5f2d:237a:dcbe:c284:2908:aad5:0 - \"\u001b[1mGET /assets/stefan-B08Ftbba.webp HTTP/1.1\u001b[0m\" \u001b[32m200 OK\u001b[0m\n",
            "\u001b[32mINFO\u001b[0m:     2401:4900:5f2d:237a:dcbe:c284:2908:aad5:0 - \"\u001b[1mGET /assets/hamza-NKKOZz1I.webp HTTP/1.1\u001b[0m\" \u001b[32m200 OK\u001b[0m\n",
            "\u001b[32mINFO\u001b[0m:     2401:4900:5f2d:237a:dcbe:c284:2908:aad5:0 - \"\u001b[1mGET /assets/baris-C0ZrZ10g.webp HTTP/1.1\u001b[0m\" \u001b[32m200 OK\u001b[0m\n"
          ]
        },
        {
          "metadata": {
            "tags": null
          },
          "name": "stderr",
          "output_type": "stream",
          "text": [
            "INFO:pyngrok.process.ngrok:t=2025-03-09T05:50:35+0000 lvl=info msg=\"join connections\" obj=join id=8835ac25b46f l=127.0.0.1:8237 r=[2401:4900:5f2d:237a:dcbe:c284:2908:aad5]:57127\n"
          ]
        },
        {
          "metadata": {
            "tags": null
          },
          "name": "stdout",
          "output_type": "stream",
          "text": [
            "\u001b[32mINFO\u001b[0m:     2401:4900:5f2d:237a:dcbe:c284:2908:aad5:0 - \"\u001b[1mGET /assets/alex-DcCuDHPg.webp HTTP/1.1\u001b[0m\" \u001b[32m200 OK\u001b[0m\n",
            "\u001b[1;35mt=2025-03-09T05:50:35+0000 lvl=info msg=\"join connections\" obj=join id=8835ac25b46f l=127.0.0.1:8237 r=[2401:4900:5f2d:237a:dcbe:c284:2908:aad5]:57127\u001b[0m\n"
          ]
        },
        {
          "metadata": {
            "tags": null
          },
          "name": "stderr",
          "output_type": "stream",
          "text": [
            "INFO:pyngrok.process.ngrok:t=2025-03-09T05:51:27+0000 lvl=info msg=\"join connections\" obj=join id=5a0f65bd775a l=127.0.0.1:8237 r=[2401:4900:5f2d:237a:dcbe:c284:2908:aad5]:57127\n"
          ]
        },
        {
          "metadata": {
            "tags": null
          },
          "name": "stdout",
          "output_type": "stream",
          "text": [
            "\u001b[32mINFO\u001b[0m:     2401:4900:5f2d:237a:dcbe:c284:2908:aad5:0 - \"\u001b[1mGET /api/v1/info HTTP/1.1\u001b[0m\" \u001b[32m200 OK\u001b[0m\n",
            "\u001b[1;35mt=2025-03-09T05:51:27+0000 lvl=info msg=\"join connections\" obj=join id=5a0f65bd775a l=127.0.0.1:8237 r=[2401:4900:5f2d:237a:dcbe:c284:2908:aad5]:57127\u001b[0m\n",
            "\u001b[32mINFO\u001b[0m:     2401:4900:5f2d:237a:dcbe:c284:2908:aad5:0 - \"\u001b[1mGET /api/v1/current-user HTTP/1.1\u001b[0m\" \u001b[32m200 OK\u001b[0m\n",
            "\u001b[32mINFO\u001b[0m:     2401:4900:5f2d:237a:dcbe:c284:2908:aad5:0 - \"\u001b[1mGET /assets/page-DazwBcbq.js HTTP/1.1\u001b[0m\" \u001b[32m200 OK\u001b[0m\n"
          ]
        },
        {
          "metadata": {
            "tags": null
          },
          "name": "stderr",
          "output_type": "stream",
          "text": [
            "INFO:pyngrok.process.ngrok:t=2025-03-09T05:51:30+0000 lvl=info msg=\"join connections\" obj=join id=daf024ab4794 l=127.0.0.1:8237 r=[2401:4900:5f2d:237a:dcbe:c284:2908:aad5]:57127\n"
          ]
        },
        {
          "metadata": {
            "tags": null
          },
          "name": "stdout",
          "output_type": "stream",
          "text": [
            "\u001b[32mINFO\u001b[0m:     2401:4900:5f2d:237a:dcbe:c284:2908:aad5:0 - \"\u001b[1mGET /assets/file-text-CgxVzNph.js HTTP/1.1\u001b[0m\" \u001b[32m200 OK\u001b[0m\n",
            "\u001b[32mINFO\u001b[0m:     2401:4900:5f2d:237a:dcbe:c284:2908:aad5:0 - \"\u001b[1mGET /assets/package-BOms6B-A.js HTTP/1.1\u001b[0m\" \u001b[32m200 OK\u001b[0m\n",
            "\u001b[1;35mt=2025-03-09T05:51:30+0000 lvl=info msg=\"join connections\" obj=join id=daf024ab4794 l=127.0.0.1:8237 r=[2401:4900:5f2d:237a:dcbe:c284:2908:aad5]:57127\u001b[0m\n"
          ]
        },
        {
          "metadata": {
            "tags": null
          },
          "name": "stderr",
          "output_type": "stream",
          "text": [
            "INFO:pyngrok.process.ngrok:t=2025-03-09T05:51:30+0000 lvl=info msg=\"join connections\" obj=join id=c51966aac9fa l=127.0.0.1:8237 r=[2401:4900:5f2d:237a:dcbe:c284:2908:aad5]:57127\n"
          ]
        },
        {
          "metadata": {
            "tags": null
          },
          "name": "stdout",
          "output_type": "stream",
          "text": [
            "\u001b[1;35mt=2025-03-09T05:51:30+0000 lvl=info msg=\"join connections\" obj=join id=c51966aac9fa l=127.0.0.1:8237 r=[2401:4900:5f2d:237a:dcbe:c284:2908:aad5]:57127\u001b[0m\n"
          ]
        },
        {
          "metadata": {
            "tags": null
          },
          "name": "stderr",
          "output_type": "stream",
          "text": [
            "INFO:pyngrok.process.ngrok:t=2025-03-09T05:51:30+0000 lvl=info msg=\"join connections\" obj=join id=551fe5bf7b7e l=127.0.0.1:8237 r=[2401:4900:5f2d:237a:dcbe:c284:2908:aad5]:57127\n"
          ]
        },
        {
          "metadata": {
            "tags": null
          },
          "name": "stdout",
          "output_type": "stream",
          "text": [
            "\u001b[1;35mt=2025-03-09T05:51:30+0000 lvl=info msg=\"join connections\" obj=join id=551fe5bf7b7e l=127.0.0.1:8237 r=[2401:4900:5f2d:237a:dcbe:c284:2908:aad5]:57127\u001b[0m\n"
          ]
        },
        {
          "metadata": {
            "tags": null
          },
          "name": "stderr",
          "output_type": "stream",
          "text": [
            "INFO:pyngrok.process.ngrok:t=2025-03-09T05:51:30+0000 lvl=info msg=\"join connections\" obj=join id=741c37cf072c l=127.0.0.1:8237 r=[2401:4900:5f2d:237a:dcbe:c284:2908:aad5]:57127\n"
          ]
        },
        {
          "metadata": {
            "tags": null
          },
          "name": "stdout",
          "output_type": "stream",
          "text": [
            "\u001b[32mINFO\u001b[0m:     2401:4900:5f2d:237a:dcbe:c284:2908:aad5:0 - \"\u001b[1mGET /assets/help-CfT0tY2I.js HTTP/1.1\u001b[0m\" \u001b[32m200 OK\u001b[0m\n",
            "\u001b[1;35mt=2025-03-09T05:51:30+0000 lvl=info msg=\"join connections\" obj=join id=741c37cf072c l=127.0.0.1:8237 r=[2401:4900:5f2d:237a:dcbe:c284:2908:aad5]:57127\u001b[0m\n"
          ]
        },
        {
          "metadata": {
            "tags": null
          },
          "name": "stderr",
          "output_type": "stream",
          "text": [
            "INFO:pyngrok.process.ngrok:t=2025-03-09T05:51:30+0000 lvl=info msg=\"join connections\" obj=join id=2090866e33e8 l=127.0.0.1:8237 r=[2401:4900:5f2d:237a:dcbe:c284:2908:aad5]:57127\n"
          ]
        },
        {
          "metadata": {
            "tags": null
          },
          "name": "stdout",
          "output_type": "stream",
          "text": [
            "\u001b[1;35mt=2025-03-09T05:51:30+0000 lvl=info msg=\"join connections\" obj=join id=2090866e33e8 l=127.0.0.1:8237 r=[2401:4900:5f2d:237a:dcbe:c284:2908:aad5]:57127\u001b[0m\n"
          ]
        },
        {
          "metadata": {
            "tags": null
          },
          "name": "stderr",
          "output_type": "stream",
          "text": [
            "INFO:pyngrok.process.ngrok:t=2025-03-09T05:51:30+0000 lvl=info msg=\"join connections\" obj=join id=b293b118ad3d l=127.0.0.1:8237 r=[2401:4900:5f2d:237a:dcbe:c284:2908:aad5]:57127\n"
          ]
        },
        {
          "metadata": {
            "tags": null
          },
          "name": "stdout",
          "output_type": "stream",
          "text": [
            "\u001b[1;35mt=2025-03-09T05:51:30+0000 lvl=info msg=\"join connections\" obj=join id=b293b118ad3d l=127.0.0.1:8237 r=[2401:4900:5f2d:237a:dcbe:c284:2908:aad5]:57127\u001b[0m\n"
          ]
        },
        {
          "metadata": {
            "tags": null
          },
          "name": "stderr",
          "output_type": "stream",
          "text": [
            "INFO:pyngrok.process.ngrok:t=2025-03-09T05:51:30+0000 lvl=info msg=\"join connections\" obj=join id=eb6dd91b9221 l=127.0.0.1:8237 r=[2401:4900:5f2d:237a:dcbe:c284:2908:aad5]:57127\n"
          ]
        },
        {
          "metadata": {
            "tags": null
          },
          "name": "stdout",
          "output_type": "stream",
          "text": [
            "\u001b[1;35mt=2025-03-09T05:51:30+0000 lvl=info msg=\"join connections\" obj=join id=eb6dd91b9221 l=127.0.0.1:8237 r=[2401:4900:5f2d:237a:dcbe:c284:2908:aad5]:57127\u001b[0m\n",
            "\u001b[32mINFO\u001b[0m:     2401:4900:5f2d:237a:dcbe:c284:2908:aad5:0 - \"\u001b[1mGET /assets/Tick-DgU4udUn.js HTTP/1.1\u001b[0m\" \u001b[32m200 OK\u001b[0m\n",
            "\u001b[32mINFO\u001b[0m:     2401:4900:5f2d:237a:dcbe:c284:2908:aad5:0 - \"\u001b[1mGET /assets/chevron-down-A3PXOshS.js HTTP/1.1\u001b[0m\" \u001b[32m200 OK\u001b[0m\n",
            "\u001b[32mINFO\u001b[0m:     2401:4900:5f2d:237a:dcbe:c284:2908:aad5:0 - \"\u001b[1mGET /assets/check-DZ0KAh3W.js HTTP/1.1\u001b[0m\" \u001b[32m200 OK\u001b[0m\n",
            "\u001b[32mINFO\u001b[0m:     2401:4900:5f2d:237a:dcbe:c284:2908:aad5:0 - \"\u001b[1mGET /assets/chevron-right-double-zKz7rAaU.js HTTP/1.1\u001b[0m\" \u001b[32m200 OK\u001b[0m\n",
            "\u001b[32mINFO\u001b[0m:     2401:4900:5f2d:237a:dcbe:c284:2908:aad5:0 - \"\u001b[1mGET /assets/Helpbox-cwQNH06F.js HTTP/1.1\u001b[0m\" \u001b[32m200 OK\u001b[0m\n",
            "\u001b[32mINFO\u001b[0m:     2401:4900:5f2d:237a:dcbe:c284:2908:aad5:0 - \"\u001b[1mGET /assets/plus-CoKtHiA9.js HTTP/1.1\u001b[0m\" \u001b[32m200 OK\u001b[0m\n"
          ]
        },
        {
          "metadata": {
            "tags": null
          },
          "name": "stderr",
          "output_type": "stream",
          "text": [
            "INFO:pyngrok.process.ngrok:t=2025-03-09T05:51:31+0000 lvl=info msg=\"join connections\" obj=join id=491c9c72d53c l=127.0.0.1:8237 r=[2401:4900:5f2d:237a:dcbe:c284:2908:aad5]:57127\n"
          ]
        },
        {
          "metadata": {
            "tags": null
          },
          "name": "stdout",
          "output_type": "stream",
          "text": [
            "\u001b[32mINFO\u001b[0m:     2401:4900:5f2d:237a:dcbe:c284:2908:aad5:0 - \"\u001b[1mGET /api/v1/info HTTP/1.1\u001b[0m\" \u001b[32m200 OK\u001b[0m\n",
            "\u001b[32mINFO\u001b[0m:     2401:4900:5f2d:237a:dcbe:c284:2908:aad5:0 - \"\u001b[1mGET /api/v1/current-user HTTP/1.1\u001b[0m\" \u001b[32m200 OK\u001b[0m\n",
            "\u001b[1;35mt=2025-03-09T05:51:31+0000 lvl=info msg=\"join connections\" obj=join id=491c9c72d53c l=127.0.0.1:8237 r=[2401:4900:5f2d:237a:dcbe:c284:2908:aad5]:57127\u001b[0m\n"
          ]
        },
        {
          "metadata": {
            "tags": null
          },
          "name": "stderr",
          "output_type": "stream",
          "text": [
            "INFO:pyngrok.process.ngrok:t=2025-03-09T05:51:31+0000 lvl=info msg=\"join connections\" obj=join id=9531a2c420be l=127.0.0.1:8237 r=[2401:4900:5f2d:237a:dcbe:c284:2908:aad5]:57127\n"
          ]
        },
        {
          "metadata": {
            "tags": null
          },
          "name": "stdout",
          "output_type": "stream",
          "text": [
            "\u001b[1;35mt=2025-03-09T05:51:31+0000 lvl=info msg=\"join connections\" obj=join id=9531a2c420be l=127.0.0.1:8237 r=[2401:4900:5f2d:237a:dcbe:c284:2908:aad5]:57127\u001b[0m\n"
          ]
        },
        {
          "metadata": {
            "tags": null
          },
          "name": "stderr",
          "output_type": "stream",
          "text": [
            "INFO:pyngrok.process.ngrok:t=2025-03-09T05:51:31+0000 lvl=info msg=\"join connections\" obj=join id=c4d058e5245d l=127.0.0.1:8237 r=[2401:4900:5f2d:237a:dcbe:c284:2908:aad5]:57127\n"
          ]
        },
        {
          "metadata": {
            "tags": null
          },
          "name": "stdout",
          "output_type": "stream",
          "text": [
            "\u001b[1;35mt=2025-03-09T05:51:31+0000 lvl=info msg=\"join connections\" obj=join id=c4d058e5245d l=127.0.0.1:8237 r=[2401:4900:5f2d:237a:dcbe:c284:2908:aad5]:57127\u001b[0m\n",
            "\u001b[32mINFO\u001b[0m:     2401:4900:5f2d:237a:dcbe:c284:2908:aad5:0 - \"\u001b[1mGET /api/v1/onboarding_state HTTP/1.1\u001b[0m\" \u001b[32m200 OK\u001b[0m\n",
            "\u001b[32mINFO\u001b[0m:     2401:4900:5f2d:237a:dcbe:c284:2908:aad5:0 - \"\u001b[1mGET /api/v1/settings HTTP/1.1\u001b[0m\" \u001b[32m200 OK\u001b[0m\n",
            "\u001b[32mINFO\u001b[0m:     2401:4900:5f2d:237a:dcbe:c284:2908:aad5:0 - \"\u001b[1mGET /assets/tour-cover-BYfeen6M.webp HTTP/1.1\u001b[0m\" \u001b[32m200 OK\u001b[0m\n",
            "\u001b[32mINFO\u001b[0m:     2401:4900:5f2d:237a:dcbe:c284:2908:aad5:0 - \"\u001b[1mPUT /api/v1/current-user HTTP/1.1\u001b[0m\" \u001b[32m200 OK\u001b[0m\n",
            "\u001b[32mINFO\u001b[0m:     2401:4900:5f2d:237a:dcbe:c284:2908:aad5:0 - \"\u001b[1mGET /api/v1/current-user HTTP/1.1\u001b[0m\" \u001b[32m200 OK\u001b[0m\n",
            "\u001b[32mINFO\u001b[0m:     2401:4900:5f2d:237a:dcbe:c284:2908:aad5:0 - \"\u001b[1mGET /api/v1/onboarding_state HTTP/1.1\u001b[0m\" \u001b[32m200 OK\u001b[0m\n",
            "\u001b[32mINFO\u001b[0m:     2401:4900:5f2d:237a:dcbe:c284:2908:aad5:0 - \"\u001b[1mGET /assets/page-CCEwuGU4.js HTTP/1.1\u001b[0m\" \u001b[32m200 OK\u001b[0m\n"
          ]
        },
        {
          "metadata": {
            "tags": null
          },
          "name": "stderr",
          "output_type": "stream",
          "text": [
            "INFO:pyngrok.process.ngrok:t=2025-03-09T05:51:37+0000 lvl=info msg=\"join connections\" obj=join id=7521ddb6671e l=127.0.0.1:8237 r=[2401:4900:5f2d:237a:dcbe:c284:2908:aad5]:57127\n"
          ]
        },
        {
          "metadata": {
            "tags": null
          },
          "name": "stdout",
          "output_type": "stream",
          "text": [
            "\u001b[32mINFO\u001b[0m:     2401:4900:5f2d:237a:dcbe:c284:2908:aad5:0 - \"\u001b[1mGET /assets/SearchField-DfNxVtjV.js HTTP/1.1\u001b[0m\" \u001b[32m200 OK\u001b[0m\n",
            "\u001b[1;35mt=2025-03-09T05:51:37+0000 lvl=info msg=\"join connections\" obj=join id=7521ddb6671e l=127.0.0.1:8237 r=[2401:4900:5f2d:237a:dcbe:c284:2908:aad5]:57127\u001b[0m\n"
          ]
        },
        {
          "metadata": {
            "tags": null
          },
          "name": "stderr",
          "output_type": "stream",
          "text": [
            "INFO:pyngrok.process.ngrok:t=2025-03-09T05:51:37+0000 lvl=info msg=\"join connections\" obj=join id=6052a5b6db49 l=127.0.0.1:8237 r=[2401:4900:5f2d:237a:dcbe:c284:2908:aad5]:57127\n"
          ]
        },
        {
          "metadata": {
            "tags": null
          },
          "name": "stdout",
          "output_type": "stream",
          "text": [
            "\u001b[1;35mt=2025-03-09T05:51:37+0000 lvl=info msg=\"join connections\" obj=join id=6052a5b6db49 l=127.0.0.1:8237 r=[2401:4900:5f2d:237a:dcbe:c284:2908:aad5]:57127\u001b[0m\n"
          ]
        },
        {
          "metadata": {
            "tags": null
          },
          "name": "stderr",
          "output_type": "stream",
          "text": [
            "INFO:pyngrok.process.ngrok:t=2025-03-09T05:51:37+0000 lvl=info msg=\"join connections\" obj=join id=6c12409df852 l=127.0.0.1:8237 r=[2401:4900:5f2d:237a:dcbe:c284:2908:aad5]:57127\n"
          ]
        },
        {
          "metadata": {
            "tags": null
          },
          "name": "stdout",
          "output_type": "stream",
          "text": [
            "\u001b[1;35mt=2025-03-09T05:51:37+0000 lvl=info msg=\"join connections\" obj=join id=6c12409df852 l=127.0.0.1:8237 r=[2401:4900:5f2d:237a:dcbe:c284:2908:aad5]:57127\u001b[0m\n"
          ]
        },
        {
          "metadata": {
            "tags": null
          },
          "name": "stderr",
          "output_type": "stream",
          "text": [
            "INFO:pyngrok.process.ngrok:t=2025-03-09T05:51:37+0000 lvl=info msg=\"join connections\" obj=join id=9a1d7640ce9f l=127.0.0.1:8237 r=[2401:4900:5f2d:237a:dcbe:c284:2908:aad5]:57127\n"
          ]
        },
        {
          "metadata": {
            "tags": null
          },
          "name": "stdout",
          "output_type": "stream",
          "text": [
            "\u001b[1;35mt=2025-03-09T05:51:37+0000 lvl=info msg=\"join connections\" obj=join id=9a1d7640ce9f l=127.0.0.1:8237 r=[2401:4900:5f2d:237a:dcbe:c284:2908:aad5]:57127\u001b[0m\n"
          ]
        },
        {
          "metadata": {
            "tags": null
          },
          "name": "stderr",
          "output_type": "stream",
          "text": [
            "INFO:pyngrok.process.ngrok:t=2025-03-09T05:51:37+0000 lvl=info msg=\"join connections\" obj=join id=043172b47a2b l=127.0.0.1:8237 r=[2401:4900:5f2d:237a:dcbe:c284:2908:aad5]:57127\n"
          ]
        },
        {
          "metadata": {
            "tags": null
          },
          "name": "stdout",
          "output_type": "stream",
          "text": [
            "\u001b[1;35mt=2025-03-09T05:51:37+0000 lvl=info msg=\"join connections\" obj=join id=043172b47a2b l=127.0.0.1:8237 r=[2401:4900:5f2d:237a:dcbe:c284:2908:aad5]:57127\u001b[0m\n"
          ]
        },
        {
          "metadata": {
            "tags": null
          },
          "name": "stderr",
          "output_type": "stream",
          "text": [
            "INFO:pyngrok.process.ngrok:t=2025-03-09T05:51:37+0000 lvl=info msg=\"join connections\" obj=join id=f54a737e12c6 l=127.0.0.1:8237 r=[2401:4900:5f2d:237a:dcbe:c284:2908:aad5]:57127\n"
          ]
        },
        {
          "metadata": {
            "tags": null
          },
          "name": "stdout",
          "output_type": "stream",
          "text": [
            "\u001b[1;35mt=2025-03-09T05:51:37+0000 lvl=info msg=\"join connections\" obj=join id=f54a737e12c6 l=127.0.0.1:8237 r=[2401:4900:5f2d:237a:dcbe:c284:2908:aad5]:57127\u001b[0m\n"
          ]
        },
        {
          "metadata": {
            "tags": null
          },
          "name": "stderr",
          "output_type": "stream",
          "text": [
            "INFO:pyngrok.process.ngrok:t=2025-03-09T05:51:37+0000 lvl=info msg=\"join connections\" obj=join id=3659b7c8dfd2 l=127.0.0.1:8237 r=[2401:4900:5f2d:237a:dcbe:c284:2908:aad5]:57127\n"
          ]
        },
        {
          "metadata": {
            "tags": null
          },
          "name": "stdout",
          "output_type": "stream",
          "text": [
            "\u001b[1;35mt=2025-03-09T05:51:37+0000 lvl=info msg=\"join connections\" obj=join id=3659b7c8dfd2 l=127.0.0.1:8237 r=[2401:4900:5f2d:237a:dcbe:c284:2908:aad5]:57127\u001b[0m\n"
          ]
        },
        {
          "metadata": {
            "tags": null
          },
          "name": "stderr",
          "output_type": "stream",
          "text": [
            "INFO:pyngrok.process.ngrok:t=2025-03-09T05:51:37+0000 lvl=info msg=\"join connections\" obj=join id=e10fdad8f076 l=127.0.0.1:8237 r=[2401:4900:5f2d:237a:dcbe:c284:2908:aad5]:57127\n"
          ]
        },
        {
          "metadata": {
            "tags": null
          },
          "name": "stdout",
          "output_type": "stream",
          "text": [
            "\u001b[1;35mt=2025-03-09T05:51:37+0000 lvl=info msg=\"join connections\" obj=join id=e10fdad8f076 l=127.0.0.1:8237 r=[2401:4900:5f2d:237a:dcbe:c284:2908:aad5]:57127\u001b[0m\n"
          ]
        },
        {
          "metadata": {
            "tags": null
          },
          "name": "stderr",
          "output_type": "stream",
          "text": [
            "INFO:pyngrok.process.ngrok:t=2025-03-09T05:51:37+0000 lvl=info msg=\"join connections\" obj=join id=6bb9abc09e8d l=127.0.0.1:8237 r=[2401:4900:5f2d:237a:dcbe:c284:2908:aad5]:57127\n"
          ]
        },
        {
          "metadata": {
            "tags": null
          },
          "name": "stdout",
          "output_type": "stream",
          "text": [
            "\u001b[1;35mt=2025-03-09T05:51:37+0000 lvl=info msg=\"join connections\" obj=join id=6bb9abc09e8d l=127.0.0.1:8237 r=[2401:4900:5f2d:237a:dcbe:c284:2908:aad5]:57127\u001b[0m\n"
          ]
        },
        {
          "metadata": {
            "tags": null
          },
          "name": "stderr",
          "output_type": "stream",
          "text": [
            "INFO:pyngrok.process.ngrok:t=2025-03-09T05:51:37+0000 lvl=info msg=\"join connections\" obj=join id=a78929299b18 l=127.0.0.1:8237 r=[2401:4900:5f2d:237a:dcbe:c284:2908:aad5]:57127\n"
          ]
        },
        {
          "metadata": {
            "tags": null
          },
          "name": "stdout",
          "output_type": "stream",
          "text": [
            "\u001b[1;35mt=2025-03-09T05:51:37+0000 lvl=info msg=\"join connections\" obj=join id=a78929299b18 l=127.0.0.1:8237 r=[2401:4900:5f2d:237a:dcbe:c284:2908:aad5]:57127\u001b[0m\n"
          ]
        },
        {
          "metadata": {
            "tags": null
          },
          "name": "stderr",
          "output_type": "stream",
          "text": [
            "INFO:pyngrok.process.ngrok:t=2025-03-09T05:51:37+0000 lvl=info msg=\"join connections\" obj=join id=740b672ec8d6 l=127.0.0.1:8237 r=[2401:4900:5f2d:237a:dcbe:c284:2908:aad5]:57127\n"
          ]
        },
        {
          "metadata": {
            "tags": null
          },
          "name": "stdout",
          "output_type": "stream",
          "text": [
            "\u001b[1;35mt=2025-03-09T05:51:37+0000 lvl=info msg=\"join connections\" obj=join id=740b672ec8d6 l=127.0.0.1:8237 r=[2401:4900:5f2d:237a:dcbe:c284:2908:aad5]:57127\u001b[0m\n"
          ]
        },
        {
          "metadata": {
            "tags": null
          },
          "name": "stderr",
          "output_type": "stream",
          "text": [
            "INFO:pyngrok.process.ngrok:t=2025-03-09T05:51:37+0000 lvl=info msg=\"join connections\" obj=join id=7d9df04630ba l=127.0.0.1:8237 r=[2401:4900:5f2d:237a:dcbe:c284:2908:aad5]:57127\n"
          ]
        },
        {
          "metadata": {
            "tags": null
          },
          "name": "stdout",
          "output_type": "stream",
          "text": [
            "\u001b[1;35mt=2025-03-09T05:51:37+0000 lvl=info msg=\"join connections\" obj=join id=7d9df04630ba l=127.0.0.1:8237 r=[2401:4900:5f2d:237a:dcbe:c284:2908:aad5]:57127\u001b[0m\n"
          ]
        },
        {
          "metadata": {
            "tags": null
          },
          "name": "stderr",
          "output_type": "stream",
          "text": [
            "INFO:pyngrok.process.ngrok:t=2025-03-09T05:51:37+0000 lvl=info msg=\"join connections\" obj=join id=b8fa7bf74f2b l=127.0.0.1:8237 r=[2401:4900:5f2d:237a:dcbe:c284:2908:aad5]:57127\n"
          ]
        },
        {
          "metadata": {
            "tags": null
          },
          "name": "stdout",
          "output_type": "stream",
          "text": [
            "\u001b[1;35mt=2025-03-09T05:51:37+0000 lvl=info msg=\"join connections\" obj=join id=b8fa7bf74f2b l=127.0.0.1:8237 r=[2401:4900:5f2d:237a:dcbe:c284:2908:aad5]:57127\u001b[0m\n",
            "\u001b[32mINFO\u001b[0m:     2401:4900:5f2d:237a:dcbe:c284:2908:aad5:0 - \"\u001b[1mGET /assets/refresh-CupyU1Vs.js HTTP/1.1\u001b[0m\" \u001b[32m200 OK\u001b[0m\n",
            "\u001b[32mINFO\u001b[0m:     2401:4900:5f2d:237a:dcbe:c284:2908:aad5:0 - \"\u001b[1mGET /assets/trash-B_JgTgqd.js HTTP/1.1\u001b[0m\" \u001b[32m200 OK\u001b[0m\n",
            "\u001b[32mINFO\u001b[0m:     2401:4900:5f2d:237a:dcbe:c284:2908:aad5:0 - \"\u001b[1mGET /assets/ExecutionStatus-DHiK3Am-.js HTTP/1.1\u001b[0m\" \u001b[32m200 OK\u001b[0m\n",
            "\u001b[32mINFO\u001b[0m:     2401:4900:5f2d:237a:dcbe:c284:2908:aad5:0 - \"\u001b[1mGET /assets/AlertDialogDropdownItem-XL2NfFgP.js HTTP/1.1\u001b[0m\" \u001b[32m200 OK\u001b[0m\n",
            "\u001b[32mINFO\u001b[0m:     2401:4900:5f2d:237a:dcbe:c284:2908:aad5:0 - \"\u001b[1mGET /assets/DisplayDate-C5Aw-Yca.js HTTP/1.1\u001b[0m\" \u001b[32m200 OK\u001b[0m\n",
            "\u001b[32mINFO\u001b[0m:     2401:4900:5f2d:237a:dcbe:c284:2908:aad5:0 - \"\u001b[1mGET /assets/RunsBody-D2VoO-cR.js HTTP/1.1\u001b[0m\" \u001b[32m200 OK\u001b[0m\n",
            "\u001b[32mINFO\u001b[0m:     2401:4900:5f2d:237a:dcbe:c284:2908:aad5:0 - \"\u001b[1mGET /assets/DeleteAlertDialog-CTLRrcFM.js HTTP/1.1\u001b[0m\" \u001b[32m200 OK\u001b[0m\n",
            "\u001b[32mINFO\u001b[0m:     2401:4900:5f2d:237a:dcbe:c284:2908:aad5:0 - \"\u001b[1mGET /assets/delete-run-CzPWbsBy.js HTTP/1.1\u001b[0m\" \u001b[32m200 OK\u001b[0m\n",
            "\u001b[32mINFO\u001b[0m:     2401:4900:5f2d:237a:dcbe:c284:2908:aad5:0 - \"\u001b[1mGET /assets/Infobox-DYKoAVhW.js HTTP/1.1\u001b[0m\" \u001b[32m200 OK\u001b[0m\n",
            "\u001b[32mINFO\u001b[0m:     2401:4900:5f2d:237a:dcbe:c284:2908:aad5:0 - \"\u001b[1mGET /assets/all-pipeline-runs-query-B509kMlL.js HTTP/1.1\u001b[0m\" \u001b[32m200 OK\u001b[0m\n",
            "\u001b[32mINFO\u001b[0m:     2401:4900:5f2d:237a:dcbe:c284:2908:aad5:0 - \"\u001b[1mGET /assets/RunSelector-CYmRHGdm.js HTTP/1.1\u001b[0m\" \u001b[32m200 OK\u001b[0m\n",
            "\u001b[32mINFO\u001b[0m:     2401:4900:5f2d:237a:dcbe:c284:2908:aad5:0 - \"\u001b[1mGET /assets/InlineAvatar-Bk4QLPTU.js HTTP/1.1\u001b[0m\" \u001b[32m200 OK\u001b[0m\n",
            "\u001b[32mINFO\u001b[0m:     2401:4900:5f2d:237a:dcbe:c284:2908:aad5:0 - \"\u001b[1mGET /assets/index-BVVKxTWC.js HTTP/1.1\u001b[0m\" \u001b[32m200 OK\u001b[0m\n",
            "\u001b[32mINFO\u001b[0m:     2401:4900:5f2d:237a:dcbe:c284:2908:aad5:0 - \"\u001b[1mGET /api/v1/pipelines?page=1&sort_by=desc%3Alatest_run HTTP/1.1\u001b[0m\" \u001b[32m200 OK\u001b[0m\n"
          ]
        },
        {
          "metadata": {
            "tags": null
          },
          "name": "stderr",
          "output_type": "stream",
          "text": [
            "INFO:pyngrok.process.ngrok:t=2025-03-09T05:51:48+0000 lvl=info msg=\"join connections\" obj=join id=84bec1dce83f l=127.0.0.1:8237 r=[2401:4900:5f2d:237a:dcbe:c284:2908:aad5]:57127\n"
          ]
        },
        {
          "metadata": {
            "tags": null
          },
          "name": "stdout",
          "output_type": "stream",
          "text": [
            "\u001b[1;35mt=2025-03-09T05:51:48+0000 lvl=info msg=\"join connections\" obj=join id=84bec1dce83f l=127.0.0.1:8237 r=[2401:4900:5f2d:237a:dcbe:c284:2908:aad5]:57127\u001b[0m\n",
            "\u001b[32mINFO\u001b[0m:     2401:4900:5f2d:237a:dcbe:c284:2908:aad5:0 - \"\u001b[1mGET /assets/page-BNrOW_3T.js HTTP/1.1\u001b[0m\" \u001b[32m200 OK\u001b[0m\n"
          ]
        },
        {
          "metadata": {
            "tags": null
          },
          "name": "stderr",
          "output_type": "stream",
          "text": [
            "INFO:pyngrok.process.ngrok:t=2025-03-09T05:51:49+0000 lvl=info msg=\"join connections\" obj=join id=7a1adba4c151 l=127.0.0.1:8237 r=[2401:4900:5f2d:237a:dcbe:c284:2908:aad5]:57127\n"
          ]
        },
        {
          "metadata": {
            "tags": null
          },
          "name": "stdout",
          "output_type": "stream",
          "text": [
            "\u001b[32mINFO\u001b[0m:     2401:4900:5f2d:237a:dcbe:c284:2908:aad5:0 - \"\u001b[1mGET /assets/code-snippets-CqONne41.js HTTP/1.1\u001b[0m\" \u001b[32m200 OK\u001b[0m\n",
            "\u001b[1;35mt=2025-03-09T05:51:49+0000 lvl=info msg=\"join connections\" obj=join id=7a1adba4c151 l=127.0.0.1:8237 r=[2401:4900:5f2d:237a:dcbe:c284:2908:aad5]:57127\u001b[0m\n",
            "\u001b[32mINFO\u001b[0m:     2401:4900:5f2d:237a:dcbe:c284:2908:aad5:0 - \"\u001b[1mGET /assets/Error-CIBjAdSc.js HTTP/1.1\u001b[0m\" \u001b[32m200 OK\u001b[0m\n"
          ]
        },
        {
          "metadata": {
            "tags": null
          },
          "name": "stderr",
          "output_type": "stream",
          "text": [
            "INFO:pyngrok.process.ngrok:t=2025-03-09T05:51:49+0000 lvl=info msg=\"join connections\" obj=join id=93cb228683a4 l=127.0.0.1:8237 r=[2401:4900:5f2d:237a:dcbe:c284:2908:aad5]:57127\n"
          ]
        },
        {
          "metadata": {
            "tags": null
          },
          "name": "stdout",
          "output_type": "stream",
          "text": [
            "\u001b[1;35mt=2025-03-09T05:51:49+0000 lvl=info msg=\"join connections\" obj=join id=93cb228683a4 l=127.0.0.1:8237 r=[2401:4900:5f2d:237a:dcbe:c284:2908:aad5]:57127\u001b[0m\n"
          ]
        },
        {
          "metadata": {
            "tags": null
          },
          "name": "stderr",
          "output_type": "stream",
          "text": [
            "INFO:pyngrok.process.ngrok:t=2025-03-09T05:51:49+0000 lvl=info msg=\"join connections\" obj=join id=de39a29ce26b l=127.0.0.1:8237 r=[2401:4900:5f2d:237a:dcbe:c284:2908:aad5]:57127\n"
          ]
        },
        {
          "metadata": {
            "tags": null
          },
          "name": "stdout",
          "output_type": "stream",
          "text": [
            "\u001b[1;35mt=2025-03-09T05:51:49+0000 lvl=info msg=\"join connections\" obj=join id=de39a29ce26b l=127.0.0.1:8237 r=[2401:4900:5f2d:237a:dcbe:c284:2908:aad5]:57127\u001b[0m\n"
          ]
        },
        {
          "metadata": {
            "tags": null
          },
          "name": "stderr",
          "output_type": "stream",
          "text": [
            "INFO:pyngrok.process.ngrok:t=2025-03-09T05:51:49+0000 lvl=info msg=\"join connections\" obj=join id=16de65f9f3b1 l=127.0.0.1:8237 r=[2401:4900:5f2d:237a:dcbe:c284:2908:aad5]:57127\n"
          ]
        },
        {
          "metadata": {
            "tags": null
          },
          "name": "stdout",
          "output_type": "stream",
          "text": [
            "\u001b[1;35mt=2025-03-09T05:51:49+0000 lvl=info msg=\"join connections\" obj=join id=16de65f9f3b1 l=127.0.0.1:8237 r=[2401:4900:5f2d:237a:dcbe:c284:2908:aad5]:57127\u001b[0m\n"
          ]
        },
        {
          "metadata": {
            "tags": null
          },
          "name": "stderr",
          "output_type": "stream",
          "text": [
            "INFO:pyngrok.process.ngrok:t=2025-03-09T05:51:49+0000 lvl=info msg=\"join connections\" obj=join id=180a83f7c4b2 l=127.0.0.1:8237 r=[2401:4900:5f2d:237a:dcbe:c284:2908:aad5]:57127\n"
          ]
        },
        {
          "metadata": {
            "tags": null
          },
          "name": "stdout",
          "output_type": "stream",
          "text": [
            "\u001b[1;35mt=2025-03-09T05:51:49+0000 lvl=info msg=\"join connections\" obj=join id=180a83f7c4b2 l=127.0.0.1:8237 r=[2401:4900:5f2d:237a:dcbe:c284:2908:aad5]:57127\u001b[0m\n"
          ]
        },
        {
          "metadata": {
            "tags": null
          },
          "name": "stderr",
          "output_type": "stream",
          "text": [
            "INFO:pyngrok.process.ngrok:t=2025-03-09T05:51:49+0000 lvl=info msg=\"join connections\" obj=join id=8381f9c7a19b l=127.0.0.1:8237 r=[2401:4900:5f2d:237a:dcbe:c284:2908:aad5]:57127\n"
          ]
        },
        {
          "metadata": {
            "tags": null
          },
          "name": "stdout",
          "output_type": "stream",
          "text": [
            "\u001b[1;35mt=2025-03-09T05:51:49+0000 lvl=info msg=\"join connections\" obj=join id=8381f9c7a19b l=127.0.0.1:8237 r=[2401:4900:5f2d:237a:dcbe:c284:2908:aad5]:57127\u001b[0m\n"
          ]
        },
        {
          "metadata": {
            "tags": null
          },
          "name": "stderr",
          "output_type": "stream",
          "text": [
            "INFO:pyngrok.process.ngrok:t=2025-03-09T05:51:49+0000 lvl=info msg=\"join connections\" obj=join id=480d40002f87 l=127.0.0.1:8237 r=[2401:4900:5f2d:237a:dcbe:c284:2908:aad5]:57127\n"
          ]
        },
        {
          "metadata": {
            "tags": null
          },
          "name": "stdout",
          "output_type": "stream",
          "text": [
            "\u001b[1;35mt=2025-03-09T05:51:49+0000 lvl=info msg=\"join connections\" obj=join id=480d40002f87 l=127.0.0.1:8237 r=[2401:4900:5f2d:237a:dcbe:c284:2908:aad5]:57127\u001b[0m\n"
          ]
        },
        {
          "metadata": {
            "tags": null
          },
          "name": "stderr",
          "output_type": "stream",
          "text": [
            "INFO:pyngrok.process.ngrok:t=2025-03-09T05:51:49+0000 lvl=info msg=\"join connections\" obj=join id=2b64ec26f268 l=127.0.0.1:8237 r=[2401:4900:5f2d:237a:dcbe:c284:2908:aad5]:57127\n"
          ]
        },
        {
          "metadata": {
            "tags": null
          },
          "name": "stdout",
          "output_type": "stream",
          "text": [
            "\u001b[1;35mt=2025-03-09T05:51:49+0000 lvl=info msg=\"join connections\" obj=join id=2b64ec26f268 l=127.0.0.1:8237 r=[2401:4900:5f2d:237a:dcbe:c284:2908:aad5]:57127\u001b[0m\n"
          ]
        },
        {
          "metadata": {
            "tags": null
          },
          "name": "stderr",
          "output_type": "stream",
          "text": [
            "INFO:pyngrok.process.ngrok:t=2025-03-09T05:51:49+0000 lvl=info msg=\"join connections\" obj=join id=68482ddb711c l=127.0.0.1:8237 r=[2401:4900:5f2d:237a:dcbe:c284:2908:aad5]:57127\n"
          ]
        },
        {
          "metadata": {
            "tags": null
          },
          "name": "stdout",
          "output_type": "stream",
          "text": [
            "\u001b[1;35mt=2025-03-09T05:51:49+0000 lvl=info msg=\"join connections\" obj=join id=68482ddb711c l=127.0.0.1:8237 r=[2401:4900:5f2d:237a:dcbe:c284:2908:aad5]:57127\u001b[0m\n"
          ]
        },
        {
          "metadata": {
            "tags": null
          },
          "name": "stderr",
          "output_type": "stream",
          "text": [
            "INFO:pyngrok.process.ngrok:t=2025-03-09T05:51:49+0000 lvl=info msg=\"join connections\" obj=join id=488faba639c4 l=127.0.0.1:8237 r=[2401:4900:5f2d:237a:dcbe:c284:2908:aad5]:57127\n"
          ]
        },
        {
          "metadata": {
            "tags": null
          },
          "name": "stdout",
          "output_type": "stream",
          "text": [
            "\u001b[1;35mt=2025-03-09T05:51:49+0000 lvl=info msg=\"join connections\" obj=join id=488faba639c4 l=127.0.0.1:8237 r=[2401:4900:5f2d:237a:dcbe:c284:2908:aad5]:57127\u001b[0m\n"
          ]
        },
        {
          "metadata": {
            "tags": null
          },
          "name": "stderr",
          "output_type": "stream",
          "text": [
            "INFO:pyngrok.process.ngrok:t=2025-03-09T05:51:49+0000 lvl=info msg=\"join connections\" obj=join id=fdbbac9c3b49 l=127.0.0.1:8237 r=[2401:4900:5f2d:237a:dcbe:c284:2908:aad5]:57127\n"
          ]
        },
        {
          "metadata": {
            "tags": null
          },
          "name": "stdout",
          "output_type": "stream",
          "text": [
            "\u001b[1;35mt=2025-03-09T05:51:49+0000 lvl=info msg=\"join connections\" obj=join id=fdbbac9c3b49 l=127.0.0.1:8237 r=[2401:4900:5f2d:237a:dcbe:c284:2908:aad5]:57127\u001b[0m\n"
          ]
        },
        {
          "metadata": {
            "tags": null
          },
          "name": "stderr",
          "output_type": "stream",
          "text": [
            "INFO:pyngrok.process.ngrok:t=2025-03-09T05:51:49+0000 lvl=info msg=\"join connections\" obj=join id=77f956d62d09 l=127.0.0.1:8237 r=[2401:4900:5f2d:237a:dcbe:c284:2908:aad5]:57127\n"
          ]
        },
        {
          "metadata": {
            "tags": null
          },
          "name": "stdout",
          "output_type": "stream",
          "text": [
            "\u001b[1;35mt=2025-03-09T05:51:49+0000 lvl=info msg=\"join connections\" obj=join id=77f956d62d09 l=127.0.0.1:8237 r=[2401:4900:5f2d:237a:dcbe:c284:2908:aad5]:57127\u001b[0m\n"
          ]
        },
        {
          "metadata": {
            "tags": null
          },
          "name": "stderr",
          "output_type": "stream",
          "text": [
            "INFO:pyngrok.process.ngrok:t=2025-03-09T05:51:49+0000 lvl=info msg=\"join connections\" obj=join id=0be9d4a0aaff l=127.0.0.1:8237 r=[2401:4900:5f2d:237a:dcbe:c284:2908:aad5]:57127\n"
          ]
        },
        {
          "metadata": {
            "tags": null
          },
          "name": "stdout",
          "output_type": "stream",
          "text": [
            "\u001b[1;35mt=2025-03-09T05:51:49+0000 lvl=info msg=\"join connections\" obj=join id=0be9d4a0aaff l=127.0.0.1:8237 r=[2401:4900:5f2d:237a:dcbe:c284:2908:aad5]:57127\u001b[0m\n"
          ]
        },
        {
          "metadata": {
            "tags": null
          },
          "name": "stderr",
          "output_type": "stream",
          "text": [
            "INFO:pyngrok.process.ngrok:t=2025-03-09T05:51:49+0000 lvl=info msg=\"join connections\" obj=join id=a812a8db7d51 l=127.0.0.1:8237 r=[2401:4900:5f2d:237a:dcbe:c284:2908:aad5]:57127\n"
          ]
        },
        {
          "metadata": {
            "tags": null
          },
          "name": "stdout",
          "output_type": "stream",
          "text": [
            "\u001b[1;35mt=2025-03-09T05:51:49+0000 lvl=info msg=\"join connections\" obj=join id=a812a8db7d51 l=127.0.0.1:8237 r=[2401:4900:5f2d:237a:dcbe:c284:2908:aad5]:57127\u001b[0m\n"
          ]
        },
        {
          "metadata": {
            "tags": null
          },
          "name": "stderr",
          "output_type": "stream",
          "text": [
            "INFO:pyngrok.process.ngrok:t=2025-03-09T05:51:49+0000 lvl=info msg=\"join connections\" obj=join id=e4ef9eb2febc l=127.0.0.1:8237 r=[2401:4900:5f2d:237a:dcbe:c284:2908:aad5]:57127\n"
          ]
        },
        {
          "metadata": {
            "tags": null
          },
          "name": "stdout",
          "output_type": "stream",
          "text": [
            "\u001b[1;35mt=2025-03-09T05:51:49+0000 lvl=info msg=\"join connections\" obj=join id=e4ef9eb2febc l=127.0.0.1:8237 r=[2401:4900:5f2d:237a:dcbe:c284:2908:aad5]:57127\u001b[0m\n"
          ]
        },
        {
          "metadata": {
            "tags": null
          },
          "name": "stderr",
          "output_type": "stream",
          "text": [
            "INFO:pyngrok.process.ngrok:t=2025-03-09T05:51:49+0000 lvl=info msg=\"join connections\" obj=join id=3239817bde5e l=127.0.0.1:8237 r=[2401:4900:5f2d:237a:dcbe:c284:2908:aad5]:57127\n"
          ]
        },
        {
          "metadata": {
            "tags": null
          },
          "name": "stdout",
          "output_type": "stream",
          "text": [
            "\u001b[1;35mt=2025-03-09T05:51:49+0000 lvl=info msg=\"join connections\" obj=join id=3239817bde5e l=127.0.0.1:8237 r=[2401:4900:5f2d:237a:dcbe:c284:2908:aad5]:57127\u001b[0m\n"
          ]
        },
        {
          "metadata": {
            "tags": null
          },
          "name": "stderr",
          "output_type": "stream",
          "text": [
            "INFO:pyngrok.process.ngrok:t=2025-03-09T05:51:49+0000 lvl=info msg=\"join connections\" obj=join id=6db40cfd8b8d l=127.0.0.1:8237 r=[2401:4900:5f2d:237a:dcbe:c284:2908:aad5]:57127\n"
          ]
        },
        {
          "metadata": {
            "tags": null
          },
          "name": "stdout",
          "output_type": "stream",
          "text": [
            "\u001b[1;35mt=2025-03-09T05:51:49+0000 lvl=info msg=\"join connections\" obj=join id=6db40cfd8b8d l=127.0.0.1:8237 r=[2401:4900:5f2d:237a:dcbe:c284:2908:aad5]:57127\u001b[0m\n"
          ]
        },
        {
          "metadata": {
            "tags": null
          },
          "name": "stderr",
          "output_type": "stream",
          "text": [
            "INFO:pyngrok.process.ngrok:t=2025-03-09T05:51:49+0000 lvl=info msg=\"join connections\" obj=join id=498dded47c1f l=127.0.0.1:8237 r=[2401:4900:5f2d:237a:dcbe:c284:2908:aad5]:57127\n"
          ]
        },
        {
          "metadata": {
            "tags": null
          },
          "name": "stdout",
          "output_type": "stream",
          "text": [
            "\u001b[1;35mt=2025-03-09T05:51:49+0000 lvl=info msg=\"join connections\" obj=join id=498dded47c1f l=127.0.0.1:8237 r=[2401:4900:5f2d:237a:dcbe:c284:2908:aad5]:57127\u001b[0m\n",
            "\u001b[32mINFO\u001b[0m:     2401:4900:5f2d:237a:dcbe:c284:2908:aad5:0 - \"\u001b[1mGET /assets/transform-DKsRLKTv.js HTTP/1.1\u001b[0m\" \u001b[32m200 OK\u001b[0m\n",
            "\u001b[32mINFO\u001b[0m:     2401:4900:5f2d:237a:dcbe:c284:2908:aad5:0 - \"\u001b[1mGET /assets/ComponentBadge-CVN2FsiW.js HTTP/1.1\u001b[0m\" \u001b[32m200 OK\u001b[0m\n",
            "\u001b[32mINFO\u001b[0m:     2401:4900:5f2d:237a:dcbe:c284:2908:aad5:0 - \"\u001b[1mGET /assets/CollapsibleCard-Djtd_ocf.js HTTP/1.1\u001b[0m\" \u001b[32m200 OK\u001b[0m\n",
            "\u001b[32mINFO\u001b[0m:     2401:4900:5f2d:237a:dcbe:c284:2908:aad5:0 - \"\u001b[1mGET /assets/NestedCollapsible-CE4OF670.js HTTP/1.1\u001b[0m\" \u001b[32m200 OK\u001b[0m\n",
            "\u001b[32mINFO\u001b[0m:     2401:4900:5f2d:237a:dcbe:c284:2908:aad5:0 - \"\u001b[1mGET /assets/constants-DP3ZEnXH.js HTTP/1.1\u001b[0m\" \u001b[32m200 OK\u001b[0m\n",
            "\u001b[32mINFO\u001b[0m:     2401:4900:5f2d:237a:dcbe:c284:2908:aad5:0 - \"\u001b[1mGET /assets/terminal-square-URAPn9DB.js HTTP/1.1\u001b[0m\" \u001b[32m200 OK\u001b[0m\n",
            "\u001b[32mINFO\u001b[0m:     2401:4900:5f2d:237a:dcbe:c284:2908:aad5:0 - \"\u001b[1mGET /assets/docker-B3Sqzd8J.js HTTP/1.1\u001b[0m\" \u001b[32m200 OK\u001b[0m\n",
            "\u001b[32mINFO\u001b[0m:     2401:4900:5f2d:237a:dcbe:c284:2908:aad5:0 - \"\u001b[1mGET /assets/ComponentIcon-gpMJ2Y2e.js HTTP/1.1\u001b[0m\" \u001b[32m200 OK\u001b[0m\n",
            "\u001b[32mINFO\u001b[0m:     2401:4900:5f2d:237a:dcbe:c284:2908:aad5:0 - \"\u001b[1mGET /assets/logs-D6_diV2k.js HTTP/1.1\u001b[0m\" \u001b[32m200 OK\u001b[0m\n",
            "\u001b[32mINFO\u001b[0m:     2401:4900:5f2d:237a:dcbe:c284:2908:aad5:0 - \"\u001b[1mGET /assets/tick-circle-AaVBszPn.js HTTP/1.1\u001b[0m\" \u001b[32m200 OK\u001b[0m\n",
            "\u001b[32mINFO\u001b[0m:     2401:4900:5f2d:237a:dcbe:c284:2908:aad5:0 - \"\u001b[1mGET /assets/EmptyState-DpbfQBDE.js HTTP/1.1\u001b[0m\" \u001b[32m200 OK\u001b[0m\n",
            "\u001b[32mINFO\u001b[0m:     2401:4900:5f2d:237a:dcbe:c284:2908:aad5:0 - \"\u001b[1mGET /assets/stack-detail-query-CI_YMUx6.js HTTP/1.1\u001b[0m\" \u001b[32m200 OK\u001b[0m\n",
            "\u001b[32mINFO\u001b[0m:     2401:4900:5f2d:237a:dcbe:c284:2908:aad5:0 - \"\u001b[1mGET /assets/dates-3pMLCNrD.js HTTP/1.1\u001b[0m\" \u001b[32m200 OK\u001b[0m\n",
            "\u001b[32mINFO\u001b[0m:     2401:4900:5f2d:237a:dcbe:c284:2908:aad5:0 - \"\u001b[1mGET /assets/react-error-boundary.esm-BkGIR1Du.js HTTP/1.1\u001b[0m\" \u001b[32m200 OK\u001b[0m\n",
            "\u001b[32mINFO\u001b[0m:     2401:4900:5f2d:237a:dcbe:c284:2908:aad5:0 - \"\u001b[1mGET /assets/type-guards-CaeD8wHO.js HTTP/1.1\u001b[0m\" \u001b[32m200 OK\u001b[0m\n",
            "\u001b[32mINFO\u001b[0m:     2401:4900:5f2d:237a:dcbe:c284:2908:aad5:0 - \"\u001b[1mGET /assets/code-browser-DvB0W2Ix.js HTTP/1.1\u001b[0m\" \u001b[32m200 OK\u001b[0m\n",
            "\u001b[32mINFO\u001b[0m:     2401:4900:5f2d:237a:dcbe:c284:2908:aad5:0 - \"\u001b[1mGET /assets/layout-3_rgDUxf.js HTTP/1.1\u001b[0m\" \u001b[32m200 OK\u001b[0m\n",
            "\u001b[32mINFO\u001b[0m:     2401:4900:5f2d:237a:dcbe:c284:2908:aad5:0 - \"\u001b[1mGET /api/v1/info HTTP/1.1\u001b[0m\" \u001b[32m200 OK\u001b[0m\n",
            "\u001b[32mINFO\u001b[0m:     2401:4900:5f2d:237a:dcbe:c284:2908:aad5:0 - \"\u001b[1mGET /api/v1/runs/4740bcd5-88bd-48b1-96be-4f9104951983 HTTP/1.1\u001b[0m\" \u001b[32m200 OK\u001b[0m\n",
            "\u001b[32mINFO\u001b[0m:     2401:4900:5f2d:237a:dcbe:c284:2908:aad5:0 - \"\u001b[1mGET /api/v1/pipeline_deployments/6f01777f-37dc-4a41-b63d-2492c5661b62 HTTP/1.1\u001b[0m\" \u001b[32m200 OK\u001b[0m\n"
          ]
        },
        {
          "metadata": {
            "tags": null
          },
          "name": "stderr",
          "output_type": "stream",
          "text": [
            "INFO:pyngrok.process.ngrok:t=2025-03-09T05:53:42+0000 lvl=info msg=\"join connections\" obj=join id=82202e47d20d l=127.0.0.1:8237 r=[2401:4900:5f2d:237a:dcbe:c284:2908:aad5]:57127\n"
          ]
        },
        {
          "metadata": {
            "tags": null
          },
          "name": "stdout",
          "output_type": "stream",
          "text": [
            "\u001b[1;35mt=2025-03-09T05:53:42+0000 lvl=info msg=\"join connections\" obj=join id=82202e47d20d l=127.0.0.1:8237 r=[2401:4900:5f2d:237a:dcbe:c284:2908:aad5]:57127\u001b[0m\n"
          ]
        },
        {
          "metadata": {
            "tags": null
          },
          "name": "stderr",
          "output_type": "stream",
          "text": [
            "INFO:pyngrok.process.ngrok:t=2025-03-09T05:53:42+0000 lvl=info msg=\"join connections\" obj=join id=80d26489ea3f l=127.0.0.1:8237 r=[2401:4900:5f2d:237a:dcbe:c284:2908:aad5]:57127\n"
          ]
        },
        {
          "metadata": {
            "tags": null
          },
          "name": "stdout",
          "output_type": "stream",
          "text": [
            "\u001b[1;35mt=2025-03-09T05:53:42+0000 lvl=info msg=\"join connections\" obj=join id=80d26489ea3f l=127.0.0.1:8237 r=[2401:4900:5f2d:237a:dcbe:c284:2908:aad5]:57127\u001b[0m\n"
          ]
        },
        {
          "metadata": {
            "tags": null
          },
          "name": "stderr",
          "output_type": "stream",
          "text": [
            "INFO:pyngrok.process.ngrok:t=2025-03-09T05:53:42+0000 lvl=info msg=\"join connections\" obj=join id=b1bf365d860a l=127.0.0.1:8237 r=[2401:4900:5f2d:237a:dcbe:c284:2908:aad5]:57127\n"
          ]
        },
        {
          "metadata": {
            "tags": null
          },
          "name": "stdout",
          "output_type": "stream",
          "text": [
            "\u001b[1;35mt=2025-03-09T05:53:42+0000 lvl=info msg=\"join connections\" obj=join id=b1bf365d860a l=127.0.0.1:8237 r=[2401:4900:5f2d:237a:dcbe:c284:2908:aad5]:57127\u001b[0m\n"
          ]
        },
        {
          "metadata": {
            "tags": null
          },
          "name": "stderr",
          "output_type": "stream",
          "text": [
            "INFO:pyngrok.process.ngrok:t=2025-03-09T05:53:42+0000 lvl=info msg=\"join connections\" obj=join id=1aa1bfb334b0 l=127.0.0.1:8237 r=[2401:4900:5f2d:237a:dcbe:c284:2908:aad5]:57127\n"
          ]
        },
        {
          "metadata": {
            "tags": null
          },
          "name": "stdout",
          "output_type": "stream",
          "text": [
            "\u001b[1;35mt=2025-03-09T05:53:42+0000 lvl=info msg=\"join connections\" obj=join id=1aa1bfb334b0 l=127.0.0.1:8237 r=[2401:4900:5f2d:237a:dcbe:c284:2908:aad5]:57127\u001b[0m\n"
          ]
        },
        {
          "metadata": {
            "tags": null
          },
          "name": "stderr",
          "output_type": "stream",
          "text": [
            "INFO:pyngrok.process.ngrok:t=2025-03-09T05:53:42+0000 lvl=info msg=\"join connections\" obj=join id=afc4fef68478 l=127.0.0.1:8237 r=[2401:4900:5f2d:237a:dcbe:c284:2908:aad5]:57127\n"
          ]
        },
        {
          "metadata": {
            "tags": null
          },
          "name": "stdout",
          "output_type": "stream",
          "text": [
            "\u001b[1;35mt=2025-03-09T05:53:42+0000 lvl=info msg=\"join connections\" obj=join id=afc4fef68478 l=127.0.0.1:8237 r=[2401:4900:5f2d:237a:dcbe:c284:2908:aad5]:57127\u001b[0m\n"
          ]
        },
        {
          "metadata": {
            "tags": null
          },
          "name": "stderr",
          "output_type": "stream",
          "text": [
            "INFO:pyngrok.process.ngrok:t=2025-03-09T05:53:42+0000 lvl=info msg=\"join connections\" obj=join id=0193e97c5537 l=127.0.0.1:8237 r=[2401:4900:5f2d:237a:dcbe:c284:2908:aad5]:57127\n"
          ]
        },
        {
          "metadata": {
            "tags": null
          },
          "name": "stdout",
          "output_type": "stream",
          "text": [
            "\u001b[1;35mt=2025-03-09T05:53:42+0000 lvl=info msg=\"join connections\" obj=join id=0193e97c5537 l=127.0.0.1:8237 r=[2401:4900:5f2d:237a:dcbe:c284:2908:aad5]:57127\u001b[0m\n",
            "\u001b[32mINFO\u001b[0m:     2401:4900:5f2d:237a:dcbe:c284:2908:aad5:0 - \"\u001b[1mGET /api/v1/current-user HTTP/1.1\u001b[0m\" \u001b[32m200 OK\u001b[0m\n",
            "\u001b[32mINFO\u001b[0m:     2401:4900:5f2d:237a:dcbe:c284:2908:aad5:0 - \"\u001b[1mGET /api/v1/info HTTP/1.1\u001b[0m\" \u001b[32m200 OK\u001b[0m\n",
            "\u001b[32mINFO\u001b[0m:     2401:4900:5f2d:237a:dcbe:c284:2908:aad5:0 - \"\u001b[1mGET /api/v1/pipeline_deployments/6f01777f-37dc-4a41-b63d-2492c5661b62 HTTP/1.1\u001b[0m\" \u001b[32m200 OK\u001b[0m\n",
            "\u001b[32mINFO\u001b[0m:     2401:4900:5f2d:237a:dcbe:c284:2908:aad5:0 - \"\u001b[1mGET /api/v1/onboarding_state HTTP/1.1\u001b[0m\" \u001b[32m200 OK\u001b[0m\n",
            "\u001b[32mINFO\u001b[0m:     2401:4900:5f2d:237a:dcbe:c284:2908:aad5:0 - \"\u001b[1mGET /api/v1/runs/4740bcd5-88bd-48b1-96be-4f9104951983 HTTP/1.1\u001b[0m\" \u001b[32m200 OK\u001b[0m\n",
            "\u001b[32mINFO\u001b[0m:     2401:4900:5f2d:237a:dcbe:c284:2908:aad5:0 - \"\u001b[1mGET /api/v1/settings HTTP/1.1\u001b[0m\" \u001b[32m200 OK\u001b[0m\n",
            "\u001b[32mINFO\u001b[0m:     2401:4900:5f2d:237a:dcbe:c284:2908:aad5:0 - \"\u001b[1mGET /api/v1/pipeline_deployments/6f01777f-37dc-4a41-b63d-2492c5661b62 HTTP/1.1\u001b[0m\" \u001b[32m200 OK\u001b[0m\n",
            "\u001b[32mINFO\u001b[0m:     2401:4900:5f2d:237a:dcbe:c284:2908:aad5:0 - \"\u001b[1mGET /api/v1/runs/4740bcd5-88bd-48b1-96be-4f9104951983 HTTP/1.1\u001b[0m\" \u001b[32m200 OK\u001b[0m\n"
          ]
        },
        {
          "metadata": {
            "tags": null
          },
          "name": "stderr",
          "output_type": "stream",
          "text": [
            "INFO:pyngrok.process.ngrok:t=2025-03-09T05:54:04+0000 lvl=info msg=\"join connections\" obj=join id=7274983b6087 l=127.0.0.1:8237 r=[2401:4900:5f2d:237a:dcbe:c284:2908:aad5]:57430\n"
          ]
        },
        {
          "metadata": {
            "tags": null
          },
          "name": "stdout",
          "output_type": "stream",
          "text": [
            "\u001b[1;35mt=2025-03-09T05:54:04+0000 lvl=info msg=\"join connections\" obj=join id=7274983b6087 l=127.0.0.1:8237 r=[2401:4900:5f2d:237a:dcbe:c284:2908:aad5]:57430\u001b[0m\n"
          ]
        },
        {
          "metadata": {
            "tags": null
          },
          "name": "stderr",
          "output_type": "stream",
          "text": [
            "INFO:pyngrok.process.ngrok:t=2025-03-09T05:54:04+0000 lvl=info msg=\"join connections\" obj=join id=7d426d683ab4 l=127.0.0.1:8237 r=[2401:4900:5f2d:237a:dcbe:c284:2908:aad5]:57430\n"
          ]
        },
        {
          "metadata": {
            "tags": null
          },
          "name": "stdout",
          "output_type": "stream",
          "text": [
            "\u001b[1;35mt=2025-03-09T05:54:04+0000 lvl=info msg=\"join connections\" obj=join id=7d426d683ab4 l=127.0.0.1:8237 r=[2401:4900:5f2d:237a:dcbe:c284:2908:aad5]:57430\u001b[0m\n"
          ]
        },
        {
          "metadata": {
            "tags": null
          },
          "name": "stderr",
          "output_type": "stream",
          "text": [
            "INFO:pyngrok.process.ngrok:t=2025-03-09T05:54:04+0000 lvl=info msg=\"join connections\" obj=join id=2e5691ebf713 l=127.0.0.1:8237 r=[2401:4900:5f2d:237a:dcbe:c284:2908:aad5]:57430\n"
          ]
        },
        {
          "metadata": {
            "tags": null
          },
          "name": "stdout",
          "output_type": "stream",
          "text": [
            "\u001b[1;35mt=2025-03-09T05:54:04+0000 lvl=info msg=\"join connections\" obj=join id=2e5691ebf713 l=127.0.0.1:8237 r=[2401:4900:5f2d:237a:dcbe:c284:2908:aad5]:57430\u001b[0m\n"
          ]
        },
        {
          "metadata": {
            "tags": null
          },
          "name": "stderr",
          "output_type": "stream",
          "text": [
            "INFO:pyngrok.process.ngrok:t=2025-03-09T05:54:04+0000 lvl=info msg=\"join connections\" obj=join id=7c2c20dfcaa5 l=127.0.0.1:8237 r=[2401:4900:5f2d:237a:dcbe:c284:2908:aad5]:57430\n"
          ]
        },
        {
          "metadata": {
            "tags": null
          },
          "name": "stdout",
          "output_type": "stream",
          "text": [
            "\u001b[1;35mt=2025-03-09T05:54:04+0000 lvl=info msg=\"join connections\" obj=join id=7c2c20dfcaa5 l=127.0.0.1:8237 r=[2401:4900:5f2d:237a:dcbe:c284:2908:aad5]:57430\u001b[0m\n"
          ]
        },
        {
          "metadata": {
            "tags": null
          },
          "name": "stderr",
          "output_type": "stream",
          "text": [
            "INFO:pyngrok.process.ngrok:t=2025-03-09T05:54:04+0000 lvl=info msg=\"join connections\" obj=join id=26945d437214 l=127.0.0.1:8237 r=[2401:4900:5f2d:237a:dcbe:c284:2908:aad5]:57430\n"
          ]
        },
        {
          "metadata": {
            "tags": null
          },
          "name": "stdout",
          "output_type": "stream",
          "text": [
            "\u001b[1;35mt=2025-03-09T05:54:04+0000 lvl=info msg=\"join connections\" obj=join id=26945d437214 l=127.0.0.1:8237 r=[2401:4900:5f2d:237a:dcbe:c284:2908:aad5]:57430\u001b[0m\n"
          ]
        },
        {
          "metadata": {
            "tags": null
          },
          "name": "stderr",
          "output_type": "stream",
          "text": [
            "INFO:pyngrok.process.ngrok:t=2025-03-09T05:54:04+0000 lvl=info msg=\"join connections\" obj=join id=2acf81c5c943 l=127.0.0.1:8237 r=[2401:4900:5f2d:237a:dcbe:c284:2908:aad5]:57430\n"
          ]
        },
        {
          "metadata": {
            "tags": null
          },
          "name": "stdout",
          "output_type": "stream",
          "text": [
            "\u001b[1;35mt=2025-03-09T05:54:04+0000 lvl=info msg=\"join connections\" obj=join id=2acf81c5c943 l=127.0.0.1:8237 r=[2401:4900:5f2d:237a:dcbe:c284:2908:aad5]:57430\u001b[0m\n",
            "\u001b[32mINFO\u001b[0m:     2401:4900:5f2d:237a:dcbe:c284:2908:aad5:0 - \"\u001b[1mGET /api/v1/current-user HTTP/1.1\u001b[0m\" \u001b[32m200 OK\u001b[0m\n",
            "\u001b[32mINFO\u001b[0m:     2401:4900:5f2d:237a:dcbe:c284:2908:aad5:0 - \"\u001b[1mGET /api/v1/onboarding_state HTTP/1.1\u001b[0m\" \u001b[32m200 OK\u001b[0m\n",
            "\u001b[32mINFO\u001b[0m:     2401:4900:5f2d:237a:dcbe:c284:2908:aad5:0 - \"\u001b[1mGET /api/v1/info HTTP/1.1\u001b[0m\" \u001b[32m200 OK\u001b[0m\n",
            "\u001b[32mINFO\u001b[0m:     2401:4900:5f2d:237a:dcbe:c284:2908:aad5:0 - \"\u001b[1mGET /api/v1/pipeline_deployments/6f01777f-37dc-4a41-b63d-2492c5661b62 HTTP/1.1\u001b[0m\" \u001b[32m200 OK\u001b[0m\n",
            "\u001b[32mINFO\u001b[0m:     2401:4900:5f2d:237a:dcbe:c284:2908:aad5:0 - \"\u001b[1mGET /api/v1/settings HTTP/1.1\u001b[0m\" \u001b[32m200 OK\u001b[0m\n",
            "\u001b[32mINFO\u001b[0m:     2401:4900:5f2d:237a:dcbe:c284:2908:aad5:0 - \"\u001b[1mGET /api/v1/runs/4740bcd5-88bd-48b1-96be-4f9104951983 HTTP/1.1\u001b[0m\" \u001b[32m200 OK\u001b[0m\n"
          ]
        }
      ]
    },
    {
      "cell_type": "code",
      "execution_count": null,
      "metadata": {
        "id": "TtaD1QOlZanc"
      },
      "outputs": [],
      "source": []
    }
  ],
  "metadata": {
    "colab": {
      "provenance": [],
      "authorship_tag": "ABX9TyNqBSKWJp6pDoYXif2SoyTO",
      "include_colab_link": true
    },
    "kernelspec": {
      "display_name": "Python 3",
      "name": "python3"
    },
    "language_info": {
      "name": "python"
    }
  },
  "nbformat": 4,
  "nbformat_minor": 0
}